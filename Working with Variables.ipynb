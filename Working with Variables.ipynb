{
 "cells": [
  {
   "cell_type": "markdown",
   "source": [
    "Задание\n",
    "Цель: изучить применение методов разведочного анализа данных (EDA) для улучшения качества работы моделей машинного обучения.\n",
    "Описание задания:\n",
    "В домашнем задании нужно улучшить метрики RMSE, R2 модели линейной регрессии путем работы с данными, а именно проведения разведочного анализа данных. В качестве датасета необходимо загрузить данные о недвижимости Калифорнии из библиотеки sklearn.datasets. Целевая переменная – MedHouseVal. Прочитать информацию о признаках датасета можно, выполнив следующий код – print(fetch_california_housing().DESCR).\n",
    "Этапы работы:\n",
    "\n",
    "1. Получите данные и загрузите их в рабочую среду. (Jupyter Notebook или другую).\n",
    "2. Проверьте данные на наличие пропусков. Удалите их в случае обнаружения.\n",
    "3. Разделите выборку на обучающее и тестовое подмножества. 80% данных оставить на обучающее множество, 20% - на тестовое.\n",
    "4. Постройте модель линейной регрессии. Вычислите метрики RMSE, R2 на обучающем и тестовом множестве.\n",
    "5. Постройте график распределения целевой переменной. Сделайте вывод. Присутствуют ли в этом признаке выбросы?\n",
    "6. Посчитайте и выведите корреляционную матрицу. Убедитесь, что ячейки матрицы поделены на цветные категории, в ячейках указано числовое значение корреляции.\n",
    "a. Сделайте выводы.\n",
    "b. Удалите признаки на основании полученных значений, выводов.\n",
    "c. Повторите п. 3, п. 4 на измененных данных.\n",
    "7. Исследуйте оставленные признаки на выбросы.\n",
    "a. Удалите выбросы в случае обнаружения.\n",
    "b. Повторите п. 3, п. 4 на измененных данных.\n",
    "8. Измените несколько признаков на выбор математически. Например, вычислите логарифм, возведите в квадрат, извлеките квадратный корень.\n",
    "a. Повторите п. 3, п. 4 на измененных данных.\n",
    "9. Сформулируйте выводы по проделанной работе.\n",
    "a. Кратко опишите какие преобразования были сделаны с данными.\n",
    "b. Сравните метрики всех моделей. Желательно оформление в виде таблицы вида |модель|RMSE|R2|признаки, на которых проводилось обучение с указанием их преобразований|.\n",
    "c. Напишите свое мнение, в полной ли мере модели справились с поставленной задачей.\n",
    "Для получения зачета по этому домашнему заданию, минимально, должно быть реализовано обучение трех моделей классификации: на основе всех неизмененных признаков; на основе признаков, отобранных по значениям корреляций; на основе признаков, отобранных по значениям корреляций и с удалением выбросов в них. Должны быть выведены метрики RMSE, R2 моделей. Желательно добиться улучшения метрик.\n",
    "Результат:\n",
    "Получены знания по проведению разведочного анализа данных."
   ],
   "metadata": {
    "collapsed": false
   },
   "id": "17cf45e7f8144a8"
  },
  {
   "cell_type": "code",
   "execution_count": 1132,
   "outputs": [],
   "source": [
    "from sklearn.datasets import fetch_california_housing\n",
    "import pandas as pd\n",
    "import numpy as np\n",
    "import matplotlib.pyplot as plt\n",
    "import matplotlib as mpl\n",
    "from sklearn.linear_model import LinearRegression\n",
    "from sklearn.model_selection import train_test_split\n",
    "from sklearn.metrics import mean_squared_error\n",
    "from sklearn.metrics import r2_score\n",
    "import seaborn as sns\n",
    "import warnings\n",
    "warnings.filterwarnings('ignore')\n",
    "mpl.rcParams['figure.dpi'] = 80"
   ],
   "metadata": {
    "collapsed": false,
    "ExecuteTime": {
     "end_time": "2023-10-10T16:54:58.181248200Z",
     "start_time": "2023-10-10T16:54:57.247296100Z"
    }
   },
   "id": "initial_id"
  },
  {
   "cell_type": "code",
   "execution_count": 1133,
   "outputs": [
    {
     "name": "stdout",
     "output_type": "stream",
     "text": [
      ".. _california_housing_dataset:\n",
      "\n",
      "California Housing dataset\n",
      "--------------------------\n",
      "\n",
      "**Data Set Characteristics:**\n",
      "\n",
      "    :Number of Instances: 20640\n",
      "\n",
      "    :Number of Attributes: 8 numeric, predictive attributes and the target\n",
      "\n",
      "    :Attribute Information:\n",
      "        - MedInc        median income in block group\n",
      "        - HouseAge      median house age in block group\n",
      "        - AveRooms      average number of rooms per household\n",
      "        - AveBedrms     average number of bedrooms per household\n",
      "        - Population    block group population\n",
      "        - AveOccup      average number of household members\n",
      "        - Latitude      block group latitude\n",
      "        - Longitude     block group longitude\n",
      "\n",
      "    :Missing Attribute Values: None\n",
      "\n",
      "This dataset was obtained from the StatLib repository.\n",
      "https://www.dcc.fc.up.pt/~ltorgo/Regression/cal_housing.html\n",
      "\n",
      "The target variable is the median house value for California districts,\n",
      "expressed in hundreds of thousands of dollars ($100,000).\n",
      "\n",
      "This dataset was derived from the 1990 U.S. census, using one row per census\n",
      "block group. A block group is the smallest geographical unit for which the U.S.\n",
      "Census Bureau publishes sample data (a block group typically has a population\n",
      "of 600 to 3,000 people).\n",
      "\n",
      "A household is a group of people residing within a home. Since the average\n",
      "number of rooms and bedrooms in this dataset are provided per household, these\n",
      "columns may take surprisingly large values for block groups with few households\n",
      "and many empty houses, such as vacation resorts.\n",
      "\n",
      "It can be downloaded/loaded using the\n",
      ":func:`sklearn.datasets.fetch_california_housing` function.\n",
      "\n",
      ".. topic:: References\n",
      "\n",
      "    - Pace, R. Kelley and Ronald Barry, Sparse Spatial Autoregressions,\n",
      "      Statistics and Probability Letters, 33 (1997) 291-297\n"
     ]
    }
   ],
   "source": [
    "print(fetch_california_housing().DESCR)"
   ],
   "metadata": {
    "collapsed": false,
    "ExecuteTime": {
     "end_time": "2023-10-10T16:54:58.857595Z",
     "start_time": "2023-10-10T16:54:57.256106400Z"
    }
   },
   "id": "7e8fe9a3eb3c8f0f"
  },
  {
   "cell_type": "code",
   "execution_count": 1134,
   "outputs": [],
   "source": [
    "house_data = fetch_california_housing(as_frame=True)"
   ],
   "metadata": {
    "collapsed": false,
    "ExecuteTime": {
     "end_time": "2023-10-10T16:54:59.177640800Z",
     "start_time": "2023-10-10T16:54:57.281437Z"
    }
   },
   "id": "c8da3d917fc89ba"
  },
  {
   "cell_type": "code",
   "execution_count": 1135,
   "outputs": [
    {
     "data": {
      "text/plain": "{'data':        MedInc  HouseAge  AveRooms  AveBedrms  Population  AveOccup  Latitude  \\\n 0      8.3252      41.0  6.984127   1.023810       322.0  2.555556     37.88   \n 1      8.3014      21.0  6.238137   0.971880      2401.0  2.109842     37.86   \n 2      7.2574      52.0  8.288136   1.073446       496.0  2.802260     37.85   \n 3      5.6431      52.0  5.817352   1.073059       558.0  2.547945     37.85   \n 4      3.8462      52.0  6.281853   1.081081       565.0  2.181467     37.85   \n ...       ...       ...       ...        ...         ...       ...       ...   \n 20635  1.5603      25.0  5.045455   1.133333       845.0  2.560606     39.48   \n 20636  2.5568      18.0  6.114035   1.315789       356.0  3.122807     39.49   \n 20637  1.7000      17.0  5.205543   1.120092      1007.0  2.325635     39.43   \n 20638  1.8672      18.0  5.329513   1.171920       741.0  2.123209     39.43   \n 20639  2.3886      16.0  5.254717   1.162264      1387.0  2.616981     39.37   \n \n        Longitude  \n 0        -122.23  \n 1        -122.22  \n 2        -122.24  \n 3        -122.25  \n 4        -122.25  \n ...          ...  \n 20635    -121.09  \n 20636    -121.21  \n 20637    -121.22  \n 20638    -121.32  \n 20639    -121.24  \n \n [20640 rows x 8 columns],\n 'target': 0        4.526\n 1        3.585\n 2        3.521\n 3        3.413\n 4        3.422\n          ...  \n 20635    0.781\n 20636    0.771\n 20637    0.923\n 20638    0.847\n 20639    0.894\n Name: MedHouseVal, Length: 20640, dtype: float64,\n 'frame':        MedInc  HouseAge  AveRooms  AveBedrms  Population  AveOccup  Latitude  \\\n 0      8.3252      41.0  6.984127   1.023810       322.0  2.555556     37.88   \n 1      8.3014      21.0  6.238137   0.971880      2401.0  2.109842     37.86   \n 2      7.2574      52.0  8.288136   1.073446       496.0  2.802260     37.85   \n 3      5.6431      52.0  5.817352   1.073059       558.0  2.547945     37.85   \n 4      3.8462      52.0  6.281853   1.081081       565.0  2.181467     37.85   \n ...       ...       ...       ...        ...         ...       ...       ...   \n 20635  1.5603      25.0  5.045455   1.133333       845.0  2.560606     39.48   \n 20636  2.5568      18.0  6.114035   1.315789       356.0  3.122807     39.49   \n 20637  1.7000      17.0  5.205543   1.120092      1007.0  2.325635     39.43   \n 20638  1.8672      18.0  5.329513   1.171920       741.0  2.123209     39.43   \n 20639  2.3886      16.0  5.254717   1.162264      1387.0  2.616981     39.37   \n \n        Longitude  MedHouseVal  \n 0        -122.23        4.526  \n 1        -122.22        3.585  \n 2        -122.24        3.521  \n 3        -122.25        3.413  \n 4        -122.25        3.422  \n ...          ...          ...  \n 20635    -121.09        0.781  \n 20636    -121.21        0.771  \n 20637    -121.22        0.923  \n 20638    -121.32        0.847  \n 20639    -121.24        0.894  \n \n [20640 rows x 9 columns],\n 'target_names': ['MedHouseVal'],\n 'feature_names': ['MedInc',\n  'HouseAge',\n  'AveRooms',\n  'AveBedrms',\n  'Population',\n  'AveOccup',\n  'Latitude',\n  'Longitude'],\n 'DESCR': '.. _california_housing_dataset:\\n\\nCalifornia Housing dataset\\n--------------------------\\n\\n**Data Set Characteristics:**\\n\\n    :Number of Instances: 20640\\n\\n    :Number of Attributes: 8 numeric, predictive attributes and the target\\n\\n    :Attribute Information:\\n        - MedInc        median income in block group\\n        - HouseAge      median house age in block group\\n        - AveRooms      average number of rooms per household\\n        - AveBedrms     average number of bedrooms per household\\n        - Population    block group population\\n        - AveOccup      average number of household members\\n        - Latitude      block group latitude\\n        - Longitude     block group longitude\\n\\n    :Missing Attribute Values: None\\n\\nThis dataset was obtained from the StatLib repository.\\nhttps://www.dcc.fc.up.pt/~ltorgo/Regression/cal_housing.html\\n\\nThe target variable is the median house value for California districts,\\nexpressed in hundreds of thousands of dollars ($100,000).\\n\\nThis dataset was derived from the 1990 U.S. census, using one row per census\\nblock group. A block group is the smallest geographical unit for which the U.S.\\nCensus Bureau publishes sample data (a block group typically has a population\\nof 600 to 3,000 people).\\n\\nA household is a group of people residing within a home. Since the average\\nnumber of rooms and bedrooms in this dataset are provided per household, these\\ncolumns may take surprisingly large values for block groups with few households\\nand many empty houses, such as vacation resorts.\\n\\nIt can be downloaded/loaded using the\\n:func:`sklearn.datasets.fetch_california_housing` function.\\n\\n.. topic:: References\\n\\n    - Pace, R. Kelley and Ronald Barry, Sparse Spatial Autoregressions,\\n      Statistics and Probability Letters, 33 (1997) 291-297\\n'}"
     },
     "execution_count": 1135,
     "metadata": {},
     "output_type": "execute_result"
    }
   ],
   "source": [
    "house_data"
   ],
   "metadata": {
    "collapsed": false,
    "ExecuteTime": {
     "end_time": "2023-10-10T16:54:59.560993500Z",
     "start_time": "2023-10-10T16:54:57.300362500Z"
    }
   },
   "id": "76a43ca4c804a336"
  },
  {
   "cell_type": "code",
   "execution_count": 1136,
   "outputs": [
    {
     "data": {
      "text/plain": "['MedHouseVal']"
     },
     "execution_count": 1136,
     "metadata": {},
     "output_type": "execute_result"
    }
   ],
   "source": [
    "data = pd.DataFrame(house_data.frame)\n",
    "list(house_data.target_names)"
   ],
   "metadata": {
    "collapsed": false,
    "ExecuteTime": {
     "end_time": "2023-10-10T16:54:59.677150500Z",
     "start_time": "2023-10-10T16:54:57.322068Z"
    }
   },
   "id": "68bfe390f6436b1c"
  },
  {
   "cell_type": "code",
   "execution_count": 1137,
   "outputs": [
    {
     "data": {
      "text/plain": "   MedInc  HouseAge  AveRooms  AveBedrms  Population  AveOccup  Latitude  \\\n0  8.3252      41.0  6.984127   1.023810       322.0  2.555556     37.88   \n1  8.3014      21.0  6.238137   0.971880      2401.0  2.109842     37.86   \n2  7.2574      52.0  8.288136   1.073446       496.0  2.802260     37.85   \n3  5.6431      52.0  5.817352   1.073059       558.0  2.547945     37.85   \n4  3.8462      52.0  6.281853   1.081081       565.0  2.181467     37.85   \n\n   Longitude  MedHouseVal  \n0    -122.23        4.526  \n1    -122.22        3.585  \n2    -122.24        3.521  \n3    -122.25        3.413  \n4    -122.25        3.422  ",
      "text/html": "<div>\n<style scoped>\n    .dataframe tbody tr th:only-of-type {\n        vertical-align: middle;\n    }\n\n    .dataframe tbody tr th {\n        vertical-align: top;\n    }\n\n    .dataframe thead th {\n        text-align: right;\n    }\n</style>\n<table border=\"1\" class=\"dataframe\">\n  <thead>\n    <tr style=\"text-align: right;\">\n      <th></th>\n      <th>MedInc</th>\n      <th>HouseAge</th>\n      <th>AveRooms</th>\n      <th>AveBedrms</th>\n      <th>Population</th>\n      <th>AveOccup</th>\n      <th>Latitude</th>\n      <th>Longitude</th>\n      <th>MedHouseVal</th>\n    </tr>\n  </thead>\n  <tbody>\n    <tr>\n      <th>0</th>\n      <td>8.3252</td>\n      <td>41.0</td>\n      <td>6.984127</td>\n      <td>1.023810</td>\n      <td>322.0</td>\n      <td>2.555556</td>\n      <td>37.88</td>\n      <td>-122.23</td>\n      <td>4.526</td>\n    </tr>\n    <tr>\n      <th>1</th>\n      <td>8.3014</td>\n      <td>21.0</td>\n      <td>6.238137</td>\n      <td>0.971880</td>\n      <td>2401.0</td>\n      <td>2.109842</td>\n      <td>37.86</td>\n      <td>-122.22</td>\n      <td>3.585</td>\n    </tr>\n    <tr>\n      <th>2</th>\n      <td>7.2574</td>\n      <td>52.0</td>\n      <td>8.288136</td>\n      <td>1.073446</td>\n      <td>496.0</td>\n      <td>2.802260</td>\n      <td>37.85</td>\n      <td>-122.24</td>\n      <td>3.521</td>\n    </tr>\n    <tr>\n      <th>3</th>\n      <td>5.6431</td>\n      <td>52.0</td>\n      <td>5.817352</td>\n      <td>1.073059</td>\n      <td>558.0</td>\n      <td>2.547945</td>\n      <td>37.85</td>\n      <td>-122.25</td>\n      <td>3.413</td>\n    </tr>\n    <tr>\n      <th>4</th>\n      <td>3.8462</td>\n      <td>52.0</td>\n      <td>6.281853</td>\n      <td>1.081081</td>\n      <td>565.0</td>\n      <td>2.181467</td>\n      <td>37.85</td>\n      <td>-122.25</td>\n      <td>3.422</td>\n    </tr>\n  </tbody>\n</table>\n</div>"
     },
     "execution_count": 1137,
     "metadata": {},
     "output_type": "execute_result"
    }
   ],
   "source": [
    "data.head()"
   ],
   "metadata": {
    "collapsed": false,
    "ExecuteTime": {
     "end_time": "2023-10-10T16:54:59.679151600Z",
     "start_time": "2023-10-10T16:54:57.348590400Z"
    }
   },
   "id": "312181db52bf27cc"
  },
  {
   "cell_type": "code",
   "execution_count": 1138,
   "outputs": [
    {
     "name": "stdout",
     "output_type": "stream",
     "text": [
      "<class 'pandas.core.frame.DataFrame'>\n",
      "RangeIndex: 20640 entries, 0 to 20639\n",
      "Data columns (total 9 columns):\n",
      " #   Column       Non-Null Count  Dtype  \n",
      "---  ------       --------------  -----  \n",
      " 0   MedInc       20640 non-null  float64\n",
      " 1   HouseAge     20640 non-null  float64\n",
      " 2   AveRooms     20640 non-null  float64\n",
      " 3   AveBedrms    20640 non-null  float64\n",
      " 4   Population   20640 non-null  float64\n",
      " 5   AveOccup     20640 non-null  float64\n",
      " 6   Latitude     20640 non-null  float64\n",
      " 7   Longitude    20640 non-null  float64\n",
      " 8   MedHouseVal  20640 non-null  float64\n",
      "dtypes: float64(9)\n",
      "memory usage: 1.4 MB\n"
     ]
    }
   ],
   "source": [
    "data.info()"
   ],
   "metadata": {
    "collapsed": false,
    "ExecuteTime": {
     "end_time": "2023-10-10T16:54:59.688137900Z",
     "start_time": "2023-10-10T16:54:57.372100Z"
    }
   },
   "id": "ba03d04d89221901"
  },
  {
   "cell_type": "code",
   "execution_count": 1139,
   "outputs": [
    {
     "data": {
      "text/plain": "             MedInc      HouseAge      AveRooms     AveBedrms    Population  \\\ncount  20640.000000  20640.000000  20640.000000  20640.000000  20640.000000   \nmean       3.870671     28.639486      5.429000      1.096675   1425.476744   \nstd        1.899822     12.585558      2.474173      0.473911   1132.462122   \nmin        0.499900      1.000000      0.846154      0.333333      3.000000   \n25%        2.563400     18.000000      4.440716      1.006079    787.000000   \n50%        3.534800     29.000000      5.229129      1.048780   1166.000000   \n75%        4.743250     37.000000      6.052381      1.099526   1725.000000   \nmax       15.000100     52.000000    141.909091     34.066667  35682.000000   \n\n           AveOccup      Latitude     Longitude   MedHouseVal  \ncount  20640.000000  20640.000000  20640.000000  20640.000000  \nmean       3.070655     35.631861   -119.569704      2.068558  \nstd       10.386050      2.135952      2.003532      1.153956  \nmin        0.692308     32.540000   -124.350000      0.149990  \n25%        2.429741     33.930000   -121.800000      1.196000  \n50%        2.818116     34.260000   -118.490000      1.797000  \n75%        3.282261     37.710000   -118.010000      2.647250  \nmax     1243.333333     41.950000   -114.310000      5.000010  ",
      "text/html": "<div>\n<style scoped>\n    .dataframe tbody tr th:only-of-type {\n        vertical-align: middle;\n    }\n\n    .dataframe tbody tr th {\n        vertical-align: top;\n    }\n\n    .dataframe thead th {\n        text-align: right;\n    }\n</style>\n<table border=\"1\" class=\"dataframe\">\n  <thead>\n    <tr style=\"text-align: right;\">\n      <th></th>\n      <th>MedInc</th>\n      <th>HouseAge</th>\n      <th>AveRooms</th>\n      <th>AveBedrms</th>\n      <th>Population</th>\n      <th>AveOccup</th>\n      <th>Latitude</th>\n      <th>Longitude</th>\n      <th>MedHouseVal</th>\n    </tr>\n  </thead>\n  <tbody>\n    <tr>\n      <th>count</th>\n      <td>20640.000000</td>\n      <td>20640.000000</td>\n      <td>20640.000000</td>\n      <td>20640.000000</td>\n      <td>20640.000000</td>\n      <td>20640.000000</td>\n      <td>20640.000000</td>\n      <td>20640.000000</td>\n      <td>20640.000000</td>\n    </tr>\n    <tr>\n      <th>mean</th>\n      <td>3.870671</td>\n      <td>28.639486</td>\n      <td>5.429000</td>\n      <td>1.096675</td>\n      <td>1425.476744</td>\n      <td>3.070655</td>\n      <td>35.631861</td>\n      <td>-119.569704</td>\n      <td>2.068558</td>\n    </tr>\n    <tr>\n      <th>std</th>\n      <td>1.899822</td>\n      <td>12.585558</td>\n      <td>2.474173</td>\n      <td>0.473911</td>\n      <td>1132.462122</td>\n      <td>10.386050</td>\n      <td>2.135952</td>\n      <td>2.003532</td>\n      <td>1.153956</td>\n    </tr>\n    <tr>\n      <th>min</th>\n      <td>0.499900</td>\n      <td>1.000000</td>\n      <td>0.846154</td>\n      <td>0.333333</td>\n      <td>3.000000</td>\n      <td>0.692308</td>\n      <td>32.540000</td>\n      <td>-124.350000</td>\n      <td>0.149990</td>\n    </tr>\n    <tr>\n      <th>25%</th>\n      <td>2.563400</td>\n      <td>18.000000</td>\n      <td>4.440716</td>\n      <td>1.006079</td>\n      <td>787.000000</td>\n      <td>2.429741</td>\n      <td>33.930000</td>\n      <td>-121.800000</td>\n      <td>1.196000</td>\n    </tr>\n    <tr>\n      <th>50%</th>\n      <td>3.534800</td>\n      <td>29.000000</td>\n      <td>5.229129</td>\n      <td>1.048780</td>\n      <td>1166.000000</td>\n      <td>2.818116</td>\n      <td>34.260000</td>\n      <td>-118.490000</td>\n      <td>1.797000</td>\n    </tr>\n    <tr>\n      <th>75%</th>\n      <td>4.743250</td>\n      <td>37.000000</td>\n      <td>6.052381</td>\n      <td>1.099526</td>\n      <td>1725.000000</td>\n      <td>3.282261</td>\n      <td>37.710000</td>\n      <td>-118.010000</td>\n      <td>2.647250</td>\n    </tr>\n    <tr>\n      <th>max</th>\n      <td>15.000100</td>\n      <td>52.000000</td>\n      <td>141.909091</td>\n      <td>34.066667</td>\n      <td>35682.000000</td>\n      <td>1243.333333</td>\n      <td>41.950000</td>\n      <td>-114.310000</td>\n      <td>5.000010</td>\n    </tr>\n  </tbody>\n</table>\n</div>"
     },
     "execution_count": 1139,
     "metadata": {},
     "output_type": "execute_result"
    }
   ],
   "source": [
    "data.describe()"
   ],
   "metadata": {
    "collapsed": false,
    "ExecuteTime": {
     "end_time": "2023-10-10T16:54:59.709575500Z",
     "start_time": "2023-10-10T16:54:57.393298100Z"
    }
   },
   "id": "cd778570987cc43d"
  },
  {
   "cell_type": "code",
   "execution_count": 1140,
   "outputs": [
    {
     "data": {
      "text/plain": "HouseAge\n52.0    1273\n36.0     862\n35.0     824\n16.0     771\n17.0     698\n34.0     689\n26.0     619\n33.0     615\n18.0     570\n25.0     566\n32.0     565\n37.0     537\n15.0     512\n19.0     502\n27.0     488\n24.0     478\n30.0     476\n28.0     471\n20.0     465\n29.0     461\n31.0     458\n23.0     448\n21.0     446\n14.0     412\n22.0     399\n38.0     394\n39.0     369\n42.0     368\n44.0     356\n43.0     353\n40.0     304\n13.0     302\n41.0     296\n45.0     294\n10.0     264\n11.0     254\n46.0     245\n5.0      244\n12.0     238\n8.0      206\n9.0      205\n47.0     198\n4.0      191\n48.0     177\n7.0      175\n6.0      160\n50.0     136\n49.0     134\n3.0       62\n2.0       58\n51.0      48\n1.0        4\nName: count, dtype: int64"
     },
     "execution_count": 1140,
     "metadata": {},
     "output_type": "execute_result"
    }
   ],
   "source": [
    "data['HouseAge'].value_counts()"
   ],
   "metadata": {
    "collapsed": false,
    "ExecuteTime": {
     "end_time": "2023-10-10T16:54:59.709575500Z",
     "start_time": "2023-10-10T16:54:57.440066Z"
    }
   },
   "id": "d2f57acb0363e248"
  },
  {
   "cell_type": "markdown",
   "source": [
    "Пустых значений нет, строк с непонятными значениями типа \"?\" или что-то подобное нет"
   ],
   "metadata": {
    "collapsed": false
   },
   "id": "cec7b9f963810a05"
  },
  {
   "cell_type": "code",
   "execution_count": 1141,
   "outputs": [],
   "source": [
    "house_df = data.drop('MedHouseVal', axis=1)\n",
    "y = data.MedHouseVal"
   ],
   "metadata": {
    "collapsed": false,
    "ExecuteTime": {
     "end_time": "2023-10-10T16:54:59.709575500Z",
     "start_time": "2023-10-10T16:54:57.459301100Z"
    }
   },
   "id": "ee6c295ac290ca85"
  },
  {
   "cell_type": "code",
   "execution_count": 1142,
   "outputs": [
    {
     "data": {
      "text/plain": "   MedInc  HouseAge  AveRooms  AveBedrms  Population  AveOccup  Latitude  \\\n0  8.3252      41.0  6.984127   1.023810       322.0  2.555556     37.88   \n1  8.3014      21.0  6.238137   0.971880      2401.0  2.109842     37.86   \n2  7.2574      52.0  8.288136   1.073446       496.0  2.802260     37.85   \n3  5.6431      52.0  5.817352   1.073059       558.0  2.547945     37.85   \n4  3.8462      52.0  6.281853   1.081081       565.0  2.181467     37.85   \n\n   Longitude  \n0    -122.23  \n1    -122.22  \n2    -122.24  \n3    -122.25  \n4    -122.25  ",
      "text/html": "<div>\n<style scoped>\n    .dataframe tbody tr th:only-of-type {\n        vertical-align: middle;\n    }\n\n    .dataframe tbody tr th {\n        vertical-align: top;\n    }\n\n    .dataframe thead th {\n        text-align: right;\n    }\n</style>\n<table border=\"1\" class=\"dataframe\">\n  <thead>\n    <tr style=\"text-align: right;\">\n      <th></th>\n      <th>MedInc</th>\n      <th>HouseAge</th>\n      <th>AveRooms</th>\n      <th>AveBedrms</th>\n      <th>Population</th>\n      <th>AveOccup</th>\n      <th>Latitude</th>\n      <th>Longitude</th>\n    </tr>\n  </thead>\n  <tbody>\n    <tr>\n      <th>0</th>\n      <td>8.3252</td>\n      <td>41.0</td>\n      <td>6.984127</td>\n      <td>1.023810</td>\n      <td>322.0</td>\n      <td>2.555556</td>\n      <td>37.88</td>\n      <td>-122.23</td>\n    </tr>\n    <tr>\n      <th>1</th>\n      <td>8.3014</td>\n      <td>21.0</td>\n      <td>6.238137</td>\n      <td>0.971880</td>\n      <td>2401.0</td>\n      <td>2.109842</td>\n      <td>37.86</td>\n      <td>-122.22</td>\n    </tr>\n    <tr>\n      <th>2</th>\n      <td>7.2574</td>\n      <td>52.0</td>\n      <td>8.288136</td>\n      <td>1.073446</td>\n      <td>496.0</td>\n      <td>2.802260</td>\n      <td>37.85</td>\n      <td>-122.24</td>\n    </tr>\n    <tr>\n      <th>3</th>\n      <td>5.6431</td>\n      <td>52.0</td>\n      <td>5.817352</td>\n      <td>1.073059</td>\n      <td>558.0</td>\n      <td>2.547945</td>\n      <td>37.85</td>\n      <td>-122.25</td>\n    </tr>\n    <tr>\n      <th>4</th>\n      <td>3.8462</td>\n      <td>52.0</td>\n      <td>6.281853</td>\n      <td>1.081081</td>\n      <td>565.0</td>\n      <td>2.181467</td>\n      <td>37.85</td>\n      <td>-122.25</td>\n    </tr>\n  </tbody>\n</table>\n</div>"
     },
     "execution_count": 1142,
     "metadata": {},
     "output_type": "execute_result"
    }
   ],
   "source": [
    "house_df.head()"
   ],
   "metadata": {
    "collapsed": false,
    "ExecuteTime": {
     "end_time": "2023-10-10T16:54:59.710569500Z",
     "start_time": "2023-10-10T16:54:57.470129800Z"
    }
   },
   "id": "7e50250678810138"
  },
  {
   "cell_type": "code",
   "execution_count": 1143,
   "outputs": [
    {
     "data": {
      "text/plain": "0    4.526\n1    3.585\n2    3.521\n3    3.413\n4    3.422\nName: MedHouseVal, dtype: float64"
     },
     "execution_count": 1143,
     "metadata": {},
     "output_type": "execute_result"
    }
   ],
   "source": [
    "y.head()"
   ],
   "metadata": {
    "collapsed": false,
    "ExecuteTime": {
     "end_time": "2023-10-10T16:54:59.711576700Z",
     "start_time": "2023-10-10T16:54:57.479878100Z"
    }
   },
   "id": "4f290d969035d035"
  },
  {
   "cell_type": "code",
   "execution_count": 1144,
   "outputs": [],
   "source": [
    "X_train, X_test, y_train, y_test = train_test_split(house_df, y, test_size=0.2, random_state=42)"
   ],
   "metadata": {
    "collapsed": false,
    "ExecuteTime": {
     "end_time": "2023-10-10T16:54:59.711576700Z",
     "start_time": "2023-10-10T16:54:57.514954300Z"
    }
   },
   "id": "1c520c25d8eb4d0f"
  },
  {
   "cell_type": "code",
   "execution_count": 1145,
   "outputs": [],
   "source": [
    "model = LinearRegression()"
   ],
   "metadata": {
    "collapsed": false,
    "ExecuteTime": {
     "end_time": "2023-10-10T16:54:59.711576700Z",
     "start_time": "2023-10-10T16:54:57.531759200Z"
    }
   },
   "id": "a954ca98270a0a2e"
  },
  {
   "cell_type": "code",
   "execution_count": 1146,
   "outputs": [
    {
     "data": {
      "text/plain": "LinearRegression()",
      "text/html": "<style>#sk-container-id-66 {color: black;}#sk-container-id-66 pre{padding: 0;}#sk-container-id-66 div.sk-toggleable {background-color: white;}#sk-container-id-66 label.sk-toggleable__label {cursor: pointer;display: block;width: 100%;margin-bottom: 0;padding: 0.3em;box-sizing: border-box;text-align: center;}#sk-container-id-66 label.sk-toggleable__label-arrow:before {content: \"▸\";float: left;margin-right: 0.25em;color: #696969;}#sk-container-id-66 label.sk-toggleable__label-arrow:hover:before {color: black;}#sk-container-id-66 div.sk-estimator:hover label.sk-toggleable__label-arrow:before {color: black;}#sk-container-id-66 div.sk-toggleable__content {max-height: 0;max-width: 0;overflow: hidden;text-align: left;background-color: #f0f8ff;}#sk-container-id-66 div.sk-toggleable__content pre {margin: 0.2em;color: black;border-radius: 0.25em;background-color: #f0f8ff;}#sk-container-id-66 input.sk-toggleable__control:checked~div.sk-toggleable__content {max-height: 200px;max-width: 100%;overflow: auto;}#sk-container-id-66 input.sk-toggleable__control:checked~label.sk-toggleable__label-arrow:before {content: \"▾\";}#sk-container-id-66 div.sk-estimator input.sk-toggleable__control:checked~label.sk-toggleable__label {background-color: #d4ebff;}#sk-container-id-66 div.sk-label input.sk-toggleable__control:checked~label.sk-toggleable__label {background-color: #d4ebff;}#sk-container-id-66 input.sk-hidden--visually {border: 0;clip: rect(1px 1px 1px 1px);clip: rect(1px, 1px, 1px, 1px);height: 1px;margin: -1px;overflow: hidden;padding: 0;position: absolute;width: 1px;}#sk-container-id-66 div.sk-estimator {font-family: monospace;background-color: #f0f8ff;border: 1px dotted black;border-radius: 0.25em;box-sizing: border-box;margin-bottom: 0.5em;}#sk-container-id-66 div.sk-estimator:hover {background-color: #d4ebff;}#sk-container-id-66 div.sk-parallel-item::after {content: \"\";width: 100%;border-bottom: 1px solid gray;flex-grow: 1;}#sk-container-id-66 div.sk-label:hover label.sk-toggleable__label {background-color: #d4ebff;}#sk-container-id-66 div.sk-serial::before {content: \"\";position: absolute;border-left: 1px solid gray;box-sizing: border-box;top: 0;bottom: 0;left: 50%;z-index: 0;}#sk-container-id-66 div.sk-serial {display: flex;flex-direction: column;align-items: center;background-color: white;padding-right: 0.2em;padding-left: 0.2em;position: relative;}#sk-container-id-66 div.sk-item {position: relative;z-index: 1;}#sk-container-id-66 div.sk-parallel {display: flex;align-items: stretch;justify-content: center;background-color: white;position: relative;}#sk-container-id-66 div.sk-item::before, #sk-container-id-66 div.sk-parallel-item::before {content: \"\";position: absolute;border-left: 1px solid gray;box-sizing: border-box;top: 0;bottom: 0;left: 50%;z-index: -1;}#sk-container-id-66 div.sk-parallel-item {display: flex;flex-direction: column;z-index: 1;position: relative;background-color: white;}#sk-container-id-66 div.sk-parallel-item:first-child::after {align-self: flex-end;width: 50%;}#sk-container-id-66 div.sk-parallel-item:last-child::after {align-self: flex-start;width: 50%;}#sk-container-id-66 div.sk-parallel-item:only-child::after {width: 0;}#sk-container-id-66 div.sk-dashed-wrapped {border: 1px dashed gray;margin: 0 0.4em 0.5em 0.4em;box-sizing: border-box;padding-bottom: 0.4em;background-color: white;}#sk-container-id-66 div.sk-label label {font-family: monospace;font-weight: bold;display: inline-block;line-height: 1.2em;}#sk-container-id-66 div.sk-label-container {text-align: center;}#sk-container-id-66 div.sk-container {/* jupyter's `normalize.less` sets `[hidden] { display: none; }` but bootstrap.min.css set `[hidden] { display: none !important; }` so we also need the `!important` here to be able to override the default hidden behavior on the sphinx rendered scikit-learn.org. See: https://github.com/scikit-learn/scikit-learn/issues/21755 */display: inline-block !important;position: relative;}#sk-container-id-66 div.sk-text-repr-fallback {display: none;}</style><div id=\"sk-container-id-66\" class=\"sk-top-container\"><div class=\"sk-text-repr-fallback\"><pre>LinearRegression()</pre><b>In a Jupyter environment, please rerun this cell to show the HTML representation or trust the notebook. <br />On GitHub, the HTML representation is unable to render, please try loading this page with nbviewer.org.</b></div><div class=\"sk-container\" hidden><div class=\"sk-item\"><div class=\"sk-estimator sk-toggleable\"><input class=\"sk-toggleable__control sk-hidden--visually\" id=\"sk-estimator-id-66\" type=\"checkbox\" checked><label for=\"sk-estimator-id-66\" class=\"sk-toggleable__label sk-toggleable__label-arrow\">LinearRegression</label><div class=\"sk-toggleable__content\"><pre>LinearRegression()</pre></div></div></div></div></div>"
     },
     "execution_count": 1146,
     "metadata": {},
     "output_type": "execute_result"
    }
   ],
   "source": [
    "model.fit(X_train, y_train)"
   ],
   "metadata": {
    "collapsed": false,
    "ExecuteTime": {
     "end_time": "2023-10-10T16:54:59.711576700Z",
     "start_time": "2023-10-10T16:54:57.536765300Z"
    }
   },
   "id": "c42039cbb6e548ec"
  },
  {
   "cell_type": "code",
   "execution_count": 1147,
   "outputs": [
    {
     "data": {
      "text/plain": "0.6125511913966952"
     },
     "execution_count": 1147,
     "metadata": {},
     "output_type": "execute_result"
    }
   ],
   "source": [
    "model.score(X_train, y_train) "
   ],
   "metadata": {
    "collapsed": false,
    "ExecuteTime": {
     "end_time": "2023-10-10T16:54:59.711576700Z",
     "start_time": "2023-10-10T16:54:57.551393400Z"
    }
   },
   "id": "31e01810cacc4234"
  },
  {
   "cell_type": "code",
   "execution_count": 1148,
   "outputs": [
    {
     "data": {
      "text/plain": "array([1.93725845, 2.48910616, 2.64735483, ..., 2.03879912, 2.84075139,\n       2.27373156])"
     },
     "execution_count": 1148,
     "metadata": {},
     "output_type": "execute_result"
    }
   ],
   "source": [
    "y_pred_train = model.predict(X_train)\n",
    "y_pred_train"
   ],
   "metadata": {
    "collapsed": false,
    "ExecuteTime": {
     "end_time": "2023-10-10T16:54:59.711576700Z",
     "start_time": "2023-10-10T16:54:57.563435500Z"
    }
   },
   "id": "e1209866c13a7073"
  },
  {
   "cell_type": "code",
   "execution_count": 1149,
   "outputs": [
    {
     "data": {
      "text/plain": "0.7196757085831575"
     },
     "execution_count": 1149,
     "metadata": {},
     "output_type": "execute_result"
    }
   ],
   "source": [
    "rmse = mean_squared_error(y_train, y_pred_train, squared=False) #Mean squared error regression loss.\n",
    "rmse"
   ],
   "metadata": {
    "collapsed": false,
    "ExecuteTime": {
     "end_time": "2023-10-10T16:54:59.712577100Z",
     "start_time": "2023-10-10T16:54:57.573452700Z"
    }
   },
   "id": "85ef01a027160ace"
  },
  {
   "cell_type": "code",
   "execution_count": 1150,
   "outputs": [
    {
     "data": {
      "text/plain": "0.6125511913966952"
     },
     "execution_count": 1150,
     "metadata": {},
     "output_type": "execute_result"
    }
   ],
   "source": [
    "r2 = r2_score(y_train, y_pred_train) #  (coefficient of determination) regression score function\n",
    "r2"
   ],
   "metadata": {
    "collapsed": false,
    "ExecuteTime": {
     "end_time": "2023-10-10T16:54:59.712577100Z",
     "start_time": "2023-10-10T16:54:57.579090700Z"
    }
   },
   "id": "4ede0e998b3274f2"
  },
  {
   "cell_type": "code",
   "execution_count": 1151,
   "outputs": [
    {
     "data": {
      "text/plain": "0.5757877060324511"
     },
     "execution_count": 1151,
     "metadata": {},
     "output_type": "execute_result"
    }
   ],
   "source": [
    "score_1 = model.score(X_test, y_test)\n",
    "score_1"
   ],
   "metadata": {
    "collapsed": false,
    "ExecuteTime": {
     "end_time": "2023-10-10T16:54:59.712577100Z",
     "start_time": "2023-10-10T16:54:57.588637800Z"
    }
   },
   "id": "b3ed9bbe2c12c4c4"
  },
  {
   "cell_type": "code",
   "execution_count": 1152,
   "outputs": [
    {
     "data": {
      "text/plain": "array([0.71912284, 1.76401657, 2.70965883, ..., 4.46877017, 1.18751119,\n       2.00940251])"
     },
     "execution_count": 1152,
     "metadata": {},
     "output_type": "execute_result"
    }
   ],
   "source": [
    "y_pred_test = model.predict(X_test)\n",
    "y_pred_test"
   ],
   "metadata": {
    "collapsed": false,
    "ExecuteTime": {
     "end_time": "2023-10-10T16:54:59.712577100Z",
     "start_time": "2023-10-10T16:54:57.599248600Z"
    }
   },
   "id": "88cbdc4dc38fdcba"
  },
  {
   "cell_type": "code",
   "execution_count": 1153,
   "outputs": [
    {
     "data": {
      "text/plain": "0.7455813830127761"
     },
     "execution_count": 1153,
     "metadata": {},
     "output_type": "execute_result"
    }
   ],
   "source": [
    "rmse = mean_squared_error(y_test, y_pred_test, squared=False) #Mean squared error regression loss.\n",
    "rmse"
   ],
   "metadata": {
    "collapsed": false,
    "ExecuteTime": {
     "end_time": "2023-10-10T16:54:59.712577100Z",
     "start_time": "2023-10-10T16:54:57.608549100Z"
    }
   },
   "id": "3d63e0a3d25516a7"
  },
  {
   "cell_type": "code",
   "execution_count": 1154,
   "outputs": [
    {
     "data": {
      "text/plain": "0.5757877060324511"
     },
     "execution_count": 1154,
     "metadata": {},
     "output_type": "execute_result"
    }
   ],
   "source": [
    "r2 = r2_score(y_test, y_pred_test) #  (coefficient of determination) regression score function\n",
    "r2"
   ],
   "metadata": {
    "collapsed": false,
    "ExecuteTime": {
     "end_time": "2023-10-10T16:54:59.712577100Z",
     "start_time": "2023-10-10T16:54:57.615838900Z"
    }
   },
   "id": "81ae55c0a5f7ae72"
  },
  {
   "cell_type": "code",
   "execution_count": 1155,
   "outputs": [
    {
     "data": {
      "text/plain": "Text(0.5, 1.0, 'Target distribution')"
     },
     "execution_count": 1155,
     "metadata": {},
     "output_type": "execute_result"
    },
    {
     "data": {
      "text/plain": "<Figure size 800x480 with 1 Axes>",
      "image/png": "[encoded data removed]"
     },
     "metadata": {},
     "output_type": "display_data"
    }
   ],
   "source": [
    "fig, ax = plt.subplots(figsize=(10,6))\n",
    "ax.hist(y, bins=100, density=True)\n",
    "ax.set_ylabel(\"Probability\")\n",
    "ax.set_xlabel(\"Target\")\n",
    "ax.set_title(\"Target distribution\")"
   ],
   "metadata": {
    "collapsed": false,
    "ExecuteTime": {
     "end_time": "2023-10-10T16:54:59.718572Z",
     "start_time": "2023-10-10T16:54:57.625510900Z"
    }
   },
   "id": "9701626456672b6e"
  },
  {
   "cell_type": "markdown",
   "source": [
    "На графике наглядно видно выбросы, хотя в целом распределение стремится к нормальному, убрав выбросы, возможно добиться лучшего предсказания модели"
   ],
   "metadata": {
    "collapsed": false
   },
   "id": "fefb66983ef679b"
  },
  {
   "cell_type": "code",
   "execution_count": 1156,
   "outputs": [
    {
     "data": {
      "text/plain": "              MedInc  HouseAge  AveRooms  AveBedrms  Population  AveOccup  \\\nMedInc      1.000000 -0.119034  0.326895  -0.062040    0.004834  0.018766   \nHouseAge   -0.119034  1.000000 -0.153277  -0.077747   -0.296244  0.013191   \nAveRooms    0.326895 -0.153277  1.000000   0.847621   -0.072213 -0.004852   \nAveBedrms  -0.062040 -0.077747  0.847621   1.000000   -0.066197 -0.006181   \nPopulation  0.004834 -0.296244 -0.072213  -0.066197    1.000000  0.069863   \nAveOccup    0.018766  0.013191 -0.004852  -0.006181    0.069863  1.000000   \nLatitude   -0.079809  0.011173  0.106389   0.069721   -0.108785  0.002366   \nLongitude  -0.015176 -0.108197 -0.027540   0.013344    0.099773  0.002476   \n\n            Latitude  Longitude  \nMedInc     -0.079809  -0.015176  \nHouseAge    0.011173  -0.108197  \nAveRooms    0.106389  -0.027540  \nAveBedrms   0.069721   0.013344  \nPopulation -0.108785   0.099773  \nAveOccup    0.002366   0.002476  \nLatitude    1.000000  -0.924664  \nLongitude  -0.924664   1.000000  ",
      "text/html": "<div>\n<style scoped>\n    .dataframe tbody tr th:only-of-type {\n        vertical-align: middle;\n    }\n\n    .dataframe tbody tr th {\n        vertical-align: top;\n    }\n\n    .dataframe thead th {\n        text-align: right;\n    }\n</style>\n<table border=\"1\" class=\"dataframe\">\n  <thead>\n    <tr style=\"text-align: right;\">\n      <th></th>\n      <th>MedInc</th>\n      <th>HouseAge</th>\n      <th>AveRooms</th>\n      <th>AveBedrms</th>\n      <th>Population</th>\n      <th>AveOccup</th>\n      <th>Latitude</th>\n      <th>Longitude</th>\n    </tr>\n  </thead>\n  <tbody>\n    <tr>\n      <th>MedInc</th>\n      <td>1.000000</td>\n      <td>-0.119034</td>\n      <td>0.326895</td>\n      <td>-0.062040</td>\n      <td>0.004834</td>\n      <td>0.018766</td>\n      <td>-0.079809</td>\n      <td>-0.015176</td>\n    </tr>\n    <tr>\n      <th>HouseAge</th>\n      <td>-0.119034</td>\n      <td>1.000000</td>\n      <td>-0.153277</td>\n      <td>-0.077747</td>\n      <td>-0.296244</td>\n      <td>0.013191</td>\n      <td>0.011173</td>\n      <td>-0.108197</td>\n    </tr>\n    <tr>\n      <th>AveRooms</th>\n      <td>0.326895</td>\n      <td>-0.153277</td>\n      <td>1.000000</td>\n      <td>0.847621</td>\n      <td>-0.072213</td>\n      <td>-0.004852</td>\n      <td>0.106389</td>\n      <td>-0.027540</td>\n    </tr>\n    <tr>\n      <th>AveBedrms</th>\n      <td>-0.062040</td>\n      <td>-0.077747</td>\n      <td>0.847621</td>\n      <td>1.000000</td>\n      <td>-0.066197</td>\n      <td>-0.006181</td>\n      <td>0.069721</td>\n      <td>0.013344</td>\n    </tr>\n    <tr>\n      <th>Population</th>\n      <td>0.004834</td>\n      <td>-0.296244</td>\n      <td>-0.072213</td>\n      <td>-0.066197</td>\n      <td>1.000000</td>\n      <td>0.069863</td>\n      <td>-0.108785</td>\n      <td>0.099773</td>\n    </tr>\n    <tr>\n      <th>AveOccup</th>\n      <td>0.018766</td>\n      <td>0.013191</td>\n      <td>-0.004852</td>\n      <td>-0.006181</td>\n      <td>0.069863</td>\n      <td>1.000000</td>\n      <td>0.002366</td>\n      <td>0.002476</td>\n    </tr>\n    <tr>\n      <th>Latitude</th>\n      <td>-0.079809</td>\n      <td>0.011173</td>\n      <td>0.106389</td>\n      <td>0.069721</td>\n      <td>-0.108785</td>\n      <td>0.002366</td>\n      <td>1.000000</td>\n      <td>-0.924664</td>\n    </tr>\n    <tr>\n      <th>Longitude</th>\n      <td>-0.015176</td>\n      <td>-0.108197</td>\n      <td>-0.027540</td>\n      <td>0.013344</td>\n      <td>0.099773</td>\n      <td>0.002476</td>\n      <td>-0.924664</td>\n      <td>1.000000</td>\n    </tr>\n  </tbody>\n</table>\n</div>"
     },
     "execution_count": 1156,
     "metadata": {},
     "output_type": "execute_result"
    }
   ],
   "source": [
    "# можем посчитать коэффициенты корреляции между всеми показателями\n",
    "house_df.corr()"
   ],
   "metadata": {
    "collapsed": false,
    "ExecuteTime": {
     "end_time": "2023-10-10T16:54:59.718572Z",
     "start_time": "2023-10-10T16:54:57.992156400Z"
    }
   },
   "id": "adaf00cf4848af8b"
  },
  {
   "cell_type": "code",
   "execution_count": 1157,
   "outputs": [
    {
     "data": {
      "text/plain": "<Figure size 936x661.6 with 2 Axes>",
      "image/png": "[encoded data removed]"
     },
     "metadata": {},
     "output_type": "display_data"
    }
   ],
   "source": [
    "# удобно визуализировать при помощи тепловой карты\n",
    "sns.set(rc={'figure.figsize':(11.7,8.27)})\n",
    "sns.heatmap(house_df.corr(), annot=True, cmap=\"crest\")\n",
    "ax.xaxis.tick_top()"
   ],
   "metadata": {
    "collapsed": false,
    "ExecuteTime": {
     "end_time": "2023-10-10T16:54:59.722578200Z",
     "start_time": "2023-10-10T16:54:58.005223200Z"
    }
   },
   "id": "da4a414eb46ea64a"
  },
  {
   "cell_type": "markdown",
   "source": [
    "На тепловой карте, хорошо видно, что существенный вклад в определении целевых показателей осуществляет местонахождение объекта, а так же общее количество комнат, а так же количество спален. Средний доход в группе блоков, возраст дома и количество населения в блоке домов, оказывают не такое сильное влияние как предыдущие показатели, но их вклад тоже значительный.\n",
    "На основе данных ваше, можем удалить не существенный признак - 'AveOccup'."
   ],
   "metadata": {
    "collapsed": false
   },
   "id": "774c0ed0d3d53230"
  },
  {
   "cell_type": "code",
   "execution_count": 1158,
   "outputs": [
    {
     "data": {
      "text/plain": "   MedInc  HouseAge  AveRooms  AveBedrms  Population  Latitude  Longitude\n0  8.3252      41.0  6.984127   1.023810       322.0     37.88    -122.23\n1  8.3014      21.0  6.238137   0.971880      2401.0     37.86    -122.22\n2  7.2574      52.0  8.288136   1.073446       496.0     37.85    -122.24\n3  5.6431      52.0  5.817352   1.073059       558.0     37.85    -122.25\n4  3.8462      52.0  6.281853   1.081081       565.0     37.85    -122.25",
      "text/html": "<div>\n<style scoped>\n    .dataframe tbody tr th:only-of-type {\n        vertical-align: middle;\n    }\n\n    .dataframe tbody tr th {\n        vertical-align: top;\n    }\n\n    .dataframe thead th {\n        text-align: right;\n    }\n</style>\n<table border=\"1\" class=\"dataframe\">\n  <thead>\n    <tr style=\"text-align: right;\">\n      <th></th>\n      <th>MedInc</th>\n      <th>HouseAge</th>\n      <th>AveRooms</th>\n      <th>AveBedrms</th>\n      <th>Population</th>\n      <th>Latitude</th>\n      <th>Longitude</th>\n    </tr>\n  </thead>\n  <tbody>\n    <tr>\n      <th>0</th>\n      <td>8.3252</td>\n      <td>41.0</td>\n      <td>6.984127</td>\n      <td>1.023810</td>\n      <td>322.0</td>\n      <td>37.88</td>\n      <td>-122.23</td>\n    </tr>\n    <tr>\n      <th>1</th>\n      <td>8.3014</td>\n      <td>21.0</td>\n      <td>6.238137</td>\n      <td>0.971880</td>\n      <td>2401.0</td>\n      <td>37.86</td>\n      <td>-122.22</td>\n    </tr>\n    <tr>\n      <th>2</th>\n      <td>7.2574</td>\n      <td>52.0</td>\n      <td>8.288136</td>\n      <td>1.073446</td>\n      <td>496.0</td>\n      <td>37.85</td>\n      <td>-122.24</td>\n    </tr>\n    <tr>\n      <th>3</th>\n      <td>5.6431</td>\n      <td>52.0</td>\n      <td>5.817352</td>\n      <td>1.073059</td>\n      <td>558.0</td>\n      <td>37.85</td>\n      <td>-122.25</td>\n    </tr>\n    <tr>\n      <th>4</th>\n      <td>3.8462</td>\n      <td>52.0</td>\n      <td>6.281853</td>\n      <td>1.081081</td>\n      <td>565.0</td>\n      <td>37.85</td>\n      <td>-122.25</td>\n    </tr>\n  </tbody>\n</table>\n</div>"
     },
     "execution_count": 1158,
     "metadata": {},
     "output_type": "execute_result"
    }
   ],
   "source": [
    "Xshort = house_df[['MedInc', 'HouseAge', 'AveRooms', 'AveBedrms', 'Population', 'Latitude', 'Longitude']]\n",
    "Xshort.head()"
   ],
   "metadata": {
    "collapsed": false,
    "ExecuteTime": {
     "end_time": "2023-10-10T16:54:59.723578300Z",
     "start_time": "2023-10-10T16:54:58.372792600Z"
    }
   },
   "id": "4ed47cdd117e476f"
  },
  {
   "cell_type": "code",
   "execution_count": 1159,
   "outputs": [],
   "source": [
    "X_train_short, X_test_short, y_train, y_test = train_test_split(Xshort, y, test_size=0.2, random_state=42)"
   ],
   "metadata": {
    "collapsed": false,
    "ExecuteTime": {
     "end_time": "2023-10-10T16:54:59.723578300Z",
     "start_time": "2023-10-10T16:54:58.390972400Z"
    }
   },
   "id": "7bb87c78d6b768e1"
  },
  {
   "cell_type": "code",
   "execution_count": 1160,
   "outputs": [
    {
     "data": {
      "text/plain": "LinearRegression()",
      "text/html": "<style>#sk-container-id-67 {color: black;}#sk-container-id-67 pre{padding: 0;}#sk-container-id-67 div.sk-toggleable {background-color: white;}#sk-container-id-67 label.sk-toggleable__label {cursor: pointer;display: block;width: 100%;margin-bottom: 0;padding: 0.3em;box-sizing: border-box;text-align: center;}#sk-container-id-67 label.sk-toggleable__label-arrow:before {content: \"▸\";float: left;margin-right: 0.25em;color: #696969;}#sk-container-id-67 label.sk-toggleable__label-arrow:hover:before {color: black;}#sk-container-id-67 div.sk-estimator:hover label.sk-toggleable__label-arrow:before {color: black;}#sk-container-id-67 div.sk-toggleable__content {max-height: 0;max-width: 0;overflow: hidden;text-align: left;background-color: #f0f8ff;}#sk-container-id-67 div.sk-toggleable__content pre {margin: 0.2em;color: black;border-radius: 0.25em;background-color: #f0f8ff;}#sk-container-id-67 input.sk-toggleable__control:checked~div.sk-toggleable__content {max-height: 200px;max-width: 100%;overflow: auto;}#sk-container-id-67 input.sk-toggleable__control:checked~label.sk-toggleable__label-arrow:before {content: \"▾\";}#sk-container-id-67 div.sk-estimator input.sk-toggleable__control:checked~label.sk-toggleable__label {background-color: #d4ebff;}#sk-container-id-67 div.sk-label input.sk-toggleable__control:checked~label.sk-toggleable__label {background-color: #d4ebff;}#sk-container-id-67 input.sk-hidden--visually {border: 0;clip: rect(1px 1px 1px 1px);clip: rect(1px, 1px, 1px, 1px);height: 1px;margin: -1px;overflow: hidden;padding: 0;position: absolute;width: 1px;}#sk-container-id-67 div.sk-estimator {font-family: monospace;background-color: #f0f8ff;border: 1px dotted black;border-radius: 0.25em;box-sizing: border-box;margin-bottom: 0.5em;}#sk-container-id-67 div.sk-estimator:hover {background-color: #d4ebff;}#sk-container-id-67 div.sk-parallel-item::after {content: \"\";width: 100%;border-bottom: 1px solid gray;flex-grow: 1;}#sk-container-id-67 div.sk-label:hover label.sk-toggleable__label {background-color: #d4ebff;}#sk-container-id-67 div.sk-serial::before {content: \"\";position: absolute;border-left: 1px solid gray;box-sizing: border-box;top: 0;bottom: 0;left: 50%;z-index: 0;}#sk-container-id-67 div.sk-serial {display: flex;flex-direction: column;align-items: center;background-color: white;padding-right: 0.2em;padding-left: 0.2em;position: relative;}#sk-container-id-67 div.sk-item {position: relative;z-index: 1;}#sk-container-id-67 div.sk-parallel {display: flex;align-items: stretch;justify-content: center;background-color: white;position: relative;}#sk-container-id-67 div.sk-item::before, #sk-container-id-67 div.sk-parallel-item::before {content: \"\";position: absolute;border-left: 1px solid gray;box-sizing: border-box;top: 0;bottom: 0;left: 50%;z-index: -1;}#sk-container-id-67 div.sk-parallel-item {display: flex;flex-direction: column;z-index: 1;position: relative;background-color: white;}#sk-container-id-67 div.sk-parallel-item:first-child::after {align-self: flex-end;width: 50%;}#sk-container-id-67 div.sk-parallel-item:last-child::after {align-self: flex-start;width: 50%;}#sk-container-id-67 div.sk-parallel-item:only-child::after {width: 0;}#sk-container-id-67 div.sk-dashed-wrapped {border: 1px dashed gray;margin: 0 0.4em 0.5em 0.4em;box-sizing: border-box;padding-bottom: 0.4em;background-color: white;}#sk-container-id-67 div.sk-label label {font-family: monospace;font-weight: bold;display: inline-block;line-height: 1.2em;}#sk-container-id-67 div.sk-label-container {text-align: center;}#sk-container-id-67 div.sk-container {/* jupyter's `normalize.less` sets `[hidden] { display: none; }` but bootstrap.min.css set `[hidden] { display: none !important; }` so we also need the `!important` here to be able to override the default hidden behavior on the sphinx rendered scikit-learn.org. See: https://github.com/scikit-learn/scikit-learn/issues/21755 */display: inline-block !important;position: relative;}#sk-container-id-67 div.sk-text-repr-fallback {display: none;}</style><div id=\"sk-container-id-67\" class=\"sk-top-container\"><div class=\"sk-text-repr-fallback\"><pre>LinearRegression()</pre><b>In a Jupyter environment, please rerun this cell to show the HTML representation or trust the notebook. <br />On GitHub, the HTML representation is unable to render, please try loading this page with nbviewer.org.</b></div><div class=\"sk-container\" hidden><div class=\"sk-item\"><div class=\"sk-estimator sk-toggleable\"><input class=\"sk-toggleable__control sk-hidden--visually\" id=\"sk-estimator-id-67\" type=\"checkbox\" checked><label for=\"sk-estimator-id-67\" class=\"sk-toggleable__label sk-toggleable__label-arrow\">LinearRegression</label><div class=\"sk-toggleable__content\"><pre>LinearRegression()</pre></div></div></div></div></div>"
     },
     "execution_count": 1160,
     "metadata": {},
     "output_type": "execute_result"
    }
   ],
   "source": [
    "model.fit(X_train_short, y_train)"
   ],
   "metadata": {
    "collapsed": false,
    "ExecuteTime": {
     "end_time": "2023-10-10T16:54:59.725586Z",
     "start_time": "2023-10-10T16:54:58.407260900Z"
    }
   },
   "id": "c1ad0bf39b6bbb12"
  },
  {
   "cell_type": "code",
   "execution_count": 1161,
   "outputs": [
    {
     "data": {
      "text/plain": "0.6113161716418876"
     },
     "execution_count": 1161,
     "metadata": {},
     "output_type": "execute_result"
    }
   ],
   "source": [
    "model.score(X_train_short, y_train)"
   ],
   "metadata": {
    "collapsed": false,
    "ExecuteTime": {
     "end_time": "2023-10-10T16:54:59.725586Z",
     "start_time": "2023-10-10T16:54:58.432506700Z"
    }
   },
   "id": "34269bcfa8059aaa"
  },
  {
   "cell_type": "code",
   "execution_count": 1162,
   "outputs": [
    {
     "data": {
      "text/plain": "0.5750924063350598"
     },
     "execution_count": 1162,
     "metadata": {},
     "output_type": "execute_result"
    }
   ],
   "source": [
    "score_2 = model.score(X_test_short, y_test)\n",
    "score_2"
   ],
   "metadata": {
    "collapsed": false,
    "ExecuteTime": {
     "end_time": "2023-10-10T16:54:59.725586Z",
     "start_time": "2023-10-10T16:54:58.444640800Z"
    }
   },
   "id": "b8951466966f5228"
  },
  {
   "cell_type": "code",
   "execution_count": 1163,
   "outputs": [
    {
     "data": {
      "text/plain": "array([0.72239921, 1.76376847, 2.69915785, ..., 4.46458783, 1.18481237,\n       2.01258057])"
     },
     "execution_count": 1163,
     "metadata": {},
     "output_type": "execute_result"
    }
   ],
   "source": [
    "y_pred_short1= model.predict(X_test_short)\n",
    "y_pred_short1"
   ],
   "metadata": {
    "collapsed": false,
    "ExecuteTime": {
     "end_time": "2023-10-10T16:54:59.725586Z",
     "start_time": "2023-10-10T16:54:58.454714500Z"
    }
   },
   "id": "4426aae151c0c392"
  },
  {
   "cell_type": "code",
   "execution_count": 1164,
   "outputs": [
    {
     "data": {
      "text/plain": "0.7461921506296308"
     },
     "execution_count": 1164,
     "metadata": {},
     "output_type": "execute_result"
    }
   ],
   "source": [
    "rmse_short1 = mean_squared_error(y_test, y_pred_short1, squared=False) #Mean squared error regression loss.\n",
    "rmse_short1"
   ],
   "metadata": {
    "collapsed": false,
    "ExecuteTime": {
     "end_time": "2023-10-10T16:54:59.726580700Z",
     "start_time": "2023-10-10T16:54:58.467612500Z"
    }
   },
   "id": "eae1c3718099b196"
  },
  {
   "cell_type": "markdown",
   "source": [
    "После удаления столбца, качество модели немного ухудшилось на тестовой выборке, а на тренировочной выборке возросла.  "
   ],
   "metadata": {
    "collapsed": false
   },
   "id": "ba7462b91fced13f"
  },
  {
   "cell_type": "code",
   "execution_count": 1165,
   "outputs": [
    {
     "data": {
      "text/plain": "             MedInc      HouseAge      AveRooms     AveBedrms    Population  \\\ncount  20640.000000  20640.000000  20640.000000  20640.000000  20640.000000   \nmean       3.870671     28.639486      5.429000      1.096675   1425.476744   \nstd        1.899822     12.585558      2.474173      0.473911   1132.462122   \nmin        0.499900      1.000000      0.846154      0.333333      3.000000   \n25%        2.563400     18.000000      4.440716      1.006079    787.000000   \n50%        3.534800     29.000000      5.229129      1.048780   1166.000000   \n75%        4.743250     37.000000      6.052381      1.099526   1725.000000   \nmax       15.000100     52.000000    141.909091     34.066667  35682.000000   \n\n           Latitude     Longitude  \ncount  20640.000000  20640.000000  \nmean      35.631861   -119.569704  \nstd        2.135952      2.003532  \nmin       32.540000   -124.350000  \n25%       33.930000   -121.800000  \n50%       34.260000   -118.490000  \n75%       37.710000   -118.010000  \nmax       41.950000   -114.310000  ",
      "text/html": "<div>\n<style scoped>\n    .dataframe tbody tr th:only-of-type {\n        vertical-align: middle;\n    }\n\n    .dataframe tbody tr th {\n        vertical-align: top;\n    }\n\n    .dataframe thead th {\n        text-align: right;\n    }\n</style>\n<table border=\"1\" class=\"dataframe\">\n  <thead>\n    <tr style=\"text-align: right;\">\n      <th></th>\n      <th>MedInc</th>\n      <th>HouseAge</th>\n      <th>AveRooms</th>\n      <th>AveBedrms</th>\n      <th>Population</th>\n      <th>Latitude</th>\n      <th>Longitude</th>\n    </tr>\n  </thead>\n  <tbody>\n    <tr>\n      <th>count</th>\n      <td>20640.000000</td>\n      <td>20640.000000</td>\n      <td>20640.000000</td>\n      <td>20640.000000</td>\n      <td>20640.000000</td>\n      <td>20640.000000</td>\n      <td>20640.000000</td>\n    </tr>\n    <tr>\n      <th>mean</th>\n      <td>3.870671</td>\n      <td>28.639486</td>\n      <td>5.429000</td>\n      <td>1.096675</td>\n      <td>1425.476744</td>\n      <td>35.631861</td>\n      <td>-119.569704</td>\n    </tr>\n    <tr>\n      <th>std</th>\n      <td>1.899822</td>\n      <td>12.585558</td>\n      <td>2.474173</td>\n      <td>0.473911</td>\n      <td>1132.462122</td>\n      <td>2.135952</td>\n      <td>2.003532</td>\n    </tr>\n    <tr>\n      <th>min</th>\n      <td>0.499900</td>\n      <td>1.000000</td>\n      <td>0.846154</td>\n      <td>0.333333</td>\n      <td>3.000000</td>\n      <td>32.540000</td>\n      <td>-124.350000</td>\n    </tr>\n    <tr>\n      <th>25%</th>\n      <td>2.563400</td>\n      <td>18.000000</td>\n      <td>4.440716</td>\n      <td>1.006079</td>\n      <td>787.000000</td>\n      <td>33.930000</td>\n      <td>-121.800000</td>\n    </tr>\n    <tr>\n      <th>50%</th>\n      <td>3.534800</td>\n      <td>29.000000</td>\n      <td>5.229129</td>\n      <td>1.048780</td>\n      <td>1166.000000</td>\n      <td>34.260000</td>\n      <td>-118.490000</td>\n    </tr>\n    <tr>\n      <th>75%</th>\n      <td>4.743250</td>\n      <td>37.000000</td>\n      <td>6.052381</td>\n      <td>1.099526</td>\n      <td>1725.000000</td>\n      <td>37.710000</td>\n      <td>-118.010000</td>\n    </tr>\n    <tr>\n      <th>max</th>\n      <td>15.000100</td>\n      <td>52.000000</td>\n      <td>141.909091</td>\n      <td>34.066667</td>\n      <td>35682.000000</td>\n      <td>41.950000</td>\n      <td>-114.310000</td>\n    </tr>\n  </tbody>\n</table>\n</div>"
     },
     "execution_count": 1165,
     "metadata": {},
     "output_type": "execute_result"
    }
   ],
   "source": [
    "Xshort.describe()"
   ],
   "metadata": {
    "collapsed": false,
    "ExecuteTime": {
     "end_time": "2023-10-10T16:54:59.726580700Z",
     "start_time": "2023-10-10T16:54:58.476036700Z"
    }
   },
   "id": "33d29f3831ed1a46"
  },
  {
   "cell_type": "markdown",
   "source": [
    "Проверим данные, т.к. дома с 142 комнатами и 34 спальнями, хоть и могут существовать, но маловероятно "
   ],
   "metadata": {
    "collapsed": false
   },
   "id": "9949b3dd4eae50b5"
  },
  {
   "cell_type": "code",
   "execution_count": 1166,
   "outputs": [
    {
     "data": {
      "text/plain": "MedInc\n3.1250     49\n15.0001    49\n2.8750     46\n2.6250     44\n4.1250     44\n           ..\n4.0774      1\n4.1767      1\n6.1814      1\n6.4319      1\n2.0943      1\nName: count, Length: 12928, dtype: int64"
     },
     "execution_count": 1166,
     "metadata": {},
     "output_type": "execute_result"
    }
   ],
   "source": [
    "Xshort['MedInc'].value_counts()"
   ],
   "metadata": {
    "collapsed": false,
    "ExecuteTime": {
     "end_time": "2023-10-10T16:54:59.726580700Z",
     "start_time": "2023-10-10T16:54:58.509591500Z"
    }
   },
   "id": "b437bfd136519e58"
  },
  {
   "cell_type": "code",
   "execution_count": 1167,
   "outputs": [
    {
     "data": {
      "text/plain": "        MedInc  HouseAge   AveRooms  AveBedrms  Population  Latitude  \\\n1566   15.0001       2.0  22.222222   2.222222        25.0     37.74   \n4352   15.0001      37.0   8.659574   1.425532       100.0     34.10   \n4604   15.0001      52.0   8.444954   1.100917       693.0     34.06   \n4605   15.0001      52.0   8.483019   0.962264       813.0     34.07   \n4606   15.0001      52.0   9.204969   1.062112       531.0     34.07   \n4626   15.0001      52.0   7.958333   0.833333       457.0     34.06   \n4678   15.0001      52.0   8.780612   0.994898       688.0     34.08   \n5242   15.0001      32.0   8.002869   1.080344      1567.0     34.11   \n5247   15.0001      36.0   9.368263   1.173653       862.0     34.09   \n5248   15.0001      46.0   8.365591   0.967742       238.0     34.08   \n5257   15.0001      42.0   9.229032   1.161290       829.0     34.06   \n5275   15.0001      36.0   7.549091   0.985455      1461.0     34.05   \n5281   15.0001      42.0   8.562500   0.964286       632.0     34.05   \n5291   15.0001      46.0   9.203947   0.973684       410.0     34.08   \n6391   15.0001      37.0   8.761062   1.000000       697.0     34.15   \n6399   15.0001      35.0   8.586207   1.068966       268.0     34.13   \n6590   15.0001      48.0   8.845161   1.058065       528.0     34.19   \n6591   15.0001      34.0   8.114173   1.023622       825.0     34.19   \n6592   15.0001      38.0   8.954733   1.094650       798.0     34.19   \n6727   15.0001      52.0  10.419355   1.136201       956.0     34.12   \n6736   15.0001      47.0   8.592308   1.061538       749.0     34.13   \n8805   15.0001      34.0   8.783019   1.059748      1871.0     33.76   \n8846   15.0001      27.0   7.651923   0.980769      1351.0     34.10   \n8847   15.0001      45.0  10.370656   1.092664       857.0     34.09   \n8848   15.0001      52.0   8.907583   1.099526      1407.0     34.08   \n8849   15.0001      52.0   9.237288   1.062954      1266.0     34.08   \n8850   15.0001      37.0   9.333333   1.037801       809.0     34.09   \n8851   15.0001      40.0   9.600000   1.059459      1024.0     34.09   \n8852   15.0001      48.0   9.729839   1.052419       770.0     34.08   \n8853   15.0001      52.0   9.867036   1.091413      1163.0     34.07   \n8854   15.0001      52.0   8.710145   1.028986       408.0     34.07   \n8878   15.0001      52.0   8.000000   0.997333      1143.0     34.04   \n10673  15.0001      13.0   7.842900   0.993958      1865.0     33.62   \n10760  15.0001      15.0   8.062044   1.003650       735.0     33.62   \n11520  15.0001      14.0   8.354232   1.037618       964.0     33.72   \n15241  15.0001      17.0   8.520376   1.021944      1011.0     32.99   \n15693  15.0001      52.0   7.994475   1.027624       483.0     37.79   \n16171  15.0001      52.0   8.000000   1.000000        13.0     37.79   \n16910  15.0001      32.0   9.166341   1.056751      1512.0     37.56   \n17107  15.0001      31.0   9.425101   1.093117       722.0     37.44   \n17108  15.0001      32.0   8.845041   1.035124      1318.0     37.44   \n17110  15.0001      40.0   8.584541   1.000000       577.0     37.46   \n17111  15.0001      40.0   9.802326   1.135659       831.0     37.46   \n17118  15.0001      46.0   6.000000   0.800000        13.0     37.50   \n17166  15.0001      32.0   8.116608   1.014134       814.0     37.40   \n17170  15.0001      33.0   7.446512   1.037209       629.0     37.43   \n17858  15.0001      43.0   5.687500   0.750000        58.0     37.46   \n18501  15.0001      52.0   8.461538   1.230769        55.0     37.19   \n18504  15.0001      26.0  12.500000   1.250000        17.0     37.13   \n\n       Longitude  \n1566     -121.96  \n4352     -118.37  \n4604     -118.33  \n4605     -118.33  \n4606     -118.33  \n4626     -118.32  \n4678     -118.34  \n5242     -118.40  \n5247     -118.44  \n5248     -118.43  \n5257     -118.49  \n5275     -118.50  \n5281     -118.49  \n5291     -118.42  \n6391     -118.06  \n6399     -118.04  \n6590     -118.18  \n6591     -118.19  \n6592     -118.20  \n6727     -118.12  \n6736     -118.10  \n8805     -118.34  \n8846     -118.40  \n8847     -118.40  \n8848     -118.39  \n8849     -118.40  \n8850     -118.41  \n8851     -118.42  \n8852     -118.42  \n8853     -118.41  \n8854     -118.41  \n8878     -118.50  \n10673    -117.85  \n10760    -117.87  \n11520    -118.06  \n15241    -117.23  \n15693    -122.44  \n16171    -122.50  \n16910    -122.36  \n17107    -122.20  \n17108    -122.22  \n17110    -122.21  \n17111    -122.18  \n17118    -122.14  \n17166    -122.22  \n17170    -122.27  \n17858    -121.87  \n18501    -121.59  \n18504    -121.96  ",
      "text/html": "<div>\n<style scoped>\n    .dataframe tbody tr th:only-of-type {\n        vertical-align: middle;\n    }\n\n    .dataframe tbody tr th {\n        vertical-align: top;\n    }\n\n    .dataframe thead th {\n        text-align: right;\n    }\n</style>\n<table border=\"1\" class=\"dataframe\">\n  <thead>\n    <tr style=\"text-align: right;\">\n      <th></th>\n      <th>MedInc</th>\n      <th>HouseAge</th>\n      <th>AveRooms</th>\n      <th>AveBedrms</th>\n      <th>Population</th>\n      <th>Latitude</th>\n      <th>Longitude</th>\n    </tr>\n  </thead>\n  <tbody>\n    <tr>\n      <th>1566</th>\n      <td>15.0001</td>\n      <td>2.0</td>\n      <td>22.222222</td>\n      <td>2.222222</td>\n      <td>25.0</td>\n      <td>37.74</td>\n      <td>-121.96</td>\n    </tr>\n    <tr>\n      <th>4352</th>\n      <td>15.0001</td>\n      <td>37.0</td>\n      <td>8.659574</td>\n      <td>1.425532</td>\n      <td>100.0</td>\n      <td>34.10</td>\n      <td>-118.37</td>\n    </tr>\n    <tr>\n      <th>4604</th>\n      <td>15.0001</td>\n      <td>52.0</td>\n      <td>8.444954</td>\n      <td>1.100917</td>\n      <td>693.0</td>\n      <td>34.06</td>\n      <td>-118.33</td>\n    </tr>\n    <tr>\n      <th>4605</th>\n      <td>15.0001</td>\n      <td>52.0</td>\n      <td>8.483019</td>\n      <td>0.962264</td>\n      <td>813.0</td>\n      <td>34.07</td>\n      <td>-118.33</td>\n    </tr>\n    <tr>\n      <th>4606</th>\n      <td>15.0001</td>\n      <td>52.0</td>\n      <td>9.204969</td>\n      <td>1.062112</td>\n      <td>531.0</td>\n      <td>34.07</td>\n      <td>-118.33</td>\n    </tr>\n    <tr>\n      <th>4626</th>\n      <td>15.0001</td>\n      <td>52.0</td>\n      <td>7.958333</td>\n      <td>0.833333</td>\n      <td>457.0</td>\n      <td>34.06</td>\n      <td>-118.32</td>\n    </tr>\n    <tr>\n      <th>4678</th>\n      <td>15.0001</td>\n      <td>52.0</td>\n      <td>8.780612</td>\n      <td>0.994898</td>\n      <td>688.0</td>\n      <td>34.08</td>\n      <td>-118.34</td>\n    </tr>\n    <tr>\n      <th>5242</th>\n      <td>15.0001</td>\n      <td>32.0</td>\n      <td>8.002869</td>\n      <td>1.080344</td>\n      <td>1567.0</td>\n      <td>34.11</td>\n      <td>-118.40</td>\n    </tr>\n    <tr>\n      <th>5247</th>\n      <td>15.0001</td>\n      <td>36.0</td>\n      <td>9.368263</td>\n      <td>1.173653</td>\n      <td>862.0</td>\n      <td>34.09</td>\n      <td>-118.44</td>\n    </tr>\n    <tr>\n      <th>5248</th>\n      <td>15.0001</td>\n      <td>46.0</td>\n      <td>8.365591</td>\n      <td>0.967742</td>\n      <td>238.0</td>\n      <td>34.08</td>\n      <td>-118.43</td>\n    </tr>\n    <tr>\n      <th>5257</th>\n      <td>15.0001</td>\n      <td>42.0</td>\n      <td>9.229032</td>\n      <td>1.161290</td>\n      <td>829.0</td>\n      <td>34.06</td>\n      <td>-118.49</td>\n    </tr>\n    <tr>\n      <th>5275</th>\n      <td>15.0001</td>\n      <td>36.0</td>\n      <td>7.549091</td>\n      <td>0.985455</td>\n      <td>1461.0</td>\n      <td>34.05</td>\n      <td>-118.50</td>\n    </tr>\n    <tr>\n      <th>5281</th>\n      <td>15.0001</td>\n      <td>42.0</td>\n      <td>8.562500</td>\n      <td>0.964286</td>\n      <td>632.0</td>\n      <td>34.05</td>\n      <td>-118.49</td>\n    </tr>\n    <tr>\n      <th>5291</th>\n      <td>15.0001</td>\n      <td>46.0</td>\n      <td>9.203947</td>\n      <td>0.973684</td>\n      <td>410.0</td>\n      <td>34.08</td>\n      <td>-118.42</td>\n    </tr>\n    <tr>\n      <th>6391</th>\n      <td>15.0001</td>\n      <td>37.0</td>\n      <td>8.761062</td>\n      <td>1.000000</td>\n      <td>697.0</td>\n      <td>34.15</td>\n      <td>-118.06</td>\n    </tr>\n    <tr>\n      <th>6399</th>\n      <td>15.0001</td>\n      <td>35.0</td>\n      <td>8.586207</td>\n      <td>1.068966</td>\n      <td>268.0</td>\n      <td>34.13</td>\n      <td>-118.04</td>\n    </tr>\n    <tr>\n      <th>6590</th>\n      <td>15.0001</td>\n      <td>48.0</td>\n      <td>8.845161</td>\n      <td>1.058065</td>\n      <td>528.0</td>\n      <td>34.19</td>\n      <td>-118.18</td>\n    </tr>\n    <tr>\n      <th>6591</th>\n      <td>15.0001</td>\n      <td>34.0</td>\n      <td>8.114173</td>\n      <td>1.023622</td>\n      <td>825.0</td>\n      <td>34.19</td>\n      <td>-118.19</td>\n    </tr>\n    <tr>\n      <th>6592</th>\n      <td>15.0001</td>\n      <td>38.0</td>\n      <td>8.954733</td>\n      <td>1.094650</td>\n      <td>798.0</td>\n      <td>34.19</td>\n      <td>-118.20</td>\n    </tr>\n    <tr>\n      <th>6727</th>\n      <td>15.0001</td>\n      <td>52.0</td>\n      <td>10.419355</td>\n      <td>1.136201</td>\n      <td>956.0</td>\n      <td>34.12</td>\n      <td>-118.12</td>\n    </tr>\n    <tr>\n      <th>6736</th>\n      <td>15.0001</td>\n      <td>47.0</td>\n      <td>8.592308</td>\n      <td>1.061538</td>\n      <td>749.0</td>\n      <td>34.13</td>\n      <td>-118.10</td>\n    </tr>\n    <tr>\n      <th>8805</th>\n      <td>15.0001</td>\n      <td>34.0</td>\n      <td>8.783019</td>\n      <td>1.059748</td>\n      <td>1871.0</td>\n      <td>33.76</td>\n      <td>-118.34</td>\n    </tr>\n    <tr>\n      <th>8846</th>\n      <td>15.0001</td>\n      <td>27.0</td>\n      <td>7.651923</td>\n      <td>0.980769</td>\n      <td>1351.0</td>\n      <td>34.10</td>\n      <td>-118.40</td>\n    </tr>\n    <tr>\n      <th>8847</th>\n      <td>15.0001</td>\n      <td>45.0</td>\n      <td>10.370656</td>\n      <td>1.092664</td>\n      <td>857.0</td>\n      <td>34.09</td>\n      <td>-118.40</td>\n    </tr>\n    <tr>\n      <th>8848</th>\n      <td>15.0001</td>\n      <td>52.0</td>\n      <td>8.907583</td>\n      <td>1.099526</td>\n      <td>1407.0</td>\n      <td>34.08</td>\n      <td>-118.39</td>\n    </tr>\n    <tr>\n      <th>8849</th>\n      <td>15.0001</td>\n      <td>52.0</td>\n      <td>9.237288</td>\n      <td>1.062954</td>\n      <td>1266.0</td>\n      <td>34.08</td>\n      <td>-118.40</td>\n    </tr>\n    <tr>\n      <th>8850</th>\n      <td>15.0001</td>\n      <td>37.0</td>\n      <td>9.333333</td>\n      <td>1.037801</td>\n      <td>809.0</td>\n      <td>34.09</td>\n      <td>-118.41</td>\n    </tr>\n    <tr>\n      <th>8851</th>\n      <td>15.0001</td>\n      <td>40.0</td>\n      <td>9.600000</td>\n      <td>1.059459</td>\n      <td>1024.0</td>\n      <td>34.09</td>\n      <td>-118.42</td>\n    </tr>\n    <tr>\n      <th>8852</th>\n      <td>15.0001</td>\n      <td>48.0</td>\n      <td>9.729839</td>\n      <td>1.052419</td>\n      <td>770.0</td>\n      <td>34.08</td>\n      <td>-118.42</td>\n    </tr>\n    <tr>\n      <th>8853</th>\n      <td>15.0001</td>\n      <td>52.0</td>\n      <td>9.867036</td>\n      <td>1.091413</td>\n      <td>1163.0</td>\n      <td>34.07</td>\n      <td>-118.41</td>\n    </tr>\n    <tr>\n      <th>8854</th>\n      <td>15.0001</td>\n      <td>52.0</td>\n      <td>8.710145</td>\n      <td>1.028986</td>\n      <td>408.0</td>\n      <td>34.07</td>\n      <td>-118.41</td>\n    </tr>\n    <tr>\n      <th>8878</th>\n      <td>15.0001</td>\n      <td>52.0</td>\n      <td>8.000000</td>\n      <td>0.997333</td>\n      <td>1143.0</td>\n      <td>34.04</td>\n      <td>-118.50</td>\n    </tr>\n    <tr>\n      <th>10673</th>\n      <td>15.0001</td>\n      <td>13.0</td>\n      <td>7.842900</td>\n      <td>0.993958</td>\n      <td>1865.0</td>\n      <td>33.62</td>\n      <td>-117.85</td>\n    </tr>\n    <tr>\n      <th>10760</th>\n      <td>15.0001</td>\n      <td>15.0</td>\n      <td>8.062044</td>\n      <td>1.003650</td>\n      <td>735.0</td>\n      <td>33.62</td>\n      <td>-117.87</td>\n    </tr>\n    <tr>\n      <th>11520</th>\n      <td>15.0001</td>\n      <td>14.0</td>\n      <td>8.354232</td>\n      <td>1.037618</td>\n      <td>964.0</td>\n      <td>33.72</td>\n      <td>-118.06</td>\n    </tr>\n    <tr>\n      <th>15241</th>\n      <td>15.0001</td>\n      <td>17.0</td>\n      <td>8.520376</td>\n      <td>1.021944</td>\n      <td>1011.0</td>\n      <td>32.99</td>\n      <td>-117.23</td>\n    </tr>\n    <tr>\n      <th>15693</th>\n      <td>15.0001</td>\n      <td>52.0</td>\n      <td>7.994475</td>\n      <td>1.027624</td>\n      <td>483.0</td>\n      <td>37.79</td>\n      <td>-122.44</td>\n    </tr>\n    <tr>\n      <th>16171</th>\n      <td>15.0001</td>\n      <td>52.0</td>\n      <td>8.000000</td>\n      <td>1.000000</td>\n      <td>13.0</td>\n      <td>37.79</td>\n      <td>-122.50</td>\n    </tr>\n    <tr>\n      <th>16910</th>\n      <td>15.0001</td>\n      <td>32.0</td>\n      <td>9.166341</td>\n      <td>1.056751</td>\n      <td>1512.0</td>\n      <td>37.56</td>\n      <td>-122.36</td>\n    </tr>\n    <tr>\n      <th>17107</th>\n      <td>15.0001</td>\n      <td>31.0</td>\n      <td>9.425101</td>\n      <td>1.093117</td>\n      <td>722.0</td>\n      <td>37.44</td>\n      <td>-122.20</td>\n    </tr>\n    <tr>\n      <th>17108</th>\n      <td>15.0001</td>\n      <td>32.0</td>\n      <td>8.845041</td>\n      <td>1.035124</td>\n      <td>1318.0</td>\n      <td>37.44</td>\n      <td>-122.22</td>\n    </tr>\n    <tr>\n      <th>17110</th>\n      <td>15.0001</td>\n      <td>40.0</td>\n      <td>8.584541</td>\n      <td>1.000000</td>\n      <td>577.0</td>\n      <td>37.46</td>\n      <td>-122.21</td>\n    </tr>\n    <tr>\n      <th>17111</th>\n      <td>15.0001</td>\n      <td>40.0</td>\n      <td>9.802326</td>\n      <td>1.135659</td>\n      <td>831.0</td>\n      <td>37.46</td>\n      <td>-122.18</td>\n    </tr>\n    <tr>\n      <th>17118</th>\n      <td>15.0001</td>\n      <td>46.0</td>\n      <td>6.000000</td>\n      <td>0.800000</td>\n      <td>13.0</td>\n      <td>37.50</td>\n      <td>-122.14</td>\n    </tr>\n    <tr>\n      <th>17166</th>\n      <td>15.0001</td>\n      <td>32.0</td>\n      <td>8.116608</td>\n      <td>1.014134</td>\n      <td>814.0</td>\n      <td>37.40</td>\n      <td>-122.22</td>\n    </tr>\n    <tr>\n      <th>17170</th>\n      <td>15.0001</td>\n      <td>33.0</td>\n      <td>7.446512</td>\n      <td>1.037209</td>\n      <td>629.0</td>\n      <td>37.43</td>\n      <td>-122.27</td>\n    </tr>\n    <tr>\n      <th>17858</th>\n      <td>15.0001</td>\n      <td>43.0</td>\n      <td>5.687500</td>\n      <td>0.750000</td>\n      <td>58.0</td>\n      <td>37.46</td>\n      <td>-121.87</td>\n    </tr>\n    <tr>\n      <th>18501</th>\n      <td>15.0001</td>\n      <td>52.0</td>\n      <td>8.461538</td>\n      <td>1.230769</td>\n      <td>55.0</td>\n      <td>37.19</td>\n      <td>-121.59</td>\n    </tr>\n    <tr>\n      <th>18504</th>\n      <td>15.0001</td>\n      <td>26.0</td>\n      <td>12.500000</td>\n      <td>1.250000</td>\n      <td>17.0</td>\n      <td>37.13</td>\n      <td>-121.96</td>\n    </tr>\n  </tbody>\n</table>\n</div>"
     },
     "execution_count": 1167,
     "metadata": {},
     "output_type": "execute_result"
    }
   ],
   "source": [
    "Xshort.loc[Xshort['MedInc'] > 15]"
   ],
   "metadata": {
    "collapsed": false,
    "ExecuteTime": {
     "end_time": "2023-10-10T16:54:59.735582Z",
     "start_time": "2023-10-10T16:54:58.515723200Z"
    }
   },
   "id": "f7f98b592d15810c"
  },
  {
   "cell_type": "code",
   "execution_count": 1168,
   "outputs": [
    {
     "data": {
      "text/plain": "3130      1.0\n19536     1.0\n12286     1.0\n18972     1.0\n10391     2.0\n         ... \n19516    52.0\n1671     52.0\n15903    52.0\n19525    52.0\n6343     52.0\nName: HouseAge, Length: 20640, dtype: float64"
     },
     "execution_count": 1168,
     "metadata": {},
     "output_type": "execute_result"
    }
   ],
   "source": [
    "Xshort['HouseAge'].sort_values()"
   ],
   "metadata": {
    "collapsed": false,
    "ExecuteTime": {
     "end_time": "2023-10-10T16:54:59.735582Z",
     "start_time": "2023-10-10T16:54:58.537110300Z"
    }
   },
   "id": "ffa5d0609dd6aa31"
  },
  {
   "cell_type": "code",
   "execution_count": 1169,
   "outputs": [
    {
     "data": {
      "text/plain": "141.9090909090909"
     },
     "execution_count": 1169,
     "metadata": {},
     "output_type": "execute_result"
    }
   ],
   "source": [
    "Xshort['AveRooms'].max()"
   ],
   "metadata": {
    "collapsed": false,
    "ExecuteTime": {
     "end_time": "2023-10-10T16:54:59.735582Z",
     "start_time": "2023-10-10T16:54:58.556764500Z"
    }
   },
   "id": "5977e74e15eb380e"
  },
  {
   "cell_type": "code",
   "execution_count": 1170,
   "outputs": [
    {
     "data": {
      "text/plain": "1914     141.909091\n1979     132.533333\n12447     62.422222\n1913      61.812500\n11862     59.875000\n            ...    \n17820      1.130435\n14818      1.130435\n3126       1.000000\n8219       0.888889\n5916       0.846154\nName: AveRooms, Length: 20640, dtype: float64"
     },
     "execution_count": 1170,
     "metadata": {},
     "output_type": "execute_result"
    }
   ],
   "source": [
    "Xshort['AveRooms'].sort_values(ascending=False)"
   ],
   "metadata": {
    "collapsed": false,
    "ExecuteTime": {
     "end_time": "2023-10-10T16:54:59.735582Z",
     "start_time": "2023-10-10T16:54:58.565287900Z"
    }
   },
   "id": "2fc141f14da5de4d"
  },
  {
   "cell_type": "code",
   "execution_count": 1171,
   "outputs": [
    {
     "data": {
      "text/plain": "1979     34.066667\n1914     25.636364\n11862    15.312500\n12447    14.111111\n9676     11.410714\n           ...    \n3125      0.500000\n12138     0.500000\n12649     0.444444\n13606     0.375000\n20248     0.333333\nName: AveBedrms, Length: 20640, dtype: float64"
     },
     "execution_count": 1171,
     "metadata": {},
     "output_type": "execute_result"
    }
   ],
   "source": [
    "Xshort['AveBedrms'].sort_values(ascending=False)"
   ],
   "metadata": {
    "collapsed": false,
    "ExecuteTime": {
     "end_time": "2023-10-10T16:54:59.735582Z",
     "start_time": "2023-10-10T16:54:58.574416100Z"
    }
   },
   "id": "476a4c99450a9f43"
  },
  {
   "cell_type": "code",
   "execution_count": 1172,
   "outputs": [
    {
     "data": {
      "text/plain": "15360    35682.0\n9880     28566.0\n13139    16305.0\n10309    16122.0\n6057     15507.0\n          ...   \n18210        8.0\n12286        8.0\n3126         6.0\n12458        5.0\n5342         3.0\nName: Population, Length: 20640, dtype: float64"
     },
     "execution_count": 1172,
     "metadata": {},
     "output_type": "execute_result"
    }
   ],
   "source": [
    "Xshort['Population'].sort_values(ascending=False)"
   ],
   "metadata": {
    "collapsed": false,
    "ExecuteTime": {
     "end_time": "2023-10-10T16:54:59.735582Z",
     "start_time": "2023-10-10T16:54:58.589405500Z"
    }
   },
   "id": "db2288b93f977c0"
  },
  {
   "cell_type": "code",
   "execution_count": 1173,
   "outputs": [
    {
     "data": {
      "text/plain": "13924   -114.31\n13923   -114.47\n12447   -114.49\n2780    -114.55\n12450   -114.56\n          ...  \n2653    -124.26\n2631    -124.27\n1851    -124.30\n1861    -124.30\n2655    -124.35\nName: Longitude, Length: 20640, dtype: float64"
     },
     "execution_count": 1173,
     "metadata": {},
     "output_type": "execute_result"
    }
   ],
   "source": [
    "Xshort['Longitude'].sort_values(ascending=False)"
   ],
   "metadata": {
    "collapsed": false,
    "ExecuteTime": {
     "end_time": "2023-10-10T16:54:59.736584Z",
     "start_time": "2023-10-10T16:54:58.598152900Z"
    }
   },
   "id": "629aebbbd2958609"
  },
  {
   "cell_type": "markdown",
   "source": [
    "Удалим выбросы из данных"
   ],
   "metadata": {
    "collapsed": false
   },
   "id": "2c33dbec704b8921"
  },
  {
   "cell_type": "code",
   "execution_count": 1174,
   "outputs": [
    {
     "name": "stdout",
     "output_type": "stream",
     "text": [
      "<class 'pandas.core.frame.DataFrame'>\n",
      "Index: 20637 entries, 0 to 20639\n",
      "Data columns (total 7 columns):\n",
      " #   Column      Non-Null Count  Dtype  \n",
      "---  ------      --------------  -----  \n",
      " 0   MedInc      20637 non-null  float64\n",
      " 1   HouseAge    20637 non-null  float64\n",
      " 2   AveRooms    20637 non-null  float64\n",
      " 3   AveBedrms   20637 non-null  float64\n",
      " 4   Population  20637 non-null  float64\n",
      " 5   Latitude    20637 non-null  float64\n",
      " 6   Longitude   20637 non-null  float64\n",
      "dtypes: float64(7)\n",
      "memory usage: 1.3 MB\n"
     ]
    }
   ],
   "source": [
    "Xshort.drop(index = [1914, 1979, 1566], axis=0, inplace=True)\n",
    "Xshort.info()"
   ],
   "metadata": {
    "collapsed": false,
    "ExecuteTime": {
     "end_time": "2023-10-10T16:54:59.736584Z",
     "start_time": "2023-10-10T16:54:58.608291600Z"
    }
   },
   "id": "b633eb3901fd276"
  },
  {
   "cell_type": "code",
   "execution_count": 1175,
   "outputs": [
    {
     "name": "stdout",
     "output_type": "stream",
     "text": [
      "<class 'pandas.core.series.Series'>\n",
      "Index: 20637 entries, 0 to 20639\n",
      "Series name: MedHouseVal\n",
      "Non-Null Count  Dtype  \n",
      "--------------  -----  \n",
      "20637 non-null  float64\n",
      "dtypes: float64(1)\n",
      "memory usage: 322.5 KB\n"
     ]
    }
   ],
   "source": [
    "y.drop(index = [1914, 1979, 1566], axis=0, inplace=True)\n",
    "y.info()"
   ],
   "metadata": {
    "collapsed": false,
    "ExecuteTime": {
     "end_time": "2023-10-10T16:54:59.736584Z",
     "start_time": "2023-10-10T16:54:58.623118800Z"
    }
   },
   "id": "82bd3978ac33149a"
  },
  {
   "cell_type": "code",
   "execution_count": 1176,
   "outputs": [],
   "source": [
    "X_train_short, X_test_short, y_train, y_test = train_test_split(Xshort, y, test_size=0.2, random_state=42)"
   ],
   "metadata": {
    "collapsed": false,
    "ExecuteTime": {
     "end_time": "2023-10-10T16:54:59.736584Z",
     "start_time": "2023-10-10T16:54:58.633137300Z"
    }
   },
   "id": "bda8f95b855137be"
  },
  {
   "cell_type": "code",
   "execution_count": 1177,
   "outputs": [
    {
     "data": {
      "text/plain": "LinearRegression()",
      "text/html": "<style>#sk-container-id-68 {color: black;}#sk-container-id-68 pre{padding: 0;}#sk-container-id-68 div.sk-toggleable {background-color: white;}#sk-container-id-68 label.sk-toggleable__label {cursor: pointer;display: block;width: 100%;margin-bottom: 0;padding: 0.3em;box-sizing: border-box;text-align: center;}#sk-container-id-68 label.sk-toggleable__label-arrow:before {content: \"▸\";float: left;margin-right: 0.25em;color: #696969;}#sk-container-id-68 label.sk-toggleable__label-arrow:hover:before {color: black;}#sk-container-id-68 div.sk-estimator:hover label.sk-toggleable__label-arrow:before {color: black;}#sk-container-id-68 div.sk-toggleable__content {max-height: 0;max-width: 0;overflow: hidden;text-align: left;background-color: #f0f8ff;}#sk-container-id-68 div.sk-toggleable__content pre {margin: 0.2em;color: black;border-radius: 0.25em;background-color: #f0f8ff;}#sk-container-id-68 input.sk-toggleable__control:checked~div.sk-toggleable__content {max-height: 200px;max-width: 100%;overflow: auto;}#sk-container-id-68 input.sk-toggleable__control:checked~label.sk-toggleable__label-arrow:before {content: \"▾\";}#sk-container-id-68 div.sk-estimator input.sk-toggleable__control:checked~label.sk-toggleable__label {background-color: #d4ebff;}#sk-container-id-68 div.sk-label input.sk-toggleable__control:checked~label.sk-toggleable__label {background-color: #d4ebff;}#sk-container-id-68 input.sk-hidden--visually {border: 0;clip: rect(1px 1px 1px 1px);clip: rect(1px, 1px, 1px, 1px);height: 1px;margin: -1px;overflow: hidden;padding: 0;position: absolute;width: 1px;}#sk-container-id-68 div.sk-estimator {font-family: monospace;background-color: #f0f8ff;border: 1px dotted black;border-radius: 0.25em;box-sizing: border-box;margin-bottom: 0.5em;}#sk-container-id-68 div.sk-estimator:hover {background-color: #d4ebff;}#sk-container-id-68 div.sk-parallel-item::after {content: \"\";width: 100%;border-bottom: 1px solid gray;flex-grow: 1;}#sk-container-id-68 div.sk-label:hover label.sk-toggleable__label {background-color: #d4ebff;}#sk-container-id-68 div.sk-serial::before {content: \"\";position: absolute;border-left: 1px solid gray;box-sizing: border-box;top: 0;bottom: 0;left: 50%;z-index: 0;}#sk-container-id-68 div.sk-serial {display: flex;flex-direction: column;align-items: center;background-color: white;padding-right: 0.2em;padding-left: 0.2em;position: relative;}#sk-container-id-68 div.sk-item {position: relative;z-index: 1;}#sk-container-id-68 div.sk-parallel {display: flex;align-items: stretch;justify-content: center;background-color: white;position: relative;}#sk-container-id-68 div.sk-item::before, #sk-container-id-68 div.sk-parallel-item::before {content: \"\";position: absolute;border-left: 1px solid gray;box-sizing: border-box;top: 0;bottom: 0;left: 50%;z-index: -1;}#sk-container-id-68 div.sk-parallel-item {display: flex;flex-direction: column;z-index: 1;position: relative;background-color: white;}#sk-container-id-68 div.sk-parallel-item:first-child::after {align-self: flex-end;width: 50%;}#sk-container-id-68 div.sk-parallel-item:last-child::after {align-self: flex-start;width: 50%;}#sk-container-id-68 div.sk-parallel-item:only-child::after {width: 0;}#sk-container-id-68 div.sk-dashed-wrapped {border: 1px dashed gray;margin: 0 0.4em 0.5em 0.4em;box-sizing: border-box;padding-bottom: 0.4em;background-color: white;}#sk-container-id-68 div.sk-label label {font-family: monospace;font-weight: bold;display: inline-block;line-height: 1.2em;}#sk-container-id-68 div.sk-label-container {text-align: center;}#sk-container-id-68 div.sk-container {/* jupyter's `normalize.less` sets `[hidden] { display: none; }` but bootstrap.min.css set `[hidden] { display: none !important; }` so we also need the `!important` here to be able to override the default hidden behavior on the sphinx rendered scikit-learn.org. See: https://github.com/scikit-learn/scikit-learn/issues/21755 */display: inline-block !important;position: relative;}#sk-container-id-68 div.sk-text-repr-fallback {display: none;}</style><div id=\"sk-container-id-68\" class=\"sk-top-container\"><div class=\"sk-text-repr-fallback\"><pre>LinearRegression()</pre><b>In a Jupyter environment, please rerun this cell to show the HTML representation or trust the notebook. <br />On GitHub, the HTML representation is unable to render, please try loading this page with nbviewer.org.</b></div><div class=\"sk-container\" hidden><div class=\"sk-item\"><div class=\"sk-estimator sk-toggleable\"><input class=\"sk-toggleable__control sk-hidden--visually\" id=\"sk-estimator-id-68\" type=\"checkbox\" checked><label for=\"sk-estimator-id-68\" class=\"sk-toggleable__label sk-toggleable__label-arrow\">LinearRegression</label><div class=\"sk-toggleable__content\"><pre>LinearRegression()</pre></div></div></div></div></div>"
     },
     "execution_count": 1177,
     "metadata": {},
     "output_type": "execute_result"
    }
   ],
   "source": [
    "model.fit(X_train_short, y_train)"
   ],
   "metadata": {
    "collapsed": false,
    "ExecuteTime": {
     "end_time": "2023-10-10T16:54:59.736584Z",
     "start_time": "2023-10-10T16:54:58.647385900Z"
    }
   },
   "id": "4f794ef7ac300cd5"
  },
  {
   "cell_type": "code",
   "execution_count": 1178,
   "outputs": [
    {
     "data": {
      "text/plain": "0.6113631358283969"
     },
     "execution_count": 1178,
     "metadata": {},
     "output_type": "execute_result"
    }
   ],
   "source": [
    "model.score(X_train_short, y_train)"
   ],
   "metadata": {
    "collapsed": false,
    "ExecuteTime": {
     "end_time": "2023-10-10T16:54:59.736584Z",
     "start_time": "2023-10-10T16:54:58.662559800Z"
    }
   },
   "id": "939643d4fd0687c1"
  },
  {
   "cell_type": "code",
   "execution_count": 1179,
   "outputs": [
    {
     "data": {
      "text/plain": "0.5944251631898841"
     },
     "execution_count": 1179,
     "metadata": {},
     "output_type": "execute_result"
    }
   ],
   "source": [
    "score_3 = model.score(X_test_short, y_test)\n",
    "score_3"
   ],
   "metadata": {
    "collapsed": false,
    "ExecuteTime": {
     "end_time": "2023-10-10T16:54:59.736584Z",
     "start_time": "2023-10-10T16:54:58.673540300Z"
    }
   },
   "id": "9bb40f38adbd8f15"
  },
  {
   "cell_type": "code",
   "execution_count": 1180,
   "outputs": [
    {
     "data": {
      "text/plain": "array([1.06402012, 2.43548496, 1.75128964, ..., 2.39499339, 2.30308409,\n       0.61622502])"
     },
     "execution_count": 1180,
     "metadata": {},
     "output_type": "execute_result"
    }
   ],
   "source": [
    "y_pred_short2= model.predict(X_test_short)\n",
    "y_pred_short2"
   ],
   "metadata": {
    "collapsed": false,
    "ExecuteTime": {
     "end_time": "2023-10-10T16:54:59.737585300Z",
     "start_time": "2023-10-10T16:54:58.686396700Z"
    }
   },
   "id": "c0f652123d5eb95a"
  },
  {
   "cell_type": "code",
   "execution_count": 1181,
   "outputs": [
    {
     "data": {
      "text/plain": "0.7405960415623023"
     },
     "execution_count": 1181,
     "metadata": {},
     "output_type": "execute_result"
    }
   ],
   "source": [
    "rmse_short2 = mean_squared_error(y_test, y_pred_short2, squared=False) #Mean squared error regression loss.\n",
    "rmse_short2"
   ],
   "metadata": {
    "collapsed": false,
    "ExecuteTime": {
     "end_time": "2023-10-10T16:54:59.737585300Z",
     "start_time": "2023-10-10T16:54:58.695146800Z"
    }
   },
   "id": "3994f63a0d6eea67"
  },
  {
   "cell_type": "markdown",
   "source": [
    "После удаления выбросов, модель на тестовой выборке улучшилась почти на 2%"
   ],
   "metadata": {
    "collapsed": false
   },
   "id": "b7c04433a2316efc"
  },
  {
   "cell_type": "code",
   "execution_count": 1182,
   "outputs": [],
   "source": [
    "change_df = Xshort.copy()"
   ],
   "metadata": {
    "collapsed": false,
    "ExecuteTime": {
     "end_time": "2023-10-10T16:54:59.737585300Z",
     "start_time": "2023-10-10T16:54:58.705263Z"
    }
   },
   "id": "68db543ad7d35529"
  },
  {
   "cell_type": "code",
   "execution_count": 1183,
   "outputs": [],
   "source": [
    "change_df['MedInc'] = np.sqrt(change_df['MedInc'])"
   ],
   "metadata": {
    "collapsed": false,
    "ExecuteTime": {
     "end_time": "2023-10-10T16:54:59.737585300Z",
     "start_time": "2023-10-10T16:54:58.711856800Z"
    }
   },
   "id": "d564d8c6d43b36e9"
  },
  {
   "cell_type": "code",
   "execution_count": 1184,
   "outputs": [],
   "source": [
    "change_df['Population'] = np.log(change_df['Population'])"
   ],
   "metadata": {
    "collapsed": false,
    "ExecuteTime": {
     "end_time": "2023-10-10T16:54:59.737585300Z",
     "start_time": "2023-10-10T16:54:58.718888700Z"
    }
   },
   "id": "b9bd6579372e9dec"
  },
  {
   "cell_type": "code",
   "execution_count": 1185,
   "outputs": [],
   "source": [
    "change_df['AveRooms'] = change_df['AveRooms']**2"
   ],
   "metadata": {
    "collapsed": false,
    "ExecuteTime": {
     "end_time": "2023-10-10T16:54:59.737585300Z",
     "start_time": "2023-10-10T16:54:58.728961800Z"
    }
   },
   "id": "9ab14055a124454e"
  },
  {
   "cell_type": "code",
   "execution_count": 1186,
   "outputs": [],
   "source": [
    "change_df['AveBedrms'] = change_df['AveBedrms']**2"
   ],
   "metadata": {
    "collapsed": false,
    "ExecuteTime": {
     "end_time": "2023-10-10T16:54:59.737585300Z",
     "start_time": "2023-10-10T16:54:58.737522700Z"
    }
   },
   "id": "478e55f4766b2ef1"
  },
  {
   "cell_type": "code",
   "execution_count": 1187,
   "outputs": [
    {
     "data": {
      "text/plain": "     MedInc  HouseAge   AveRooms  AveBedrms  Population  Latitude  Longitude\n0  2.885342      41.0  48.778030   1.048186    5.774552     37.88    -122.23\n1  2.881215      21.0  38.914354   0.944552    7.783641     37.86    -122.22\n2  2.693956      52.0  68.693192   1.152287    6.206576     37.85    -122.24\n3  2.375521      52.0  33.841580   1.151456    6.324359     37.85    -122.25\n4  1.961173      52.0  39.461681   1.168736    6.336826     37.85    -122.25",
      "text/html": "<div>\n<style scoped>\n    .dataframe tbody tr th:only-of-type {\n        vertical-align: middle;\n    }\n\n    .dataframe tbody tr th {\n        vertical-align: top;\n    }\n\n    .dataframe thead th {\n        text-align: right;\n    }\n</style>\n<table border=\"1\" class=\"dataframe\">\n  <thead>\n    <tr style=\"text-align: right;\">\n      <th></th>\n      <th>MedInc</th>\n      <th>HouseAge</th>\n      <th>AveRooms</th>\n      <th>AveBedrms</th>\n      <th>Population</th>\n      <th>Latitude</th>\n      <th>Longitude</th>\n    </tr>\n  </thead>\n  <tbody>\n    <tr>\n      <th>0</th>\n      <td>2.885342</td>\n      <td>41.0</td>\n      <td>48.778030</td>\n      <td>1.048186</td>\n      <td>5.774552</td>\n      <td>37.88</td>\n      <td>-122.23</td>\n    </tr>\n    <tr>\n      <th>1</th>\n      <td>2.881215</td>\n      <td>21.0</td>\n      <td>38.914354</td>\n      <td>0.944552</td>\n      <td>7.783641</td>\n      <td>37.86</td>\n      <td>-122.22</td>\n    </tr>\n    <tr>\n      <th>2</th>\n      <td>2.693956</td>\n      <td>52.0</td>\n      <td>68.693192</td>\n      <td>1.152287</td>\n      <td>6.206576</td>\n      <td>37.85</td>\n      <td>-122.24</td>\n    </tr>\n    <tr>\n      <th>3</th>\n      <td>2.375521</td>\n      <td>52.0</td>\n      <td>33.841580</td>\n      <td>1.151456</td>\n      <td>6.324359</td>\n      <td>37.85</td>\n      <td>-122.25</td>\n    </tr>\n    <tr>\n      <th>4</th>\n      <td>1.961173</td>\n      <td>52.0</td>\n      <td>39.461681</td>\n      <td>1.168736</td>\n      <td>6.336826</td>\n      <td>37.85</td>\n      <td>-122.25</td>\n    </tr>\n  </tbody>\n</table>\n</div>"
     },
     "execution_count": 1187,
     "metadata": {},
     "output_type": "execute_result"
    }
   ],
   "source": [
    "change_df.head()"
   ],
   "metadata": {
    "collapsed": false,
    "ExecuteTime": {
     "end_time": "2023-10-10T16:54:59.737585300Z",
     "start_time": "2023-10-10T16:54:58.745082Z"
    }
   },
   "id": "48fa4bf8f5aa3fb3"
  },
  {
   "cell_type": "code",
   "execution_count": 1188,
   "outputs": [],
   "source": [
    "X_train_change, X_test_change, y_train, y_test = train_test_split(change_df, y, test_size=0.2, random_state=42)"
   ],
   "metadata": {
    "collapsed": false,
    "ExecuteTime": {
     "end_time": "2023-10-10T16:54:59.737585300Z",
     "start_time": "2023-10-10T16:54:58.758176700Z"
    }
   },
   "id": "46cbfa1dfdf02eeb"
  },
  {
   "cell_type": "code",
   "execution_count": 1189,
   "outputs": [
    {
     "data": {
      "text/plain": "LinearRegression()",
      "text/html": "<style>#sk-container-id-69 {color: black;}#sk-container-id-69 pre{padding: 0;}#sk-container-id-69 div.sk-toggleable {background-color: white;}#sk-container-id-69 label.sk-toggleable__label {cursor: pointer;display: block;width: 100%;margin-bottom: 0;padding: 0.3em;box-sizing: border-box;text-align: center;}#sk-container-id-69 label.sk-toggleable__label-arrow:before {content: \"▸\";float: left;margin-right: 0.25em;color: #696969;}#sk-container-id-69 label.sk-toggleable__label-arrow:hover:before {color: black;}#sk-container-id-69 div.sk-estimator:hover label.sk-toggleable__label-arrow:before {color: black;}#sk-container-id-69 div.sk-toggleable__content {max-height: 0;max-width: 0;overflow: hidden;text-align: left;background-color: #f0f8ff;}#sk-container-id-69 div.sk-toggleable__content pre {margin: 0.2em;color: black;border-radius: 0.25em;background-color: #f0f8ff;}#sk-container-id-69 input.sk-toggleable__control:checked~div.sk-toggleable__content {max-height: 200px;max-width: 100%;overflow: auto;}#sk-container-id-69 input.sk-toggleable__control:checked~label.sk-toggleable__label-arrow:before {content: \"▾\";}#sk-container-id-69 div.sk-estimator input.sk-toggleable__control:checked~label.sk-toggleable__label {background-color: #d4ebff;}#sk-container-id-69 div.sk-label input.sk-toggleable__control:checked~label.sk-toggleable__label {background-color: #d4ebff;}#sk-container-id-69 input.sk-hidden--visually {border: 0;clip: rect(1px 1px 1px 1px);clip: rect(1px, 1px, 1px, 1px);height: 1px;margin: -1px;overflow: hidden;padding: 0;position: absolute;width: 1px;}#sk-container-id-69 div.sk-estimator {font-family: monospace;background-color: #f0f8ff;border: 1px dotted black;border-radius: 0.25em;box-sizing: border-box;margin-bottom: 0.5em;}#sk-container-id-69 div.sk-estimator:hover {background-color: #d4ebff;}#sk-container-id-69 div.sk-parallel-item::after {content: \"\";width: 100%;border-bottom: 1px solid gray;flex-grow: 1;}#sk-container-id-69 div.sk-label:hover label.sk-toggleable__label {background-color: #d4ebff;}#sk-container-id-69 div.sk-serial::before {content: \"\";position: absolute;border-left: 1px solid gray;box-sizing: border-box;top: 0;bottom: 0;left: 50%;z-index: 0;}#sk-container-id-69 div.sk-serial {display: flex;flex-direction: column;align-items: center;background-color: white;padding-right: 0.2em;padding-left: 0.2em;position: relative;}#sk-container-id-69 div.sk-item {position: relative;z-index: 1;}#sk-container-id-69 div.sk-parallel {display: flex;align-items: stretch;justify-content: center;background-color: white;position: relative;}#sk-container-id-69 div.sk-item::before, #sk-container-id-69 div.sk-parallel-item::before {content: \"\";position: absolute;border-left: 1px solid gray;box-sizing: border-box;top: 0;bottom: 0;left: 50%;z-index: -1;}#sk-container-id-69 div.sk-parallel-item {display: flex;flex-direction: column;z-index: 1;position: relative;background-color: white;}#sk-container-id-69 div.sk-parallel-item:first-child::after {align-self: flex-end;width: 50%;}#sk-container-id-69 div.sk-parallel-item:last-child::after {align-self: flex-start;width: 50%;}#sk-container-id-69 div.sk-parallel-item:only-child::after {width: 0;}#sk-container-id-69 div.sk-dashed-wrapped {border: 1px dashed gray;margin: 0 0.4em 0.5em 0.4em;box-sizing: border-box;padding-bottom: 0.4em;background-color: white;}#sk-container-id-69 div.sk-label label {font-family: monospace;font-weight: bold;display: inline-block;line-height: 1.2em;}#sk-container-id-69 div.sk-label-container {text-align: center;}#sk-container-id-69 div.sk-container {/* jupyter's `normalize.less` sets `[hidden] { display: none; }` but bootstrap.min.css set `[hidden] { display: none !important; }` so we also need the `!important` here to be able to override the default hidden behavior on the sphinx rendered scikit-learn.org. See: https://github.com/scikit-learn/scikit-learn/issues/21755 */display: inline-block !important;position: relative;}#sk-container-id-69 div.sk-text-repr-fallback {display: none;}</style><div id=\"sk-container-id-69\" class=\"sk-top-container\"><div class=\"sk-text-repr-fallback\"><pre>LinearRegression()</pre><b>In a Jupyter environment, please rerun this cell to show the HTML representation or trust the notebook. <br />On GitHub, the HTML representation is unable to render, please try loading this page with nbviewer.org.</b></div><div class=\"sk-container\" hidden><div class=\"sk-item\"><div class=\"sk-estimator sk-toggleable\"><input class=\"sk-toggleable__control sk-hidden--visually\" id=\"sk-estimator-id-69\" type=\"checkbox\" checked><label for=\"sk-estimator-id-69\" class=\"sk-toggleable__label sk-toggleable__label-arrow\">LinearRegression</label><div class=\"sk-toggleable__content\"><pre>LinearRegression()</pre></div></div></div></div></div>"
     },
     "execution_count": 1189,
     "metadata": {},
     "output_type": "execute_result"
    }
   ],
   "source": [
    "model.fit(X_train_change, y_train)"
   ],
   "metadata": {
    "collapsed": false,
    "ExecuteTime": {
     "end_time": "2023-10-10T16:54:59.738584800Z",
     "start_time": "2023-10-10T16:54:58.770614Z"
    }
   },
   "id": "cdb340449bd699a1"
  },
  {
   "cell_type": "code",
   "execution_count": 1190,
   "outputs": [
    {
     "data": {
      "text/plain": "0.5930215979730056"
     },
     "execution_count": 1190,
     "metadata": {},
     "output_type": "execute_result"
    }
   ],
   "source": [
    "model.score(X_train_change, y_train)"
   ],
   "metadata": {
    "collapsed": false,
    "ExecuteTime": {
     "end_time": "2023-10-10T16:54:59.738584800Z",
     "start_time": "2023-10-10T16:54:58.786576300Z"
    }
   },
   "id": "e8cc4285f283f4e7"
  },
  {
   "cell_type": "code",
   "execution_count": 1191,
   "outputs": [
    {
     "data": {
      "text/plain": "0.5672382751991694"
     },
     "execution_count": 1191,
     "metadata": {},
     "output_type": "execute_result"
    }
   ],
   "source": [
    "score_4 = model.score(X_test_change, y_test)\n",
    "score_4"
   ],
   "metadata": {
    "collapsed": false,
    "ExecuteTime": {
     "end_time": "2023-10-10T16:54:59.738584800Z",
     "start_time": "2023-10-10T16:54:58.796677800Z"
    }
   },
   "id": "2fdc91876ef63bda"
  },
  {
   "cell_type": "code",
   "execution_count": 1192,
   "outputs": [
    {
     "data": {
      "text/plain": "array([1.06947377, 2.60466386, 1.9580358 , ..., 2.59696537, 2.55890086,\n       0.55889284])"
     },
     "execution_count": 1192,
     "metadata": {},
     "output_type": "execute_result"
    }
   ],
   "source": [
    "y_pred_change= model.predict(X_test_change)\n",
    "y_pred_change"
   ],
   "metadata": {
    "collapsed": false,
    "ExecuteTime": {
     "end_time": "2023-10-10T16:54:59.738584800Z",
     "start_time": "2023-10-10T16:54:58.810334200Z"
    }
   },
   "id": "563f3bf1585e271c"
  },
  {
   "cell_type": "code",
   "execution_count": 1193,
   "outputs": [
    {
     "data": {
      "text/plain": "0.7650156275525194"
     },
     "execution_count": 1193,
     "metadata": {},
     "output_type": "execute_result"
    }
   ],
   "source": [
    "rmse_change= mean_squared_error(y_test, y_pred_change, squared=False) #Mean squared error regression loss.\n",
    "rmse_change"
   ],
   "metadata": {
    "collapsed": false,
    "ExecuteTime": {
     "end_time": "2023-10-10T16:54:59.738584800Z",
     "start_time": "2023-10-10T16:54:58.820214800Z"
    }
   },
   "id": "3fa7822237da7f8d"
  },
  {
   "cell_type": "markdown",
   "source": [
    "После преобразований, качество модели стало только хуже. "
   ],
   "metadata": {
    "collapsed": false
   },
   "id": "dbea5ea05b6fa04"
  },
  {
   "cell_type": "code",
   "execution_count": 1194,
   "outputs": [],
   "source": [
    "result = pd.DataFrame()"
   ],
   "metadata": {
    "collapsed": false,
    "ExecuteTime": {
     "end_time": "2023-10-10T16:54:59.738584800Z",
     "start_time": "2023-10-10T16:54:58.827559900Z"
    }
   },
   "id": "dfd507fa23965fbb"
  },
  {
   "cell_type": "code",
   "execution_count": 1195,
   "outputs": [],
   "source": [
    "result['Model'] = ['Model_1', 'Model_2', 'Model_3', 'Model_4']"
   ],
   "metadata": {
    "collapsed": false,
    "ExecuteTime": {
     "end_time": "2023-10-10T16:54:59.738584800Z",
     "start_time": "2023-10-10T16:54:58.842084600Z"
    }
   },
   "id": "189beb3aaffea61d"
  },
  {
   "cell_type": "code",
   "execution_count": 1196,
   "outputs": [],
   "source": [
    "result['RMSE'] = [rmse, rmse_short1, rmse_short2, rmse_change]"
   ],
   "metadata": {
    "collapsed": false,
    "ExecuteTime": {
     "end_time": "2023-10-10T16:54:59.738584800Z",
     "start_time": "2023-10-10T16:54:58.851126200Z"
    }
   },
   "id": "cd19d75b67c6d6b7"
  },
  {
   "cell_type": "code",
   "execution_count": 1197,
   "outputs": [],
   "source": [
    "result['R_score'] = [score_1, score_2, score_3, score_4]"
   ],
   "metadata": {
    "collapsed": false,
    "ExecuteTime": {
     "end_time": "2023-10-10T16:54:59.745574500Z",
     "start_time": "2023-10-10T16:54:58.857595Z"
    }
   },
   "id": "efc8841783054566"
  },
  {
   "cell_type": "code",
   "execution_count": 1198,
   "outputs": [],
   "source": [
    "result['Description'] = ['Чистые данные без обработки', 'Данные после удаления одного столбца', 'Удаление выбросов', 'Преобразование данных']"
   ],
   "metadata": {
    "collapsed": false,
    "ExecuteTime": {
     "end_time": "2023-10-10T16:54:59.746578300Z",
     "start_time": "2023-10-10T16:54:58.863723Z"
    }
   },
   "id": "bf331075b61b6438"
  },
  {
   "cell_type": "code",
   "execution_count": 1199,
   "outputs": [
    {
     "data": {
      "text/plain": "     Model      RMSE   R_score                           Description\n0  Model_1  0.745581  0.575788           Чистые данные без обработки\n1  Model_2  0.746192  0.575092  Данные после удаления одного столбца\n2  Model_3  0.740596  0.594425                     Удаление выбросов\n3  Model_4  0.765016  0.567238                 Преобразование данных",
      "text/html": "<div>\n<style scoped>\n    .dataframe tbody tr th:only-of-type {\n        vertical-align: middle;\n    }\n\n    .dataframe tbody tr th {\n        vertical-align: top;\n    }\n\n    .dataframe thead th {\n        text-align: right;\n    }\n</style>\n<table border=\"1\" class=\"dataframe\">\n  <thead>\n    <tr style=\"text-align: right;\">\n      <th></th>\n      <th>Model</th>\n      <th>RMSE</th>\n      <th>R_score</th>\n      <th>Description</th>\n    </tr>\n  </thead>\n  <tbody>\n    <tr>\n      <th>0</th>\n      <td>Model_1</td>\n      <td>0.745581</td>\n      <td>0.575788</td>\n      <td>Чистые данные без обработки</td>\n    </tr>\n    <tr>\n      <th>1</th>\n      <td>Model_2</td>\n      <td>0.746192</td>\n      <td>0.575092</td>\n      <td>Данные после удаления одного столбца</td>\n    </tr>\n    <tr>\n      <th>2</th>\n      <td>Model_3</td>\n      <td>0.740596</td>\n      <td>0.594425</td>\n      <td>Удаление выбросов</td>\n    </tr>\n    <tr>\n      <th>3</th>\n      <td>Model_4</td>\n      <td>0.765016</td>\n      <td>0.567238</td>\n      <td>Преобразование данных</td>\n    </tr>\n  </tbody>\n</table>\n</div>"
     },
     "execution_count": 1199,
     "metadata": {},
     "output_type": "execute_result"
    }
   ],
   "source": [
    "result"
   ],
   "metadata": {
    "collapsed": false,
    "ExecuteTime": {
     "end_time": "2023-10-10T16:55:00.551869700Z",
     "start_time": "2023-10-10T16:54:58.870691300Z"
    }
   },
   "id": "a057d5a8f1b5b890"
  },
  {
   "cell_type": "markdown",
   "source": [
    "Обучение модели происходило на 4 различных выборках, признаки модели менялись, удаление выбросов дало лучший вариант из использованных, намеренное искажение данных, дало результат хуже, чем при сырых данных Вывод: качество данных влияет на модель линейной регрессии не сильно, т.к. разница показателей модели составила менее 3%, но на больших данных, разница может быть существенна. "
   ],
   "metadata": {
    "collapsed": false
   },
   "id": "40aa2017b7d519ea"
  }
 ],
 "metadata": {
  "kernelspec": {
   "display_name": "Python 3",
   "language": "python",
   "name": "python3"
  },
  "language_info": {
   "codemirror_mode": {
    "name": "ipython",
    "version": 2
   },
   "file_extension": ".py",
   "mimetype": "text/x-python",
   "name": "python",
   "nbconvert_exporter": "python",
   "pygments_lexer": "ipython2",
   "version": "2.7.6"
  }
 },
 "nbformat": 4,
 "nbformat_minor": 5
}
