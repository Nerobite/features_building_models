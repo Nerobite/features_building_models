{
 "cells": [
  {
   "cell_type": "markdown",
   "source": [
    "Цель: изучить применение методов оптимизации для решения задачи классификации\n",
    "Описание задания:\n",
    "В домашнем задании необходимо применить полученные знания в теории оптимизации и машинном обучении для реализации логистической регрессии.\n",
    "Этапы работы:**\n",
    "\n",
    "Загрузите данные. Используйте датасет с ирисами. Его можно загрузить непосредственно из библиотеки Sklearn. В данных оставьте только 2 класса: Iris Versicolor, Iris Virginica.\n",
    "Самостоятельно реализуйте логистическую регрессию, без использования метода LogisticRegression из библиотеки. Можете использовать библиотеки pandas, numpy, math для реализации. Оформите в виде функции. *Оформите в виде класса с методами.\n",
    "Реализуйте метод градиентного спуска. Обучите логистическую регрессию этим методом. Выберете и посчитайте метрику качества. Метрика должна быть одинакова для всех пунктов домашнего задания. Для упрощения сравнения выберете только одну метрику.\n",
    "\n",
    "Результат: получены навыки реализации методов оптимизации в задаче бинарной классификации. Пройденные методы оптимизации используются и в нейросетях."
   ],
   "metadata": {
    "collapsed": false
   },
   "id": "cc1ac45de8095d57"
  },
  {
   "cell_type": "code",
   "execution_count": 1,
   "outputs": [
    {
     "data": {
      "text/plain": "'https://developer.ibm.com/articles/implementing-logistic-regression-from-scratch-in-python/'"
     },
     "execution_count": 1,
     "metadata": {},
     "output_type": "execute_result"
    }
   ],
   "source": [
    "\"\"\"https://developer.ibm.com/articles/implementing-logistic-regression-from-scratch-in-python/\"\"\""
   ],
   "metadata": {
    "collapsed": false,
    "ExecuteTime": {
     "end_time": "2023-10-02T12:37:53.242561700Z",
     "start_time": "2023-10-02T12:37:53.225199200Z"
    }
   },
   "id": "7799097337e04fbe"
  },
  {
   "cell_type": "code",
   "execution_count": 2,
   "outputs": [],
   "source": [
    "from sklearn.datasets import load_iris\n",
    "import pandas as pd\n",
    "import numpy as np\n",
    "import matplotlib.pyplot as plt\n",
    "import matplotlib as mpl\n",
    "mpl.rcParams['figure.dpi'] = 80"
   ],
   "metadata": {
    "collapsed": false,
    "ExecuteTime": {
     "end_time": "2023-10-02T12:38:02.472593400Z",
     "start_time": "2023-10-02T12:37:53.240560Z"
    }
   },
   "id": "d2338c3d188a2db2"
  },
  {
   "cell_type": "code",
   "execution_count": 3,
   "outputs": [],
   "source": [
    "iris = load_iris(as_frame=True)"
   ],
   "metadata": {
    "collapsed": false,
    "ExecuteTime": {
     "end_time": "2023-10-02T12:38:02.500542500Z",
     "start_time": "2023-10-02T12:38:02.472593400Z"
    }
   },
   "id": "c2a222588309e853"
  },
  {
   "cell_type": "code",
   "execution_count": 4,
   "outputs": [
    {
     "name": "stdout",
     "output_type": "stream",
     "text": [
      ".. _iris_dataset:\n",
      "\n",
      "Iris plants dataset\n",
      "--------------------\n",
      "\n",
      "**Data Set Characteristics:**\n",
      "\n",
      "    :Number of Instances: 150 (50 in each of three classes)\n",
      "    :Number of Attributes: 4 numeric, predictive attributes and the class\n",
      "    :Attribute Information:\n",
      "        - sepal length in cm\n",
      "        - sepal width in cm\n",
      "        - petal length in cm\n",
      "        - petal width in cm\n",
      "        - class:\n",
      "                - Iris-Setosa\n",
      "                - Iris-Versicolour\n",
      "                - Iris-Virginica\n",
      "                \n",
      "    :Summary Statistics:\n",
      "\n",
      "    ============== ==== ==== ======= ===== ====================\n",
      "                    Min  Max   Mean    SD   Class Correlation\n",
      "    ============== ==== ==== ======= ===== ====================\n",
      "    sepal length:   4.3  7.9   5.84   0.83    0.7826\n",
      "    sepal width:    2.0  4.4   3.05   0.43   -0.4194\n",
      "    petal length:   1.0  6.9   3.76   1.76    0.9490  (high!)\n",
      "    petal width:    0.1  2.5   1.20   0.76    0.9565  (high!)\n",
      "    ============== ==== ==== ======= ===== ====================\n",
      "\n",
      "    :Missing Attribute Values: None\n",
      "    :Class Distribution: 33.3% for each of 3 classes.\n",
      "    :Creator: R.A. Fisher\n",
      "    :Donor: Michael Marshall (MARSHALL%PLU@io.arc.nasa.gov)\n",
      "    :Date: July, 1988\n",
      "\n",
      "The famous Iris database, first used by Sir R.A. Fisher. The dataset is taken\n",
      "from Fisher's paper. Note that it's the same as in R, but not as in the UCI\n",
      "Machine Learning Repository, which has two wrong data points.\n",
      "\n",
      "This is perhaps the best known database to be found in the\n",
      "pattern recognition literature.  Fisher's paper is a classic in the field and\n",
      "is referenced frequently to this day.  (See Duda & Hart, for example.)  The\n",
      "data set contains 3 classes of 50 instances each, where each class refers to a\n",
      "type of iris plant.  One class is linearly separable from the other 2; the\n",
      "latter are NOT linearly separable from each other.\n",
      "\n",
      "|details-start|\n",
      "**References**\n",
      "|details-split|\n",
      "\n",
      "- Fisher, R.A. \"The use of multiple measurements in taxonomic problems\"\n",
      "  Annual Eugenics, 7, Part II, 179-188 (1936); also in \"Contributions to\n",
      "  Mathematical Statistics\" (John Wiley, NY, 1950).\n",
      "- Duda, R.O., & Hart, P.E. (1973) Pattern Classification and Scene Analysis.\n",
      "  (Q327.D83) John Wiley & Sons.  ISBN 0-471-22361-1.  See page 218.\n",
      "- Dasarathy, B.V. (1980) \"Nosing Around the Neighborhood: A New System\n",
      "  Structure and Classification Rule for Recognition in Partially Exposed\n",
      "  Environments\".  IEEE Transactions on Pattern Analysis and Machine\n",
      "  Intelligence, Vol. PAMI-2, No. 1, 67-71.\n",
      "- Gates, G.W. (1972) \"The Reduced Nearest Neighbor Rule\".  IEEE Transactions\n",
      "  on Information Theory, May 1972, 431-433.\n",
      "- See also: 1988 MLC Proceedings, 54-64.  Cheeseman et al\"s AUTOCLASS II\n",
      "  conceptual clustering system finds 3 classes in the data.\n",
      "- Many, many more ...\n",
      "\n",
      "|details-end|\n"
     ]
    }
   ],
   "source": [
    "print(iris.DESCR)"
   ],
   "metadata": {
    "collapsed": false,
    "ExecuteTime": {
     "end_time": "2023-10-02T12:38:02.534824200Z",
     "start_time": "2023-10-02T12:38:02.504544600Z"
    }
   },
   "id": "565f1f946ff2eac6"
  },
  {
   "cell_type": "code",
   "execution_count": 5,
   "outputs": [
    {
     "data": {
      "text/plain": "{'data':      sepal length (cm)  sepal width (cm)  petal length (cm)  petal width (cm)\n 0                  5.1               3.5                1.4               0.2\n 1                  4.9               3.0                1.4               0.2\n 2                  4.7               3.2                1.3               0.2\n 3                  4.6               3.1                1.5               0.2\n 4                  5.0               3.6                1.4               0.2\n ..                 ...               ...                ...               ...\n 145                6.7               3.0                5.2               2.3\n 146                6.3               2.5                5.0               1.9\n 147                6.5               3.0                5.2               2.0\n 148                6.2               3.4                5.4               2.3\n 149                5.9               3.0                5.1               1.8\n \n [150 rows x 4 columns],\n 'target': 0      0\n 1      0\n 2      0\n 3      0\n 4      0\n       ..\n 145    2\n 146    2\n 147    2\n 148    2\n 149    2\n Name: target, Length: 150, dtype: int32,\n 'frame':      sepal length (cm)  sepal width (cm)  petal length (cm)  petal width (cm)  \\\n 0                  5.1               3.5                1.4               0.2   \n 1                  4.9               3.0                1.4               0.2   \n 2                  4.7               3.2                1.3               0.2   \n 3                  4.6               3.1                1.5               0.2   \n 4                  5.0               3.6                1.4               0.2   \n ..                 ...               ...                ...               ...   \n 145                6.7               3.0                5.2               2.3   \n 146                6.3               2.5                5.0               1.9   \n 147                6.5               3.0                5.2               2.0   \n 148                6.2               3.4                5.4               2.3   \n 149                5.9               3.0                5.1               1.8   \n \n      target  \n 0         0  \n 1         0  \n 2         0  \n 3         0  \n 4         0  \n ..      ...  \n 145       2  \n 146       2  \n 147       2  \n 148       2  \n 149       2  \n \n [150 rows x 5 columns],\n 'target_names': array(['setosa', 'versicolor', 'virginica'], dtype='<U10'),\n 'DESCR': '.. _iris_dataset:\\n\\nIris plants dataset\\n--------------------\\n\\n**Data Set Characteristics:**\\n\\n    :Number of Instances: 150 (50 in each of three classes)\\n    :Number of Attributes: 4 numeric, predictive attributes and the class\\n    :Attribute Information:\\n        - sepal length in cm\\n        - sepal width in cm\\n        - petal length in cm\\n        - petal width in cm\\n        - class:\\n                - Iris-Setosa\\n                - Iris-Versicolour\\n                - Iris-Virginica\\n                \\n    :Summary Statistics:\\n\\n    ============== ==== ==== ======= ===== ====================\\n                    Min  Max   Mean    SD   Class Correlation\\n    ============== ==== ==== ======= ===== ====================\\n    sepal length:   4.3  7.9   5.84   0.83    0.7826\\n    sepal width:    2.0  4.4   3.05   0.43   -0.4194\\n    petal length:   1.0  6.9   3.76   1.76    0.9490  (high!)\\n    petal width:    0.1  2.5   1.20   0.76    0.9565  (high!)\\n    ============== ==== ==== ======= ===== ====================\\n\\n    :Missing Attribute Values: None\\n    :Class Distribution: 33.3% for each of 3 classes.\\n    :Creator: R.A. Fisher\\n    :Donor: Michael Marshall (MARSHALL%PLU@io.arc.nasa.gov)\\n    :Date: July, 1988\\n\\nThe famous Iris database, first used by Sir R.A. Fisher. The dataset is taken\\nfrom Fisher\\'s paper. Note that it\\'s the same as in R, but not as in the UCI\\nMachine Learning Repository, which has two wrong data points.\\n\\nThis is perhaps the best known database to be found in the\\npattern recognition literature.  Fisher\\'s paper is a classic in the field and\\nis referenced frequently to this day.  (See Duda & Hart, for example.)  The\\ndata set contains 3 classes of 50 instances each, where each class refers to a\\ntype of iris plant.  One class is linearly separable from the other 2; the\\nlatter are NOT linearly separable from each other.\\n\\n|details-start|\\n**References**\\n|details-split|\\n\\n- Fisher, R.A. \"The use of multiple measurements in taxonomic problems\"\\n  Annual Eugenics, 7, Part II, 179-188 (1936); also in \"Contributions to\\n  Mathematical Statistics\" (John Wiley, NY, 1950).\\n- Duda, R.O., & Hart, P.E. (1973) Pattern Classification and Scene Analysis.\\n  (Q327.D83) John Wiley & Sons.  ISBN 0-471-22361-1.  See page 218.\\n- Dasarathy, B.V. (1980) \"Nosing Around the Neighborhood: A New System\\n  Structure and Classification Rule for Recognition in Partially Exposed\\n  Environments\".  IEEE Transactions on Pattern Analysis and Machine\\n  Intelligence, Vol. PAMI-2, No. 1, 67-71.\\n- Gates, G.W. (1972) \"The Reduced Nearest Neighbor Rule\".  IEEE Transactions\\n  on Information Theory, May 1972, 431-433.\\n- See also: 1988 MLC Proceedings, 54-64.  Cheeseman et al\"s AUTOCLASS II\\n  conceptual clustering system finds 3 classes in the data.\\n- Many, many more ...\\n\\n|details-end|',\n 'feature_names': ['sepal length (cm)',\n  'sepal width (cm)',\n  'petal length (cm)',\n  'petal width (cm)'],\n 'filename': 'iris.csv',\n 'data_module': 'sklearn.datasets.data'}"
     },
     "execution_count": 5,
     "metadata": {},
     "output_type": "execute_result"
    }
   ],
   "source": [
    "iris"
   ],
   "metadata": {
    "collapsed": false,
    "ExecuteTime": {
     "end_time": "2023-10-02T12:38:02.555999Z",
     "start_time": "2023-10-02T12:38:02.517821400Z"
    }
   },
   "id": "cb86235b6b4a92c2"
  },
  {
   "cell_type": "code",
   "execution_count": 6,
   "outputs": [
    {
     "data": {
      "text/plain": "['setosa', 'versicolor', 'virginica']"
     },
     "execution_count": 6,
     "metadata": {},
     "output_type": "execute_result"
    }
   ],
   "source": [
    "# загружаем данные в датафрейм\n",
    "data = pd.DataFrame(iris.frame)\n",
    "list(iris.target_names)"
   ],
   "metadata": {
    "collapsed": false,
    "ExecuteTime": {
     "end_time": "2023-10-02T12:38:02.559998900Z",
     "start_time": "2023-10-02T12:38:02.542267400Z"
    }
   },
   "id": "50799e6c4b3c3a04"
  },
  {
   "cell_type": "code",
   "execution_count": 7,
   "outputs": [
    {
     "data": {
      "text/plain": "     sepal length (cm)  sepal width (cm)  petal length (cm)  petal width (cm)  \\\n0                  5.1               3.5                1.4               0.2   \n1                  4.9               3.0                1.4               0.2   \n2                  4.7               3.2                1.3               0.2   \n3                  4.6               3.1                1.5               0.2   \n4                  5.0               3.6                1.4               0.2   \n..                 ...               ...                ...               ...   \n145                6.7               3.0                5.2               2.3   \n146                6.3               2.5                5.0               1.9   \n147                6.5               3.0                5.2               2.0   \n148                6.2               3.4                5.4               2.3   \n149                5.9               3.0                5.1               1.8   \n\n     target  \n0         0  \n1         0  \n2         0  \n3         0  \n4         0  \n..      ...  \n145       2  \n146       2  \n147       2  \n148       2  \n149       2  \n\n[150 rows x 5 columns]",
      "text/html": "<div>\n<style scoped>\n    .dataframe tbody tr th:only-of-type {\n        vertical-align: middle;\n    }\n\n    .dataframe tbody tr th {\n        vertical-align: top;\n    }\n\n    .dataframe thead th {\n        text-align: right;\n    }\n</style>\n<table border=\"1\" class=\"dataframe\">\n  <thead>\n    <tr style=\"text-align: right;\">\n      <th></th>\n      <th>sepal length (cm)</th>\n      <th>sepal width (cm)</th>\n      <th>petal length (cm)</th>\n      <th>petal width (cm)</th>\n      <th>target</th>\n    </tr>\n  </thead>\n  <tbody>\n    <tr>\n      <th>0</th>\n      <td>5.1</td>\n      <td>3.5</td>\n      <td>1.4</td>\n      <td>0.2</td>\n      <td>0</td>\n    </tr>\n    <tr>\n      <th>1</th>\n      <td>4.9</td>\n      <td>3.0</td>\n      <td>1.4</td>\n      <td>0.2</td>\n      <td>0</td>\n    </tr>\n    <tr>\n      <th>2</th>\n      <td>4.7</td>\n      <td>3.2</td>\n      <td>1.3</td>\n      <td>0.2</td>\n      <td>0</td>\n    </tr>\n    <tr>\n      <th>3</th>\n      <td>4.6</td>\n      <td>3.1</td>\n      <td>1.5</td>\n      <td>0.2</td>\n      <td>0</td>\n    </tr>\n    <tr>\n      <th>4</th>\n      <td>5.0</td>\n      <td>3.6</td>\n      <td>1.4</td>\n      <td>0.2</td>\n      <td>0</td>\n    </tr>\n    <tr>\n      <th>...</th>\n      <td>...</td>\n      <td>...</td>\n      <td>...</td>\n      <td>...</td>\n      <td>...</td>\n    </tr>\n    <tr>\n      <th>145</th>\n      <td>6.7</td>\n      <td>3.0</td>\n      <td>5.2</td>\n      <td>2.3</td>\n      <td>2</td>\n    </tr>\n    <tr>\n      <th>146</th>\n      <td>6.3</td>\n      <td>2.5</td>\n      <td>5.0</td>\n      <td>1.9</td>\n      <td>2</td>\n    </tr>\n    <tr>\n      <th>147</th>\n      <td>6.5</td>\n      <td>3.0</td>\n      <td>5.2</td>\n      <td>2.0</td>\n      <td>2</td>\n    </tr>\n    <tr>\n      <th>148</th>\n      <td>6.2</td>\n      <td>3.4</td>\n      <td>5.4</td>\n      <td>2.3</td>\n      <td>2</td>\n    </tr>\n    <tr>\n      <th>149</th>\n      <td>5.9</td>\n      <td>3.0</td>\n      <td>5.1</td>\n      <td>1.8</td>\n      <td>2</td>\n    </tr>\n  </tbody>\n</table>\n<p>150 rows × 5 columns</p>\n</div>"
     },
     "execution_count": 7,
     "metadata": {},
     "output_type": "execute_result"
    }
   ],
   "source": [
    "data"
   ],
   "metadata": {
    "collapsed": false,
    "ExecuteTime": {
     "end_time": "2023-10-02T12:38:02.692225900Z",
     "start_time": "2023-10-02T12:38:02.556997700Z"
    }
   },
   "id": "de2c1da8837ad684"
  },
  {
   "cell_type": "markdown",
   "source": [
    "Т.к. нам необходимы только Iris Versicolor, Iris Virginica, удаляем Iris Setosa, так же оставим только два критерия 'petal length (cm)','petal width (cm)' "
   ],
   "metadata": {
    "collapsed": false
   },
   "id": "c05c2287e3f55222"
  },
  {
   "cell_type": "code",
   "execution_count": 8,
   "outputs": [],
   "source": [
    "iris_df = data.loc[data['target']!=0]\n",
    "y = iris_df['target']\n",
    "iris_df = iris_df.drop(columns=['sepal length (cm)', 'sepal width (cm)', 'target'])\n",
    "# iris_df = iris_df.drop(columns=['petal length (cm)', 'petal width (cm)', 'target'])"
   ],
   "metadata": {
    "collapsed": false,
    "ExecuteTime": {
     "end_time": "2023-10-02T12:38:02.693227600Z",
     "start_time": "2023-10-02T12:38:02.589162700Z"
    }
   },
   "id": "f5c9ceb24137fbdd"
  },
  {
   "cell_type": "code",
   "execution_count": 9,
   "outputs": [
    {
     "name": "stdout",
     "output_type": "stream",
     "text": [
      "<class 'pandas.core.frame.DataFrame'>\n",
      "Index: 100 entries, 50 to 149\n",
      "Data columns (total 2 columns):\n",
      " #   Column             Non-Null Count  Dtype  \n",
      "---  ------             --------------  -----  \n",
      " 0   petal length (cm)  100 non-null    float64\n",
      " 1   petal width (cm)   100 non-null    float64\n",
      "dtypes: float64(2)\n",
      "memory usage: 2.3 KB\n"
     ]
    }
   ],
   "source": [
    "iris_df.info()"
   ],
   "metadata": {
    "collapsed": false,
    "ExecuteTime": {
     "end_time": "2023-10-02T12:38:02.715231900Z",
     "start_time": "2023-10-02T12:38:02.602666200Z"
    }
   },
   "id": "2ca395cbb865b4f6"
  },
  {
   "cell_type": "code",
   "execution_count": 10,
   "outputs": [],
   "source": [
    "X = iris_df.to_numpy(copy=True)\n",
    "y = y.to_numpy(copy=True)"
   ],
   "metadata": {
    "collapsed": false,
    "ExecuteTime": {
     "end_time": "2023-10-02T12:38:02.716231500Z",
     "start_time": "2023-10-02T12:38:02.624909700Z"
    }
   },
   "id": "122acc35c43b1705"
  },
  {
   "cell_type": "code",
   "execution_count": 11,
   "outputs": [
    {
     "data": {
      "text/plain": "array([[4.7, 1.4],\n       [4.5, 1.5],\n       [4.9, 1.5],\n       [4. , 1.3],\n       [4.6, 1.5],\n       [4.5, 1.3],\n       [4.7, 1.6],\n       [3.3, 1. ],\n       [4.6, 1.3],\n       [3.9, 1.4],\n       [3.5, 1. ],\n       [4.2, 1.5],\n       [4. , 1. ],\n       [4.7, 1.4],\n       [3.6, 1.3],\n       [4.4, 1.4],\n       [4.5, 1.5],\n       [4.1, 1. ],\n       [4.5, 1.5],\n       [3.9, 1.1],\n       [4.8, 1.8],\n       [4. , 1.3],\n       [4.9, 1.5],\n       [4.7, 1.2],\n       [4.3, 1.3],\n       [4.4, 1.4],\n       [4.8, 1.4],\n       [5. , 1.7],\n       [4.5, 1.5],\n       [3.5, 1. ],\n       [3.8, 1.1],\n       [3.7, 1. ],\n       [3.9, 1.2],\n       [5.1, 1.6],\n       [4.5, 1.5],\n       [4.5, 1.6],\n       [4.7, 1.5],\n       [4.4, 1.3],\n       [4.1, 1.3],\n       [4. , 1.3],\n       [4.4, 1.2],\n       [4.6, 1.4],\n       [4. , 1.2],\n       [3.3, 1. ],\n       [4.2, 1.3],\n       [4.2, 1.2],\n       [4.2, 1.3],\n       [4.3, 1.3],\n       [3. , 1.1],\n       [4.1, 1.3],\n       [6. , 2.5],\n       [5.1, 1.9],\n       [5.9, 2.1],\n       [5.6, 1.8],\n       [5.8, 2.2],\n       [6.6, 2.1],\n       [4.5, 1.7],\n       [6.3, 1.8],\n       [5.8, 1.8],\n       [6.1, 2.5],\n       [5.1, 2. ],\n       [5.3, 1.9],\n       [5.5, 2.1],\n       [5. , 2. ],\n       [5.1, 2.4],\n       [5.3, 2.3],\n       [5.5, 1.8],\n       [6.7, 2.2],\n       [6.9, 2.3],\n       [5. , 1.5],\n       [5.7, 2.3],\n       [4.9, 2. ],\n       [6.7, 2. ],\n       [4.9, 1.8],\n       [5.7, 2.1],\n       [6. , 1.8],\n       [4.8, 1.8],\n       [4.9, 1.8],\n       [5.6, 2.1],\n       [5.8, 1.6],\n       [6.1, 1.9],\n       [6.4, 2. ],\n       [5.6, 2.2],\n       [5.1, 1.5],\n       [5.6, 1.4],\n       [6.1, 2.3],\n       [5.6, 2.4],\n       [5.5, 1.8],\n       [4.8, 1.8],\n       [5.4, 2.1],\n       [5.6, 2.4],\n       [5.1, 2.3],\n       [5.1, 1.9],\n       [5.9, 2.3],\n       [5.7, 2.5],\n       [5.2, 2.3],\n       [5. , 1.9],\n       [5.2, 2. ],\n       [5.4, 2.3],\n       [5.1, 1.8]])"
     },
     "metadata": {},
     "output_type": "display_data"
    },
    {
     "data": {
      "text/plain": "array([1, 1, 1, 1, 1, 1, 1, 1, 1, 1, 1, 1, 1, 1, 1, 1, 1, 1, 1, 1, 1, 1,\n       1, 1, 1, 1, 1, 1, 1, 1, 1, 1, 1, 1, 1, 1, 1, 1, 1, 1, 1, 1, 1, 1,\n       1, 1, 1, 1, 1, 1, 2, 2, 2, 2, 2, 2, 2, 2, 2, 2, 2, 2, 2, 2, 2, 2,\n       2, 2, 2, 2, 2, 2, 2, 2, 2, 2, 2, 2, 2, 2, 2, 2, 2, 2, 2, 2, 2, 2,\n       2, 2, 2, 2, 2, 2, 2, 2, 2, 2, 2, 2])"
     },
     "metadata": {},
     "output_type": "display_data"
    }
   ],
   "source": [
    "display(X, y)"
   ],
   "metadata": {
    "collapsed": false,
    "ExecuteTime": {
     "end_time": "2023-10-02T12:38:02.718232300Z",
     "start_time": "2023-10-02T12:38:02.635830800Z"
    }
   },
   "id": "2d49063d62103088"
  },
  {
   "cell_type": "code",
   "execution_count": 12,
   "outputs": [
    {
     "data": {
      "text/plain": "array([0, 0, 0, 0, 0, 0, 0, 0, 0, 0, 0, 0, 0, 0, 0, 0, 0, 0, 0, 0, 0, 0,\n       0, 0, 0, 0, 0, 0, 0, 0, 0, 0, 0, 0, 0, 0, 0, 0, 0, 0, 0, 0, 0, 0,\n       0, 0, 0, 0, 0, 0, 1, 1, 1, 1, 1, 1, 1, 1, 1, 1, 1, 1, 1, 1, 1, 1,\n       1, 1, 1, 1, 1, 1, 1, 1, 1, 1, 1, 1, 1, 1, 1, 1, 1, 1, 1, 1, 1, 1,\n       1, 1, 1, 1, 1, 1, 1, 1, 1, 1, 1, 1])"
     },
     "execution_count": 12,
     "metadata": {},
     "output_type": "execute_result"
    }
   ],
   "source": [
    "y[y==1] = 0\n",
    "y[y==2] = 1\n",
    "y"
   ],
   "metadata": {
    "collapsed": false,
    "ExecuteTime": {
     "end_time": "2023-10-02T12:38:02.725235300Z",
     "start_time": "2023-10-02T12:38:02.649920100Z"
    }
   },
   "id": "2a5879545ccd5356"
  },
  {
   "cell_type": "code",
   "execution_count": 13,
   "outputs": [
    {
     "data": {
      "text/plain": "array([[4.7, 1.4],\n       [4.5, 1.5],\n       [4.9, 1.5],\n       [4. , 1.3],\n       [4.6, 1.5],\n       [4.5, 1.3],\n       [4.7, 1.6],\n       [3.3, 1. ],\n       [4.6, 1.3],\n       [3.9, 1.4],\n       [3.5, 1. ],\n       [4.2, 1.5],\n       [4. , 1. ],\n       [4.7, 1.4],\n       [3.6, 1.3],\n       [4.4, 1.4],\n       [4.5, 1.5],\n       [4.1, 1. ],\n       [4.5, 1.5],\n       [3.9, 1.1],\n       [4.8, 1.8],\n       [4. , 1.3],\n       [4.9, 1.5],\n       [4.7, 1.2],\n       [4.3, 1.3],\n       [4.4, 1.4],\n       [4.8, 1.4],\n       [5. , 1.7],\n       [4.5, 1.5],\n       [3.5, 1. ],\n       [3.8, 1.1],\n       [3.7, 1. ],\n       [3.9, 1.2],\n       [5.1, 1.6],\n       [4.5, 1.5],\n       [4.5, 1.6],\n       [4.7, 1.5],\n       [4.4, 1.3],\n       [4.1, 1.3],\n       [4. , 1.3],\n       [4.4, 1.2],\n       [4.6, 1.4],\n       [4. , 1.2],\n       [3.3, 1. ],\n       [4.2, 1.3],\n       [4.2, 1.2],\n       [4.2, 1.3],\n       [4.3, 1.3],\n       [3. , 1.1],\n       [4.1, 1.3],\n       [6. , 2.5],\n       [5.1, 1.9],\n       [5.9, 2.1],\n       [5.6, 1.8],\n       [5.8, 2.2],\n       [6.6, 2.1],\n       [4.5, 1.7],\n       [6.3, 1.8],\n       [5.8, 1.8],\n       [6.1, 2.5],\n       [5.1, 2. ],\n       [5.3, 1.9],\n       [5.5, 2.1],\n       [5. , 2. ],\n       [5.1, 2.4],\n       [5.3, 2.3],\n       [5.5, 1.8],\n       [6.7, 2.2],\n       [6.9, 2.3],\n       [5. , 1.5],\n       [5.7, 2.3],\n       [4.9, 2. ],\n       [6.7, 2. ],\n       [4.9, 1.8],\n       [5.7, 2.1],\n       [6. , 1.8],\n       [4.8, 1.8],\n       [4.9, 1.8],\n       [5.6, 2.1],\n       [5.8, 1.6],\n       [6.1, 1.9],\n       [6.4, 2. ],\n       [5.6, 2.2],\n       [5.1, 1.5],\n       [5.6, 1.4],\n       [6.1, 2.3],\n       [5.6, 2.4],\n       [5.5, 1.8],\n       [4.8, 1.8],\n       [5.4, 2.1],\n       [5.6, 2.4],\n       [5.1, 2.3],\n       [5.1, 1.9],\n       [5.9, 2.3],\n       [5.7, 2.5],\n       [5.2, 2.3],\n       [5. , 1.9],\n       [5.2, 2. ],\n       [5.4, 2.3],\n       [5.1, 1.8]])"
     },
     "execution_count": 13,
     "metadata": {},
     "output_type": "execute_result"
    }
   ],
   "source": [
    "X"
   ],
   "metadata": {
    "collapsed": false,
    "ExecuteTime": {
     "end_time": "2023-10-02T12:38:02.727233500Z",
     "start_time": "2023-10-02T12:38:02.660322300Z"
    }
   },
   "id": "96057fd22cb3475c"
  },
  {
   "cell_type": "code",
   "execution_count": 14,
   "outputs": [
    {
     "data": {
      "text/plain": "<matplotlib.collections.PathCollection at 0x1a26eb37910>"
     },
     "execution_count": 14,
     "metadata": {},
     "output_type": "execute_result"
    },
    {
     "data": {
      "text/plain": "<Figure size 800x480 with 1 Axes>",
      "image/png": "[encoded data removed]"
     },
     "metadata": {},
     "output_type": "display_data"
    }
   ],
   "source": [
    "plt.figure(figsize=(10,6))\n",
    "plt.scatter(X[:, 0], X[:, 1], c=y)"
   ],
   "metadata": {
    "collapsed": false,
    "ExecuteTime": {
     "end_time": "2023-10-02T12:38:03.133791100Z",
     "start_time": "2023-10-02T12:38:02.674224700Z"
    }
   },
   "id": "68f1828d4c367b4c"
  },
  {
   "cell_type": "markdown",
   "source": [
    "Реализация линейной регрессии"
   ],
   "metadata": {
    "collapsed": false
   },
   "id": "7214a9029a6b1826"
  },
  {
   "cell_type": "code",
   "execution_count": 15,
   "outputs": [
    {
     "data": {
      "text/plain": "array([[1. , 4.7, 1.4],\n       [1. , 4.5, 1.5],\n       [1. , 4.9, 1.5],\n       [1. , 4. , 1.3],\n       [1. , 4.6, 1.5],\n       [1. , 4.5, 1.3],\n       [1. , 4.7, 1.6],\n       [1. , 3.3, 1. ],\n       [1. , 4.6, 1.3],\n       [1. , 3.9, 1.4],\n       [1. , 3.5, 1. ],\n       [1. , 4.2, 1.5],\n       [1. , 4. , 1. ],\n       [1. , 4.7, 1.4],\n       [1. , 3.6, 1.3],\n       [1. , 4.4, 1.4],\n       [1. , 4.5, 1.5],\n       [1. , 4.1, 1. ],\n       [1. , 4.5, 1.5],\n       [1. , 3.9, 1.1],\n       [1. , 4.8, 1.8],\n       [1. , 4. , 1.3],\n       [1. , 4.9, 1.5],\n       [1. , 4.7, 1.2],\n       [1. , 4.3, 1.3],\n       [1. , 4.4, 1.4],\n       [1. , 4.8, 1.4],\n       [1. , 5. , 1.7],\n       [1. , 4.5, 1.5],\n       [1. , 3.5, 1. ],\n       [1. , 3.8, 1.1],\n       [1. , 3.7, 1. ],\n       [1. , 3.9, 1.2],\n       [1. , 5.1, 1.6],\n       [1. , 4.5, 1.5],\n       [1. , 4.5, 1.6],\n       [1. , 4.7, 1.5],\n       [1. , 4.4, 1.3],\n       [1. , 4.1, 1.3],\n       [1. , 4. , 1.3],\n       [1. , 4.4, 1.2],\n       [1. , 4.6, 1.4],\n       [1. , 4. , 1.2],\n       [1. , 3.3, 1. ],\n       [1. , 4.2, 1.3],\n       [1. , 4.2, 1.2],\n       [1. , 4.2, 1.3],\n       [1. , 4.3, 1.3],\n       [1. , 3. , 1.1],\n       [1. , 4.1, 1.3],\n       [1. , 6. , 2.5],\n       [1. , 5.1, 1.9],\n       [1. , 5.9, 2.1],\n       [1. , 5.6, 1.8],\n       [1. , 5.8, 2.2],\n       [1. , 6.6, 2.1],\n       [1. , 4.5, 1.7],\n       [1. , 6.3, 1.8],\n       [1. , 5.8, 1.8],\n       [1. , 6.1, 2.5],\n       [1. , 5.1, 2. ],\n       [1. , 5.3, 1.9],\n       [1. , 5.5, 2.1],\n       [1. , 5. , 2. ],\n       [1. , 5.1, 2.4],\n       [1. , 5.3, 2.3],\n       [1. , 5.5, 1.8],\n       [1. , 6.7, 2.2],\n       [1. , 6.9, 2.3],\n       [1. , 5. , 1.5],\n       [1. , 5.7, 2.3],\n       [1. , 4.9, 2. ],\n       [1. , 6.7, 2. ],\n       [1. , 4.9, 1.8],\n       [1. , 5.7, 2.1],\n       [1. , 6. , 1.8],\n       [1. , 4.8, 1.8],\n       [1. , 4.9, 1.8],\n       [1. , 5.6, 2.1],\n       [1. , 5.8, 1.6],\n       [1. , 6.1, 1.9],\n       [1. , 6.4, 2. ],\n       [1. , 5.6, 2.2],\n       [1. , 5.1, 1.5],\n       [1. , 5.6, 1.4],\n       [1. , 6.1, 2.3],\n       [1. , 5.6, 2.4],\n       [1. , 5.5, 1.8],\n       [1. , 4.8, 1.8],\n       [1. , 5.4, 2.1],\n       [1. , 5.6, 2.4],\n       [1. , 5.1, 2.3],\n       [1. , 5.1, 1.9],\n       [1. , 5.9, 2.3],\n       [1. , 5.7, 2.5],\n       [1. , 5.2, 2.3],\n       [1. , 5. , 1.9],\n       [1. , 5.2, 2. ],\n       [1. , 5.4, 2.3],\n       [1. , 5.1, 1.8]])"
     },
     "execution_count": 15,
     "metadata": {},
     "output_type": "execute_result"
    }
   ],
   "source": [
    "X = np.c_[np.ones(len(X)), X]\n",
    "X"
   ],
   "metadata": {
    "collapsed": false,
    "ExecuteTime": {
     "end_time": "2023-10-02T12:38:03.135799200Z",
     "start_time": "2023-10-02T12:38:03.049157400Z"
    }
   },
   "id": "542b1ce093c80bf4"
  },
  {
   "cell_type": "code",
   "execution_count": 16,
   "outputs": [],
   "source": [
    "def sigmoid(x):\n",
    "    return 1 / (1 + np.exp(-x))\n",
    "\n",
    "def logloss(y, y_proba):\n",
    "    logloss_1 = np.sum(np.log(y_proba[y==1] + 1e-30))\n",
    "    logloss_0 = np.sum(np.log(1-y_proba[y==0] + 1e-30))\n",
    "    logloss_total = -(logloss_0 + logloss_1) / len(y)\n",
    "    return logloss_total\n",
    "\n",
    "def gr_logloss(X, W, y):\n",
    "    y_proba = sigmoid(X @ W)\n",
    "    grad = X.T @ (y_proba - y)\n",
    "    return grad\n"
   ],
   "metadata": {
    "collapsed": false,
    "ExecuteTime": {
     "end_time": "2023-10-02T12:38:03.135799200Z",
     "start_time": "2023-10-02T12:38:03.067053300Z"
    }
   },
   "id": "d6618f6a446d5c9a"
  },
  {
   "cell_type": "code",
   "execution_count": 17,
   "outputs": [],
   "source": [
    "def visualize(W):\n",
    "    x_t_ones = np.c_[np.ones(x_t.shape[0]), x_t]\n",
    "    \n",
    "    y_proba = sigmoid(x_t_ones @ W)\n",
    "\n",
    "    Z = np.where(y_proba >= 0.5, 1, 0)\n",
    "    Z = Z.reshape(xx.shape)\n",
    "       \n",
    "    plt.figure(1, figsize=(6,6))\n",
    "    plt.pcolormesh(xx, yy, Z, cmap=plt.cm.Paired)\n",
    "    \n",
    "    plt.scatter(X[y==0][:, 1], X[y==0][:, 2], edgecolors='k')\n",
    "    plt.scatter(X[y==1][:, 1], X[y==1][:, 2], edgecolors='k')\n",
    "    \n",
    "    plt.xlim(xx.min(), xx.max())\n",
    "    plt.ylim(yy.min(), yy.max())\n",
    "    plt.xticks()\n",
    "    plt.show()   "
   ],
   "metadata": {
    "collapsed": false,
    "ExecuteTime": {
     "end_time": "2023-10-02T12:38:03.137783300Z",
     "start_time": "2023-10-02T12:38:03.078919600Z"
    }
   },
   "id": "80ee317719bd7581"
  },
  {
   "cell_type": "code",
   "execution_count": 18,
   "outputs": [],
   "source": [
    "x_min, x_max = X[:, 1].min() - .5, X[:, 1].max() + .5\n",
    "y_min, y_max = X[:, 2].min() - .5, X[:, 2].max() + .5\n",
    "\n",
    "h = .02\n",
    "xx, yy = np.meshgrid( np.arange(x_min, x_max, h), np.arange(y_min, y_max, h))\n",
    "x_t = np.c_[xx.ravel(), yy.ravel()]"
   ],
   "metadata": {
    "collapsed": false,
    "ExecuteTime": {
     "end_time": "2023-10-02T12:38:03.148792200Z",
     "start_time": "2023-10-02T12:38:03.088619600Z"
    }
   },
   "id": "8ac6b91ff260bde7"
  },
  {
   "cell_type": "code",
   "execution_count": 19,
   "outputs": [
    {
     "name": "stdout",
     "output_type": "stream",
     "text": [
      "Итерация 0\n",
      "Logloss 0.9530888687572902\n",
      "Accurancy 0.5\n",
      "____________________________________________\n"
     ]
    },
    {
     "data": {
      "text/plain": "<Figure size 480x480 with 1 Axes>",
      "image/png": "[encoded data removed]"
     },
     "metadata": {},
     "output_type": "display_data"
    },
    {
     "name": "stdout",
     "output_type": "stream",
     "text": [
      "Итерация 90\n",
      "Logloss 34.5387382962799\n",
      "Accurancy 0.5\n",
      "____________________________________________\n"
     ]
    },
    {
     "data": {
      "text/plain": "<Figure size 480x480 with 1 Axes>",
      "image/png": "[encoded data removed]"
     },
     "metadata": {},
     "output_type": "display_data"
    },
    {
     "name": "stdout",
     "output_type": "stream",
     "text": [
      "Итерация 180\n",
      "Logloss 34.538776394910684\n",
      "Accurancy 0.5\n",
      "____________________________________________\n"
     ]
    },
    {
     "data": {
      "text/plain": "<Figure size 480x480 with 1 Axes>",
      "image/png": "[encoded data removed]"
     },
     "metadata": {},
     "output_type": "display_data"
    }
   ],
   "source": [
    "#установка минимального значения, но которое должны изменяться веса\n",
    "eps = 0.0001\n",
    "\n",
    "#первоначальная точка\n",
    "np.random.seed(8)\n",
    "W = np.random.randn(X.shape[1])\n",
    "\n",
    "#размер шага (learning rate)\n",
    "learning_rate = 0.001\n",
    "\n",
    "next_W = W\n",
    "\n",
    "#количество итераций\n",
    "n = 260\n",
    "for i in range(n):\n",
    "    cur_W = next_W\n",
    "\n",
    "    #движение в негативную сторону вычисляемого градиента\n",
    "    next_W = cur_W - learning_rate * gr_logloss(X, W, y)\n",
    "    #остановка когда достигнута необходимая степень точности\n",
    "    if np.linalg.norm(cur_W - next_W) <= eps:\n",
    "        break\n",
    "    \n",
    "    if i % 90 == 0:\n",
    "        print(f'Итерация {i}')\n",
    "        y_proba = sigmoid(X @ next_W)\n",
    "        y_class = np.where(y_proba >= 0.5, 1, 0)\n",
    "        accuracy = (y_class == y).sum() / len(y)\n",
    "        print(f'Logloss {logloss(y, y_proba)}')\n",
    "        print(f'Accurancy {accuracy}')\n",
    "        print(f'____________________________________________')\n",
    "            \n",
    "        visualize(next_W)\n",
    "        \n",
    "        "
   ],
   "metadata": {
    "collapsed": false,
    "ExecuteTime": {
     "end_time": "2023-10-02T12:38:03.656733Z",
     "start_time": "2023-10-02T12:38:03.099839600Z"
    }
   },
   "id": "5a95143941de7945"
  },
  {
   "cell_type": "code",
   "execution_count": 20,
   "outputs": [
    {
     "data": {
      "text/plain": "array([4.38795290e-126, 1.52478643e-106, 7.48614428e-122, 1.01424105e-114,\n       1.03534380e-120, 3.63777359e-134, 9.41974449e-095, 4.92854420e-127,\n       3.07624174e-118, 7.64190432e-128, 3.67261201e-107, 4.62475038e-110,\n       8.13766181e-115, 2.10880009e-105, 1.23605893e-109, 1.55651182e-112,\n       5.82373418e-113, 1.52595363e-136, 1.11477352e-140, 2.60138873e-102,\n       1.43189436e-119, 1.21086513e-103, 2.63032416e-135, 2.08719829e-102,\n       2.46819186e-118, 9.33038874e-122, 1.19846145e-100, 2.08719829e-102,\n       1.41722654e-116, 5.30259427e-117, 3.91386110e-124, 4.97955297e-130,\n       3.41354245e-117, 4.53048706e-104, 3.01354068e-112, 1.31725402e-126,\n       1.98032910e-118, 5.82373418e-113, 1.19846145e-100, 4.67261499e-113,\n       1.98032910e-118, 5.13184043e-109, 1.52478643e-106, 4.34300426e-123,\n       8.30697761e-121, 8.93743266e-111, 8.75526670e-105, 6.39609181e-109,\n       2.71076619e-114, 6.33057251e-106])"
     },
     "execution_count": 20,
     "metadata": {},
     "output_type": "execute_result"
    }
   ],
   "source": [
    "y_proba = sigmoid(X @ next_W)\n",
    "y_proba[y==1]"
   ],
   "metadata": {
    "collapsed": false,
    "ExecuteTime": {
     "end_time": "2023-10-02T12:38:03.774119500Z",
     "start_time": "2023-10-02T12:38:03.654736Z"
    }
   },
   "id": "95960e3d0a20effa"
  },
  {
   "cell_type": "code",
   "execution_count": 21,
   "outputs": [],
   "source": [
    "logloss_0 = np.sum(np.log(1 - y_proba[y==0] + 1e-30))"
   ],
   "metadata": {
    "collapsed": false,
    "ExecuteTime": {
     "end_time": "2023-10-02T12:38:03.801126Z",
     "start_time": "2023-10-02T12:38:03.667830500Z"
    }
   },
   "id": "557bc52525382c5"
  },
  {
   "cell_type": "code",
   "execution_count": 22,
   "outputs": [
    {
     "data": {
      "text/plain": "<Figure size 480x480 with 1 Axes>",
      "image/png": "[encoded data removed]"
     },
     "metadata": {},
     "output_type": "display_data"
    }
   ],
   "source": [
    "visualize(next_W)"
   ],
   "metadata": {
    "collapsed": false,
    "ExecuteTime": {
     "end_time": "2023-10-02T12:38:03.903438Z",
     "start_time": "2023-10-02T12:38:03.674098800Z"
    }
   },
   "id": "45bc7afba9f8a7bd"
  },
  {
   "cell_type": "code",
   "execution_count": 23,
   "outputs": [],
   "source": [
    "import plotly.graph_objs as go\n",
    "from sklearn.linear_model import LogisticRegression\n",
    "from sklearn.preprocessing import LabelEncoder\n",
    "from sklearn.pipeline import make_pipeline  \n",
    "from sklearn.preprocessing import StandardScaler\n",
    "from sklearn.model_selection import train_test_split\n",
    "from sklearn.svm import SVC"
   ],
   "metadata": {
    "collapsed": false,
    "ExecuteTime": {
     "end_time": "2023-10-02T12:38:04.760149900Z",
     "start_time": "2023-10-02T12:38:03.903438Z"
    }
   },
   "id": "5a66174d97965e76"
  },
  {
   "cell_type": "code",
   "execution_count": 24,
   "outputs": [],
   "source": [
    "model = make_pipeline(\n",
    "    StandardScaler(),\n",
    "    LogisticRegression(max_iter=1000)\n",
    ")"
   ],
   "metadata": {
    "collapsed": false,
    "ExecuteTime": {
     "end_time": "2023-10-02T12:38:04.776523500Z",
     "start_time": "2023-10-02T12:38:04.761392700Z"
    }
   },
   "id": "fce5bac04f470d44"
  },
  {
   "cell_type": "code",
   "execution_count": 25,
   "outputs": [],
   "source": [
    "X_train, X_test, y_train, y_test = train_test_split(X, y, test_size=0.3, random_state=42)"
   ],
   "metadata": {
    "collapsed": false,
    "ExecuteTime": {
     "end_time": "2023-10-02T12:38:04.781524100Z",
     "start_time": "2023-10-02T12:38:04.769386400Z"
    }
   },
   "id": "328029e493f176dc"
  },
  {
   "cell_type": "code",
   "execution_count": 26,
   "outputs": [],
   "source": [
    "model.fit(X_train, y_train)\n",
    "predictions = model.predict(X_test)"
   ],
   "metadata": {
    "collapsed": false,
    "ExecuteTime": {
     "end_time": "2023-10-02T12:38:04.813925300Z",
     "start_time": "2023-10-02T12:38:04.780523100Z"
    }
   },
   "id": "5d5e31f2d05181d7"
  },
  {
   "cell_type": "code",
   "execution_count": 27,
   "outputs": [
    {
     "data": {
      "text/plain": "0.9"
     },
     "execution_count": 27,
     "metadata": {},
     "output_type": "execute_result"
    }
   ],
   "source": [
    "model.score(X_test,y_test)"
   ],
   "metadata": {
    "collapsed": false,
    "ExecuteTime": {
     "end_time": "2023-10-02T12:38:04.815927900Z",
     "start_time": "2023-10-02T12:38:04.798220400Z"
    }
   },
   "id": "fb83dec14af26d62"
  },
  {
   "cell_type": "code",
   "execution_count": 28,
   "outputs": [
    {
     "data": {
      "text/plain": "array([[1. , 4.2, 1.5],\n       [1. , 4.3, 1.3],\n       [1. , 6.1, 2.3],\n       [1. , 4.5, 1.5],\n       [1. , 5.9, 2.3],\n       [1. , 4.5, 1.3],\n       [1. , 5.5, 1.8],\n       [1. , 5.3, 2.3],\n       [1. , 4.5, 1.6],\n       [1. , 4.5, 1.5],\n       [1. , 4.1, 1.3],\n       [1. , 4.5, 1.5],\n       [1. , 3.3, 1. ],\n       [1. , 5.2, 2.3],\n       [1. , 5. , 1.7],\n       [1. , 3.9, 1.1],\n       [1. , 6.4, 2. ],\n       [1. , 4.4, 1.4],\n       [1. , 5.5, 2.1],\n       [1. , 4.7, 1.4],\n       [1. , 4.3, 1.3],\n       [1. , 4. , 1.3],\n       [1. , 4.1, 1. ],\n       [1. , 4.1, 1.3],\n       [1. , 4.6, 1.3],\n       [1. , 5.6, 2.1],\n       [1. , 4.7, 1.6],\n       [1. , 5.1, 2.4],\n       [1. , 4.7, 1.5],\n       [1. , 5.4, 2.1],\n       [1. , 4.5, 1.7],\n       [1. , 5.1, 1.8],\n       [1. , 5.8, 2.2],\n       [1. , 3.3, 1. ],\n       [1. , 6. , 2.5],\n       [1. , 6.7, 2.2],\n       [1. , 4.2, 1.3],\n       [1. , 6.9, 2.3],\n       [1. , 5.3, 1.9],\n       [1. , 5.2, 2. ],\n       [1. , 5.8, 1.6],\n       [1. , 4.6, 1.4],\n       [1. , 5.8, 1.8],\n       [1. , 3. , 1.1],\n       [1. , 5.4, 2.3],\n       [1. , 6.3, 1.8],\n       [1. , 6. , 1.8],\n       [1. , 3.9, 1.2],\n       [1. , 5.7, 2.5],\n       [1. , 6.1, 2.5],\n       [1. , 5. , 2. ],\n       [1. , 5.6, 1.4],\n       [1. , 4.4, 1.3],\n       [1. , 3.5, 1. ],\n       [1. , 4.5, 1.5],\n       [1. , 5.9, 2.1],\n       [1. , 4. , 1.3],\n       [1. , 4.9, 1.5],\n       [1. , 4.7, 1.2],\n       [1. , 5.5, 1.8],\n       [1. , 5.1, 2.3],\n       [1. , 5.7, 2.1],\n       [1. , 5.6, 2.4],\n       [1. , 5.6, 2.2],\n       [1. , 4.8, 1.8],\n       [1. , 5.1, 2. ],\n       [1. , 4.9, 2. ],\n       [1. , 3.6, 1.3],\n       [1. , 5.1, 1.9],\n       [1. , 5.1, 1.9]])"
     },
     "execution_count": 28,
     "metadata": {},
     "output_type": "execute_result"
    }
   ],
   "source": [
    "X_train"
   ],
   "metadata": {
    "collapsed": false,
    "ExecuteTime": {
     "end_time": "2023-10-02T12:38:04.835707200Z",
     "start_time": "2023-10-02T12:38:04.809925300Z"
    }
   },
   "id": "6dfc34a673c14b1"
  },
  {
   "cell_type": "code",
   "execution_count": 29,
   "outputs": [
    {
     "name": "stderr",
     "output_type": "stream",
     "text": [
      "No artists with labels found to put in legend.  Note that artists whose label start with an underscore are ignored when legend() is called with no argument.\n"
     ]
    },
    {
     "data": {
      "text/plain": "<Figure size 512x384 with 1 Axes>",
      "image/png": "[encoded data removed]"
     },
     "metadata": {},
     "output_type": "display_data"
    }
   ],
   "source": [
    "plt.scatter(x=X_train[:, 1], y=X_train[:, 2], c=y_train)\n",
    "plt.legend()\n",
    "plt.show()"
   ],
   "metadata": {
    "collapsed": false,
    "ExecuteTime": {
     "end_time": "2023-10-02T12:38:05.010090500Z",
     "start_time": "2023-10-02T12:38:04.822718700Z"
    }
   },
   "id": "a8e940823aaab76a"
  },
  {
   "cell_type": "markdown",
   "source": [
    "Метод градиентного спуска"
   ],
   "metadata": {
    "collapsed": false
   },
   "id": "d9518d9deb7648f1"
  },
  {
   "cell_type": "code",
   "execution_count": 30,
   "outputs": [],
   "source": [
    "def cost_function(X, y, theta0, theta1):\n",
    "    total_cost = 0\n",
    "    for i in range(len(X)):\n",
    "        pred = theta0 + theta1 * X[i]\n",
    "        total_cost += (pred - y[i]) ** 2\n",
    "    return total_cost / len(X)\n",
    "\n",
    "def der_theta0(X, y, theta0, theta1):\n",
    "    total_cost = 0\n",
    "    for i in range(len(X)):\n",
    "        pred = theta0 + theta1 * X[i]\n",
    "        total_cost += 2 * (pred - y[i])\n",
    "    return total_cost / len(X)    \n",
    "\n",
    "def der_theta1(X, y, theta0, theta1):\n",
    "    total_cost = 0\n",
    "    for i in range(len(X)):\n",
    "        pred = theta0 + theta1 * X[i]\n",
    "        total_cost += 2 * (pred - y[i]) * X[i]\n",
    "    return total_cost / (len(X))"
   ],
   "metadata": {
    "collapsed": false,
    "ExecuteTime": {
     "end_time": "2023-10-02T12:38:05.022642Z",
     "start_time": "2023-10-02T12:38:05.014087100Z"
    }
   },
   "id": "30338cf4edb316d9"
  },
  {
   "cell_type": "code",
   "execution_count": 31,
   "outputs": [],
   "source": [
    "EPOCHS = 100\n",
    "LEARNING_RATE = 0.0001"
   ],
   "metadata": {
    "collapsed": false,
    "ExecuteTime": {
     "end_time": "2023-10-02T12:38:05.035233Z",
     "start_time": "2023-10-02T12:38:05.022642Z"
    }
   },
   "id": "7cbb574691bc15f8"
  },
  {
   "cell_type": "code",
   "execution_count": 32,
   "outputs": [
    {
     "data": {
      "text/plain": "<Figure size 512x384 with 1 Axes>",
      "image/png": "[encoded data removed]"
     },
     "metadata": {},
     "output_type": "display_data"
    }
   ],
   "source": [
    "N = 100\n",
    "Y =  X[:, 1]+ 2*X[:, 2] + 1 + np.random.normal(scale=5, size=N)\n",
    "\n",
    "plt.scatter(x=X[:, 1], y=X[:, 2], c=Y)\n",
    "plt.show()"
   ],
   "metadata": {
    "collapsed": false,
    "ExecuteTime": {
     "end_time": "2023-10-02T12:38:05.221227100Z",
     "start_time": "2023-10-02T12:38:05.038233600Z"
    }
   },
   "id": "26a422e6a404ce51"
  },
  {
   "cell_type": "code",
   "execution_count": 33,
   "outputs": [
    {
     "name": "stdout",
     "output_type": "stream",
     "text": [
      "t0: [1.00201025 1.00122905 1.00187505] t1: [1.00201025 1.00624854 1.00327328] cost: [ 2.51207764 29.85377274  4.84571521]\n",
      "t0: [1.00401969 1.00245172 1.00374862] t1: [1.00401969 1.01246494 1.00654399] cost: [ 2.52418276 30.20421421  4.87791716]\n",
      "t0: [1.00602833 1.00366804 1.00562072] t1: [1.00602833 1.01864939 1.0098121 ] cost: [ 2.53631532 30.55490181  4.91020561]\n",
      "t0: [1.00803616 1.00487805 1.00749136] t1: [1.00803616 1.02480204 1.01307764] cost: [ 2.54847528 30.90581324  4.94258032]\n",
      "t0: [1.01004319 1.00608179 1.00936052] t1: [1.01004319 1.03092305 1.0163406 ] cost: [ 2.56066262 31.25692655  4.97504104]\n",
      "t0: [1.01204942 1.00727928 1.01122822] t1: [1.01204942 1.03701259 1.01960098] cost: [ 2.57287728 31.6082201   5.00758752]\n",
      "t0: [1.01405485 1.00847055 1.01309445] t1: [1.01405485 1.04307082 1.02285879] cost: [ 2.58511924 31.9596726   5.04021954]\n",
      "t0: [1.01605947 1.00965564 1.01495921] t1: [1.01605947 1.0490979  1.02611403] cost: [ 2.59738846 32.31126306  5.07293683]\n",
      "t0: [1.01806329 1.01083458 1.01682251] t1: [1.01806329 1.05509399 1.0293667 ] cost: [ 2.60968489 32.6629708   5.10573917]\n",
      "t0: [1.02006631 1.0120074  1.01868435] t1: [1.02006631 1.06105925 1.03261679] cost: [ 2.62200851 33.01477545  5.1386263 ]\n",
      "t0: [1.02206853 1.01317413 1.02054473] t1: [1.02206853 1.06699384 1.03586433] cost: [ 2.63435928 33.36665698  5.17159799]\n",
      "t0: [1.02406995 1.01433481 1.02240364] t1: [1.02406995 1.07289791 1.0391093 ] cost: [ 2.64673717 33.71859562  5.204654  ]\n",
      "t0: [1.02607057 1.01548946 1.0242611 ] t1: [1.02607057 1.07877163 1.0423517 ] cost: [ 2.65914212 34.07057192  5.23779408]\n",
      "t0: [1.02807039 1.01663812 1.02611709] t1: [1.02807039 1.08461515 1.04559155] cost: [ 2.67157412 34.42256674  5.271018  ]\n",
      "t0: [1.03006941 1.01778081 1.02797163] t1: [1.03006941 1.09042863 1.04882884] cost: [ 2.68403311 34.77456121  5.30432551]\n",
      "t0: [1.03206762 1.01891758 1.02982472] t1: [1.03206762 1.09621221 1.05206357] cost: [ 2.69651908 35.12653675  5.33771638]\n",
      "t0: [1.03406504 1.02004844 1.03167635] t1: [1.03406504 1.10196606 1.05529575] cost: [ 2.70903197 35.4784751   5.37119038]\n",
      "t0: [1.03606166 1.02117342 1.03352652] t1: [1.03606166 1.10769032 1.05852537] cost: [ 2.72157176 35.83035823  5.40474725]\n",
      "t0: [1.03805748 1.02229257 1.03537525] t1: [1.03805748 1.11338515 1.06175245] cost: [ 2.7341384  36.18216844  5.43838676]\n",
      "t0: [1.04005251 1.0234059  1.03722252] t1: [1.04005251 1.1190507  1.06497698] cost: [ 2.74673186 36.53388826  5.47210868]\n",
      "t0: [1.04204673 1.02451345 1.03906834] t1: [1.04204673 1.12468713 1.06819896] cost: [ 2.75935211 36.88550054  5.50591277]\n",
      "t0: [1.04404016 1.02561525 1.04091271] t1: [1.04404016 1.13029457 1.0714184 ] cost: [ 2.7719991  37.23698836  5.5397988 ]\n",
      "t0: [1.04603279 1.02671133 1.04275564] t1: [1.04603279 1.13587318 1.0746353 ] cost: [ 2.78467281 37.58833508  5.57376652]\n",
      "t0: [1.04802462 1.02780172 1.04459711] t1: [1.04802462 1.14142311 1.07784966] cost: [ 2.7973732  37.93952433  5.60781571]\n",
      "t0: [1.05001566 1.02888644 1.04643714] t1: [1.05001566 1.1469445  1.08106147] cost: [ 2.81010022 38.29053999  5.64194612]\n",
      "t0: [1.0520059  1.02996553 1.04827573] t1: [1.0520059  1.15243751 1.08427076] cost: [ 2.82285385 38.6413662   5.67615752]\n",
      "t0: [1.05399534 1.03103901 1.05011287] t1: [1.05399534 1.15790227 1.08747751] cost: [ 2.83563404 38.99198736  5.71044968]\n",
      "t0: [1.05598399 1.03210691 1.05194858] t1: [1.05598399 1.16333894 1.09068172] cost: [ 2.84844077 39.3423881   5.74482237]\n",
      "t0: [1.05797184 1.03316927 1.05378284] t1: [1.05797184 1.16874765 1.09388341] cost: [ 2.861274   39.69255332  5.77927535]\n",
      "t0: [1.0599589  1.0342261  1.05561566] t1: [1.0599589  1.17412856 1.09708257] cost: [ 2.87413368 40.04246816  5.8138084 ]\n",
      "t0: [1.06194516 1.03527745 1.05744704] t1: [1.06194516 1.1794818  1.1002792 ] cost: [ 2.88701979 40.39211799  5.84842127]\n",
      "t0: [1.06393063 1.03632333 1.05927698] t1: [1.06393063 1.18480752 1.10347331] cost: [ 2.89993229 40.74148843  5.88311373]\n",
      "t0: [1.0659153  1.03736378 1.06110549] t1: [1.0659153  1.19010585 1.1066649 ] cost: [ 2.91287114 41.09056533  5.91788556]\n",
      "t0: [1.06789918 1.03839882 1.06293256] t1: [1.06789918 1.19537695 1.10985397] cost: [ 2.9258363  41.43933477  5.95273652]\n",
      "t0: [1.06988227 1.03942849 1.06475819] t1: [1.06988227 1.20062094 1.11304052] cost: [ 2.93882775 41.78778306  5.98766639]\n",
      "t0: [1.07186456 1.0404528  1.0665824 ] t1: [1.07186456 1.20583797 1.11622455] cost: [ 2.95184545 42.13589675  6.02267493]\n",
      "t0: [1.07384606 1.04147178 1.06840517] t1: [1.07384606 1.21102818 1.11940607] cost: [ 2.96488935 42.48366261  6.05776192]\n",
      "t0: [1.07582677 1.04248548 1.07022651] t1: [1.07582677 1.21619171 1.12258508] cost: [ 2.97795943 42.83106761  6.09292712]\n",
      "t0: [1.07780669 1.0434939  1.07204642] t1: [1.07780669 1.22132868 1.12576158] cost: [ 2.99105564 43.17809897  6.12817031]\n",
      "t0: [1.07978581 1.04449708 1.0738649 ] t1: [1.07978581 1.22643925 1.12893557] cost: [ 3.00417796 43.5247441   6.16349126]\n",
      "t0: [1.08176414 1.04549504 1.07568195] t1: [1.08176414 1.23152354 1.13210705] cost: [ 3.01732635 43.87099064  6.19888973]\n",
      "t0: [1.08374168 1.04648782 1.07749758] t1: [1.08374168 1.23658169 1.13527603] cost: [ 3.03050077 44.21682643  6.23436551]\n",
      "t0: [1.08571843 1.04747543 1.07931178] t1: [1.08571843 1.24161384 1.13844251] cost: [ 3.04370119 44.56223954  6.26991837]\n",
      "t0: [1.08769439 1.04845791 1.08112456] t1: [1.08769439 1.24662011 1.14160649] cost: [ 3.05692757 44.90721821  6.30554808]\n",
      "t0: [1.08966956 1.04943528 1.08293591] t1: [1.08966956 1.25160065 1.14476797] cost: [ 3.07017987 45.25175092  6.34125442]\n",
      "t0: [1.09164394 1.05040757 1.08474585] t1: [1.09164394 1.25655558 1.14792695] cost: [ 3.08345807 45.59582632  6.37703715]\n",
      "t0: [1.09361753 1.0513748  1.08655436] t1: [1.09361753 1.26148503 1.15108344] cost: [ 3.09676212 45.93943328  6.41289605]\n",
      "t0: [1.09559032 1.052337   1.08836145] t1: [1.09559032 1.26638914 1.15423743] cost: [ 3.11009199 46.28256085  6.44883091]\n",
      "t0: [1.09756233 1.0532942  1.09016712] t1: [1.09756233 1.27126804 1.15738894] cost: [ 3.12344764 46.62519829  6.48484149]\n",
      "t0: [1.09953356 1.05424642 1.09197138] t1: [1.09953356 1.27612186 1.16053796] cost: [ 3.13682905 46.96733504  6.52092758]\n",
      "t0: [1.10150399 1.05519369 1.09377422] t1: [1.10150399 1.28095072 1.16368449] cost: [ 3.15023617 47.30896072  6.55708894]\n",
      "t0: [1.10347363 1.05613603 1.09557564] t1: [1.10347363 1.28575475 1.16682854] cost: [ 3.16366897 47.65006516  6.59332535]\n",
      "t0: [1.10544249 1.05707346 1.09737565] t1: [1.10544249 1.29053409 1.1699701 ] cost: [ 3.17712741 47.99063835  6.6296366 ]\n",
      "t0: [1.10741056 1.05800602 1.09917425] t1: [1.10741056 1.29528885 1.17310918] cost: [ 3.19061146 48.33067047  6.66602247]\n",
      "t0: [1.10937784 1.05893373 1.10097144] t1: [1.10937784 1.30001917 1.17624579] cost: [ 3.20412109 48.67015189  6.70248272]\n",
      "t0: [1.11134433 1.05985661 1.10276721] t1: [1.11134433 1.30472517 1.17937992] cost: [ 3.21765625 49.00907314  6.73901714]\n",
      "t0: [1.11331004 1.06077469 1.10456157] t1: [1.11331004 1.30940697 1.18251157] cost: [ 3.23121692 49.34742494  6.7756255 ]\n",
      "t0: [1.11527497 1.06168799 1.10635453] t1: [1.11527497 1.31406471 1.18564075] cost: [ 3.24480306 49.68519817  6.8123076 ]\n",
      "t0: [1.1172391  1.06259654 1.10814608] t1: [1.1172391  1.3186985  1.18876746] cost: [ 3.25841463 50.02238389  6.8490632 ]\n",
      "t0: [1.11920245 1.06350036 1.10993622] t1: [1.11920245 1.32330847 1.19189171] cost: [ 3.27205161 50.35897332  6.88589209]\n",
      "t0: [1.12116502 1.06439947 1.11172496] t1: [1.12116502 1.32789473 1.19501348] cost: [ 3.28571394 50.69495785  6.92279405]\n",
      "t0: [1.1231268  1.06529391 1.11351229] t1: [1.1231268  1.33245742 1.19813279] cost: [ 3.29940161 51.03032903  6.95976886]\n",
      "t0: [1.12508779 1.06618369 1.11529822] t1: [1.12508779 1.33699665 1.20124964] cost: [ 3.31311457 51.36507859  6.9968163 ]\n",
      "t0: [1.127048   1.06706884 1.11708275] t1: [1.127048   1.34151255 1.20436402] cost: [ 3.3268528  51.6991984   7.03393615]\n",
      "t0: [1.12900743 1.06794938 1.11886587] t1: [1.12900743 1.34600523 1.20747595] cost: [ 3.34061625 52.03268049  7.07112821]\n",
      "t0: [1.13096607 1.06882533 1.1206476 ] t1: [1.13096607 1.35047481 1.21058542] cost: [ 3.35440488 52.36551706  7.10839224]\n",
      "t0: [1.13292393 1.06969673 1.12242793] t1: [1.13292393 1.35492141 1.21369244] cost: [ 3.36821868 52.69770044  7.14572804]\n",
      "t0: [1.13488101 1.07056358 1.12420686] t1: [1.13488101 1.35934515 1.216797  ] cost: [ 3.3820576  53.02922313  7.18313539]\n",
      "t0: [1.1368373  1.07142593 1.12598439] t1: [1.1368373  1.36374615 1.21989911] cost: [ 3.3959216  53.36007779  7.22061407]\n",
      "t0: [1.13879281 1.07228378 1.12776053] t1: [1.13879281 1.36812453 1.22299877] cost: [ 3.40981066 53.6902572   7.25816387]\n",
      "t0: [1.14074754 1.07313717 1.12953528] t1: [1.14074754 1.3724804  1.22609598] cost: [ 3.42372474 54.01975431  7.29578456]\n",
      "t0: [1.14270149 1.07398611 1.13130863] t1: [1.14270149 1.37681387 1.22919075] cost: [ 3.4376638  54.3485622   7.33347595]\n",
      "t0: [1.14465465 1.07483063 1.13308059] t1: [1.14465465 1.38112506 1.23228307] cost: [ 3.45162781 54.67667409  7.37123781]\n",
      "t0: [1.14660704 1.07567075 1.13485116] t1: [1.14660704 1.3854141  1.23537295] cost: [ 3.46561673 55.00408336  7.40906994]\n",
      "t0: [1.14855864 1.07650649 1.13662034] t1: [1.14855864 1.38968108 1.2384604 ] cost: [ 3.47963053 55.33078352  7.44697211]\n",
      "t0: [1.15050946 1.07733788 1.13838813] t1: [1.15050946 1.39392612 1.2415454 ] cost: [ 3.49366918 55.6567682   7.48494411]\n",
      "t0: [1.15245951 1.07816494 1.14015453] t1: [1.15245951 1.39814935 1.24462797] cost: [ 3.50773265 55.98203119  7.52298574]\n",
      "t0: [1.15440877 1.07898769 1.14191954] t1: [1.15440877 1.40235086 1.24770811] cost: [ 3.52182089 56.3065664   7.56109678]\n",
      "t0: [1.15635725 1.07980615 1.14368317] t1: [1.15635725 1.40653077 1.25078581] cost: [ 3.53593387 56.63036787  7.59927702]\n",
      "t0: [1.15830495 1.08062035 1.14544542] t1: [1.15830495 1.41068919 1.25386108] cost: [ 3.55007156 56.95342979  7.63752625]\n",
      "t0: [1.16025188 1.0814303  1.14720628] t1: [1.16025188 1.41482624 1.25693393] cost: [ 3.56423393 57.27574645  7.67584426]\n",
      "t0: [1.16219802 1.08223603 1.14896576] t1: [1.16219802 1.41894202 1.26000434] cost: [ 3.57842094 57.59731228  7.71423083]\n",
      "t0: [1.16414339 1.08303756 1.15072386] t1: [1.16414339 1.42303664 1.26307234] cost: [ 3.59263256 57.91812184  7.75268576]\n",
      "t0: [1.16608798 1.08383492 1.15248058] t1: [1.16608798 1.42711021 1.26613791] cost: [ 3.60686875 58.23816982  7.79120884]\n",
      "t0: [1.16803179 1.08462812 1.15423592] t1: [1.16803179 1.43116283 1.26920106] cost: [ 3.62112947 58.557451    7.82979986]\n",
      "t0: [1.16997482 1.08541718 1.15598989] t1: [1.16997482 1.43519463 1.27226179] cost: [ 3.63541471 58.87596031  7.86845861]\n",
      "t0: [1.17191708 1.08620213 1.15774247] t1: [1.17191708 1.4392057  1.27532011] cost: [ 3.64972441 59.1936928   7.90718489]\n",
      "t0: [1.17385856 1.08698299 1.15949368] t1: [1.17385856 1.44319615 1.27837601] cost: [ 3.66405855 59.51064361  7.94597848]\n",
      "t0: [1.17579926 1.08775977 1.16124352] t1: [1.17579926 1.44716608 1.28142949] cost: [ 3.67841709 59.82680802  7.98483918]\n",
      "t0: [1.17773919 1.08853251 1.16299198] t1: [1.17773919 1.45111561 1.28448057] cost: [ 3.6928     60.14218142  8.02376678]\n",
      "t0: [1.17967834 1.08930121 1.16473907] t1: [1.17967834 1.45504483 1.28752924] cost: [ 3.70720725 60.4567593   8.06276107]\n",
      "t0: [1.18161671 1.09006591 1.16648479] t1: [1.18161671 1.45895386 1.2905755 ] cost: [ 3.7216388  60.77053729  8.10182185]\n",
      "t0: [1.18355431 1.09082662 1.16822914] t1: [1.18355431 1.46284279 1.29361935] cost: [ 3.73609462 61.08351108  8.14094892]\n",
      "t0: [1.18549114 1.09158336 1.16997211] t1: [1.18549114 1.46671172 1.2966608 ] cost: [ 3.75057467 61.39567653  8.18014206]\n",
      "t0: [1.18742719 1.09233615 1.17171373] t1: [1.18742719 1.47056077 1.29969985] cost: [ 3.76507892 61.70702955  8.21940108]\n",
      "t0: [1.18936246 1.09308501 1.17345397] t1: [1.18936246 1.47439004 1.3027365 ] cost: [ 3.77960734 62.01756619  8.25872576]\n",
      "t0: [1.19129696 1.09382997 1.17519285] t1: [1.19129696 1.47819961 1.30577075] cost: [ 3.79415989 62.32728259  8.29811591]\n",
      "t0: [1.19323069 1.09457104 1.17693036] t1: [1.19323069 1.48198961 1.30880261] cost: [ 3.80873654 62.636175    8.33757132]\n",
      "t0: [1.19516364 1.09530824 1.17866651] t1: [1.19516364 1.48576012 1.31183207] cost: [ 3.82333725 62.94423978  8.37709178]\n",
      "t0: [1.19709582 1.0960416  1.1804013 ] t1: [1.19709582 1.48951125 1.31485914] cost: [ 3.837962   63.25147335  8.4166771 ]\n"
     ]
    }
   ],
   "source": [
    "theta0 = 1\n",
    "theta1 = 1\n",
    "N = 100\n",
    "# Y =  2*X[:, 1]+ 3*X[:, 2] + 1 + np.random.normal(scale=5, size=N)\n",
    "Y =  3*X[:, 0] + X[:, 1]+ 2*X[:, 2] + 1 + np.random.normal(scale=5, size=N)\n",
    "for _ in range(EPOCHS):\n",
    "    dt0 = der_theta0(X, Y, theta0, theta1)\n",
    "    dt1 = der_theta1(X, Y, theta0, theta1)\n",
    "    \n",
    "    theta0 = theta0 - LEARNING_RATE * dt0\n",
    "    theta1 -= LEARNING_RATE * dt1\n",
    "    \n",
    "    print(\"t0:\", theta0, \"t1:\", theta1, \"cost:\", cost_function(X, y, theta0, theta1))"
   ],
   "metadata": {
    "collapsed": false,
    "ExecuteTime": {
     "end_time": "2023-10-02T12:38:05.605798700Z",
     "start_time": "2023-10-02T12:38:05.224230900Z"
    }
   },
   "id": "84ead84a347453ab"
  },
  {
   "cell_type": "code",
   "execution_count": 34,
   "outputs": [
    {
     "data": {
      "text/plain": "array([  97.29180684, 2276.03077387,  251.6759359 ])"
     },
     "execution_count": 34,
     "metadata": {},
     "output_type": "execute_result"
    }
   ],
   "source": [
    "cost_function(X,Y,10,10)"
   ],
   "metadata": {
    "collapsed": false,
    "ExecuteTime": {
     "end_time": "2023-10-02T12:38:05.616311300Z",
     "start_time": "2023-10-02T12:38:05.598785800Z"
    }
   },
   "id": "30bf7061dd8f5b0f"
  },
  {
   "cell_type": "code",
   "execution_count": 35,
   "outputs": [],
   "source": [
    "EPOCHS = 250\n",
    "LEARNING_RATE = 0.0001\n",
    "costs = []\n",
    "params = []\n",
    "preds = []\n",
    "np.random.seed(9)\n",
    "params = np.random.normal(size=(X.shape[0],X.shape[1]))\n",
    "# print(params)\n",
    "\n",
    "list_params_gd = []\n",
    "for _ in range(EPOCHS):\n",
    "    predictions = params[:, 0] * X[:, 0] + params[:, 1] * X[:, 1] + params[:, 2] * X[:, 2]\n",
    "    preds.append(predictions)\n",
    "\n",
    "    cost = np.sum((predictions - Y) ** 2) / len(predictions)\n",
    "    costs.append(cost)\n",
    "    \n",
    "    params[0] -= LEARNING_RATE * np.sum(predictions - Y) * (2/len(predictions))\n",
    "    params[1] -= LEARNING_RATE * np.sum((predictions - Y) * X[:, 1]) * (2/len(predictions))    \n",
    "    params[2] -= LEARNING_RATE * np.sum((predictions - Y) * X[:, 2]) * (2/len(predictions)) \n",
    "    \n",
    "    list_params_gd.append(params.copy())"
   ],
   "metadata": {
    "collapsed": false,
    "ExecuteTime": {
     "end_time": "2023-10-02T12:38:05.681530100Z",
     "start_time": "2023-10-02T12:38:05.611308600Z"
    }
   },
   "id": "e4514eddcf49e627"
  },
  {
   "cell_type": "code",
   "execution_count": 36,
   "outputs": [
    {
     "data": {
      "text/plain": "184.64330266354227"
     },
     "execution_count": 36,
     "metadata": {},
     "output_type": "execute_result"
    }
   ],
   "source": [
    "costs[-1]"
   ],
   "metadata": {
    "collapsed": false,
    "ExecuteTime": {
     "end_time": "2023-10-02T12:38:05.698534700Z",
     "start_time": "2023-10-02T12:38:05.649354400Z"
    }
   },
   "id": "5244df90174b4551"
  },
  {
   "cell_type": "code",
   "execution_count": 37,
   "outputs": [
    {
     "data": {
      "text/plain": "<Figure size 800x640 with 1 Axes>",
      "image/png": "[encoded data removed]"
     },
     "metadata": {},
     "output_type": "display_data"
    }
   ],
   "source": [
    "plt.figure(figsize=(10, 8))\n",
    "plt.plot(costs)\n",
    "plt.show()"
   ],
   "metadata": {
    "collapsed": false,
    "ExecuteTime": {
     "end_time": "2023-10-02T12:38:05.828074400Z",
     "start_time": "2023-10-02T12:38:05.668529800Z"
    }
   },
   "id": "4c9171f87418f2af"
  },
  {
   "cell_type": "code",
   "execution_count": 38,
   "outputs": [
    {
     "data": {
      "text/plain": "<Figure size 800x640 with 1 Axes>",
      "image/png": "[encoded data removed]"
     },
     "metadata": {},
     "output_type": "display_data"
    }
   ],
   "source": [
    "plt.figure(figsize=(10, 8))\n",
    "plt.scatter(X[:, 1], Y, color='blue', label='Train')\n",
    "plt.scatter(X[:,1], preds[-1], color='red', label='Pred', alpha=0.5)\n",
    "plt.legend()\n",
    "plt.show()"
   ],
   "metadata": {
    "collapsed": false,
    "ExecuteTime": {
     "end_time": "2023-10-02T12:38:06.106735Z",
     "start_time": "2023-10-02T12:38:05.831076100Z"
    }
   },
   "id": "b9e3a5b6c4667c7d"
  },
  {
   "cell_type": "code",
   "execution_count": 39,
   "outputs": [
    {
     "data": {
      "text/plain": "array([[ 5.45439193e-01,  2.54786569e-01, -5.71735664e-01],\n       [ 2.75871436e+00,  2.39323566e+00,  2.29046176e+00],\n       [-5.51459541e-01,  4.74999657e-01,  7.25191059e-01],\n       [-6.47947460e-01,  6.35891080e-01,  1.74011731e+00],\n       [ 2.96682218e-01,  7.07503662e-01,  1.82281576e+00],\n       [ 4.30769029e-01,  1.54272963e+00, -9.00721171e-01],\n       [-1.37125010e-01,  1.29757901e+00,  6.75271167e-01],\n       [ 3.19581170e-02,  9.18145896e-01,  3.80509466e-01],\n       [ 5.16367487e-01, -3.55239458e-01,  2.08777001e-01],\n       [ 3.28411076e-01, -4.98224766e-01, -2.09177677e+00],\n       [-8.25877406e-02,  2.45518265e+00, -2.67211000e+00],\n       [-9.13279281e-01, -2.27314357e-01,  2.69315377e-01],\n       [ 1.13046126e+00,  1.04239745e+00,  1.30381044e+00],\n       [ 1.38940073e+00, -6.56452578e-01, -5.62572959e-02],\n       [-4.99902620e-01,  4.36419381e-01, -3.75813047e-01],\n       [-9.23061583e-01,  1.91725024e+00, -1.50302842e-01],\n       [-6.38729756e-01,  8.24770331e-01, -1.21083874e+00],\n       [-5.03405377e-01, -7.01915693e-01, -1.97427103e+00],\n       [-2.65573217e+00, -5.76822488e-02, -6.56186586e-01],\n       [-6.61706713e-01,  7.69348439e-01, -8.99004892e-01],\n       [ 1.69363792e+00, -1.69733524e+00, -2.79337021e+00],\n       [-2.26150651e-01,  3.97428841e-01,  1.65970362e+00],\n       [-4.93746814e-01, -3.76097684e-01, -1.69739770e-01],\n       [ 2.41710632e+00, -1.80884049e+00,  3.39751152e-01],\n       [-2.27297604e-02, -9.59997079e-01, -3.83114421e-01],\n       [ 1.09529995e-01, -8.55162838e-01,  2.21606664e-04],\n       [ 6.63855061e-01,  7.49480948e-01, -4.65818372e-01],\n       [-2.77439271e-01,  3.54995339e-02,  8.48221165e-01],\n       [ 1.62998557e-01,  1.20862361e+00,  5.02520774e-01],\n       [-1.58382211e+00,  1.02303349e+00, -6.53017409e-01],\n       [ 5.37045101e-01, -7.97706235e-03,  9.24784170e-01],\n       [ 4.66083330e-02,  1.42019868e-01, -1.65366138e+00],\n       [ 1.36799210e+00,  2.51062457e-02, -3.95482251e-01],\n       [ 1.28438755e+00,  5.61277046e-01,  2.39725501e-01],\n       [ 4.79899114e-01,  6.17529528e-02, -1.07051231e+00],\n       [-1.27321003e+00,  9.20076119e-01,  1.05491851e+00],\n       [ 5.40288051e-01,  3.09063517e-01,  9.70861201e-01],\n       [ 1.15472410e+00,  4.22608809e-01,  9.99208934e-01],\n       [ 8.83520232e-01, -5.30199181e-01,  8.14134818e-01],\n       [-1.01988418e+00, -2.25823693e+00,  6.79954891e-01],\n       [-4.01764761e-01,  1.94032056e+00, -1.24440469e+00],\n       [ 9.39309892e-01, -2.40807910e-01,  2.70807245e-01],\n       [-1.09553963e+00,  2.40134297e+00, -2.79909743e-01],\n       [ 2.03080080e+00, -8.19394675e-02, -1.21862641e+00],\n       [-8.06870496e-01,  1.31804189e+00, -5.78638659e-01],\n       [ 8.20524990e-02,  1.39591049e+00,  1.08187963e+00],\n       [-1.01656093e+00, -2.91998304e-01,  1.55935821e+00],\n       [-5.46300185e-01,  9.60590707e-01,  2.11210521e-01],\n       [-1.24537145e+00,  3.04545097e-01, -5.98380459e-01],\n       [ 1.23065862e-01, -7.90837017e-01,  6.43894200e-01],\n       [-5.96503919e-02,  9.13246573e-01, -1.09057749e+00],\n       [-1.74850713e-01,  1.06527909e+00,  1.23723013e+00],\n       [ 1.01979597e+00,  8.60687326e-01, -7.32433856e-01],\n       [ 4.40224824e-01,  6.46064078e-01,  2.61912898e-01],\n       [ 7.07215342e-01, -4.36652074e-01,  7.93819172e-01],\n       [-2.60553079e-01, -8.39660502e-01, -1.47970732e+00],\n       [ 1.10739493e+00, -1.19675393e+00, -1.02723077e+00],\n       [-1.57112892e+00,  2.04297595e+00,  1.88998475e+00],\n       [-7.98661608e-01, -1.82478701e+00, -7.76053358e-01],\n       [-6.47596063e-01, -4.87334608e-01,  3.75263884e-01],\n       [-1.03600638e+00, -1.33923978e-01,  3.84878904e-01],\n       [ 3.54396915e-01,  3.42637624e-01, -5.97300834e-01],\n       [-1.88548229e-01,  7.00324972e-01, -1.32562343e+00],\n       [ 9.37028448e-01, -4.50689692e-01,  9.31129132e-01],\n       [-1.80543128e+00,  4.30398775e-01, -5.67293913e-01],\n       [ 1.06995573e+00, -1.21009582e-01, -1.03280471e+00],\n       [ 8.35280861e-01, -8.51920288e-01, -1.18494149e+00],\n       [-1.03075191e+00, -9.14885244e-01, -8.24207744e-01],\n       [-7.37330395e-01,  8.57564028e-01,  9.47187218e-01],\n       [ 1.19697190e+00,  1.89808405e+00,  5.24789638e-01],\n       [-1.40579483e-01, -1.29148224e+00, -4.74517368e-01],\n       [-6.06574278e-03,  1.30819821e+00, -6.51560230e-01],\n       [ 1.60263009e+00,  1.56452777e+00, -2.58063961e-01],\n       [-3.59221181e-01,  9.79303691e-03, -7.89930749e-01],\n       [-1.10380089e+00, -5.63769382e-01,  4.81348441e-01],\n       [-2.28405182e+00,  6.93268284e-01,  1.62451327e+00],\n       [ 1.23023252e+00,  1.64910477e+00, -1.48593292e+00],\n       [-1.07689224e+00,  1.58458029e+00,  3.88060536e-01],\n       [ 1.27547348e+00,  2.10970446e-01,  6.19835740e-01],\n       [-1.00229595e+00, -5.32611053e-01,  9.36027574e-01],\n       [ 1.79254414e-01, -3.70080958e-02,  8.42660027e-01],\n       [-8.13275375e-01, -1.67293813e+00, -8.50551840e-01],\n       [-2.81715340e-01,  1.51993142e+00, -9.59193973e-01],\n       [ 7.25390609e-01,  5.55428631e-01,  8.29749855e-01],\n       [ 1.46885817e+00, -3.82227922e-03,  1.05748684e+00],\n       [-9.83664955e-01,  1.08536073e+00,  3.65864949e-01],\n       [-1.09298759e+00, -2.23647171e+00, -1.23488876e-01],\n       [-1.78299000e-01,  2.21642054e+00,  2.25298146e+00],\n       [-1.00637441e+00,  1.00387258e+00, -1.24200751e-01],\n       [-1.52468148e-01, -1.30110967e+00, -2.74245879e-01],\n       [ 3.71210416e-01, -6.21145034e-01,  6.68889360e-01],\n       [ 1.21554691e-01,  1.75451386e+00,  7.96282330e-01],\n       [ 4.70908032e-01,  1.58530792e-01, -3.75213995e-01],\n       [ 9.62947632e-01, -5.59353403e-01,  7.54695181e-01],\n       [-3.50024018e-02,  1.69773273e-01,  2.01707042e+00],\n       [ 7.43194362e-01,  7.74970577e-01, -3.89381815e-01],\n       [ 2.90097538e-02,  2.04417474e-01, -7.29299155e-01],\n       [-9.43909541e-01,  2.48252302e-01,  1.29413230e+00],\n       [-1.17155439e+00,  1.41722360e-01, -6.88227964e-01],\n       [ 4.81370281e-01,  3.48110505e-01, -1.26629824e+00]])"
     },
     "execution_count": 39,
     "metadata": {},
     "output_type": "execute_result"
    }
   ],
   "source": [
    "params"
   ],
   "metadata": {
    "collapsed": false,
    "ExecuteTime": {
     "end_time": "2023-10-02T12:38:06.145709700Z",
     "start_time": "2023-10-02T12:38:06.099731900Z"
    }
   },
   "id": "7303fc248c0f75b7"
  },
  {
   "cell_type": "markdown",
   "source": [],
   "metadata": {
    "collapsed": false
   },
   "id": "8dfc2fab9485afeb"
  }
 ],
 "metadata": {
  "kernelspec": {
   "display_name": "Python 3",
   "language": "python",
   "name": "python3"
  },
  "language_info": {
   "codemirror_mode": {
    "name": "ipython",
    "version": 2
   },
   "file_extension": ".py",
   "mimetype": "text/x-python",
   "name": "python",
   "nbconvert_exporter": "python",
   "pygments_lexer": "ipython2",
   "version": "2.7.6"
  }
 },
 "nbformat": 4,
 "nbformat_minor": 5
}
