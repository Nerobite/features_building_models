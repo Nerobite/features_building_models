{
 "cells": [
  {
   "cell_type": "markdown",
   "source": [
    "Цель: изучить применение методов оптимизации для решения задачи классификации\n",
    "Описание задания:\n",
    "В домашнем задании необходимо применить полученные знания в теории оптимизации и машинном обучении для реализации логистической регрессии.\n",
    "Этапы работы:**\n",
    "\n",
    "Загрузите данные. Используйте датасет с ирисами. Его можно загрузить непосредственно из библиотеки Sklearn. В данных оставьте только 2 класса: Iris Versicolor, Iris Virginica.\n",
    "Самостоятельно реализуйте логистическую регрессию, без использования метода LogisticRegression из библиотеки. Можете использовать библиотеки pandas, numpy, math для реализации. Оформите в виде функции. *Оформите в виде класса с методами.\n",
    "Реализуйте метод градиентного спуска. Обучите логистическую регрессию этим методом. Выберете и посчитайте метрику качества. Метрика должна быть одинакова для всех пунктов домашнего задания. Для упрощения сравнения выберете только одну метрику.\n",
    "Повторите п. 3 для метода скользящего среднего (Root Mean Square Propagation, RMSProp).\n",
    "Повторите п. 3 для ускоренного по Нестерову метода адаптивной оценки моментов (Nesterov–accelerated Adaptive Moment Estimation, Nadam).\n",
    "Сравните значение метрик для реализованных методов оптимизации. Можно оформить в виде таблицы вида |метод|метрика|время работы| (время работы опционально). Напишите вывод.\n",
    "Для лучшего понимания темы и упрощения реализации можете обратиться к статье.\n",
    "\n",
    "Для получения зачета по этому домашнему заданию, минимально, должно быть реализовано обучение логистической регрессии и градиентный спуск.\n",
    "\n",
    "Результат: получены навыки реализации методов оптимизации в задаче бинарной классификации. Пройденные методы оптимизации используются и в нейросетях."
   ],
   "metadata": {
    "collapsed": false
   },
   "id": "cc1ac45de8095d57"
  },
  {
   "cell_type": "code",
   "execution_count": 2774,
   "outputs": [],
   "source": [
    "from sklearn.datasets import load_iris\n",
    "import pandas as pd\n",
    "import numpy as np\n",
    "import matplotlib.pyplot as plt\n",
    "import matplotlib as mpl\n",
    "mpl.rcParams['figure.dpi'] = 80"
   ],
   "metadata": {
    "collapsed": false,
    "ExecuteTime": {
     "end_time": "2023-09-28T18:10:29.969604200Z",
     "start_time": "2023-09-28T18:10:29.856346Z"
    }
   },
   "id": "d2338c3d188a2db2"
  },
  {
   "cell_type": "code",
   "execution_count": 2775,
   "outputs": [],
   "source": [
    "iris = load_iris(as_frame=True)"
   ],
   "metadata": {
    "collapsed": false,
    "ExecuteTime": {
     "end_time": "2023-09-28T18:10:30.013412700Z",
     "start_time": "2023-09-28T18:10:29.862326200Z"
    }
   },
   "id": "c2a222588309e853"
  },
  {
   "cell_type": "code",
   "execution_count": 2776,
   "outputs": [
    {
     "name": "stdout",
     "output_type": "stream",
     "text": [
      ".. _iris_dataset:\n",
      "\n",
      "Iris plants dataset\n",
      "--------------------\n",
      "\n",
      "**Data Set Characteristics:**\n",
      "\n",
      "    :Number of Instances: 150 (50 in each of three classes)\n",
      "    :Number of Attributes: 4 numeric, predictive attributes and the class\n",
      "    :Attribute Information:\n",
      "        - sepal length in cm\n",
      "        - sepal width in cm\n",
      "        - petal length in cm\n",
      "        - petal width in cm\n",
      "        - class:\n",
      "                - Iris-Setosa\n",
      "                - Iris-Versicolour\n",
      "                - Iris-Virginica\n",
      "                \n",
      "    :Summary Statistics:\n",
      "\n",
      "    ============== ==== ==== ======= ===== ====================\n",
      "                    Min  Max   Mean    SD   Class Correlation\n",
      "    ============== ==== ==== ======= ===== ====================\n",
      "    sepal length:   4.3  7.9   5.84   0.83    0.7826\n",
      "    sepal width:    2.0  4.4   3.05   0.43   -0.4194\n",
      "    petal length:   1.0  6.9   3.76   1.76    0.9490  (high!)\n",
      "    petal width:    0.1  2.5   1.20   0.76    0.9565  (high!)\n",
      "    ============== ==== ==== ======= ===== ====================\n",
      "\n",
      "    :Missing Attribute Values: None\n",
      "    :Class Distribution: 33.3% for each of 3 classes.\n",
      "    :Creator: R.A. Fisher\n",
      "    :Donor: Michael Marshall (MARSHALL%PLU@io.arc.nasa.gov)\n",
      "    :Date: July, 1988\n",
      "\n",
      "The famous Iris database, first used by Sir R.A. Fisher. The dataset is taken\n",
      "from Fisher's paper. Note that it's the same as in R, but not as in the UCI\n",
      "Machine Learning Repository, which has two wrong data points.\n",
      "\n",
      "This is perhaps the best known database to be found in the\n",
      "pattern recognition literature.  Fisher's paper is a classic in the field and\n",
      "is referenced frequently to this day.  (See Duda & Hart, for example.)  The\n",
      "data set contains 3 classes of 50 instances each, where each class refers to a\n",
      "type of iris plant.  One class is linearly separable from the other 2; the\n",
      "latter are NOT linearly separable from each other.\n",
      "\n",
      "|details-start|\n",
      "**References**\n",
      "|details-split|\n",
      "\n",
      "- Fisher, R.A. \"The use of multiple measurements in taxonomic problems\"\n",
      "  Annual Eugenics, 7, Part II, 179-188 (1936); also in \"Contributions to\n",
      "  Mathematical Statistics\" (John Wiley, NY, 1950).\n",
      "- Duda, R.O., & Hart, P.E. (1973) Pattern Classification and Scene Analysis.\n",
      "  (Q327.D83) John Wiley & Sons.  ISBN 0-471-22361-1.  See page 218.\n",
      "- Dasarathy, B.V. (1980) \"Nosing Around the Neighborhood: A New System\n",
      "  Structure and Classification Rule for Recognition in Partially Exposed\n",
      "  Environments\".  IEEE Transactions on Pattern Analysis and Machine\n",
      "  Intelligence, Vol. PAMI-2, No. 1, 67-71.\n",
      "- Gates, G.W. (1972) \"The Reduced Nearest Neighbor Rule\".  IEEE Transactions\n",
      "  on Information Theory, May 1972, 431-433.\n",
      "- See also: 1988 MLC Proceedings, 54-64.  Cheeseman et al\"s AUTOCLASS II\n",
      "  conceptual clustering system finds 3 classes in the data.\n",
      "- Many, many more ...\n",
      "\n",
      "|details-end|\n"
     ]
    }
   ],
   "source": [
    "print(iris.DESCR)"
   ],
   "metadata": {
    "collapsed": false,
    "ExecuteTime": {
     "end_time": "2023-09-28T18:10:30.107328900Z",
     "start_time": "2023-09-28T18:10:29.871255600Z"
    }
   },
   "id": "565f1f946ff2eac6"
  },
  {
   "cell_type": "code",
   "execution_count": 2777,
   "outputs": [
    {
     "data": {
      "text/plain": "{'data':      sepal length (cm)  sepal width (cm)  petal length (cm)  petal width (cm)\n 0                  5.1               3.5                1.4               0.2\n 1                  4.9               3.0                1.4               0.2\n 2                  4.7               3.2                1.3               0.2\n 3                  4.6               3.1                1.5               0.2\n 4                  5.0               3.6                1.4               0.2\n ..                 ...               ...                ...               ...\n 145                6.7               3.0                5.2               2.3\n 146                6.3               2.5                5.0               1.9\n 147                6.5               3.0                5.2               2.0\n 148                6.2               3.4                5.4               2.3\n 149                5.9               3.0                5.1               1.8\n \n [150 rows x 4 columns],\n 'target': 0      0\n 1      0\n 2      0\n 3      0\n 4      0\n       ..\n 145    2\n 146    2\n 147    2\n 148    2\n 149    2\n Name: target, Length: 150, dtype: int32,\n 'frame':      sepal length (cm)  sepal width (cm)  petal length (cm)  petal width (cm)  \\\n 0                  5.1               3.5                1.4               0.2   \n 1                  4.9               3.0                1.4               0.2   \n 2                  4.7               3.2                1.3               0.2   \n 3                  4.6               3.1                1.5               0.2   \n 4                  5.0               3.6                1.4               0.2   \n ..                 ...               ...                ...               ...   \n 145                6.7               3.0                5.2               2.3   \n 146                6.3               2.5                5.0               1.9   \n 147                6.5               3.0                5.2               2.0   \n 148                6.2               3.4                5.4               2.3   \n 149                5.9               3.0                5.1               1.8   \n \n      target  \n 0         0  \n 1         0  \n 2         0  \n 3         0  \n 4         0  \n ..      ...  \n 145       2  \n 146       2  \n 147       2  \n 148       2  \n 149       2  \n \n [150 rows x 5 columns],\n 'target_names': array(['setosa', 'versicolor', 'virginica'], dtype='<U10'),\n 'DESCR': '.. _iris_dataset:\\n\\nIris plants dataset\\n--------------------\\n\\n**Data Set Characteristics:**\\n\\n    :Number of Instances: 150 (50 in each of three classes)\\n    :Number of Attributes: 4 numeric, predictive attributes and the class\\n    :Attribute Information:\\n        - sepal length in cm\\n        - sepal width in cm\\n        - petal length in cm\\n        - petal width in cm\\n        - class:\\n                - Iris-Setosa\\n                - Iris-Versicolour\\n                - Iris-Virginica\\n                \\n    :Summary Statistics:\\n\\n    ============== ==== ==== ======= ===== ====================\\n                    Min  Max   Mean    SD   Class Correlation\\n    ============== ==== ==== ======= ===== ====================\\n    sepal length:   4.3  7.9   5.84   0.83    0.7826\\n    sepal width:    2.0  4.4   3.05   0.43   -0.4194\\n    petal length:   1.0  6.9   3.76   1.76    0.9490  (high!)\\n    petal width:    0.1  2.5   1.20   0.76    0.9565  (high!)\\n    ============== ==== ==== ======= ===== ====================\\n\\n    :Missing Attribute Values: None\\n    :Class Distribution: 33.3% for each of 3 classes.\\n    :Creator: R.A. Fisher\\n    :Donor: Michael Marshall (MARSHALL%PLU@io.arc.nasa.gov)\\n    :Date: July, 1988\\n\\nThe famous Iris database, first used by Sir R.A. Fisher. The dataset is taken\\nfrom Fisher\\'s paper. Note that it\\'s the same as in R, but not as in the UCI\\nMachine Learning Repository, which has two wrong data points.\\n\\nThis is perhaps the best known database to be found in the\\npattern recognition literature.  Fisher\\'s paper is a classic in the field and\\nis referenced frequently to this day.  (See Duda & Hart, for example.)  The\\ndata set contains 3 classes of 50 instances each, where each class refers to a\\ntype of iris plant.  One class is linearly separable from the other 2; the\\nlatter are NOT linearly separable from each other.\\n\\n|details-start|\\n**References**\\n|details-split|\\n\\n- Fisher, R.A. \"The use of multiple measurements in taxonomic problems\"\\n  Annual Eugenics, 7, Part II, 179-188 (1936); also in \"Contributions to\\n  Mathematical Statistics\" (John Wiley, NY, 1950).\\n- Duda, R.O., & Hart, P.E. (1973) Pattern Classification and Scene Analysis.\\n  (Q327.D83) John Wiley & Sons.  ISBN 0-471-22361-1.  See page 218.\\n- Dasarathy, B.V. (1980) \"Nosing Around the Neighborhood: A New System\\n  Structure and Classification Rule for Recognition in Partially Exposed\\n  Environments\".  IEEE Transactions on Pattern Analysis and Machine\\n  Intelligence, Vol. PAMI-2, No. 1, 67-71.\\n- Gates, G.W. (1972) \"The Reduced Nearest Neighbor Rule\".  IEEE Transactions\\n  on Information Theory, May 1972, 431-433.\\n- See also: 1988 MLC Proceedings, 54-64.  Cheeseman et al\"s AUTOCLASS II\\n  conceptual clustering system finds 3 classes in the data.\\n- Many, many more ...\\n\\n|details-end|',\n 'feature_names': ['sepal length (cm)',\n  'sepal width (cm)',\n  'petal length (cm)',\n  'petal width (cm)'],\n 'filename': 'iris.csv',\n 'data_module': 'sklearn.datasets.data'}"
     },
     "execution_count": 2777,
     "metadata": {},
     "output_type": "execute_result"
    }
   ],
   "source": [
    "iris"
   ],
   "metadata": {
    "collapsed": false,
    "ExecuteTime": {
     "end_time": "2023-09-28T18:10:30.114722100Z",
     "start_time": "2023-09-28T18:10:29.878565900Z"
    }
   },
   "id": "cb86235b6b4a92c2"
  },
  {
   "cell_type": "code",
   "execution_count": 2778,
   "outputs": [
    {
     "data": {
      "text/plain": "['setosa', 'versicolor', 'virginica']"
     },
     "execution_count": 2778,
     "metadata": {},
     "output_type": "execute_result"
    }
   ],
   "source": [
    "# загружаем данные в датафрейм\n",
    "data = pd.DataFrame(iris.frame)\n",
    "list(iris.target_names)"
   ],
   "metadata": {
    "collapsed": false,
    "ExecuteTime": {
     "end_time": "2023-09-28T18:10:30.116880700Z",
     "start_time": "2023-09-28T18:10:29.894904400Z"
    }
   },
   "id": "50799e6c4b3c3a04"
  },
  {
   "cell_type": "code",
   "execution_count": 2779,
   "outputs": [
    {
     "data": {
      "text/plain": "     sepal length (cm)  sepal width (cm)  petal length (cm)  petal width (cm)  \\\n0                  5.1               3.5                1.4               0.2   \n1                  4.9               3.0                1.4               0.2   \n2                  4.7               3.2                1.3               0.2   \n3                  4.6               3.1                1.5               0.2   \n4                  5.0               3.6                1.4               0.2   \n..                 ...               ...                ...               ...   \n145                6.7               3.0                5.2               2.3   \n146                6.3               2.5                5.0               1.9   \n147                6.5               3.0                5.2               2.0   \n148                6.2               3.4                5.4               2.3   \n149                5.9               3.0                5.1               1.8   \n\n     target  \n0         0  \n1         0  \n2         0  \n3         0  \n4         0  \n..      ...  \n145       2  \n146       2  \n147       2  \n148       2  \n149       2  \n\n[150 rows x 5 columns]",
      "text/html": "<div>\n<style scoped>\n    .dataframe tbody tr th:only-of-type {\n        vertical-align: middle;\n    }\n\n    .dataframe tbody tr th {\n        vertical-align: top;\n    }\n\n    .dataframe thead th {\n        text-align: right;\n    }\n</style>\n<table border=\"1\" class=\"dataframe\">\n  <thead>\n    <tr style=\"text-align: right;\">\n      <th></th>\n      <th>sepal length (cm)</th>\n      <th>sepal width (cm)</th>\n      <th>petal length (cm)</th>\n      <th>petal width (cm)</th>\n      <th>target</th>\n    </tr>\n  </thead>\n  <tbody>\n    <tr>\n      <th>0</th>\n      <td>5.1</td>\n      <td>3.5</td>\n      <td>1.4</td>\n      <td>0.2</td>\n      <td>0</td>\n    </tr>\n    <tr>\n      <th>1</th>\n      <td>4.9</td>\n      <td>3.0</td>\n      <td>1.4</td>\n      <td>0.2</td>\n      <td>0</td>\n    </tr>\n    <tr>\n      <th>2</th>\n      <td>4.7</td>\n      <td>3.2</td>\n      <td>1.3</td>\n      <td>0.2</td>\n      <td>0</td>\n    </tr>\n    <tr>\n      <th>3</th>\n      <td>4.6</td>\n      <td>3.1</td>\n      <td>1.5</td>\n      <td>0.2</td>\n      <td>0</td>\n    </tr>\n    <tr>\n      <th>4</th>\n      <td>5.0</td>\n      <td>3.6</td>\n      <td>1.4</td>\n      <td>0.2</td>\n      <td>0</td>\n    </tr>\n    <tr>\n      <th>...</th>\n      <td>...</td>\n      <td>...</td>\n      <td>...</td>\n      <td>...</td>\n      <td>...</td>\n    </tr>\n    <tr>\n      <th>145</th>\n      <td>6.7</td>\n      <td>3.0</td>\n      <td>5.2</td>\n      <td>2.3</td>\n      <td>2</td>\n    </tr>\n    <tr>\n      <th>146</th>\n      <td>6.3</td>\n      <td>2.5</td>\n      <td>5.0</td>\n      <td>1.9</td>\n      <td>2</td>\n    </tr>\n    <tr>\n      <th>147</th>\n      <td>6.5</td>\n      <td>3.0</td>\n      <td>5.2</td>\n      <td>2.0</td>\n      <td>2</td>\n    </tr>\n    <tr>\n      <th>148</th>\n      <td>6.2</td>\n      <td>3.4</td>\n      <td>5.4</td>\n      <td>2.3</td>\n      <td>2</td>\n    </tr>\n    <tr>\n      <th>149</th>\n      <td>5.9</td>\n      <td>3.0</td>\n      <td>5.1</td>\n      <td>1.8</td>\n      <td>2</td>\n    </tr>\n  </tbody>\n</table>\n<p>150 rows × 5 columns</p>\n</div>"
     },
     "execution_count": 2779,
     "metadata": {},
     "output_type": "execute_result"
    }
   ],
   "source": [
    "data"
   ],
   "metadata": {
    "collapsed": false,
    "ExecuteTime": {
     "end_time": "2023-09-28T18:10:30.116880700Z",
     "start_time": "2023-09-28T18:10:29.901534Z"
    }
   },
   "id": "de2c1da8837ad684"
  },
  {
   "cell_type": "markdown",
   "source": [
    "Т.к. нам необходимы только Iris Versicolor, Iris Virginica, удаляем Iris Setosa, так же оставим только два критерия 'petal length (cm)','petal width (cm)' "
   ],
   "metadata": {
    "collapsed": false
   },
   "id": "c05c2287e3f55222"
  },
  {
   "cell_type": "code",
   "execution_count": 2780,
   "outputs": [],
   "source": [
    "iris_df = data.loc[data['target']!=0]\n",
    "y = iris_df['target']\n",
    "iris_df = iris_df.drop(columns=['sepal length (cm)', 'sepal width (cm)', 'target'])\n",
    "# iris_df = iris_df.drop(columns=['petal length (cm)', 'petal width (cm)', 'target'])"
   ],
   "metadata": {
    "collapsed": false,
    "ExecuteTime": {
     "end_time": "2023-09-28T18:10:30.116880700Z",
     "start_time": "2023-09-28T18:10:29.913562800Z"
    }
   },
   "id": "f5c9ceb24137fbdd"
  },
  {
   "cell_type": "code",
   "execution_count": 2781,
   "outputs": [
    {
     "name": "stdout",
     "output_type": "stream",
     "text": [
      "<class 'pandas.core.frame.DataFrame'>\n",
      "Index: 100 entries, 50 to 149\n",
      "Data columns (total 2 columns):\n",
      " #   Column             Non-Null Count  Dtype  \n",
      "---  ------             --------------  -----  \n",
      " 0   petal length (cm)  100 non-null    float64\n",
      " 1   petal width (cm)   100 non-null    float64\n",
      "dtypes: float64(2)\n",
      "memory usage: 2.3 KB\n"
     ]
    }
   ],
   "source": [
    "iris_df.info()"
   ],
   "metadata": {
    "collapsed": false,
    "ExecuteTime": {
     "end_time": "2023-09-28T18:10:30.116880700Z",
     "start_time": "2023-09-28T18:10:29.919468600Z"
    }
   },
   "id": "2ca395cbb865b4f6"
  },
  {
   "cell_type": "code",
   "execution_count": 2782,
   "outputs": [],
   "source": [
    "X = iris_df.to_numpy(copy=True)\n",
    "y = y.to_numpy(copy=True)"
   ],
   "metadata": {
    "collapsed": false,
    "ExecuteTime": {
     "end_time": "2023-09-28T18:10:30.116880700Z",
     "start_time": "2023-09-28T18:10:29.929904900Z"
    }
   },
   "id": "122acc35c43b1705"
  },
  {
   "cell_type": "code",
   "execution_count": 2783,
   "outputs": [
    {
     "data": {
      "text/plain": "array([[4.7, 1.4],\n       [4.5, 1.5],\n       [4.9, 1.5],\n       [4. , 1.3],\n       [4.6, 1.5],\n       [4.5, 1.3],\n       [4.7, 1.6],\n       [3.3, 1. ],\n       [4.6, 1.3],\n       [3.9, 1.4],\n       [3.5, 1. ],\n       [4.2, 1.5],\n       [4. , 1. ],\n       [4.7, 1.4],\n       [3.6, 1.3],\n       [4.4, 1.4],\n       [4.5, 1.5],\n       [4.1, 1. ],\n       [4.5, 1.5],\n       [3.9, 1.1],\n       [4.8, 1.8],\n       [4. , 1.3],\n       [4.9, 1.5],\n       [4.7, 1.2],\n       [4.3, 1.3],\n       [4.4, 1.4],\n       [4.8, 1.4],\n       [5. , 1.7],\n       [4.5, 1.5],\n       [3.5, 1. ],\n       [3.8, 1.1],\n       [3.7, 1. ],\n       [3.9, 1.2],\n       [5.1, 1.6],\n       [4.5, 1.5],\n       [4.5, 1.6],\n       [4.7, 1.5],\n       [4.4, 1.3],\n       [4.1, 1.3],\n       [4. , 1.3],\n       [4.4, 1.2],\n       [4.6, 1.4],\n       [4. , 1.2],\n       [3.3, 1. ],\n       [4.2, 1.3],\n       [4.2, 1.2],\n       [4.2, 1.3],\n       [4.3, 1.3],\n       [3. , 1.1],\n       [4.1, 1.3],\n       [6. , 2.5],\n       [5.1, 1.9],\n       [5.9, 2.1],\n       [5.6, 1.8],\n       [5.8, 2.2],\n       [6.6, 2.1],\n       [4.5, 1.7],\n       [6.3, 1.8],\n       [5.8, 1.8],\n       [6.1, 2.5],\n       [5.1, 2. ],\n       [5.3, 1.9],\n       [5.5, 2.1],\n       [5. , 2. ],\n       [5.1, 2.4],\n       [5.3, 2.3],\n       [5.5, 1.8],\n       [6.7, 2.2],\n       [6.9, 2.3],\n       [5. , 1.5],\n       [5.7, 2.3],\n       [4.9, 2. ],\n       [6.7, 2. ],\n       [4.9, 1.8],\n       [5.7, 2.1],\n       [6. , 1.8],\n       [4.8, 1.8],\n       [4.9, 1.8],\n       [5.6, 2.1],\n       [5.8, 1.6],\n       [6.1, 1.9],\n       [6.4, 2. ],\n       [5.6, 2.2],\n       [5.1, 1.5],\n       [5.6, 1.4],\n       [6.1, 2.3],\n       [5.6, 2.4],\n       [5.5, 1.8],\n       [4.8, 1.8],\n       [5.4, 2.1],\n       [5.6, 2.4],\n       [5.1, 2.3],\n       [5.1, 1.9],\n       [5.9, 2.3],\n       [5.7, 2.5],\n       [5.2, 2.3],\n       [5. , 1.9],\n       [5.2, 2. ],\n       [5.4, 2.3],\n       [5.1, 1.8]])"
     },
     "metadata": {},
     "output_type": "display_data"
    },
    {
     "data": {
      "text/plain": "array([1, 1, 1, 1, 1, 1, 1, 1, 1, 1, 1, 1, 1, 1, 1, 1, 1, 1, 1, 1, 1, 1,\n       1, 1, 1, 1, 1, 1, 1, 1, 1, 1, 1, 1, 1, 1, 1, 1, 1, 1, 1, 1, 1, 1,\n       1, 1, 1, 1, 1, 1, 2, 2, 2, 2, 2, 2, 2, 2, 2, 2, 2, 2, 2, 2, 2, 2,\n       2, 2, 2, 2, 2, 2, 2, 2, 2, 2, 2, 2, 2, 2, 2, 2, 2, 2, 2, 2, 2, 2,\n       2, 2, 2, 2, 2, 2, 2, 2, 2, 2, 2, 2])"
     },
     "metadata": {},
     "output_type": "display_data"
    }
   ],
   "source": [
    "display(X, y)"
   ],
   "metadata": {
    "collapsed": false,
    "ExecuteTime": {
     "end_time": "2023-09-28T18:10:30.117880800Z",
     "start_time": "2023-09-28T18:10:29.934699700Z"
    }
   },
   "id": "2d49063d62103088"
  },
  {
   "cell_type": "code",
   "execution_count": 2784,
   "outputs": [
    {
     "data": {
      "text/plain": "array([0, 0, 0, 0, 0, 0, 0, 0, 0, 0, 0, 0, 0, 0, 0, 0, 0, 0, 0, 0, 0, 0,\n       0, 0, 0, 0, 0, 0, 0, 0, 0, 0, 0, 0, 0, 0, 0, 0, 0, 0, 0, 0, 0, 0,\n       0, 0, 0, 0, 0, 0, 1, 1, 1, 1, 1, 1, 1, 1, 1, 1, 1, 1, 1, 1, 1, 1,\n       1, 1, 1, 1, 1, 1, 1, 1, 1, 1, 1, 1, 1, 1, 1, 1, 1, 1, 1, 1, 1, 1,\n       1, 1, 1, 1, 1, 1, 1, 1, 1, 1, 1, 1])"
     },
     "execution_count": 2784,
     "metadata": {},
     "output_type": "execute_result"
    }
   ],
   "source": [
    "y[y==1] = 0\n",
    "y[y==2] = 1\n",
    "y"
   ],
   "metadata": {
    "collapsed": false,
    "ExecuteTime": {
     "end_time": "2023-09-28T18:10:30.117880800Z",
     "start_time": "2023-09-28T18:10:29.946762900Z"
    }
   },
   "id": "2a5879545ccd5356"
  },
  {
   "cell_type": "code",
   "execution_count": 2785,
   "outputs": [
    {
     "data": {
      "text/plain": "array([[4.7, 1.4],\n       [4.5, 1.5],\n       [4.9, 1.5],\n       [4. , 1.3],\n       [4.6, 1.5],\n       [4.5, 1.3],\n       [4.7, 1.6],\n       [3.3, 1. ],\n       [4.6, 1.3],\n       [3.9, 1.4],\n       [3.5, 1. ],\n       [4.2, 1.5],\n       [4. , 1. ],\n       [4.7, 1.4],\n       [3.6, 1.3],\n       [4.4, 1.4],\n       [4.5, 1.5],\n       [4.1, 1. ],\n       [4.5, 1.5],\n       [3.9, 1.1],\n       [4.8, 1.8],\n       [4. , 1.3],\n       [4.9, 1.5],\n       [4.7, 1.2],\n       [4.3, 1.3],\n       [4.4, 1.4],\n       [4.8, 1.4],\n       [5. , 1.7],\n       [4.5, 1.5],\n       [3.5, 1. ],\n       [3.8, 1.1],\n       [3.7, 1. ],\n       [3.9, 1.2],\n       [5.1, 1.6],\n       [4.5, 1.5],\n       [4.5, 1.6],\n       [4.7, 1.5],\n       [4.4, 1.3],\n       [4.1, 1.3],\n       [4. , 1.3],\n       [4.4, 1.2],\n       [4.6, 1.4],\n       [4. , 1.2],\n       [3.3, 1. ],\n       [4.2, 1.3],\n       [4.2, 1.2],\n       [4.2, 1.3],\n       [4.3, 1.3],\n       [3. , 1.1],\n       [4.1, 1.3],\n       [6. , 2.5],\n       [5.1, 1.9],\n       [5.9, 2.1],\n       [5.6, 1.8],\n       [5.8, 2.2],\n       [6.6, 2.1],\n       [4.5, 1.7],\n       [6.3, 1.8],\n       [5.8, 1.8],\n       [6.1, 2.5],\n       [5.1, 2. ],\n       [5.3, 1.9],\n       [5.5, 2.1],\n       [5. , 2. ],\n       [5.1, 2.4],\n       [5.3, 2.3],\n       [5.5, 1.8],\n       [6.7, 2.2],\n       [6.9, 2.3],\n       [5. , 1.5],\n       [5.7, 2.3],\n       [4.9, 2. ],\n       [6.7, 2. ],\n       [4.9, 1.8],\n       [5.7, 2.1],\n       [6. , 1.8],\n       [4.8, 1.8],\n       [4.9, 1.8],\n       [5.6, 2.1],\n       [5.8, 1.6],\n       [6.1, 1.9],\n       [6.4, 2. ],\n       [5.6, 2.2],\n       [5.1, 1.5],\n       [5.6, 1.4],\n       [6.1, 2.3],\n       [5.6, 2.4],\n       [5.5, 1.8],\n       [4.8, 1.8],\n       [5.4, 2.1],\n       [5.6, 2.4],\n       [5.1, 2.3],\n       [5.1, 1.9],\n       [5.9, 2.3],\n       [5.7, 2.5],\n       [5.2, 2.3],\n       [5. , 1.9],\n       [5.2, 2. ],\n       [5.4, 2.3],\n       [5.1, 1.8]])"
     },
     "execution_count": 2785,
     "metadata": {},
     "output_type": "execute_result"
    }
   ],
   "source": [
    "X"
   ],
   "metadata": {
    "collapsed": false,
    "ExecuteTime": {
     "end_time": "2023-09-28T18:10:30.117880800Z",
     "start_time": "2023-09-28T18:10:29.951763600Z"
    }
   },
   "id": "96057fd22cb3475c"
  },
  {
   "cell_type": "code",
   "execution_count": 2786,
   "outputs": [
    {
     "data": {
      "text/plain": "<matplotlib.collections.PathCollection at 0x1736c2bf490>"
     },
     "execution_count": 2786,
     "metadata": {},
     "output_type": "execute_result"
    },
    {
     "data": {
      "text/plain": "<Figure size 800x480 with 1 Axes>",
      "image/png": "[encoded data removed]"
     },
     "metadata": {},
     "output_type": "display_data"
    }
   ],
   "source": [
    "plt.figure(figsize=(10,6))\n",
    "plt.scatter(X[:, 0], X[:, 1], c=y)"
   ],
   "metadata": {
    "collapsed": false,
    "ExecuteTime": {
     "end_time": "2023-09-28T18:10:30.119881Z",
     "start_time": "2023-09-28T18:10:29.959506300Z"
    }
   },
   "id": "68f1828d4c367b4c"
  },
  {
   "cell_type": "markdown",
   "source": [
    "Реализация линейной регрессии"
   ],
   "metadata": {
    "collapsed": false
   },
   "id": "7214a9029a6b1826"
  },
  {
   "cell_type": "code",
   "execution_count": 2787,
   "outputs": [
    {
     "data": {
      "text/plain": "array([[1. , 4.7, 1.4],\n       [1. , 4.5, 1.5],\n       [1. , 4.9, 1.5],\n       [1. , 4. , 1.3],\n       [1. , 4.6, 1.5],\n       [1. , 4.5, 1.3],\n       [1. , 4.7, 1.6],\n       [1. , 3.3, 1. ],\n       [1. , 4.6, 1.3],\n       [1. , 3.9, 1.4],\n       [1. , 3.5, 1. ],\n       [1. , 4.2, 1.5],\n       [1. , 4. , 1. ],\n       [1. , 4.7, 1.4],\n       [1. , 3.6, 1.3],\n       [1. , 4.4, 1.4],\n       [1. , 4.5, 1.5],\n       [1. , 4.1, 1. ],\n       [1. , 4.5, 1.5],\n       [1. , 3.9, 1.1],\n       [1. , 4.8, 1.8],\n       [1. , 4. , 1.3],\n       [1. , 4.9, 1.5],\n       [1. , 4.7, 1.2],\n       [1. , 4.3, 1.3],\n       [1. , 4.4, 1.4],\n       [1. , 4.8, 1.4],\n       [1. , 5. , 1.7],\n       [1. , 4.5, 1.5],\n       [1. , 3.5, 1. ],\n       [1. , 3.8, 1.1],\n       [1. , 3.7, 1. ],\n       [1. , 3.9, 1.2],\n       [1. , 5.1, 1.6],\n       [1. , 4.5, 1.5],\n       [1. , 4.5, 1.6],\n       [1. , 4.7, 1.5],\n       [1. , 4.4, 1.3],\n       [1. , 4.1, 1.3],\n       [1. , 4. , 1.3],\n       [1. , 4.4, 1.2],\n       [1. , 4.6, 1.4],\n       [1. , 4. , 1.2],\n       [1. , 3.3, 1. ],\n       [1. , 4.2, 1.3],\n       [1. , 4.2, 1.2],\n       [1. , 4.2, 1.3],\n       [1. , 4.3, 1.3],\n       [1. , 3. , 1.1],\n       [1. , 4.1, 1.3],\n       [1. , 6. , 2.5],\n       [1. , 5.1, 1.9],\n       [1. , 5.9, 2.1],\n       [1. , 5.6, 1.8],\n       [1. , 5.8, 2.2],\n       [1. , 6.6, 2.1],\n       [1. , 4.5, 1.7],\n       [1. , 6.3, 1.8],\n       [1. , 5.8, 1.8],\n       [1. , 6.1, 2.5],\n       [1. , 5.1, 2. ],\n       [1. , 5.3, 1.9],\n       [1. , 5.5, 2.1],\n       [1. , 5. , 2. ],\n       [1. , 5.1, 2.4],\n       [1. , 5.3, 2.3],\n       [1. , 5.5, 1.8],\n       [1. , 6.7, 2.2],\n       [1. , 6.9, 2.3],\n       [1. , 5. , 1.5],\n       [1. , 5.7, 2.3],\n       [1. , 4.9, 2. ],\n       [1. , 6.7, 2. ],\n       [1. , 4.9, 1.8],\n       [1. , 5.7, 2.1],\n       [1. , 6. , 1.8],\n       [1. , 4.8, 1.8],\n       [1. , 4.9, 1.8],\n       [1. , 5.6, 2.1],\n       [1. , 5.8, 1.6],\n       [1. , 6.1, 1.9],\n       [1. , 6.4, 2. ],\n       [1. , 5.6, 2.2],\n       [1. , 5.1, 1.5],\n       [1. , 5.6, 1.4],\n       [1. , 6.1, 2.3],\n       [1. , 5.6, 2.4],\n       [1. , 5.5, 1.8],\n       [1. , 4.8, 1.8],\n       [1. , 5.4, 2.1],\n       [1. , 5.6, 2.4],\n       [1. , 5.1, 2.3],\n       [1. , 5.1, 1.9],\n       [1. , 5.9, 2.3],\n       [1. , 5.7, 2.5],\n       [1. , 5.2, 2.3],\n       [1. , 5. , 1.9],\n       [1. , 5.2, 2. ],\n       [1. , 5.4, 2.3],\n       [1. , 5.1, 1.8]])"
     },
     "execution_count": 2787,
     "metadata": {},
     "output_type": "execute_result"
    }
   ],
   "source": [
    "X = np.c_[np.ones(len(X)), X]\n",
    "X"
   ],
   "metadata": {
    "collapsed": false,
    "ExecuteTime": {
     "end_time": "2023-09-28T18:10:30.141384Z",
     "start_time": "2023-09-28T18:10:30.082768400Z"
    }
   },
   "id": "29ba7e095405e277"
  },
  {
   "cell_type": "code",
   "execution_count": 2788,
   "outputs": [],
   "source": [
    "def sigmoid(X):\n",
    "    return 1 / (1 - np.exp(-X))\n",
    "\n",
    "def logloss(y, y_proba):\n",
    "    logloss_1 = np.sum(np.log(y_proba[y==1]) + 1e-30)\n",
    "    logloss_0 = np.sum(np.log(1 - y_proba[y==0]) + 1e-30)\n",
    "    logloss_total = -np.mean(logloss_0 + logloss_1)# / len(y)\n",
    "    return logloss_total\n",
    "\n",
    "def gr_logloss(X, W, y):\n",
    "    y_proba = sigmoid(X @ W)\n",
    "    grad = X.T @ (y_proba - y)\n",
    "    return grad\n"
   ],
   "metadata": {
    "collapsed": false,
    "ExecuteTime": {
     "end_time": "2023-09-28T18:10:30.147664800Z",
     "start_time": "2023-09-28T18:10:30.094548500Z"
    }
   },
   "id": "d6618f6a446d5c9a"
  },
  {
   "cell_type": "code",
   "execution_count": 2789,
   "outputs": [],
   "source": [
    "    x_min, x_max = X[:, 1].min() - .5, X[:, 1].max() + .5\n",
    "    y_min, y_max = X[:, 2].min() - .5, X[:, 2].max() + .5\n",
    "    \n",
    "    h = 0.02\n",
    "    xx, yy = np.meshgrid( np.arange(x_min, x_max, h), np.arange(y_min, y_max, h))\n",
    "    x_t = np.c_[xx.ravel(), yy.ravel()]"
   ],
   "metadata": {
    "collapsed": false,
    "ExecuteTime": {
     "end_time": "2023-09-28T18:10:30.147664800Z",
     "start_time": "2023-09-28T18:10:30.098059700Z"
    }
   },
   "id": "1c1377b573c156d1"
  },
  {
   "cell_type": "code",
   "execution_count": 2790,
   "outputs": [],
   "source": [
    "def visualize(W):\n",
    "    x_t_ones = np.c_[np.ones(x_t.shape[0]), x_t]\n",
    "    \n",
    "    y_proba = sigmoid(x_t_ones @ W)\n",
    "\n",
    "    Z = np.where(y_proba >= 0.5, 1, 0)\n",
    "    Z = Z.reshape(xx.shape)\n",
    "       \n",
    "    plt.figure(1, figsize=(8,8))\n",
    "    plt.pcolormesh(xx, yy, Z, cmap=plt.cm.Paired)\n",
    "    \n",
    "    plt.scatter(X[y==0][:, 1], X[y==0][:, 2], edgecolors='k')\n",
    "    plt.scatter(X[y==1][:, 1], X[y==1][:, 2], edgecolors='k')\n",
    "    \n",
    "    plt.xlim(xx.min(), xx.max())\n",
    "    plt.ylim(yy.min(), yy.max())\n",
    "    plt.xticks()\n",
    "    plt.show()   "
   ],
   "metadata": {
    "collapsed": false,
    "ExecuteTime": {
     "end_time": "2023-09-28T18:10:30.148677300Z",
     "start_time": "2023-09-28T18:10:30.107328900Z"
    }
   },
   "id": "80ee317719bd7581"
  },
  {
   "cell_type": "code",
   "execution_count": 2801,
   "outputs": [
    {
     "name": "stdout",
     "output_type": "stream",
     "text": [
      "Итерация 0\n",
      "Logloss nan\n",
      "Accurancy 0.37\n",
      "____________________________________________\n"
     ]
    },
    {
     "name": "stderr",
     "output_type": "stream",
     "text": [
      "C:\\Users\\Никита\\AppData\\Local\\Temp\\ipykernel_18084\\4093337596.py:5: RuntimeWarning: invalid value encountered in log\n",
      "  logloss_1 = np.sum(np.log(y_proba[y==1]) + 1e-30)\n",
      "C:\\Users\\Никита\\AppData\\Local\\Temp\\ipykernel_18084\\4093337596.py:6: RuntimeWarning: invalid value encountered in log\n",
      "  logloss_0 = np.sum(np.log(1 - y_proba[y==0]) + 1e-30)\n"
     ]
    },
    {
     "data": {
      "text/plain": "<Figure size 640x640 with 1 Axes>",
      "image/png": "[encoded data removed]"
     },
     "metadata": {},
     "output_type": "display_data"
    },
    {
     "name": "stdout",
     "output_type": "stream",
     "text": [
      "Итерация 15\n",
      "Logloss nan\n",
      "Accurancy 0.5\n",
      "____________________________________________\n"
     ]
    },
    {
     "data": {
      "text/plain": "<Figure size 640x640 with 1 Axes>",
      "image/png": "[encoded data removed]"
     },
     "metadata": {},
     "output_type": "display_data"
    },
    {
     "name": "stdout",
     "output_type": "stream",
     "text": [
      "Итерация 30\n",
      "Logloss nan\n",
      "Accurancy 0.5\n",
      "____________________________________________\n"
     ]
    },
    {
     "data": {
      "text/plain": "<Figure size 640x640 with 1 Axes>",
      "image/png": "[encoded data removed]"
     },
     "metadata": {},
     "output_type": "display_data"
    },
    {
     "name": "stdout",
     "output_type": "stream",
     "text": [
      "Итерация 45\n",
      "Logloss nan\n",
      "Accurancy 0.5\n",
      "____________________________________________\n"
     ]
    },
    {
     "data": {
      "text/plain": "<Figure size 640x640 with 1 Axes>",
      "image/png": "[encoded data removed]"
     },
     "metadata": {},
     "output_type": "display_data"
    }
   ],
   "source": [
    "#установка минимального значения, но которое должны изменяться веса\n",
    "eps = 0.0001\n",
    "\n",
    "#первоначальная точка\n",
    "np.random.seed(8)\n",
    "W = np.random.randn(X.shape[1])\n",
    "\n",
    "#размер шага (learning rate)\n",
    "learning_rate = 0.001\n",
    "\n",
    "next_W = W\n",
    "\n",
    "#количество итераций\n",
    "n = 50\n",
    "\n",
    "for i in range(n):\n",
    "    cur_W = next_W\n",
    "\n",
    "    #движение в негативную сторону вычисляемого градиента\n",
    "    next_W = cur_W - learning_rate * gr_logloss(X, W, y)\n",
    "    #остановка когда достигнута необходимая степень точности\n",
    "    if np.linalg.norm(cur_W - next_W) <= eps:\n",
    "        break\n",
    "    \n",
    "    if i % 15 == 0:\n",
    "        print(f'Итерация {i}')\n",
    "        y_proba = sigmoid(X @ next_W)\n",
    "        y_class = np.where(y_proba >= 0.5, 1, 0)\n",
    "        accuracy = (y_class == y).sum() / len(y)\n",
    "        print(f'Logloss {logloss(y, y_proba)}')\n",
    "        print(f'Accurancy {accuracy}')\n",
    "        print(f'____________________________________________')\n",
    "            \n",
    "        visualize(next_W)\n",
    "        \n",
    "        "
   ],
   "metadata": {
    "collapsed": false,
    "ExecuteTime": {
     "end_time": "2023-09-28T18:11:08.665258Z",
     "start_time": "2023-09-28T18:11:08.198891100Z"
    }
   },
   "id": "5a95143941de7945"
  },
  {
   "cell_type": "code",
   "execution_count": 2792,
   "outputs": [
    {
     "data": {
      "text/plain": "<Figure size 640x640 with 1 Axes>",
      "image/png": "[encoded data removed]"
     },
     "metadata": {},
     "output_type": "display_data"
    }
   ],
   "source": [
    "visualize(next_W)"
   ],
   "metadata": {
    "collapsed": false,
    "ExecuteTime": {
     "end_time": "2023-09-28T18:10:30.824714500Z",
     "start_time": "2023-09-28T18:10:30.648963900Z"
    }
   },
   "id": "45bc7afba9f8a7bd"
  },
  {
   "cell_type": "code",
   "execution_count": 2793,
   "outputs": [
    {
     "data": {
      "text/plain": "array([-1.38634953, -2.29649157,  2.4098343 ])"
     },
     "execution_count": 2793,
     "metadata": {},
     "output_type": "execute_result"
    }
   ],
   "source": [
    "W = np.random.randn(X.shape[1])\n",
    "W"
   ],
   "metadata": {
    "collapsed": false,
    "ExecuteTime": {
     "end_time": "2023-09-28T18:10:30.830314700Z",
     "start_time": "2023-09-28T18:10:30.774252Z"
    }
   },
   "id": "4dd575b3aab5b93b"
  },
  {
   "cell_type": "code",
   "execution_count": 2794,
   "outputs": [],
   "source": [
    "import plotly.graph_objs as go\n",
    "from sklearn.linear_model import LogisticRegression\n",
    "from sklearn.preprocessing import LabelEncoder\n",
    "from sklearn.pipeline import make_pipeline  \n",
    "from sklearn.preprocessing import StandardScaler\n",
    "from sklearn.model_selection import train_test_split\n",
    "from sklearn.svm import SVC"
   ],
   "metadata": {
    "collapsed": false,
    "ExecuteTime": {
     "end_time": "2023-09-28T18:10:30.830314700Z",
     "start_time": "2023-09-28T18:10:30.781042600Z"
    }
   },
   "id": "5a66174d97965e76"
  },
  {
   "cell_type": "code",
   "execution_count": 2795,
   "outputs": [],
   "source": [
    "model = make_pipeline(\n",
    "    StandardScaler(),\n",
    "    LogisticRegression(max_iter=1000)\n",
    ")"
   ],
   "metadata": {
    "collapsed": false,
    "ExecuteTime": {
     "end_time": "2023-09-28T18:10:30.830314700Z",
     "start_time": "2023-09-28T18:10:30.792306200Z"
    }
   },
   "id": "fce5bac04f470d44"
  },
  {
   "cell_type": "code",
   "execution_count": 2796,
   "outputs": [],
   "source": [
    "X_train, X_test, y_train, y_test = train_test_split(X, y, test_size=0.3, random_state=42)"
   ],
   "metadata": {
    "collapsed": false,
    "ExecuteTime": {
     "end_time": "2023-09-28T18:10:30.830314700Z",
     "start_time": "2023-09-28T18:10:30.796876600Z"
    }
   },
   "id": "328029e493f176dc"
  },
  {
   "cell_type": "code",
   "execution_count": 2797,
   "outputs": [],
   "source": [
    "model.fit(X_train, y_train)\n",
    "predictions = model.predict(X_test)"
   ],
   "metadata": {
    "collapsed": false,
    "ExecuteTime": {
     "end_time": "2023-09-28T18:10:30.832314900Z",
     "start_time": "2023-09-28T18:10:30.803360300Z"
    }
   },
   "id": "5d5e31f2d05181d7"
  },
  {
   "cell_type": "code",
   "execution_count": 2798,
   "outputs": [
    {
     "data": {
      "text/plain": "0.9"
     },
     "execution_count": 2798,
     "metadata": {},
     "output_type": "execute_result"
    }
   ],
   "source": [
    "model.score(X_test,y_test)"
   ],
   "metadata": {
    "collapsed": false,
    "ExecuteTime": {
     "end_time": "2023-09-28T18:10:30.832314900Z",
     "start_time": "2023-09-28T18:10:30.815069600Z"
    }
   },
   "id": "fb83dec14af26d62"
  },
  {
   "cell_type": "code",
   "execution_count": 2799,
   "outputs": [
    {
     "data": {
      "text/plain": "array([[1. , 4.2, 1.5],\n       [1. , 4.3, 1.3],\n       [1. , 6.1, 2.3],\n       [1. , 4.5, 1.5],\n       [1. , 5.9, 2.3],\n       [1. , 4.5, 1.3],\n       [1. , 5.5, 1.8],\n       [1. , 5.3, 2.3],\n       [1. , 4.5, 1.6],\n       [1. , 4.5, 1.5],\n       [1. , 4.1, 1.3],\n       [1. , 4.5, 1.5],\n       [1. , 3.3, 1. ],\n       [1. , 5.2, 2.3],\n       [1. , 5. , 1.7],\n       [1. , 3.9, 1.1],\n       [1. , 6.4, 2. ],\n       [1. , 4.4, 1.4],\n       [1. , 5.5, 2.1],\n       [1. , 4.7, 1.4],\n       [1. , 4.3, 1.3],\n       [1. , 4. , 1.3],\n       [1. , 4.1, 1. ],\n       [1. , 4.1, 1.3],\n       [1. , 4.6, 1.3],\n       [1. , 5.6, 2.1],\n       [1. , 4.7, 1.6],\n       [1. , 5.1, 2.4],\n       [1. , 4.7, 1.5],\n       [1. , 5.4, 2.1],\n       [1. , 4.5, 1.7],\n       [1. , 5.1, 1.8],\n       [1. , 5.8, 2.2],\n       [1. , 3.3, 1. ],\n       [1. , 6. , 2.5],\n       [1. , 6.7, 2.2],\n       [1. , 4.2, 1.3],\n       [1. , 6.9, 2.3],\n       [1. , 5.3, 1.9],\n       [1. , 5.2, 2. ],\n       [1. , 5.8, 1.6],\n       [1. , 4.6, 1.4],\n       [1. , 5.8, 1.8],\n       [1. , 3. , 1.1],\n       [1. , 5.4, 2.3],\n       [1. , 6.3, 1.8],\n       [1. , 6. , 1.8],\n       [1. , 3.9, 1.2],\n       [1. , 5.7, 2.5],\n       [1. , 6.1, 2.5],\n       [1. , 5. , 2. ],\n       [1. , 5.6, 1.4],\n       [1. , 4.4, 1.3],\n       [1. , 3.5, 1. ],\n       [1. , 4.5, 1.5],\n       [1. , 5.9, 2.1],\n       [1. , 4. , 1.3],\n       [1. , 4.9, 1.5],\n       [1. , 4.7, 1.2],\n       [1. , 5.5, 1.8],\n       [1. , 5.1, 2.3],\n       [1. , 5.7, 2.1],\n       [1. , 5.6, 2.4],\n       [1. , 5.6, 2.2],\n       [1. , 4.8, 1.8],\n       [1. , 5.1, 2. ],\n       [1. , 4.9, 2. ],\n       [1. , 3.6, 1.3],\n       [1. , 5.1, 1.9],\n       [1. , 5.1, 1.9]])"
     },
     "execution_count": 2799,
     "metadata": {},
     "output_type": "execute_result"
    }
   ],
   "source": [
    "X_train"
   ],
   "metadata": {
    "collapsed": false,
    "ExecuteTime": {
     "end_time": "2023-09-28T18:10:30.842584100Z",
     "start_time": "2023-09-28T18:10:30.823713900Z"
    }
   },
   "id": "6dfc34a673c14b1"
  },
  {
   "cell_type": "markdown",
   "source": [],
   "metadata": {
    "collapsed": false
   },
   "id": "ccd0579bf28fd2a6"
  },
  {
   "cell_type": "code",
   "execution_count": 2802,
   "outputs": [
    {
     "name": "stderr",
     "output_type": "stream",
     "text": [
      "No artists with labels found to put in legend.  Note that artists whose label start with an underscore are ignored when legend() is called with no argument.\n"
     ]
    },
    {
     "data": {
      "text/plain": "<Figure size 512x384 with 1 Axes>",
      "image/png": "[encoded data removed]"
     },
     "metadata": {},
     "output_type": "display_data"
    }
   ],
   "source": [
    "plt.scatter(x=X_train[:, 1], y=X_train[:, 2], c=y_train)\n",
    "plt.legend()\n",
    "plt.show()"
   ],
   "metadata": {
    "collapsed": false,
    "ExecuteTime": {
     "end_time": "2023-09-28T18:12:08.411946100Z",
     "start_time": "2023-09-28T18:12:08.312959800Z"
    }
   },
   "id": "a8e940823aaab76a"
  },
  {
   "cell_type": "code",
   "execution_count": 2800,
   "outputs": [],
   "source": [],
   "metadata": {
    "collapsed": false,
    "ExecuteTime": {
     "end_time": "2023-09-28T18:10:31.018592300Z",
     "start_time": "2023-09-28T18:10:30.966307300Z"
    }
   },
   "id": "981766fa4fe2aee"
  }
 ],
 "metadata": {
  "kernelspec": {
   "display_name": "Python 3",
   "language": "python",
   "name": "python3"
  },
  "language_info": {
   "codemirror_mode": {
    "name": "ipython",
    "version": 2
   },
   "file_extension": ".py",
   "mimetype": "text/x-python",
   "name": "python",
   "nbconvert_exporter": "python",
   "pygments_lexer": "ipython2",
   "version": "2.7.6"
  }
 },
 "nbformat": 4,
 "nbformat_minor": 5
}
