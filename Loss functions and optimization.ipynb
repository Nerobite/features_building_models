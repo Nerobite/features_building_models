{
 "cells": [
  {
   "cell_type": "markdown",
   "source": [
    "Цель: изучить применение методов оптимизации для решения задачи классификации\n",
    "Описание задания:\n",
    "В домашнем задании необходимо применить полученные знания в теории оптимизации и машинном обучении для реализации логистической регрессии.\n",
    "Этапы работы:**\n",
    "\n",
    "Загрузите данные. Используйте датасет с ирисами. Его можно загрузить непосредственно из библиотеки Sklearn. В данных оставьте только 2 класса: Iris Versicolor, Iris Virginica.\n",
    "Самостоятельно реализуйте логистическую регрессию, без использования метода LogisticRegression из библиотеки. Можете использовать библиотеки pandas, numpy, math для реализации. Оформите в виде функции. *Оформите в виде класса с методами.\n",
    "Реализуйте метод градиентного спуска. Обучите логистическую регрессию этим методом. Выберете и посчитайте метрику качества. Метрика должна быть одинакова для всех пунктов домашнего задания. Для упрощения сравнения выберете только одну метрику.\n",
    "Повторите п. 3 для метода скользящего среднего (Root Mean Square Propagation, RMSProp).\n",
    "Повторите п. 3 для ускоренного по Нестерову метода адаптивной оценки моментов (Nesterov–accelerated Adaptive Moment Estimation, Nadam).\n",
    "Сравните значение метрик для реализованных методов оптимизации. Можно оформить в виде таблицы вида |метод|метрика|время работы| (время работы опционально). Напишите вывод.\n",
    "Для лучшего понимания темы и упрощения реализации можете обратиться к статье.\n",
    "\n",
    "Для получения зачета по этому домашнему заданию, минимально, должно быть реализовано обучение логистической регрессии и градиентный спуск.\n",
    "\n",
    "Результат: получены навыки реализации методов оптимизации в задаче бинарной классификации. Пройденные методы оптимизации используются и в нейросетях."
   ],
   "metadata": {
    "collapsed": false
   },
   "id": "cc1ac45de8095d57"
  },
  {
   "cell_type": "code",
   "execution_count": 1,
   "outputs": [
    {
     "data": {
      "text/plain": "'https://developer.ibm.com/articles/implementing-logistic-regression-from-scratch-in-python/'"
     },
     "execution_count": 1,
     "metadata": {},
     "output_type": "execute_result"
    }
   ],
   "source": [
    "\"\"\"https://developer.ibm.com/articles/implementing-logistic-regression-from-scratch-in-python/\"\"\""
   ],
   "metadata": {
    "collapsed": false,
    "ExecuteTime": {
     "end_time": "2023-09-29T16:20:11.128102300Z",
     "start_time": "2023-09-29T16:20:11.106944700Z"
    }
   },
   "id": "7799097337e04fbe"
  },
  {
   "cell_type": "code",
   "execution_count": 129,
   "outputs": [],
   "source": [
    "from sklearn.datasets import load_iris\n",
    "import pandas as pd\n",
    "import numpy as np\n",
    "import matplotlib.pyplot as plt\n",
    "import matplotlib as mpl\n",
    "mpl.rcParams['figure.dpi'] = 80"
   ],
   "metadata": {
    "collapsed": false,
    "ExecuteTime": {
     "end_time": "2023-09-29T17:46:47.581878700Z",
     "start_time": "2023-09-29T17:46:47.559427600Z"
    }
   },
   "id": "d2338c3d188a2db2"
  },
  {
   "cell_type": "code",
   "execution_count": 130,
   "outputs": [],
   "source": [
    "iris = load_iris(as_frame=True)"
   ],
   "metadata": {
    "collapsed": false,
    "ExecuteTime": {
     "end_time": "2023-09-29T17:46:48.324936Z",
     "start_time": "2023-09-29T17:46:48.233889200Z"
    }
   },
   "id": "c2a222588309e853"
  },
  {
   "cell_type": "code",
   "execution_count": 131,
   "outputs": [
    {
     "name": "stdout",
     "output_type": "stream",
     "text": [
      ".. _iris_dataset:\n",
      "\n",
      "Iris plants dataset\n",
      "--------------------\n",
      "\n",
      "**Data Set Characteristics:**\n",
      "\n",
      "    :Number of Instances: 150 (50 in each of three classes)\n",
      "    :Number of Attributes: 4 numeric, predictive attributes and the class\n",
      "    :Attribute Information:\n",
      "        - sepal length in cm\n",
      "        - sepal width in cm\n",
      "        - petal length in cm\n",
      "        - petal width in cm\n",
      "        - class:\n",
      "                - Iris-Setosa\n",
      "                - Iris-Versicolour\n",
      "                - Iris-Virginica\n",
      "                \n",
      "    :Summary Statistics:\n",
      "\n",
      "    ============== ==== ==== ======= ===== ====================\n",
      "                    Min  Max   Mean    SD   Class Correlation\n",
      "    ============== ==== ==== ======= ===== ====================\n",
      "    sepal length:   4.3  7.9   5.84   0.83    0.7826\n",
      "    sepal width:    2.0  4.4   3.05   0.43   -0.4194\n",
      "    petal length:   1.0  6.9   3.76   1.76    0.9490  (high!)\n",
      "    petal width:    0.1  2.5   1.20   0.76    0.9565  (high!)\n",
      "    ============== ==== ==== ======= ===== ====================\n",
      "\n",
      "    :Missing Attribute Values: None\n",
      "    :Class Distribution: 33.3% for each of 3 classes.\n",
      "    :Creator: R.A. Fisher\n",
      "    :Donor: Michael Marshall (MARSHALL%PLU@io.arc.nasa.gov)\n",
      "    :Date: July, 1988\n",
      "\n",
      "The famous Iris database, first used by Sir R.A. Fisher. The dataset is taken\n",
      "from Fisher's paper. Note that it's the same as in R, but not as in the UCI\n",
      "Machine Learning Repository, which has two wrong data points.\n",
      "\n",
      "This is perhaps the best known database to be found in the\n",
      "pattern recognition literature.  Fisher's paper is a classic in the field and\n",
      "is referenced frequently to this day.  (See Duda & Hart, for example.)  The\n",
      "data set contains 3 classes of 50 instances each, where each class refers to a\n",
      "type of iris plant.  One class is linearly separable from the other 2; the\n",
      "latter are NOT linearly separable from each other.\n",
      "\n",
      "|details-start|\n",
      "**References**\n",
      "|details-split|\n",
      "\n",
      "- Fisher, R.A. \"The use of multiple measurements in taxonomic problems\"\n",
      "  Annual Eugenics, 7, Part II, 179-188 (1936); also in \"Contributions to\n",
      "  Mathematical Statistics\" (John Wiley, NY, 1950).\n",
      "- Duda, R.O., & Hart, P.E. (1973) Pattern Classification and Scene Analysis.\n",
      "  (Q327.D83) John Wiley & Sons.  ISBN 0-471-22361-1.  See page 218.\n",
      "- Dasarathy, B.V. (1980) \"Nosing Around the Neighborhood: A New System\n",
      "  Structure and Classification Rule for Recognition in Partially Exposed\n",
      "  Environments\".  IEEE Transactions on Pattern Analysis and Machine\n",
      "  Intelligence, Vol. PAMI-2, No. 1, 67-71.\n",
      "- Gates, G.W. (1972) \"The Reduced Nearest Neighbor Rule\".  IEEE Transactions\n",
      "  on Information Theory, May 1972, 431-433.\n",
      "- See also: 1988 MLC Proceedings, 54-64.  Cheeseman et al\"s AUTOCLASS II\n",
      "  conceptual clustering system finds 3 classes in the data.\n",
      "- Many, many more ...\n",
      "\n",
      "|details-end|\n"
     ]
    }
   ],
   "source": [
    "print(iris.DESCR)"
   ],
   "metadata": {
    "collapsed": false,
    "ExecuteTime": {
     "end_time": "2023-09-29T17:46:48.727562900Z",
     "start_time": "2023-09-29T17:46:48.711238Z"
    }
   },
   "id": "565f1f946ff2eac6"
  },
  {
   "cell_type": "code",
   "execution_count": 132,
   "outputs": [
    {
     "data": {
      "text/plain": "{'data':      sepal length (cm)  sepal width (cm)  petal length (cm)  petal width (cm)\n 0                  5.1               3.5                1.4               0.2\n 1                  4.9               3.0                1.4               0.2\n 2                  4.7               3.2                1.3               0.2\n 3                  4.6               3.1                1.5               0.2\n 4                  5.0               3.6                1.4               0.2\n ..                 ...               ...                ...               ...\n 145                6.7               3.0                5.2               2.3\n 146                6.3               2.5                5.0               1.9\n 147                6.5               3.0                5.2               2.0\n 148                6.2               3.4                5.4               2.3\n 149                5.9               3.0                5.1               1.8\n \n [150 rows x 4 columns],\n 'target': 0      0\n 1      0\n 2      0\n 3      0\n 4      0\n       ..\n 145    2\n 146    2\n 147    2\n 148    2\n 149    2\n Name: target, Length: 150, dtype: int32,\n 'frame':      sepal length (cm)  sepal width (cm)  petal length (cm)  petal width (cm)  \\\n 0                  5.1               3.5                1.4               0.2   \n 1                  4.9               3.0                1.4               0.2   \n 2                  4.7               3.2                1.3               0.2   \n 3                  4.6               3.1                1.5               0.2   \n 4                  5.0               3.6                1.4               0.2   \n ..                 ...               ...                ...               ...   \n 145                6.7               3.0                5.2               2.3   \n 146                6.3               2.5                5.0               1.9   \n 147                6.5               3.0                5.2               2.0   \n 148                6.2               3.4                5.4               2.3   \n 149                5.9               3.0                5.1               1.8   \n \n      target  \n 0         0  \n 1         0  \n 2         0  \n 3         0  \n 4         0  \n ..      ...  \n 145       2  \n 146       2  \n 147       2  \n 148       2  \n 149       2  \n \n [150 rows x 5 columns],\n 'target_names': array(['setosa', 'versicolor', 'virginica'], dtype='<U10'),\n 'DESCR': '.. _iris_dataset:\\n\\nIris plants dataset\\n--------------------\\n\\n**Data Set Characteristics:**\\n\\n    :Number of Instances: 150 (50 in each of three classes)\\n    :Number of Attributes: 4 numeric, predictive attributes and the class\\n    :Attribute Information:\\n        - sepal length in cm\\n        - sepal width in cm\\n        - petal length in cm\\n        - petal width in cm\\n        - class:\\n                - Iris-Setosa\\n                - Iris-Versicolour\\n                - Iris-Virginica\\n                \\n    :Summary Statistics:\\n\\n    ============== ==== ==== ======= ===== ====================\\n                    Min  Max   Mean    SD   Class Correlation\\n    ============== ==== ==== ======= ===== ====================\\n    sepal length:   4.3  7.9   5.84   0.83    0.7826\\n    sepal width:    2.0  4.4   3.05   0.43   -0.4194\\n    petal length:   1.0  6.9   3.76   1.76    0.9490  (high!)\\n    petal width:    0.1  2.5   1.20   0.76    0.9565  (high!)\\n    ============== ==== ==== ======= ===== ====================\\n\\n    :Missing Attribute Values: None\\n    :Class Distribution: 33.3% for each of 3 classes.\\n    :Creator: R.A. Fisher\\n    :Donor: Michael Marshall (MARSHALL%PLU@io.arc.nasa.gov)\\n    :Date: July, 1988\\n\\nThe famous Iris database, first used by Sir R.A. Fisher. The dataset is taken\\nfrom Fisher\\'s paper. Note that it\\'s the same as in R, but not as in the UCI\\nMachine Learning Repository, which has two wrong data points.\\n\\nThis is perhaps the best known database to be found in the\\npattern recognition literature.  Fisher\\'s paper is a classic in the field and\\nis referenced frequently to this day.  (See Duda & Hart, for example.)  The\\ndata set contains 3 classes of 50 instances each, where each class refers to a\\ntype of iris plant.  One class is linearly separable from the other 2; the\\nlatter are NOT linearly separable from each other.\\n\\n|details-start|\\n**References**\\n|details-split|\\n\\n- Fisher, R.A. \"The use of multiple measurements in taxonomic problems\"\\n  Annual Eugenics, 7, Part II, 179-188 (1936); also in \"Contributions to\\n  Mathematical Statistics\" (John Wiley, NY, 1950).\\n- Duda, R.O., & Hart, P.E. (1973) Pattern Classification and Scene Analysis.\\n  (Q327.D83) John Wiley & Sons.  ISBN 0-471-22361-1.  See page 218.\\n- Dasarathy, B.V. (1980) \"Nosing Around the Neighborhood: A New System\\n  Structure and Classification Rule for Recognition in Partially Exposed\\n  Environments\".  IEEE Transactions on Pattern Analysis and Machine\\n  Intelligence, Vol. PAMI-2, No. 1, 67-71.\\n- Gates, G.W. (1972) \"The Reduced Nearest Neighbor Rule\".  IEEE Transactions\\n  on Information Theory, May 1972, 431-433.\\n- See also: 1988 MLC Proceedings, 54-64.  Cheeseman et al\"s AUTOCLASS II\\n  conceptual clustering system finds 3 classes in the data.\\n- Many, many more ...\\n\\n|details-end|',\n 'feature_names': ['sepal length (cm)',\n  'sepal width (cm)',\n  'petal length (cm)',\n  'petal width (cm)'],\n 'filename': 'iris.csv',\n 'data_module': 'sklearn.datasets.data'}"
     },
     "execution_count": 132,
     "metadata": {},
     "output_type": "execute_result"
    }
   ],
   "source": [
    "iris"
   ],
   "metadata": {
    "collapsed": false,
    "ExecuteTime": {
     "end_time": "2023-09-29T17:46:49.374291800Z",
     "start_time": "2023-09-29T17:46:49.343207700Z"
    }
   },
   "id": "cb86235b6b4a92c2"
  },
  {
   "cell_type": "code",
   "execution_count": 133,
   "outputs": [
    {
     "data": {
      "text/plain": "['setosa', 'versicolor', 'virginica']"
     },
     "execution_count": 133,
     "metadata": {},
     "output_type": "execute_result"
    }
   ],
   "source": [
    "# загружаем данные в датафрейм\n",
    "data = pd.DataFrame(iris.frame)\n",
    "list(iris.target_names)"
   ],
   "metadata": {
    "collapsed": false,
    "ExecuteTime": {
     "end_time": "2023-09-29T17:46:50.166777800Z",
     "start_time": "2023-09-29T17:46:50.142941100Z"
    }
   },
   "id": "50799e6c4b3c3a04"
  },
  {
   "cell_type": "code",
   "execution_count": 134,
   "outputs": [
    {
     "data": {
      "text/plain": "     sepal length (cm)  sepal width (cm)  petal length (cm)  petal width (cm)  \\\n0                  5.1               3.5                1.4               0.2   \n1                  4.9               3.0                1.4               0.2   \n2                  4.7               3.2                1.3               0.2   \n3                  4.6               3.1                1.5               0.2   \n4                  5.0               3.6                1.4               0.2   \n..                 ...               ...                ...               ...   \n145                6.7               3.0                5.2               2.3   \n146                6.3               2.5                5.0               1.9   \n147                6.5               3.0                5.2               2.0   \n148                6.2               3.4                5.4               2.3   \n149                5.9               3.0                5.1               1.8   \n\n     target  \n0         0  \n1         0  \n2         0  \n3         0  \n4         0  \n..      ...  \n145       2  \n146       2  \n147       2  \n148       2  \n149       2  \n\n[150 rows x 5 columns]",
      "text/html": "<div>\n<style scoped>\n    .dataframe tbody tr th:only-of-type {\n        vertical-align: middle;\n    }\n\n    .dataframe tbody tr th {\n        vertical-align: top;\n    }\n\n    .dataframe thead th {\n        text-align: right;\n    }\n</style>\n<table border=\"1\" class=\"dataframe\">\n  <thead>\n    <tr style=\"text-align: right;\">\n      <th></th>\n      <th>sepal length (cm)</th>\n      <th>sepal width (cm)</th>\n      <th>petal length (cm)</th>\n      <th>petal width (cm)</th>\n      <th>target</th>\n    </tr>\n  </thead>\n  <tbody>\n    <tr>\n      <th>0</th>\n      <td>5.1</td>\n      <td>3.5</td>\n      <td>1.4</td>\n      <td>0.2</td>\n      <td>0</td>\n    </tr>\n    <tr>\n      <th>1</th>\n      <td>4.9</td>\n      <td>3.0</td>\n      <td>1.4</td>\n      <td>0.2</td>\n      <td>0</td>\n    </tr>\n    <tr>\n      <th>2</th>\n      <td>4.7</td>\n      <td>3.2</td>\n      <td>1.3</td>\n      <td>0.2</td>\n      <td>0</td>\n    </tr>\n    <tr>\n      <th>3</th>\n      <td>4.6</td>\n      <td>3.1</td>\n      <td>1.5</td>\n      <td>0.2</td>\n      <td>0</td>\n    </tr>\n    <tr>\n      <th>4</th>\n      <td>5.0</td>\n      <td>3.6</td>\n      <td>1.4</td>\n      <td>0.2</td>\n      <td>0</td>\n    </tr>\n    <tr>\n      <th>...</th>\n      <td>...</td>\n      <td>...</td>\n      <td>...</td>\n      <td>...</td>\n      <td>...</td>\n    </tr>\n    <tr>\n      <th>145</th>\n      <td>6.7</td>\n      <td>3.0</td>\n      <td>5.2</td>\n      <td>2.3</td>\n      <td>2</td>\n    </tr>\n    <tr>\n      <th>146</th>\n      <td>6.3</td>\n      <td>2.5</td>\n      <td>5.0</td>\n      <td>1.9</td>\n      <td>2</td>\n    </tr>\n    <tr>\n      <th>147</th>\n      <td>6.5</td>\n      <td>3.0</td>\n      <td>5.2</td>\n      <td>2.0</td>\n      <td>2</td>\n    </tr>\n    <tr>\n      <th>148</th>\n      <td>6.2</td>\n      <td>3.4</td>\n      <td>5.4</td>\n      <td>2.3</td>\n      <td>2</td>\n    </tr>\n    <tr>\n      <th>149</th>\n      <td>5.9</td>\n      <td>3.0</td>\n      <td>5.1</td>\n      <td>1.8</td>\n      <td>2</td>\n    </tr>\n  </tbody>\n</table>\n<p>150 rows × 5 columns</p>\n</div>"
     },
     "execution_count": 134,
     "metadata": {},
     "output_type": "execute_result"
    }
   ],
   "source": [
    "data"
   ],
   "metadata": {
    "collapsed": false,
    "ExecuteTime": {
     "end_time": "2023-09-29T17:46:51.227635700Z",
     "start_time": "2023-09-29T17:46:51.197175300Z"
    }
   },
   "id": "de2c1da8837ad684"
  },
  {
   "cell_type": "markdown",
   "source": [
    "Т.к. нам необходимы только Iris Versicolor, Iris Virginica, удаляем Iris Setosa, так же оставим только два критерия 'petal length (cm)','petal width (cm)' "
   ],
   "metadata": {
    "collapsed": false
   },
   "id": "c05c2287e3f55222"
  },
  {
   "cell_type": "code",
   "execution_count": 135,
   "outputs": [],
   "source": [
    "iris_df = data.loc[data['target']!=0]\n",
    "y = iris_df['target']\n",
    "iris_df = iris_df.drop(columns=['sepal length (cm)', 'sepal width (cm)', 'target'])\n",
    "# iris_df = iris_df.drop(columns=['petal length (cm)', 'petal width (cm)', 'target'])"
   ],
   "metadata": {
    "collapsed": false,
    "ExecuteTime": {
     "end_time": "2023-09-29T17:46:53.671388700Z",
     "start_time": "2023-09-29T17:46:53.652566400Z"
    }
   },
   "id": "f5c9ceb24137fbdd"
  },
  {
   "cell_type": "code",
   "execution_count": 136,
   "outputs": [
    {
     "name": "stdout",
     "output_type": "stream",
     "text": [
      "<class 'pandas.core.frame.DataFrame'>\n",
      "Index: 100 entries, 50 to 149\n",
      "Data columns (total 2 columns):\n",
      " #   Column             Non-Null Count  Dtype  \n",
      "---  ------             --------------  -----  \n",
      " 0   petal length (cm)  100 non-null    float64\n",
      " 1   petal width (cm)   100 non-null    float64\n",
      "dtypes: float64(2)\n",
      "memory usage: 2.3 KB\n"
     ]
    }
   ],
   "source": [
    "iris_df.info()"
   ],
   "metadata": {
    "collapsed": false,
    "ExecuteTime": {
     "end_time": "2023-09-29T17:46:54.722134400Z",
     "start_time": "2023-09-29T17:46:54.703511200Z"
    }
   },
   "id": "2ca395cbb865b4f6"
  },
  {
   "cell_type": "code",
   "execution_count": 137,
   "outputs": [],
   "source": [
    "X = iris_df.to_numpy(copy=True)\n",
    "y = y.to_numpy(copy=True)"
   ],
   "metadata": {
    "collapsed": false,
    "ExecuteTime": {
     "end_time": "2023-09-29T17:46:55.787732600Z",
     "start_time": "2023-09-29T17:46:55.757356500Z"
    }
   },
   "id": "122acc35c43b1705"
  },
  {
   "cell_type": "code",
   "execution_count": 138,
   "outputs": [
    {
     "data": {
      "text/plain": "array([[4.7, 1.4],\n       [4.5, 1.5],\n       [4.9, 1.5],\n       [4. , 1.3],\n       [4.6, 1.5],\n       [4.5, 1.3],\n       [4.7, 1.6],\n       [3.3, 1. ],\n       [4.6, 1.3],\n       [3.9, 1.4],\n       [3.5, 1. ],\n       [4.2, 1.5],\n       [4. , 1. ],\n       [4.7, 1.4],\n       [3.6, 1.3],\n       [4.4, 1.4],\n       [4.5, 1.5],\n       [4.1, 1. ],\n       [4.5, 1.5],\n       [3.9, 1.1],\n       [4.8, 1.8],\n       [4. , 1.3],\n       [4.9, 1.5],\n       [4.7, 1.2],\n       [4.3, 1.3],\n       [4.4, 1.4],\n       [4.8, 1.4],\n       [5. , 1.7],\n       [4.5, 1.5],\n       [3.5, 1. ],\n       [3.8, 1.1],\n       [3.7, 1. ],\n       [3.9, 1.2],\n       [5.1, 1.6],\n       [4.5, 1.5],\n       [4.5, 1.6],\n       [4.7, 1.5],\n       [4.4, 1.3],\n       [4.1, 1.3],\n       [4. , 1.3],\n       [4.4, 1.2],\n       [4.6, 1.4],\n       [4. , 1.2],\n       [3.3, 1. ],\n       [4.2, 1.3],\n       [4.2, 1.2],\n       [4.2, 1.3],\n       [4.3, 1.3],\n       [3. , 1.1],\n       [4.1, 1.3],\n       [6. , 2.5],\n       [5.1, 1.9],\n       [5.9, 2.1],\n       [5.6, 1.8],\n       [5.8, 2.2],\n       [6.6, 2.1],\n       [4.5, 1.7],\n       [6.3, 1.8],\n       [5.8, 1.8],\n       [6.1, 2.5],\n       [5.1, 2. ],\n       [5.3, 1.9],\n       [5.5, 2.1],\n       [5. , 2. ],\n       [5.1, 2.4],\n       [5.3, 2.3],\n       [5.5, 1.8],\n       [6.7, 2.2],\n       [6.9, 2.3],\n       [5. , 1.5],\n       [5.7, 2.3],\n       [4.9, 2. ],\n       [6.7, 2. ],\n       [4.9, 1.8],\n       [5.7, 2.1],\n       [6. , 1.8],\n       [4.8, 1.8],\n       [4.9, 1.8],\n       [5.6, 2.1],\n       [5.8, 1.6],\n       [6.1, 1.9],\n       [6.4, 2. ],\n       [5.6, 2.2],\n       [5.1, 1.5],\n       [5.6, 1.4],\n       [6.1, 2.3],\n       [5.6, 2.4],\n       [5.5, 1.8],\n       [4.8, 1.8],\n       [5.4, 2.1],\n       [5.6, 2.4],\n       [5.1, 2.3],\n       [5.1, 1.9],\n       [5.9, 2.3],\n       [5.7, 2.5],\n       [5.2, 2.3],\n       [5. , 1.9],\n       [5.2, 2. ],\n       [5.4, 2.3],\n       [5.1, 1.8]])"
     },
     "metadata": {},
     "output_type": "display_data"
    },
    {
     "data": {
      "text/plain": "array([1, 1, 1, 1, 1, 1, 1, 1, 1, 1, 1, 1, 1, 1, 1, 1, 1, 1, 1, 1, 1, 1,\n       1, 1, 1, 1, 1, 1, 1, 1, 1, 1, 1, 1, 1, 1, 1, 1, 1, 1, 1, 1, 1, 1,\n       1, 1, 1, 1, 1, 1, 2, 2, 2, 2, 2, 2, 2, 2, 2, 2, 2, 2, 2, 2, 2, 2,\n       2, 2, 2, 2, 2, 2, 2, 2, 2, 2, 2, 2, 2, 2, 2, 2, 2, 2, 2, 2, 2, 2,\n       2, 2, 2, 2, 2, 2, 2, 2, 2, 2, 2, 2])"
     },
     "metadata": {},
     "output_type": "display_data"
    }
   ],
   "source": [
    "display(X, y)"
   ],
   "metadata": {
    "collapsed": false,
    "ExecuteTime": {
     "end_time": "2023-09-29T17:46:56.709265Z",
     "start_time": "2023-09-29T17:46:56.683883200Z"
    }
   },
   "id": "2d49063d62103088"
  },
  {
   "cell_type": "code",
   "execution_count": 139,
   "outputs": [
    {
     "data": {
      "text/plain": "array([0, 0, 0, 0, 0, 0, 0, 0, 0, 0, 0, 0, 0, 0, 0, 0, 0, 0, 0, 0, 0, 0,\n       0, 0, 0, 0, 0, 0, 0, 0, 0, 0, 0, 0, 0, 0, 0, 0, 0, 0, 0, 0, 0, 0,\n       0, 0, 0, 0, 0, 0, 1, 1, 1, 1, 1, 1, 1, 1, 1, 1, 1, 1, 1, 1, 1, 1,\n       1, 1, 1, 1, 1, 1, 1, 1, 1, 1, 1, 1, 1, 1, 1, 1, 1, 1, 1, 1, 1, 1,\n       1, 1, 1, 1, 1, 1, 1, 1, 1, 1, 1, 1])"
     },
     "execution_count": 139,
     "metadata": {},
     "output_type": "execute_result"
    }
   ],
   "source": [
    "y[y==1] = 0\n",
    "y[y==2] = 1\n",
    "y"
   ],
   "metadata": {
    "collapsed": false,
    "ExecuteTime": {
     "end_time": "2023-09-29T17:46:57.896553800Z",
     "start_time": "2023-09-29T17:46:57.862013400Z"
    }
   },
   "id": "2a5879545ccd5356"
  },
  {
   "cell_type": "code",
   "execution_count": 140,
   "outputs": [
    {
     "data": {
      "text/plain": "array([[4.7, 1.4],\n       [4.5, 1.5],\n       [4.9, 1.5],\n       [4. , 1.3],\n       [4.6, 1.5],\n       [4.5, 1.3],\n       [4.7, 1.6],\n       [3.3, 1. ],\n       [4.6, 1.3],\n       [3.9, 1.4],\n       [3.5, 1. ],\n       [4.2, 1.5],\n       [4. , 1. ],\n       [4.7, 1.4],\n       [3.6, 1.3],\n       [4.4, 1.4],\n       [4.5, 1.5],\n       [4.1, 1. ],\n       [4.5, 1.5],\n       [3.9, 1.1],\n       [4.8, 1.8],\n       [4. , 1.3],\n       [4.9, 1.5],\n       [4.7, 1.2],\n       [4.3, 1.3],\n       [4.4, 1.4],\n       [4.8, 1.4],\n       [5. , 1.7],\n       [4.5, 1.5],\n       [3.5, 1. ],\n       [3.8, 1.1],\n       [3.7, 1. ],\n       [3.9, 1.2],\n       [5.1, 1.6],\n       [4.5, 1.5],\n       [4.5, 1.6],\n       [4.7, 1.5],\n       [4.4, 1.3],\n       [4.1, 1.3],\n       [4. , 1.3],\n       [4.4, 1.2],\n       [4.6, 1.4],\n       [4. , 1.2],\n       [3.3, 1. ],\n       [4.2, 1.3],\n       [4.2, 1.2],\n       [4.2, 1.3],\n       [4.3, 1.3],\n       [3. , 1.1],\n       [4.1, 1.3],\n       [6. , 2.5],\n       [5.1, 1.9],\n       [5.9, 2.1],\n       [5.6, 1.8],\n       [5.8, 2.2],\n       [6.6, 2.1],\n       [4.5, 1.7],\n       [6.3, 1.8],\n       [5.8, 1.8],\n       [6.1, 2.5],\n       [5.1, 2. ],\n       [5.3, 1.9],\n       [5.5, 2.1],\n       [5. , 2. ],\n       [5.1, 2.4],\n       [5.3, 2.3],\n       [5.5, 1.8],\n       [6.7, 2.2],\n       [6.9, 2.3],\n       [5. , 1.5],\n       [5.7, 2.3],\n       [4.9, 2. ],\n       [6.7, 2. ],\n       [4.9, 1.8],\n       [5.7, 2.1],\n       [6. , 1.8],\n       [4.8, 1.8],\n       [4.9, 1.8],\n       [5.6, 2.1],\n       [5.8, 1.6],\n       [6.1, 1.9],\n       [6.4, 2. ],\n       [5.6, 2.2],\n       [5.1, 1.5],\n       [5.6, 1.4],\n       [6.1, 2.3],\n       [5.6, 2.4],\n       [5.5, 1.8],\n       [4.8, 1.8],\n       [5.4, 2.1],\n       [5.6, 2.4],\n       [5.1, 2.3],\n       [5.1, 1.9],\n       [5.9, 2.3],\n       [5.7, 2.5],\n       [5.2, 2.3],\n       [5. , 1.9],\n       [5.2, 2. ],\n       [5.4, 2.3],\n       [5.1, 1.8]])"
     },
     "execution_count": 140,
     "metadata": {},
     "output_type": "execute_result"
    }
   ],
   "source": [
    "X"
   ],
   "metadata": {
    "collapsed": false,
    "ExecuteTime": {
     "end_time": "2023-09-29T17:46:59.802191600Z",
     "start_time": "2023-09-29T17:46:59.782278200Z"
    }
   },
   "id": "96057fd22cb3475c"
  },
  {
   "cell_type": "code",
   "execution_count": 143,
   "outputs": [
    {
     "data": {
      "text/plain": "<matplotlib.collections.PathCollection at 0x244a3a89b50>"
     },
     "execution_count": 143,
     "metadata": {},
     "output_type": "execute_result"
    }
   ],
   "source": [
    "plt.figure(figsize=(10,6))\n",
    "plt.scatter(X[:, 0], X[:, 1], c=y)"
   ],
   "metadata": {
    "collapsed": false,
    "ExecuteTime": {
     "end_time": "2023-09-29T17:47:59.678972100Z",
     "start_time": "2023-09-29T17:47:59.674948100Z"
    }
   },
   "id": "68f1828d4c367b4c"
  },
  {
   "cell_type": "markdown",
   "source": [
    "Реализация линейной регрессии"
   ],
   "metadata": {
    "collapsed": false
   },
   "id": "7214a9029a6b1826"
  },
  {
   "cell_type": "code",
   "execution_count": 15,
   "outputs": [],
   "source": [
    "# X = np.c_[np.ones(len(X)), X]\n",
    "# X"
   ],
   "metadata": {
    "collapsed": false,
    "ExecuteTime": {
     "end_time": "2023-09-29T16:20:20.706895400Z",
     "start_time": "2023-09-29T16:20:20.566390100Z"
    }
   },
   "id": "29ba7e095405e277"
  },
  {
   "cell_type": "code",
   "execution_count": 16,
   "outputs": [],
   "source": [
    "# from sklearn.datasets import make_classification\n",
    "# X, y = make_classification(n_samples=50, n_features=2, n_informative=2, n_redundant=0, random_state=11)"
   ],
   "metadata": {
    "collapsed": false,
    "ExecuteTime": {
     "end_time": "2023-09-29T16:20:20.707861600Z",
     "start_time": "2023-09-29T16:20:20.574816400Z"
    }
   },
   "id": "88053d0fe9db99d1"
  },
  {
   "cell_type": "code",
   "execution_count": 17,
   "outputs": [],
   "source": [
    "# display(X, y)"
   ],
   "metadata": {
    "collapsed": false,
    "ExecuteTime": {
     "end_time": "2023-09-29T16:20:20.707861600Z",
     "start_time": "2023-09-29T16:20:20.588753100Z"
    }
   },
   "id": "4ce69d2c9d54f988"
  },
  {
   "cell_type": "code",
   "execution_count": 144,
   "outputs": [
    {
     "data": {
      "text/plain": "array([[1. , 4.7, 1.4],\n       [1. , 4.5, 1.5],\n       [1. , 4.9, 1.5],\n       [1. , 4. , 1.3],\n       [1. , 4.6, 1.5],\n       [1. , 4.5, 1.3],\n       [1. , 4.7, 1.6],\n       [1. , 3.3, 1. ],\n       [1. , 4.6, 1.3],\n       [1. , 3.9, 1.4],\n       [1. , 3.5, 1. ],\n       [1. , 4.2, 1.5],\n       [1. , 4. , 1. ],\n       [1. , 4.7, 1.4],\n       [1. , 3.6, 1.3],\n       [1. , 4.4, 1.4],\n       [1. , 4.5, 1.5],\n       [1. , 4.1, 1. ],\n       [1. , 4.5, 1.5],\n       [1. , 3.9, 1.1],\n       [1. , 4.8, 1.8],\n       [1. , 4. , 1.3],\n       [1. , 4.9, 1.5],\n       [1. , 4.7, 1.2],\n       [1. , 4.3, 1.3],\n       [1. , 4.4, 1.4],\n       [1. , 4.8, 1.4],\n       [1. , 5. , 1.7],\n       [1. , 4.5, 1.5],\n       [1. , 3.5, 1. ],\n       [1. , 3.8, 1.1],\n       [1. , 3.7, 1. ],\n       [1. , 3.9, 1.2],\n       [1. , 5.1, 1.6],\n       [1. , 4.5, 1.5],\n       [1. , 4.5, 1.6],\n       [1. , 4.7, 1.5],\n       [1. , 4.4, 1.3],\n       [1. , 4.1, 1.3],\n       [1. , 4. , 1.3],\n       [1. , 4.4, 1.2],\n       [1. , 4.6, 1.4],\n       [1. , 4. , 1.2],\n       [1. , 3.3, 1. ],\n       [1. , 4.2, 1.3],\n       [1. , 4.2, 1.2],\n       [1. , 4.2, 1.3],\n       [1. , 4.3, 1.3],\n       [1. , 3. , 1.1],\n       [1. , 4.1, 1.3],\n       [1. , 6. , 2.5],\n       [1. , 5.1, 1.9],\n       [1. , 5.9, 2.1],\n       [1. , 5.6, 1.8],\n       [1. , 5.8, 2.2],\n       [1. , 6.6, 2.1],\n       [1. , 4.5, 1.7],\n       [1. , 6.3, 1.8],\n       [1. , 5.8, 1.8],\n       [1. , 6.1, 2.5],\n       [1. , 5.1, 2. ],\n       [1. , 5.3, 1.9],\n       [1. , 5.5, 2.1],\n       [1. , 5. , 2. ],\n       [1. , 5.1, 2.4],\n       [1. , 5.3, 2.3],\n       [1. , 5.5, 1.8],\n       [1. , 6.7, 2.2],\n       [1. , 6.9, 2.3],\n       [1. , 5. , 1.5],\n       [1. , 5.7, 2.3],\n       [1. , 4.9, 2. ],\n       [1. , 6.7, 2. ],\n       [1. , 4.9, 1.8],\n       [1. , 5.7, 2.1],\n       [1. , 6. , 1.8],\n       [1. , 4.8, 1.8],\n       [1. , 4.9, 1.8],\n       [1. , 5.6, 2.1],\n       [1. , 5.8, 1.6],\n       [1. , 6.1, 1.9],\n       [1. , 6.4, 2. ],\n       [1. , 5.6, 2.2],\n       [1. , 5.1, 1.5],\n       [1. , 5.6, 1.4],\n       [1. , 6.1, 2.3],\n       [1. , 5.6, 2.4],\n       [1. , 5.5, 1.8],\n       [1. , 4.8, 1.8],\n       [1. , 5.4, 2.1],\n       [1. , 5.6, 2.4],\n       [1. , 5.1, 2.3],\n       [1. , 5.1, 1.9],\n       [1. , 5.9, 2.3],\n       [1. , 5.7, 2.5],\n       [1. , 5.2, 2.3],\n       [1. , 5. , 1.9],\n       [1. , 5.2, 2. ],\n       [1. , 5.4, 2.3],\n       [1. , 5.1, 1.8]])"
     },
     "execution_count": 144,
     "metadata": {},
     "output_type": "execute_result"
    }
   ],
   "source": [
    "X = np.c_[np.ones(len(X)), X]\n",
    "X"
   ],
   "metadata": {
    "collapsed": false,
    "ExecuteTime": {
     "end_time": "2023-09-29T17:48:05.095369300Z",
     "start_time": "2023-09-29T17:48:05.067256100Z"
    }
   },
   "id": "542b1ce093c80bf4"
  },
  {
   "cell_type": "code",
   "execution_count": 19,
   "outputs": [],
   "source": [
    "def sigmoid(x):\n",
    "    return 1 / (1 + np.exp(-x))\n",
    "\n",
    "def logloss(y, y_proba):\n",
    "    logloss_1 = np.sum(np.log(y_proba[y==1] + 1e-30))\n",
    "    logloss_0 = np.sum(np.log(1-y_proba[y==0] + 1e-30))\n",
    "    logloss_total = -(logloss_0 + logloss_1) / len(y)\n",
    "    return logloss_total\n",
    "\n",
    "def gr_logloss(X, W, y):\n",
    "    y_proba = sigmoid(X @ W)\n",
    "    grad = X.T @ (y_proba - y)\n",
    "    return grad\n"
   ],
   "metadata": {
    "collapsed": false,
    "ExecuteTime": {
     "end_time": "2023-09-29T16:20:20.707861600Z",
     "start_time": "2023-09-29T16:20:20.614993300Z"
    }
   },
   "id": "d6618f6a446d5c9a"
  },
  {
   "cell_type": "code",
   "execution_count": 20,
   "outputs": [],
   "source": [
    "def visualize(W):\n",
    "    x_t_ones = np.c_[np.ones(x_t.shape[0]), x_t]\n",
    "    \n",
    "    y_proba = sigmoid(x_t_ones @ W)\n",
    "\n",
    "    Z = np.where(y_proba >= 0.5, 1, 0)\n",
    "    Z = Z.reshape(xx.shape)\n",
    "       \n",
    "    plt.figure(1, figsize=(6,6))\n",
    "    plt.pcolormesh(xx, yy, Z, cmap=plt.cm.Paired)\n",
    "    \n",
    "    plt.scatter(X[y==0][:, 1], X[y==0][:, 2], edgecolors='k')\n",
    "    plt.scatter(X[y==1][:, 1], X[y==1][:, 2], edgecolors='k')\n",
    "    \n",
    "    plt.xlim(xx.min(), xx.max())\n",
    "    plt.ylim(yy.min(), yy.max())\n",
    "    plt.xticks()\n",
    "    plt.show()   "
   ],
   "metadata": {
    "collapsed": false,
    "ExecuteTime": {
     "end_time": "2023-09-29T16:20:20.707861600Z",
     "start_time": "2023-09-29T16:20:20.626365100Z"
    }
   },
   "id": "80ee317719bd7581"
  },
  {
   "cell_type": "code",
   "execution_count": 21,
   "outputs": [],
   "source": [
    "x_min, x_max = X[:, 1].min() - .5, X[:, 1].max() + .5\n",
    "y_min, y_max = X[:, 2].min() - .5, X[:, 2].max() + .5\n",
    "\n",
    "h = .02\n",
    "xx, yy = np.meshgrid( np.arange(x_min, x_max, h), np.arange(y_min, y_max, h))\n",
    "x_t = np.c_[xx.ravel(), yy.ravel()]"
   ],
   "metadata": {
    "collapsed": false,
    "ExecuteTime": {
     "end_time": "2023-09-29T16:20:20.707861600Z",
     "start_time": "2023-09-29T16:20:20.646526200Z"
    }
   },
   "id": "8ac6b91ff260bde7"
  },
  {
   "cell_type": "code",
   "execution_count": 22,
   "outputs": [
    {
     "name": "stdout",
     "output_type": "stream",
     "text": [
      "Итерация 0\n",
      "Logloss 0.9530888687572902\n",
      "Accurancy 0.5\n",
      "____________________________________________\n"
     ]
    },
    {
     "data": {
      "text/plain": "<Figure size 480x480 with 1 Axes>",
      "image/png": "[encoded data removed]"
     },
     "metadata": {},
     "output_type": "display_data"
    },
    {
     "name": "stdout",
     "output_type": "stream",
     "text": [
      "Итерация 90\n",
      "Logloss 34.5387382962799\n",
      "Accurancy 0.5\n",
      "____________________________________________\n"
     ]
    },
    {
     "data": {
      "text/plain": "<Figure size 480x480 with 1 Axes>",
      "image/png": "[encoded data removed]"
     },
     "metadata": {},
     "output_type": "display_data"
    },
    {
     "name": "stdout",
     "output_type": "stream",
     "text": [
      "Итерация 180\n",
      "Logloss 34.538776394910684\n",
      "Accurancy 0.5\n",
      "____________________________________________\n"
     ]
    },
    {
     "data": {
      "text/plain": "<Figure size 480x480 with 1 Axes>",
      "image/png": "[encoded data removed]"
     },
     "metadata": {},
     "output_type": "display_data"
    },
    {
     "name": "stdout",
     "output_type": "stream",
     "text": [
      "Итерация 270\n",
      "Logloss 34.538776394910684\n",
      "Accurancy 0.5\n",
      "____________________________________________\n"
     ]
    },
    {
     "data": {
      "text/plain": "<Figure size 480x480 with 1 Axes>",
      "image/png": "[encoded data removed]"
     },
     "metadata": {},
     "output_type": "display_data"
    }
   ],
   "source": [
    "#установка минимального значения, но которое должны изменяться веса\n",
    "eps = 0.0001\n",
    "\n",
    "#первоначальная точка\n",
    "np.random.seed(8)\n",
    "W = np.random.randn(X.shape[1])\n",
    "\n",
    "#размер шага (learning rate)\n",
    "learning_rate = 0.001\n",
    "\n",
    "next_W = W\n",
    "\n",
    "#количество итераций\n",
    "n = 350\n",
    "for i in range(n):\n",
    "    cur_W = next_W\n",
    "\n",
    "    #движение в негативную сторону вычисляемого градиента\n",
    "    next_W = cur_W - learning_rate * gr_logloss(X, W, y)\n",
    "    #остановка когда достигнута необходимая степень точности\n",
    "    if np.linalg.norm(cur_W - next_W) <= eps:\n",
    "        break\n",
    "    \n",
    "    if i % 90 == 0:\n",
    "        print(f'Итерация {i}')\n",
    "        y_proba = sigmoid(X @ next_W)\n",
    "        y_class = np.where(y_proba >= 0.5, 1, 0)\n",
    "        accuracy = (y_class == y).sum() / len(y)\n",
    "        print(f'Logloss {logloss(y, y_proba)}')\n",
    "        print(f'Accurancy {accuracy}')\n",
    "        print(f'____________________________________________')\n",
    "            \n",
    "        visualize(next_W)\n",
    "        \n",
    "        "
   ],
   "metadata": {
    "collapsed": false,
    "ExecuteTime": {
     "end_time": "2023-09-29T16:20:22.026946500Z",
     "start_time": "2023-09-29T16:20:20.668236Z"
    }
   },
   "id": "5a95143941de7945"
  },
  {
   "cell_type": "code",
   "execution_count": 23,
   "outputs": [
    {
     "data": {
      "text/plain": "array([9.61364559e-170, 1.81988146e-143, 3.79432337e-164, 1.38405934e-154,\n       1.44722833e-162, 7.73631967e-181, 1.48665099e-127, 2.82198548e-171,\n       2.35728380e-159, 3.96749774e-172, 2.86466867e-144, 3.09956154e-148,\n       1.30803697e-154, 6.94137995e-142, 1.75873167e-147, 1.90294155e-151,\n       3.35371481e-152, 5.02567366e-184, 1.34735718e-189, 7.18272658e-138,\n       5.52000883e-161, 1.68196609e-139, 2.02829767e-182, 6.78820021e-138,\n       2.22780503e-159, 4.01484730e-164, 1.64484910e-135, 6.78820021e-138,\n       5.39819537e-157, 9.51369617e-158, 2.60812805e-167, 2.88566524e-175,\n       8.49727933e-158, 2.96427107e-140, 2.25439246e-151, 1.60123139e-170,\n       2.10543815e-159, 3.35371481e-152, 1.64484910e-135, 3.16950497e-152,\n       2.10543815e-159, 1.11729611e-146, 1.81988146e-143, 9.40149531e-166,\n       1.36773627e-162, 4.61101853e-149, 4.40975560e-141, 1.18223273e-146,\n       7.85333330e-154, 1.15614367e-142])"
     },
     "execution_count": 23,
     "metadata": {},
     "output_type": "execute_result"
    }
   ],
   "source": [
    "y_proba = sigmoid(X @ next_W)\n",
    "y_proba[y==1]"
   ],
   "metadata": {
    "collapsed": false,
    "ExecuteTime": {
     "end_time": "2023-09-29T16:20:22.055412Z",
     "start_time": "2023-09-29T16:20:22.006249800Z"
    }
   },
   "id": "95960e3d0a20effa"
  },
  {
   "cell_type": "code",
   "execution_count": 24,
   "outputs": [],
   "source": [
    "logloss_0 = np.sum(np.log(1 - y_proba[y==0] + 1e-30))"
   ],
   "metadata": {
    "collapsed": false,
    "ExecuteTime": {
     "end_time": "2023-09-29T16:20:22.060206800Z",
     "start_time": "2023-09-29T16:20:22.015521600Z"
    }
   },
   "id": "557bc52525382c5"
  },
  {
   "cell_type": "code",
   "execution_count": 25,
   "outputs": [
    {
     "data": {
      "text/plain": "<Figure size 480x480 with 1 Axes>",
      "image/png": "[encoded data removed]"
     },
     "metadata": {},
     "output_type": "display_data"
    }
   ],
   "source": [
    "visualize(next_W)"
   ],
   "metadata": {
    "collapsed": false,
    "ExecuteTime": {
     "end_time": "2023-09-29T16:20:22.375307500Z",
     "start_time": "2023-09-29T16:20:22.035154200Z"
    }
   },
   "id": "45bc7afba9f8a7bd"
  },
  {
   "cell_type": "code",
   "execution_count": 26,
   "outputs": [],
   "source": [
    "import plotly.graph_objs as go\n",
    "from sklearn.linear_model import LogisticRegression\n",
    "from sklearn.preprocessing import LabelEncoder\n",
    "from sklearn.pipeline import make_pipeline  \n",
    "from sklearn.preprocessing import StandardScaler\n",
    "from sklearn.model_selection import train_test_split\n",
    "from sklearn.svm import SVC"
   ],
   "metadata": {
    "collapsed": false,
    "ExecuteTime": {
     "end_time": "2023-09-29T16:20:26.757780700Z",
     "start_time": "2023-09-29T16:20:22.375307500Z"
    }
   },
   "id": "5a66174d97965e76"
  },
  {
   "cell_type": "code",
   "execution_count": 27,
   "outputs": [],
   "source": [
    "model = make_pipeline(\n",
    "    StandardScaler(),\n",
    "    LogisticRegression(max_iter=1000)\n",
    ")"
   ],
   "metadata": {
    "collapsed": false,
    "ExecuteTime": {
     "end_time": "2023-09-29T16:20:26.776795100Z",
     "start_time": "2023-09-29T16:20:26.765116500Z"
    }
   },
   "id": "fce5bac04f470d44"
  },
  {
   "cell_type": "code",
   "execution_count": 28,
   "outputs": [],
   "source": [
    "X_train, X_test, y_train, y_test = train_test_split(X, y, test_size=0.3, random_state=42)"
   ],
   "metadata": {
    "collapsed": false,
    "ExecuteTime": {
     "end_time": "2023-09-29T16:20:26.814540700Z",
     "start_time": "2023-09-29T16:20:26.776795100Z"
    }
   },
   "id": "328029e493f176dc"
  },
  {
   "cell_type": "code",
   "execution_count": 29,
   "outputs": [],
   "source": [
    "model.fit(X_train, y_train)\n",
    "predictions = model.predict(X_test)"
   ],
   "metadata": {
    "collapsed": false,
    "ExecuteTime": {
     "end_time": "2023-09-29T16:20:26.834193Z",
     "start_time": "2023-09-29T16:20:26.797391600Z"
    }
   },
   "id": "5d5e31f2d05181d7"
  },
  {
   "cell_type": "code",
   "execution_count": 30,
   "outputs": [
    {
     "data": {
      "text/plain": "0.9"
     },
     "execution_count": 30,
     "metadata": {},
     "output_type": "execute_result"
    }
   ],
   "source": [
    "model.score(X_test,y_test)"
   ],
   "metadata": {
    "collapsed": false,
    "ExecuteTime": {
     "end_time": "2023-09-29T16:20:26.910376900Z",
     "start_time": "2023-09-29T16:20:26.833683200Z"
    }
   },
   "id": "fb83dec14af26d62"
  },
  {
   "cell_type": "code",
   "execution_count": 31,
   "outputs": [
    {
     "data": {
      "text/plain": "array([[1. , 4.2, 1.5],\n       [1. , 4.3, 1.3],\n       [1. , 6.1, 2.3],\n       [1. , 4.5, 1.5],\n       [1. , 5.9, 2.3],\n       [1. , 4.5, 1.3],\n       [1. , 5.5, 1.8],\n       [1. , 5.3, 2.3],\n       [1. , 4.5, 1.6],\n       [1. , 4.5, 1.5],\n       [1. , 4.1, 1.3],\n       [1. , 4.5, 1.5],\n       [1. , 3.3, 1. ],\n       [1. , 5.2, 2.3],\n       [1. , 5. , 1.7],\n       [1. , 3.9, 1.1],\n       [1. , 6.4, 2. ],\n       [1. , 4.4, 1.4],\n       [1. , 5.5, 2.1],\n       [1. , 4.7, 1.4],\n       [1. , 4.3, 1.3],\n       [1. , 4. , 1.3],\n       [1. , 4.1, 1. ],\n       [1. , 4.1, 1.3],\n       [1. , 4.6, 1.3],\n       [1. , 5.6, 2.1],\n       [1. , 4.7, 1.6],\n       [1. , 5.1, 2.4],\n       [1. , 4.7, 1.5],\n       [1. , 5.4, 2.1],\n       [1. , 4.5, 1.7],\n       [1. , 5.1, 1.8],\n       [1. , 5.8, 2.2],\n       [1. , 3.3, 1. ],\n       [1. , 6. , 2.5],\n       [1. , 6.7, 2.2],\n       [1. , 4.2, 1.3],\n       [1. , 6.9, 2.3],\n       [1. , 5.3, 1.9],\n       [1. , 5.2, 2. ],\n       [1. , 5.8, 1.6],\n       [1. , 4.6, 1.4],\n       [1. , 5.8, 1.8],\n       [1. , 3. , 1.1],\n       [1. , 5.4, 2.3],\n       [1. , 6.3, 1.8],\n       [1. , 6. , 1.8],\n       [1. , 3.9, 1.2],\n       [1. , 5.7, 2.5],\n       [1. , 6.1, 2.5],\n       [1. , 5. , 2. ],\n       [1. , 5.6, 1.4],\n       [1. , 4.4, 1.3],\n       [1. , 3.5, 1. ],\n       [1. , 4.5, 1.5],\n       [1. , 5.9, 2.1],\n       [1. , 4. , 1.3],\n       [1. , 4.9, 1.5],\n       [1. , 4.7, 1.2],\n       [1. , 5.5, 1.8],\n       [1. , 5.1, 2.3],\n       [1. , 5.7, 2.1],\n       [1. , 5.6, 2.4],\n       [1. , 5.6, 2.2],\n       [1. , 4.8, 1.8],\n       [1. , 5.1, 2. ],\n       [1. , 4.9, 2. ],\n       [1. , 3.6, 1.3],\n       [1. , 5.1, 1.9],\n       [1. , 5.1, 1.9]])"
     },
     "execution_count": 31,
     "metadata": {},
     "output_type": "execute_result"
    }
   ],
   "source": [
    "X_train"
   ],
   "metadata": {
    "collapsed": false,
    "ExecuteTime": {
     "end_time": "2023-09-29T16:20:26.914913500Z",
     "start_time": "2023-09-29T16:20:26.846841700Z"
    }
   },
   "id": "6dfc34a673c14b1"
  },
  {
   "cell_type": "code",
   "execution_count": 32,
   "outputs": [
    {
     "name": "stderr",
     "output_type": "stream",
     "text": [
      "No artists with labels found to put in legend.  Note that artists whose label start with an underscore are ignored when legend() is called with no argument.\n"
     ]
    },
    {
     "data": {
      "text/plain": "<Figure size 512x384 with 1 Axes>",
      "image/png": "[encoded data removed]"
     },
     "metadata": {},
     "output_type": "display_data"
    }
   ],
   "source": [
    "plt.scatter(x=X_train[:, 1], y=X_train[:, 2], c=y_train)\n",
    "plt.legend()\n",
    "plt.show()"
   ],
   "metadata": {
    "collapsed": false,
    "ExecuteTime": {
     "end_time": "2023-09-29T16:20:27.027275200Z",
     "start_time": "2023-09-29T16:20:26.857094Z"
    }
   },
   "id": "a8e940823aaab76a"
  },
  {
   "cell_type": "markdown",
   "source": [
    "Метод градиентного спуска"
   ],
   "metadata": {
    "collapsed": false
   },
   "id": "d9518d9deb7648f1"
  },
  {
   "cell_type": "code",
   "execution_count": 33,
   "outputs": [],
   "source": [
    "def cost_function(X, y, theta0, theta1):\n",
    "    total_cost = 0\n",
    "    for i in range(len(X)):\n",
    "        pred = theta0 + theta1 * X[i]\n",
    "        total_cost += (pred - y[i]) ** 2\n",
    "    return total_cost / len(X)\n",
    "\n",
    "def der_theta0(X, y, theta0, theta1):\n",
    "    total_cost = 0\n",
    "    for i in range(len(X)):\n",
    "        pred = theta0 + theta1 * X[i]\n",
    "        total_cost += 2 * (pred - y[i])\n",
    "    return total_cost / len(X)    \n",
    "\n",
    "def der_theta1(X, y, theta0, theta1):\n",
    "    total_cost = 0\n",
    "    for i in range(len(X)):\n",
    "        pred = theta0 + theta1 * X[i]\n",
    "        total_cost += 2 * (pred - y[i]) * X[i]\n",
    "    return total_cost / (len(X))"
   ],
   "metadata": {
    "collapsed": false,
    "ExecuteTime": {
     "end_time": "2023-09-29T16:20:27.039526300Z",
     "start_time": "2023-09-29T16:20:27.039526300Z"
    }
   },
   "id": "30338cf4edb316d9"
  },
  {
   "cell_type": "code",
   "execution_count": 34,
   "outputs": [],
   "source": [
    "EPOCHS = 100\n",
    "LEARNING_RATE = 0.0001"
   ],
   "metadata": {
    "collapsed": false,
    "ExecuteTime": {
     "end_time": "2023-09-29T16:20:27.047828600Z",
     "start_time": "2023-09-29T16:20:27.039526300Z"
    }
   },
   "id": "7cbb574691bc15f8"
  },
  {
   "cell_type": "code",
   "execution_count": 45,
   "outputs": [
    {
     "data": {
      "text/plain": "array([18.43183043, 16.9956526 , 24.70532822, 29.57526185, 20.98881368,\n       20.54253316, 30.97769969, 11.100407  , 17.26925415, 11.38106961,\n        4.91271622, 15.39671024,  9.7711537 , 16.61232353, 26.04199756,\n       16.95467257, 18.62187796, 25.35948285, 22.45541121, 26.7956983 ,\n       28.67975389, 19.72995506, 33.61533319, 25.39504296, 17.73871946,\n       15.82049245, 34.72297191, 21.9181889 , 26.07083818, 19.92641843,\n       23.04152736, 25.78836938,  6.4423146 , 22.4162369 , 22.0055584 ,\n       30.44503837, 20.40481314, 17.82753364, 24.01418265, 17.32846778,\n       24.63080501, 30.18203108, 27.2976888 , 12.57270015, 10.68394558,\n       23.01492014, 19.91603553, 30.03268301,  8.24933274, 23.70115729,\n       27.56428951, 27.13607354, 33.691124  , 28.76947717, 30.29653567,\n       35.58016428, 23.79969292, 28.58324904, 35.20958226, 20.43850067,\n       30.0633039 , 35.31339961, 30.41456745, 30.89920617, 34.70971875,\n       35.95378341, 21.6077353 , 35.51372584, 45.07660829, 18.85820689,\n       29.48479017, 23.10603364, 27.4984097 , 25.57431666, 25.77388426,\n       22.39052161, 17.15080908, 30.80939308, 38.38330245, 36.48921694,\n       24.25607208, 23.14254372, 27.15938083, 28.08408186, 24.159293  ,\n       38.13689728, 34.59595368, 28.31331749, 20.0637254 , 25.67719665,\n       37.69909461, 25.1190681 , 24.31687268, 23.91732136, 35.47876587,\n       27.34049796, 26.43560039, 17.95010187, 25.72930301, 19.30041071])"
     },
     "execution_count": 45,
     "metadata": {},
     "output_type": "execute_result"
    }
   ],
   "source": [
    "\n",
    "Y"
   ],
   "metadata": {
    "collapsed": false,
    "ExecuteTime": {
     "end_time": "2023-09-29T16:41:18.774095700Z",
     "start_time": "2023-09-29T16:41:18.731253900Z"
    }
   },
   "id": "8bb8cc0d326a8497"
  },
  {
   "cell_type": "code",
   "execution_count": 90,
   "outputs": [
    {
     "data": {
      "text/plain": "(100,)"
     },
     "execution_count": 90,
     "metadata": {},
     "output_type": "execute_result"
    }
   ],
   "source": [
    "Y.shape"
   ],
   "metadata": {
    "collapsed": false,
    "ExecuteTime": {
     "end_time": "2023-09-29T17:35:38.040162300Z",
     "start_time": "2023-09-29T17:35:38.015022600Z"
    }
   },
   "id": "debb4cbdfcb68673"
  },
  {
   "cell_type": "code",
   "execution_count": 103,
   "outputs": [
    {
     "data": {
      "text/plain": "<Figure size 512x384 with 1 Axes>",
      "image/png": "[encoded data removed]"
     },
     "metadata": {},
     "output_type": "display_data"
    }
   ],
   "source": [
    "Y =  2*X[:, 1]+ 3*X[:, 2] + 1 + np.random.normal(scale=5, size=N)\n",
    "\n",
    "plt.scatter(x=X[:, 1], y=X[:, 2], c=Y)\n",
    "plt.show()"
   ],
   "metadata": {
    "collapsed": false,
    "ExecuteTime": {
     "end_time": "2023-09-29T17:40:10.622425400Z",
     "start_time": "2023-09-29T17:40:10.510934300Z"
    }
   },
   "id": "26a422e6a404ce51"
  },
  {
   "cell_type": "code",
   "execution_count": 173,
   "outputs": [
    {
     "name": "stdout",
     "output_type": "stream",
     "text": [
      "t0: [1.00180787 1.00102667 1.00167267] t1: [1.00180787 1.00526765 1.00292577] cost: [ 2.51086031 29.79856246  4.84228586]\n",
      "t0: [1.00361502 1.00204797 1.00334403] t1: [1.00361502 1.01050822 1.00584923] cost: [ 2.5217424  30.09347778  4.87103856]\n",
      "t0: [1.00542145 1.00306392 1.00501407] t1: [1.00542145 1.01572186 1.00877038] cost: [ 2.53264626 30.38833111  4.89985788]\n",
      "t0: [1.00722715 1.00407456 1.0066828 ] t1: [1.00722715 1.0209087  1.01168923] cost: [ 2.54357184 30.68310786  4.92874366]\n",
      "t0: [1.00903213 1.0050799  1.00835022] t1: [1.00903213 1.02606888 1.01460577] cost: [ 2.55451912 30.97779364  4.95769568]\n",
      "t0: [1.01083639 1.00607998 1.01001633] t1: [1.01083639 1.03120253 1.01752001] cost: [ 2.56548807 31.27237429  4.98671376]\n",
      "t0: [1.01263993 1.00707482 1.01168112] t1: [1.01263993 1.0363098  1.02043195] cost: [ 2.57647866 31.56683588  5.0157977 ]\n",
      "t0: [1.01444275 1.00806445 1.01334461] t1: [1.01444275 1.04139082 1.0233416 ] cost: [ 2.58749086 31.86116469  5.04494731]\n",
      "t0: [1.01624484 1.00904889 1.01500679] t1: [1.01624484 1.04644573 1.02624894] cost: [ 2.59852464 32.15534725  5.07416241]\n",
      "t0: [1.01804622 1.01002818 1.01666766] t1: [1.01804622 1.05147465 1.029154  ] cost: [ 2.60957997 32.44937025  5.1034428 ]\n",
      "t0: [1.01984687 1.01100234 1.01832723] t1: [1.01984687 1.05647773 1.03205676] cost: [ 2.62065682 32.74322064  5.13278829]\n",
      "t0: [1.02164681 1.0119714  1.01998549] t1: [1.02164681 1.06145509 1.03495723] cost: [ 2.63175517 33.03688556  5.16219869]\n",
      "t0: [1.02344602 1.01293538 1.02164245] t1: [1.02344602 1.06640687 1.03785541] cost: [ 2.64287498 33.33035235  5.19167381]\n",
      "t0: [1.02524451 1.01389431 1.0232981 ] t1: [1.02524451 1.07133319 1.0407513 ] cost: [ 2.65401622 33.62360858  5.22121345]\n",
      "t0: [1.02704229 1.01484821 1.02495246] t1: [1.02704229 1.0762342  1.04364491] cost: [ 2.66517887 33.91664199  5.25081744]\n",
      "t0: [1.02883934 1.01579711 1.02660551] t1: [1.02883934 1.08111002 1.04653624] cost: [ 2.67636289 34.20944054  5.28048558]\n",
      "t0: [1.03063568 1.01674104 1.02825726] t1: [1.03063568 1.08596078 1.04942528] cost: [ 2.68756826 34.50199238  5.31021769]\n",
      "t0: [1.0324313  1.01768002 1.02990771] t1: [1.0324313  1.0907866  1.05231204] cost: [ 2.69879494 34.79428587  5.34001357]\n",
      "t0: [1.0342262  1.01861407 1.03155687] t1: [1.0342262  1.09558763 1.05519653] cost: [ 2.71004292 35.08630954  5.36987303]\n",
      "t0: [1.03602038 1.01954323 1.03320473] t1: [1.03602038 1.10036398 1.05807874] cost: [ 2.72131215 35.37805212  5.3997959 ]\n",
      "t0: [1.03781384 1.02046752 1.03485129] t1: [1.03781384 1.10511578 1.06095867] cost: [ 2.73260261 35.66950254  5.42978198]\n",
      "t0: [1.03960659 1.02138696 1.03649656] t1: [1.03960659 1.10984315 1.06383633] cost: [ 2.74391428 35.96064989  5.45983109]\n",
      "t0: [1.04139862 1.02230157 1.03814054] t1: [1.04139862 1.11454623 1.06671172] cost: [ 2.75524711 36.25148346  5.48994304]\n",
      "t0: [1.04318993 1.02321139 1.03978322] t1: [1.04318993 1.11922514 1.06958485] cost: [ 2.76660109 36.54199272  5.52011764]\n",
      "t0: [1.04498053 1.02411644 1.04142461] t1: [1.04498053 1.12388    1.0724557 ] cost: [ 2.77797618 36.83216732  5.55035471]\n",
      "t0: [1.04677041 1.02501674 1.04306471] t1: [1.04677041 1.12851094 1.07532429] cost: [ 2.78937235 37.12199708  5.58065406]\n",
      "t0: [1.04855958 1.02591231 1.04470352] t1: [1.04855958 1.13311808 1.07819061] cost: [ 2.80078958 37.411472    5.61101551]\n",
      "t0: [1.05034802 1.02680319 1.04634104] t1: [1.05034802 1.13770154 1.08105468] cost: [ 2.81222784 37.70058225  5.64143888]\n",
      "t0: [1.05213576 1.02768939 1.04797728] t1: [1.05213576 1.14226144 1.08391648] cost: [ 2.82368709 37.98931816  5.67192397]\n",
      "t0: [1.05392278 1.02857093 1.04961223] t1: [1.05392278 1.14679791 1.08677602] cost: [ 2.83516731 38.27767026  5.70247061]\n",
      "t0: [1.05570908 1.02944785 1.05124589] t1: [1.05570908 1.15131106 1.08963331] cost: [ 2.84666848 38.5656292   5.73307862]\n",
      "t0: [1.05749467 1.03032017 1.05287827] t1: [1.05749467 1.15580102 1.09248834] cost: [ 2.85819055 38.85318584  5.7637478 ]\n",
      "t0: [1.05927954 1.03118791 1.05450936] t1: [1.05927954 1.1602679  1.09534112] cost: [ 2.86973351 39.14033117  5.79447798]\n",
      "t0: [1.0610637  1.03205109 1.05613917] t1: [1.0610637  1.16471183 1.09819165] cost: [ 2.88129732 39.42705634  5.82526898]\n",
      "t0: [1.06284715 1.03290973 1.05776771] t1: [1.06284715 1.16913292 1.10103993] cost: [ 2.89288195 39.71335269  5.85612061]\n",
      "t0: [1.06462988 1.03376387 1.05939496] t1: [1.06462988 1.17353128 1.10388596] cost: [ 2.90448739 39.99921167  5.88703268]\n",
      "t0: [1.0664119  1.03461352 1.06102093] t1: [1.0664119  1.17790705 1.10672974] cost: [ 2.91611359 40.28462493  5.91800503]\n",
      "t0: [1.06819321 1.03545871 1.06264562] t1: [1.06819321 1.18226032 1.10957129] cost: [ 2.92776052 40.56958424  5.94903747]\n",
      "t0: [1.06997381 1.03629946 1.06426903] t1: [1.06997381 1.18659122 1.11241058] cost: [ 2.93942817 40.85408152  5.98012981]\n",
      "t0: [1.07175369 1.03713579 1.06589117] t1: [1.07175369 1.19089987 1.11524764] cost: [ 2.9511165  41.13810886  6.01128189]\n",
      "t0: [1.07353286 1.03796772 1.06751204] t1: [1.07353286 1.19518637 1.11808246] cost: [ 2.96282549 41.42165849  6.04249351]\n",
      "t0: [1.07531132 1.03879528 1.06913162] t1: [1.07531132 1.19945084 1.12091504] cost: [ 2.9745551  41.70472277  6.0737645 ]\n",
      "t0: [1.07708907 1.03961849 1.07074994] t1: [1.07708907 1.2036934  1.12374539] cost: [ 2.9863053  41.98729421  6.10509467]\n",
      "t0: [1.0788661  1.04043738 1.07236698] t1: [1.0788661  1.20791415 1.1265735 ] cost: [ 2.99807608 42.26936546  6.13648386]\n",
      "t0: [1.08064243 1.04125196 1.07398275] t1: [1.08064243 1.21211321 1.12939938] cost: [ 3.00986739 42.55092933  6.16793188]\n",
      "t0: [1.08241805 1.04206226 1.07559726] t1: [1.08241805 1.21629069 1.13222303] cost: [ 3.02167921 42.83197873  6.19943856]\n",
      "t0: [1.08419295 1.04286829 1.07721049] t1: [1.08419295 1.22044671 1.13504445] cost: [ 3.03351152 43.11250673  6.23100371]\n",
      "t0: [1.08596715 1.04367009 1.07882245] t1: [1.08596715 1.22458137 1.13786365] cost: [ 3.04536428 43.39250654  6.26262716]\n",
      "t0: [1.08774063 1.04446767 1.08043315] t1: [1.08774063 1.22869478 1.14068062] cost: [ 3.05723747 43.67197148  6.29430873]\n",
      "t0: [1.08951341 1.04526105 1.08204258] t1: [1.08951341 1.23278705 1.14349536] cost: [ 3.06913105 43.95089502  6.32604824]\n",
      "t0: [1.09128548 1.04605026 1.08365074] t1: [1.09128548 1.23685829 1.14630789] cost: [ 3.081045   44.22927074  6.35784552]\n",
      "t0: [1.09305683 1.04683532 1.08525764] t1: [1.09305683 1.24090861 1.14911819] cost: [ 3.0929793  44.50709237  6.3897004 ]\n",
      "t0: [1.09482748 1.04761624 1.08686328] t1: [1.09482748 1.24493811 1.15192628] cost: [ 3.10493391 44.78435375  6.42161269]\n",
      "t0: [1.09659742 1.04839306 1.08846765] t1: [1.09659742 1.24894691 1.15473216] cost: [ 3.1169088  45.06104885  6.45358222]\n",
      "t0: [1.09836666 1.04916579 1.09007076] t1: [1.09836666 1.25293511 1.15753581] cost: [ 3.12890395 45.33717175  6.48560882]\n",
      "t0: [1.10013518 1.04993445 1.09167262] t1: [1.10013518 1.25690281 1.16033726] cost: [ 3.14091932 45.61271667  6.51769231]\n",
      "t0: [1.101903   1.05069906 1.09327321] t1: [1.101903   1.26085012 1.16313649] cost: [ 3.1529549  45.88767794  6.54983252]\n",
      "t0: [1.10367011 1.05145964 1.09487254] t1: [1.10367011 1.26477715 1.16593352] cost: [ 3.16501065 46.16205001  6.58202927]\n",
      "t0: [1.10543652 1.05221623 1.09647062] t1: [1.10543652 1.268684   1.16872834] cost: [ 3.17708655 46.43582745  6.61428239]\n",
      "t0: [1.10720222 1.05296882 1.09806744] t1: [1.10720222 1.27257077 1.17152095] cost: [ 3.18918256 46.70900493  6.64659171]\n",
      "t0: [1.10896721 1.05371745 1.09966301] t1: [1.10896721 1.27643757 1.17431136] cost: [ 3.20129865 46.98157724  6.67895705]\n",
      "t0: [1.11073149 1.05446214 1.10125732] t1: [1.11073149 1.2802845  1.17709956] cost: [ 3.21343481 47.25353929  6.71137824]\n",
      "t0: [1.11249507 1.05520291 1.10285038] t1: [1.11249507 1.28411166 1.17988557] cost: [ 3.225591   47.5248861   6.74385511]\n",
      "t0: [1.11425795 1.05593977 1.10444218] t1: [1.11425795 1.28791915 1.18266938] cost: [ 3.2377672  47.7956128   6.77638748]\n",
      "t0: [1.11602012 1.05667275 1.10603273] t1: [1.11602012 1.29170708 1.18545099] cost: [ 3.24996337 48.0657146   6.80897519]\n",
      "t0: [1.11778158 1.05740186 1.10762204] t1: [1.11778158 1.29547555 1.1882304 ] cost: [ 3.26217949 48.33518686  6.84161807]\n",
      "t0: [1.11954234 1.05812713 1.10921009] t1: [1.11954234 1.29922465 1.19100762] cost: [ 3.27441553 48.60402501  6.87431593]\n",
      "t0: [1.1213024  1.05884858 1.11079689] t1: [1.1213024  1.30295448 1.19378265] cost: [ 3.28667146 48.8722246   6.90706862]\n",
      "t0: [1.12306175 1.05956623 1.11238245] t1: [1.12306175 1.30666515 1.19655549] cost: [ 3.29894726 49.13978128  6.93987596]\n",
      "t0: [1.1248204  1.06028008 1.11396676] t1: [1.1248204  1.31035676 1.19932614] cost: [ 3.3112429  49.4066908   6.97273778]\n",
      "t0: [1.12657834 1.06099018 1.11554983] t1: [1.12657834 1.31402939 1.20209461] cost: [ 3.32355834 49.672949    7.00565391]\n",
      "t0: [1.12833558 1.06169653 1.11713165] t1: [1.12833558 1.31768315 1.20486089] cost: [ 3.33589357 49.93855184  7.03862419]\n",
      "t0: [1.13009212 1.06239915 1.11871222] t1: [1.13009212 1.32131814 1.20762499] cost: [ 3.34824855 50.20349535  7.07164844]\n",
      "t0: [1.13184795 1.06309807 1.12029156] t1: [1.13184795 1.32493445 1.2103869 ] cost: [ 3.36062326 50.46777568  7.10472649]\n",
      "t0: [1.13360309 1.06379329 1.12186965] t1: [1.13360309 1.32853217 1.21314664] cost: [ 3.37301767 50.73138906  7.13785818]\n",
      "t0: [1.13535752 1.06448485 1.1234465 ] t1: [1.13535752 1.33211141 1.2159042 ] cost: [ 3.38543175 50.99433181  7.17104334]\n",
      "t0: [1.13711125 1.06517276 1.12502211] t1: [1.13711125 1.33567226 1.21865958] cost: [ 3.39786547 51.25660035  7.2042818 ]\n",
      "t0: [1.13886428 1.06585703 1.12659649] t1: [1.13886428 1.33921482 1.22141278] cost: [ 3.41031881 51.5181912   7.2375734 ]\n",
      "t0: [1.1406166  1.0665377  1.12816962] t1: [1.1406166  1.34273917 1.22416382] cost: [ 3.42279174 51.77910095  7.27091796]\n",
      "t0: [1.14236823 1.06721477 1.12974152] t1: [1.14236823 1.34624541 1.22691268] cost: [ 3.43528423 52.03932628  7.30431532]\n",
      "t0: [1.14411915 1.06788826 1.13131218] t1: [1.14411915 1.34973364 1.22965937] cost: [ 3.44779625 52.29886397  7.33776532]\n",
      "t0: [1.14586938 1.0685582  1.13288161] t1: [1.14586938 1.35320394 1.2324039 ] cost: [ 3.46032778 52.55771088  7.37126779]\n",
      "t0: [1.1476189  1.06922459 1.13444981] t1: [1.1476189  1.35665641 1.23514626] cost: [ 3.47287879 52.81586395  7.40482255]\n",
      "t0: [1.14936773 1.06988747 1.13601677] t1: [1.14936773 1.36009114 1.23788646] cost: [ 3.48544925 53.07332021  7.43842946]\n",
      "t0: [1.15111585 1.07054684 1.1375825 ] t1: [1.15111585 1.36350823 1.24062449] cost: [ 3.49803913 53.33007677  7.47208834]\n",
      "t0: [1.15286328 1.07120273 1.139147  ] t1: [1.15286328 1.36690776 1.24336036] cost: [ 3.51064841 53.58613082  7.50579902]\n",
      "t0: [1.15461001 1.07185515 1.14071027] t1: [1.15461001 1.37028982 1.24609407] cost: [ 3.52327706 53.84147963  7.53956135]\n",
      "t0: [1.15635604 1.07250413 1.14227231] t1: [1.15635604 1.3736545  1.24882563] cost: [ 3.53592506 54.09612055  7.57337516]\n",
      "t0: [1.15810137 1.07314967 1.14383312] t1: [1.15810137 1.3770019  1.25155503] cost: [ 3.54859236 54.35005101  7.60724028]\n",
      "t0: [1.159846  1.0737918 1.1453927] t1: [1.159846   1.38033209 1.25428228] cost: [ 3.56127896 54.60326851  7.64115655]\n",
      "t0: [1.16158993 1.07443053 1.14695106] t1: [1.16158993 1.38364518 1.25700737] cost: [ 3.57398482 54.85577064  7.67512382]\n",
      "t0: [1.16333317 1.07506588 1.14850819] t1: [1.16333317 1.38694125 1.25973031] cost: [ 3.58670991 55.10755505  7.70914191]\n",
      "t0: [1.16507571 1.07569788 1.1500641 ] t1: [1.16507571 1.39022038 1.26245111] cost: [ 3.5994542  55.35861947  7.74321066]\n",
      "t0: [1.16681755 1.07632653 1.15161879] t1: [1.16681755 1.39348266 1.26516975] cost: [ 3.61221768 55.6089617   7.77732992]\n",
      "t0: [1.1685587  1.07695185 1.15317225] t1: [1.1685587  1.39672818 1.26788625] cost: [ 3.62500031 55.85857963  7.81149952]\n",
      "t0: [1.17029914 1.07757386 1.15472449] t1: [1.17029914 1.39995703 1.27060061] cost: [ 3.63780206 56.10747118  7.84571929]\n",
      "t0: [1.1720389  1.07819258 1.15627552] t1: [1.1720389  1.40316929 1.27331283] cost: [ 3.65062291 56.35563439  7.87998908]\n",
      "t0: [1.17377795 1.07880802 1.15782532] t1: [1.17377795 1.40636504 1.2760229 ] cost: [ 3.66346283 56.60306733  7.91430873]\n",
      "t0: [1.17551632 1.07942021 1.1593739 ] t1: [1.17551632 1.40954437 1.27873084] cost: [ 3.6763218  56.84976816  7.94867808]\n",
      "t0: [1.17725398 1.08002915 1.16092127] t1: [1.17725398 1.41270738 1.28143663] cost: [ 3.68919978 57.09573509  7.98309696]\n",
      "t0: [1.17899095 1.08063487 1.16246742] t1: [1.17899095 1.41585413 1.2841403 ] cost: [ 3.70209676 57.34096641  8.01756522]\n",
      "t0: [1.18072723 1.08123738 1.16401236] t1: [1.18072723 1.41898471 1.28684183] cost: [ 3.71501269 57.58546047  8.05208269]\n",
      "t0: [1.18246281 1.0818367  1.16555608] t1: [1.18246281 1.42209921 1.28954122] cost: [ 3.72794757 57.82921568  8.08664922]\n",
      "t0: [1.1841977  1.08243284 1.16709859] t1: [1.1841977  1.42519771 1.29223849] cost: [ 3.74090135 58.07223053  8.12126465]\n",
      "t0: [1.18593189 1.08302582 1.16863988] t1: [1.18593189 1.42828029 1.29493363] cost: [ 3.75387401 58.31450355  8.15592882]\n",
      "t0: [1.18766539 1.08361566 1.17017996] t1: [1.18766539 1.43134704 1.29762664] cost: [ 3.76686553 58.55603335  8.19064158]\n",
      "t0: [1.1893982  1.08420237 1.17171883] t1: [1.1893982  1.43439803 1.30031753] cost: [ 3.77987589 58.79681859  8.22540275]\n",
      "t0: [1.19113031 1.08478597 1.1732565 ] t1: [1.19113031 1.43743334 1.30300629] cost: [ 3.79290504 59.03685798  8.26021219]\n",
      "t0: [1.19286173 1.08536648 1.17479295] t1: [1.19286173 1.44045306 1.30569293] cost: [ 3.80595297 59.27615032  8.29506974]\n",
      "t0: [1.19459246 1.0859439  1.1763282 ] t1: [1.19459246 1.44345727 1.30837745] cost: [ 3.81901964 59.51469444  8.32997525]\n",
      "t0: [1.19632249 1.08651827 1.17786223] t1: [1.19632249 1.44644605 1.31105985] cost: [ 3.83210504 59.75248923  8.36492854]\n",
      "t0: [1.19805184 1.08708958 1.17939507] t1: [1.19805184 1.44941947 1.31374013] cost: [ 3.84520914 59.98953366  8.39992948]\n",
      "t0: [1.19978049 1.08765787 1.18092669] t1: [1.19978049 1.45237761 1.3164183 ] cost: [ 3.8583319  60.22582673  8.4349779 ]\n",
      "t0: [1.20150845 1.08822314 1.18245712] t1: [1.20150845 1.45532056 1.31909436] cost: [ 3.87147331 60.4613675   8.47007364]\n",
      "t0: [1.20323572 1.0887854  1.18398634] t1: [1.20323572 1.45824839 1.3217683 ] cost: [ 3.88463333 60.6961551   8.50521656]\n",
      "t0: [1.2049623  1.08934468 1.18551436] t1: [1.2049623  1.46116118 1.32444013] cost: [ 3.89781195 60.93018869  8.54040649]\n",
      "t0: [1.20668818 1.089901   1.18704117] t1: [1.20668818 1.46405901 1.32710985] cost: [ 3.91100912 61.16346749  8.57564328]\n",
      "t0: [1.20841338 1.09045435 1.18856679] t1: [1.20841338 1.46694195 1.32977747] cost: [ 3.92422483 61.39599079  8.61092678]\n",
      "t0: [1.21013789 1.09100477 1.19009121] t1: [1.21013789 1.46981008 1.33244298] cost: [ 3.93745905 61.62775791  8.64625683]\n",
      "t0: [1.2118617  1.09155227 1.19161443] t1: [1.2118617  1.47266347 1.33510639] cost: [ 3.95071176 61.85876823  8.68163328]\n",
      "t0: [1.21358483 1.09209685 1.19313645] t1: [1.21358483 1.47550221 1.3377677 ] cost: [ 3.96398292 62.08902116  8.71705598]\n",
      "t0: [1.21530727 1.09263854 1.19465728] t1: [1.21530727 1.47832637 1.3404269 ] cost: [ 3.97727251 62.31851619  8.75252477]\n",
      "t0: [1.21702902 1.09317735 1.19617691] t1: [1.21702902 1.48113601 1.34308401] cost: [ 3.99058051 62.54725285  8.78803949]\n",
      "t0: [1.21875008 1.0937133  1.19769534] t1: [1.21875008 1.48393123 1.34573902] cost: [ 4.00390688 62.77523069  8.8236    ]\n",
      "t0: [1.22047045 1.09424639 1.19921258] t1: [1.22047045 1.48671209 1.34839193] cost: [ 4.01725161 63.00244935  8.85920615]\n",
      "t0: [1.22219014 1.09477666 1.20072863] t1: [1.22219014 1.48947866 1.35104275] cost: [ 4.03061466 63.22890847  8.89485777]\n",
      "t0: [1.22390913 1.0953041  1.20224349] t1: [1.22390913 1.49223102 1.35369148] cost: [ 4.04399601 63.45460777  8.93055473]\n",
      "t0: [1.22562744 1.09582873 1.20375716] t1: [1.22562744 1.49496924 1.35633812] cost: [ 4.05739563 63.679547    8.96629686]\n",
      "t0: [1.22734506 1.09635057 1.20526963] t1: [1.22734506 1.4976934  1.35898267] cost: [ 4.0708135  63.90372597  9.00208402]\n",
      "t0: [1.229062   1.09686964 1.20678092] t1: [1.229062   1.50040357 1.36162513] cost: [ 4.08424959 64.1271445   9.03791606]\n",
      "t0: [1.23077825 1.09738594 1.20829102] t1: [1.23077825 1.50309981 1.36426551] cost: [ 4.09770388 64.34980248  9.07379282]\n",
      "t0: [1.23249381 1.0978995  1.20979993] t1: [1.23249381 1.5057822  1.3669038 ] cost: [ 4.11117633 64.57169984  9.10971415]\n",
      "t0: [1.23420868 1.09841032 1.21130766] t1: [1.23420868 1.50845082 1.36954001] cost: [ 4.12466693 64.79283654  9.14567992]\n",
      "t0: [1.23592287 1.09891841 1.2128142 ] t1: [1.23592287 1.51110572 1.37217414] cost: [ 4.13817564 65.01321259  9.18168995]\n",
      "t0: [1.23763638 1.09942381 1.21431956] t1: [1.23763638 1.513747   1.37480619] cost: [ 4.15170244 65.23282803  9.21774411]\n",
      "t0: [1.23934919 1.0999265  1.21582373] t1: [1.23934919 1.5163747  1.37743617] cost: [ 4.16524731 65.45168295  9.25384225]\n",
      "t0: [1.24106133 1.10042652 1.21732672] t1: [1.24106133 1.51898891 1.38006407] cost: [ 4.17881021 65.66977748  9.28998422]\n",
      "t0: [1.24277277 1.10092388 1.21882853] t1: [1.24277277 1.52158969 1.38268989] cost: [ 4.19239112 65.88711177  9.32616987]\n",
      "t0: [1.24448354 1.10141858 1.22032916] t1: [1.24448354 1.52417711 1.38531364] cost: [ 4.20599002 66.10368604  9.36239904]\n",
      "t0: [1.24619362 1.10191065 1.22182861] t1: [1.24619362 1.52675124 1.38793532] cost: [ 4.21960689 66.31950051  9.3986716 ]\n",
      "t0: [1.24790301 1.10240009 1.22332688] t1: [1.24790301 1.52931215 1.39055493] cost: [ 4.23324168 66.53455546  9.4349874 ]\n",
      "t0: [1.24961172 1.10288692 1.22482397] t1: [1.24961172 1.5318599  1.39317248] cost: [ 4.24689438 66.7488512   9.47134629]\n",
      "t0: [1.25131975 1.10337116 1.22631989] t1: [1.25131975 1.53439457 1.39578796] cost: [ 4.26056497 66.96238808  9.50774811]\n",
      "t0: [1.25302709 1.10385281 1.22781463] t1: [1.25302709 1.53691623 1.39840137] cost: [ 4.27425341 67.17516648  9.54419273]\n",
      "t0: [1.25473376 1.10433189 1.22930819] t1: [1.25473376 1.53942493 1.40101272] cost: [ 4.28795969 67.3871868   9.58068   ]\n",
      "t0: [1.25643974 1.10480841 1.23080059] t1: [1.25643974 1.54192074 1.40362201] cost: [ 4.30168377 67.5984495   9.61720977]\n",
      "t0: [1.25814503 1.10528239 1.2322918 ] t1: [1.25814503 1.54440374 1.40622924] cost: [ 4.31542562 67.80895506  9.6537819 ]\n",
      "t0: [1.25984965 1.10575384 1.23378185] t1: [1.25984965 1.54687398 1.40883442] cost: [ 4.32918523 68.018704    9.69039624]\n",
      "t0: [1.26155358 1.10622276 1.23527072] t1: [1.26155358 1.54933154 1.41143754] cost: [ 4.34296257 68.22769685  9.72705264]\n",
      "t0: [1.26325683 1.10668919 1.23675843] t1: [1.26325683 1.55177647 1.4140386 ] cost: [ 4.35675762 68.43593419  9.76375097]\n",
      "t0: [1.2649594  1.10715312 1.23824496] t1: [1.2649594  1.55420885 1.41663761] cost: [ 4.37057033 68.64341664  9.80049107]\n",
      "t0: [1.26666129 1.10761457 1.23973033] t1: [1.26666129 1.55662874 1.41923457] cost: [ 4.3844007  68.85014483  9.8372728 ]\n",
      "t0: [1.2683625  1.10807356 1.24121453] t1: [1.2683625  1.55903619 1.42182948] cost: [ 4.3982487  69.05611944  9.87409601]\n",
      "t0: [1.27006302 1.10853009 1.24269756] t1: [1.27006302 1.56143129 1.42442234] cost: [ 4.41211429 69.26134115  9.91096058]\n",
      "t0: [1.27176287 1.10898418 1.24417943] t1: [1.27176287 1.56381408 1.42701315] cost: [ 4.42599746 69.46581069  9.94786634]\n",
      "t0: [1.27346204 1.10943584 1.24566013] t1: [1.27346204 1.56618464 1.42960192] cost: [ 4.43989818 69.66952883  9.98481315]\n",
      "t0: [1.27516053 1.10988508 1.24713967] t1: [1.27516053 1.56854302 1.43218865] cost: [ 4.45381642 69.87249634 10.02180089]\n",
      "t0: [1.27685833 1.11033193 1.24861804] t1: [1.27685833 1.57088929 1.43477333] cost: [ 4.46775216 70.07471404 10.05882939]\n",
      "t0: [1.27855546 1.11077638 1.25009526] t1: [1.27855546 1.57322351 1.43735598] cost: [ 4.48170537 70.27618277 10.09589852]\n",
      "t0: [1.28025191 1.11121845 1.25157131] t1: [1.28025191 1.57554574 1.43993659] cost: [ 4.49567602 70.47690338 10.13300814]\n",
      "t0: [1.28194769 1.11165815 1.2530462 ] t1: [1.28194769 1.57785605 1.44251516] cost: [ 4.5096641  70.67687678 10.1701581 ]\n",
      "t0: [1.28364278 1.1120955  1.25451993] t1: [1.28364278 1.58015449 1.44509169] cost: [ 4.52366958 70.87610387 10.20734826]\n",
      "t0: [1.28533719 1.1125305  1.25599251] t1: [1.28533719 1.58244113 1.44766619] cost: [ 4.53769242 71.07458561 10.24457849]\n",
      "t0: [1.28703093 1.11296318 1.25746392] t1: [1.28703093 1.58471602 1.45023866] cost: [ 4.55173261 71.27232295 10.28184864]\n",
      "t0: [1.28872399 1.11339353 1.25893418] t1: [1.28872399 1.58697923 1.4528091 ] cost: [ 4.56579013 71.4693169  10.31915857]\n",
      "t0: [1.29041637 1.11382158 1.26040329] t1: [1.29041637 1.58923083 1.45537751] cost: [ 4.57986493 71.66556845 10.35650814]\n",
      "t0: [1.29210808 1.11424734 1.26187123] t1: [1.29210808 1.59147085 1.4579439 ] cost: [ 4.59395701 71.86107867 10.3938972 ]\n",
      "t0: [1.29379911 1.11467081 1.26333803] t1: [1.29379911 1.59369938 1.46050826] cost: [ 4.60806633 72.0558486  10.43132563]\n",
      "t0: [1.29548946 1.11509201 1.26480367] t1: [1.29548946 1.59591646 1.46307059] cost: [ 4.62219287 72.24987933 10.46879328]\n",
      "t0: [1.29717914 1.11551095 1.26626816] t1: [1.29717914 1.59812216 1.4656309 ] cost: [ 4.6363366  72.44317197 10.50630001]\n",
      "t0: [1.29886814 1.11592765 1.2677315 ] t1: [1.29886814 1.60031653 1.46818919] cost: [ 4.6504975  72.63572765 10.54384568]\n",
      "t0: [1.30055647 1.1163421  1.26919369] t1: [1.30055647 1.60249963 1.47074546] cost: [ 4.66467555 72.82754753 10.58143016]\n",
      "t0: [1.30224412 1.11675433 1.27065473] t1: [1.30224412 1.60467152 1.47329972] cost: [ 4.67887071 73.01863276 10.6190533 ]\n",
      "t0: [1.30393109 1.11716435 1.27211462] t1: [1.30393109 1.60683226 1.47585196] cost: [ 4.69308297 73.20898455 10.65671497]\n",
      "t0: [1.30561739 1.11757217 1.27357337] t1: [1.30561739 1.60898191 1.47840218] cost: [ 4.7073123  73.39860411 10.69441502]\n",
      "t0: [1.30730302 1.11797779 1.27503096] t1: [1.30730302 1.61112051 1.48095039] cost: [ 4.72155867 73.58749267 10.73215333]\n",
      "t0: [1.30898797 1.11838124 1.27648742] t1: [1.30898797 1.61324814 1.48349659] cost: [ 4.73582206 73.77565149 10.76992975]\n",
      "t0: [1.31067224 1.11878251 1.27794272] t1: [1.31067224 1.61536484 1.48604078] cost: [ 4.75010244 73.96308183 10.80774415]\n",
      "t0: [1.31235585 1.11918163 1.27939689] t1: [1.31235585 1.61747067 1.48858296] cost: [ 4.76439979 74.14978499 10.84559639]\n",
      "t0: [1.31403878 1.11957861 1.28084991] t1: [1.31403878 1.61956569 1.49112314] cost: [ 4.77871408 74.33576228 10.88348633]\n",
      "t0: [1.31572103 1.11997345 1.28230178] t1: [1.31572103 1.62164995 1.49366131] cost: [ 4.7930453  74.52101503 10.92141384]\n",
      "t0: [1.31740262 1.12036616 1.28375252] t1: [1.31740262 1.62372351 1.49619748] cost: [ 4.8073934  74.70554458 10.95937879]\n",
      "t0: [1.31908353 1.12075676 1.28520212] t1: [1.31908353 1.62578642 1.49873165] cost: [ 4.82175838 74.8893523  10.99738102]\n",
      "t0: [1.32076377 1.12114526 1.28665057] t1: [1.32076377 1.62783874 1.50126381] cost: [ 4.8361402  75.07243956 11.03542042]\n",
      "t0: [1.32244334 1.12153167 1.28809789] t1: [1.32244334 1.62988052 1.50379398] cost: [ 4.85053884 75.25480777 11.07349685]\n",
      "t0: [1.32412223 1.121916   1.28954407] t1: [1.32412223 1.63191182 1.50632215] cost: [ 4.86495427 75.43645833 11.11161017]\n",
      "t0: [1.32580045 1.12229826 1.29098912] t1: [1.32580045 1.63393269 1.50884832] cost: [ 4.87938647 75.61739268 11.14976024]\n",
      "t0: [1.32747801 1.12267845 1.29243303] t1: [1.32747801 1.63594318 1.51137251] cost: [ 4.89383542 75.79761227 11.18794693]\n",
      "t0: [1.32915489 1.1230566  1.2938758 ] t1: [1.32915489 1.63794336 1.51389469] cost: [ 4.90830109 75.97711855 11.22617011]\n",
      "t0: [1.3308311  1.12343271 1.29531744] t1: [1.3308311  1.63993326 1.51641489] cost: [ 4.92278346 76.155913   11.26442965]\n",
      "t0: [1.33250664 1.1238068  1.29675795] t1: [1.33250664 1.64191295 1.5189331 ] cost: [ 4.93728249 76.33399711 11.30272541]\n",
      "t0: [1.33418151 1.12417886 1.29819732] t1: [1.33418151 1.64388247 1.52144932] cost: [ 4.95179818 76.5113724  11.34105725]\n",
      "t0: [1.33585571 1.12454892 1.29963556] t1: [1.33585571 1.64584188 1.52396356] cost: [ 4.96633048 76.68804037 11.37942505]\n",
      "t0: [1.33752924 1.12491699 1.30107268] t1: [1.33752924 1.64779123 1.52647581] cost: [ 4.98087938 76.86400256 11.41782867]\n",
      "t0: [1.3392021  1.12528306 1.30250866] t1: [1.3392021  1.64973057 1.52898608] cost: [ 4.99544485 77.03926053 11.45626798]\n",
      "t0: [1.34087429 1.12564716 1.30394352] t1: [1.34087429 1.65165996 1.53149437] cost: [ 5.01002688 77.21381583 11.49474285]\n",
      "t0: [1.34254581 1.1260093  1.30537724] t1: [1.34254581 1.65357944 1.53400067] cost: [ 5.02462542 77.38767004 11.53325314]\n",
      "t0: [1.34421667 1.12636947 1.30680984] t1: [1.34421667 1.65548907 1.536505  ] cost: [ 5.03924047 77.56082474 11.57179873]\n",
      "t0: [1.34588685 1.12672771 1.30824132] t1: [1.34588685 1.65738889 1.53900736] cost: [ 5.05387198 77.73328154 11.61037948]\n",
      "t0: [1.34755637 1.127084   1.30967167] t1: [1.34755637 1.65927896 1.54150773] cost: [ 5.06851995 77.90504204 11.64899526]\n",
      "t0: [1.34922522 1.12743838 1.31110089] t1: [1.34922522 1.66115933 1.54400614] cost: [ 5.08318435 78.07610788 11.68764594]\n",
      "t0: [1.3508934  1.12779083 1.31252899] t1: [1.3508934  1.66303004 1.54650257] cost: [ 5.09786515 78.24648068 11.72633139]\n",
      "t0: [1.35256092 1.12814138 1.31395597] t1: [1.35256092 1.66489115 1.54899703] cost: [ 5.11256232 78.4161621  11.76505148]\n",
      "t0: [1.35422777 1.12849003 1.31538183] t1: [1.35422777 1.66674271 1.55148953] cost: [ 5.12727584 78.58515379 11.80380609]\n",
      "t0: [1.35589395 1.1288368  1.31680656] t1: [1.35589395 1.66858476 1.55398005] cost: [ 5.1420057  78.75345742 11.84259507]\n",
      "t0: [1.35755946 1.12918169 1.31823018] t1: [1.35755946 1.67041735 1.55646861] cost: [ 5.15675186 78.92107468 11.8814183 ]\n",
      "t0: [1.35922431 1.12952471 1.31965268] t1: [1.35922431 1.67224054 1.55895521] cost: [ 5.1715143  79.08800725 11.92027566]\n",
      "t0: [1.36088849 1.12986588 1.32107406] t1: [1.36088849 1.67405437 1.56143984] cost: [ 5.18629299 79.25425684 11.959167  ]\n",
      "t0: [1.36255201 1.13020519 1.32249432] t1: [1.36255201 1.67585889 1.56392251] cost: [ 5.20108791 79.41982515 11.99809222]\n",
      "t0: [1.36421486 1.13054267 1.32391347] t1: [1.36421486 1.67765414 1.56640323] cost: [ 5.21589905 79.5847139  12.03705116]\n",
      "t0: [1.36587705 1.13087832 1.3253315 ] t1: [1.36587705 1.67944018 1.56888198] cost: [ 5.23072636 79.74892483 12.07604372]\n",
      "t0: [1.36753857 1.13121215 1.32674842] t1: [1.36753857 1.68121705 1.57135878] cost: [ 5.24556983 79.91245968 12.11506975]\n",
      "t0: [1.36919943 1.13154417 1.32816422] t1: [1.36919943 1.6829848  1.57383362] cost: [ 5.26042944 80.07532019 12.15412914]\n",
      "t0: [1.37085962 1.13187439 1.32957891] t1: [1.37085962 1.68474348 1.57630651] cost: [ 5.27530516 80.23750812 12.19322175]\n",
      "t0: [1.37251915 1.13220282 1.33099249] t1: [1.37251915 1.68649313 1.57877745] cost: [ 5.29019697 80.39902523 12.23234745]\n",
      "t0: [1.37417801 1.13252946 1.33240496] t1: [1.37417801 1.6882338  1.58124644] cost: [ 5.30510483 80.5598733  12.27150613]\n",
      "t0: [1.37583622 1.13285433 1.33381632] t1: [1.37583622 1.68996553 1.58371348] cost: [ 5.32002874 80.72005411 12.31069765]\n",
      "t0: [1.37749375 1.13317744 1.33522656] t1: [1.37749375 1.69168838 1.58617857] cost: [ 5.33496866 80.87956946 12.34992189]\n",
      "t0: [1.37915063 1.13349879 1.3366357 ] t1: [1.37915063 1.69340238 1.58864172] cost: [ 5.34992457 81.03842113 12.38917873]\n",
      "t0: [1.38080684 1.1338184  1.33804374] t1: [1.38080684 1.69510759 1.59110292] cost: [ 5.36489645 81.19661093 12.42846802]\n",
      "t0: [1.38246239 1.13413627 1.33945066] t1: [1.38246239 1.69680404 1.59356218] cost: [ 5.37988426 81.35414067 12.46778966]\n",
      "t0: [1.38411728 1.13445241 1.34085648] t1: [1.38411728 1.69849179 1.5960195 ] cost: [ 5.394888   81.51101218 12.50714351]\n",
      "t0: [1.3857715  1.13476683 1.3422612 ] t1: [1.3857715  1.70017087 1.59847488] cost: [ 5.40990763 81.66722728 12.54652945]\n",
      "t0: [1.38742507 1.13507954 1.34366481] t1: [1.38742507 1.70184134 1.60092832] cost: [ 5.42494314 81.8227878  12.58594736]\n",
      "t0: [1.38907797 1.13539055 1.34506732] t1: [1.38907797 1.70350323 1.60337982] cost: [ 5.43999449 81.97769558 12.62539711]\n",
      "t0: [1.39073021 1.13569987 1.34646872] t1: [1.39073021 1.70515659 1.60582939] cost: [ 5.45506166 82.13195246 12.66487857]\n",
      "t0: [1.39238179 1.1360075  1.34786903] t1: [1.39238179 1.70680147 1.60827703] cost: [ 5.47014463 82.2855603  12.70439163]\n",
      "t0: [1.39403271 1.13631346 1.34926823] t1: [1.39403271 1.70843791 1.61072273] cost: [ 5.48524338 82.43852095 12.74393615]\n",
      "t0: [1.39568297 1.13661775 1.35066634] t1: [1.39568297 1.71006594 1.61316651] cost: [ 5.50035788 82.59083628 12.78351202]\n",
      "t0: [1.39733257 1.13692038 1.35206334] t1: [1.39733257 1.71168562 1.61560835] cost: [ 5.5154881  82.74250815 12.82311911]\n",
      "t0: [1.39898151 1.13722137 1.35345925] t1: [1.39898151 1.71329699 1.61804827] cost: [ 5.53063404 82.89353844 12.8627573 ]\n",
      "t0: [1.40062979 1.13752071 1.35485406] t1: [1.40062979 1.71490009 1.62048626] cost: [ 5.54579565 83.04392902 12.90242646]\n",
      "t0: [1.40227741 1.13781842 1.35624778] t1: [1.40227741 1.71649497 1.62292233] cost: [ 5.56097292 83.19368178 12.94212648]\n",
      "t0: [1.40392437 1.1381145  1.3576404 ] t1: [1.40392437 1.71808166 1.62535648] cost: [ 5.57616582 83.3427986  12.98185723]\n",
      "t0: [1.40557067 1.13840897 1.35903192] t1: [1.40557067 1.7196602  1.6277887 ] cost: [ 5.59137433 83.49128139 13.02161859]\n",
      "t0: [1.40721632 1.13870183 1.36042235] t1: [1.40721632 1.72123065 1.630219  ] cost: [ 5.60659843 83.63913203 13.06141043]\n",
      "t0: [1.4088613  1.13899309 1.36181169] t1: [1.4088613  1.72279303 1.63264739] cost: [ 5.62183809 83.78635243 13.10123265]\n",
      "t0: [1.41050563 1.13928276 1.36319994] t1: [1.41050563 1.7243474  1.63507386] cost: [ 5.63709329 83.93294449 13.1410851 ]\n",
      "t0: [1.4121493  1.13957084 1.36458709] t1: [1.4121493  1.72589379 1.63749841] cost: [ 5.652364   84.07891012 13.18096768]\n",
      "t0: [1.41379231 1.13985736 1.36597316] t1: [1.41379231 1.72743225 1.63992105] cost: [ 5.66765021 84.22425124 13.22088026]\n",
      "t0: [1.41543467 1.1401423  1.36735814] t1: [1.41543467 1.72896281 1.64234178] cost: [ 5.68295188 84.36896976 13.26082273]\n",
      "t0: [1.41707637 1.14042569 1.36874202] t1: [1.41707637 1.73048552 1.6447606 ] cost: [ 5.698269   84.5130676  13.30079495]\n",
      "t0: [1.41871741 1.14070752 1.37012482] t1: [1.41871741 1.73200041 1.64717751] cost: [ 5.71360155 84.65654668 13.34079682]\n",
      "t0: [1.4203578  1.14098781 1.37150654] t1: [1.4203578  1.73350754 1.64959251] cost: [ 5.72894949 84.79940894 13.38082821]\n",
      "t0: [1.42199753 1.14126657 1.37288717] t1: [1.42199753 1.73500692 1.6520056 ] cost: [ 5.7443128 84.9416563 13.420889 ]\n",
      "t0: [1.4236366  1.1415438  1.37426671] t1: [1.4236366  1.73649862 1.65441679] cost: [ 5.75969147 85.08329069 13.46097908]\n",
      "t0: [1.42527502 1.14181951 1.37564517] t1: [1.42527502 1.73798266 1.65682608] cost: [ 5.77508546 85.22431404 13.50109832]\n",
      "t0: [1.42691278 1.14209371 1.37702254] t1: [1.42691278 1.73945908 1.65923346] cost: [ 5.79049476 85.36472831 13.54124661]\n",
      "t0: [1.42854989 1.14236641 1.37839883] t1: [1.42854989 1.74092793 1.66163895] cost: [ 5.80591934 85.50453542 13.58142382]\n",
      "t0: [1.43018634 1.14263761 1.37977405] t1: [1.43018634 1.74238925 1.66404253] cost: [ 5.82135918 85.64373731 13.62162984]\n"
     ]
    }
   ],
   "source": [
    "theta0 = 1\n",
    "theta1 = 1\n",
    "N = 100\n",
    "# Y =  2*X[:, 1]+ 3*X[:, 2] + 1 + np.random.normal(scale=5, size=N)\n",
    "Y =  2*X[:, 1] + 1 + np.random.normal(scale=5, size=N)\n",
    "for _ in range(EPOCHS):\n",
    "    dt0 = der_theta0(X, Y, theta0, theta1)\n",
    "    dt1 = der_theta1(X, Y, theta0, theta1)\n",
    "    \n",
    "    theta0 = theta0 - LEARNING_RATE * dt0\n",
    "    theta1 -= LEARNING_RATE * dt1\n",
    "    \n",
    "    print(\"t0:\", theta0, \"t1:\", theta1, \"cost:\", cost_function(X, y, theta0, theta1))"
   ],
   "metadata": {
    "collapsed": false,
    "ExecuteTime": {
     "end_time": "2023-09-29T18:01:30.821699500Z",
     "start_time": "2023-09-29T18:01:30.340120300Z"
    }
   },
   "id": "84ead84a347453ab"
  },
  {
   "cell_type": "code",
   "execution_count": 174,
   "outputs": [
    {
     "data": {
      "text/plain": "array([ 110.3662277 , 2366.95660399,  279.26468709])"
     },
     "execution_count": 174,
     "metadata": {},
     "output_type": "execute_result"
    }
   ],
   "source": [
    "cost_function(X,Y,10,10)"
   ],
   "metadata": {
    "collapsed": false,
    "ExecuteTime": {
     "end_time": "2023-09-29T18:01:35.861271600Z",
     "start_time": "2023-09-29T18:01:35.837631800Z"
    }
   },
   "id": "30bf7061dd8f5b0f"
  },
  {
   "cell_type": "code",
   "execution_count": 175,
   "outputs": [
    {
     "name": "stdout",
     "output_type": "stream",
     "text": [
      "[[ 1.10855471e-03 -2.89544069e-01 -1.11606630e+00]\n",
      " [-1.28827567e-02 -3.78361464e-01 -4.81135363e-01]\n",
      " [-1.51733118e+00 -4.90871981e-01 -2.40680579e-01]\n",
      " [-6.47947460e-01  6.35891080e-01  1.74011731e+00]\n",
      " [ 2.96682218e-01  7.07503662e-01  1.82281576e+00]\n",
      " [ 4.30769029e-01  1.54272963e+00 -9.00721171e-01]\n",
      " [-1.37125010e-01  1.29757901e+00  6.75271167e-01]\n",
      " [ 3.19581170e-02  9.18145896e-01  3.80509466e-01]\n",
      " [ 5.16367487e-01 -3.55239458e-01  2.08777001e-01]\n",
      " [ 3.28411076e-01 -4.98224766e-01 -2.09177677e+00]\n",
      " [-8.25877406e-02  2.45518265e+00 -2.67211000e+00]\n",
      " [-9.13279281e-01 -2.27314357e-01  2.69315377e-01]\n",
      " [ 1.13046126e+00  1.04239745e+00  1.30381044e+00]\n",
      " [ 1.38940073e+00 -6.56452578e-01 -5.62572959e-02]\n",
      " [-4.99902620e-01  4.36419381e-01 -3.75813047e-01]\n",
      " [-9.23061583e-01  1.91725024e+00 -1.50302842e-01]\n",
      " [-6.38729756e-01  8.24770331e-01 -1.21083874e+00]\n",
      " [-5.03405377e-01 -7.01915693e-01 -1.97427103e+00]\n",
      " [-2.65573217e+00 -5.76822488e-02 -6.56186586e-01]\n",
      " [-6.61706713e-01  7.69348439e-01 -8.99004892e-01]\n",
      " [ 1.69363792e+00 -1.69733524e+00 -2.79337021e+00]\n",
      " [-2.26150651e-01  3.97428841e-01  1.65970362e+00]\n",
      " [-4.93746814e-01 -3.76097684e-01 -1.69739770e-01]\n",
      " [ 2.41710632e+00 -1.80884049e+00  3.39751152e-01]\n",
      " [-2.27297604e-02 -9.59997079e-01 -3.83114421e-01]\n",
      " [ 1.09529995e-01 -8.55162838e-01  2.21606664e-04]\n",
      " [ 6.63855061e-01  7.49480948e-01 -4.65818372e-01]\n",
      " [-2.77439271e-01  3.54995339e-02  8.48221165e-01]\n",
      " [ 1.62998557e-01  1.20862361e+00  5.02520774e-01]\n",
      " [-1.58382211e+00  1.02303349e+00 -6.53017409e-01]\n",
      " [ 5.37045101e-01 -7.97706235e-03  9.24784170e-01]\n",
      " [ 4.66083330e-02  1.42019868e-01 -1.65366138e+00]\n",
      " [ 1.36799210e+00  2.51062457e-02 -3.95482251e-01]\n",
      " [ 1.28438755e+00  5.61277046e-01  2.39725501e-01]\n",
      " [ 4.79899114e-01  6.17529528e-02 -1.07051231e+00]\n",
      " [-1.27321003e+00  9.20076119e-01  1.05491851e+00]\n",
      " [ 5.40288051e-01  3.09063517e-01  9.70861201e-01]\n",
      " [ 1.15472410e+00  4.22608809e-01  9.99208934e-01]\n",
      " [ 8.83520232e-01 -5.30199181e-01  8.14134818e-01]\n",
      " [-1.01988418e+00 -2.25823693e+00  6.79954891e-01]\n",
      " [-4.01764761e-01  1.94032056e+00 -1.24440469e+00]\n",
      " [ 9.39309892e-01 -2.40807910e-01  2.70807245e-01]\n",
      " [-1.09553963e+00  2.40134297e+00 -2.79909743e-01]\n",
      " [ 2.03080080e+00 -8.19394675e-02 -1.21862641e+00]\n",
      " [-8.06870496e-01  1.31804189e+00 -5.78638659e-01]\n",
      " [ 8.20524990e-02  1.39591049e+00  1.08187963e+00]\n",
      " [-1.01656093e+00 -2.91998304e-01  1.55935821e+00]\n",
      " [-5.46300185e-01  9.60590707e-01  2.11210521e-01]\n",
      " [-1.24537145e+00  3.04545097e-01 -5.98380459e-01]\n",
      " [ 1.23065862e-01 -7.90837017e-01  6.43894200e-01]\n",
      " [-5.96503919e-02  9.13246573e-01 -1.09057749e+00]\n",
      " [-1.74850713e-01  1.06527909e+00  1.23723013e+00]\n",
      " [ 1.01979597e+00  8.60687326e-01 -7.32433856e-01]\n",
      " [ 4.40224824e-01  6.46064078e-01  2.61912898e-01]\n",
      " [ 7.07215342e-01 -4.36652074e-01  7.93819172e-01]\n",
      " [-2.60553079e-01 -8.39660502e-01 -1.47970732e+00]\n",
      " [ 1.10739493e+00 -1.19675393e+00 -1.02723077e+00]\n",
      " [-1.57112892e+00  2.04297595e+00  1.88998475e+00]\n",
      " [-7.98661608e-01 -1.82478701e+00 -7.76053358e-01]\n",
      " [-6.47596063e-01 -4.87334608e-01  3.75263884e-01]\n",
      " [-1.03600638e+00 -1.33923978e-01  3.84878904e-01]\n",
      " [ 3.54396915e-01  3.42637624e-01 -5.97300834e-01]\n",
      " [-1.88548229e-01  7.00324972e-01 -1.32562343e+00]\n",
      " [ 9.37028448e-01 -4.50689692e-01  9.31129132e-01]\n",
      " [-1.80543128e+00  4.30398775e-01 -5.67293913e-01]\n",
      " [ 1.06995573e+00 -1.21009582e-01 -1.03280471e+00]\n",
      " [ 8.35280861e-01 -8.51920288e-01 -1.18494149e+00]\n",
      " [-1.03075191e+00 -9.14885244e-01 -8.24207744e-01]\n",
      " [-7.37330395e-01  8.57564028e-01  9.47187218e-01]\n",
      " [ 1.19697190e+00  1.89808405e+00  5.24789638e-01]\n",
      " [-1.40579483e-01 -1.29148224e+00 -4.74517368e-01]\n",
      " [-6.06574278e-03  1.30819821e+00 -6.51560230e-01]\n",
      " [ 1.60263009e+00  1.56452777e+00 -2.58063961e-01]\n",
      " [-3.59221181e-01  9.79303691e-03 -7.89930749e-01]\n",
      " [-1.10380089e+00 -5.63769382e-01  4.81348441e-01]\n",
      " [-2.28405182e+00  6.93268284e-01  1.62451327e+00]\n",
      " [ 1.23023252e+00  1.64910477e+00 -1.48593292e+00]\n",
      " [-1.07689224e+00  1.58458029e+00  3.88060536e-01]\n",
      " [ 1.27547348e+00  2.10970446e-01  6.19835740e-01]\n",
      " [-1.00229595e+00 -5.32611053e-01  9.36027574e-01]\n",
      " [ 1.79254414e-01 -3.70080958e-02  8.42660027e-01]\n",
      " [-8.13275375e-01 -1.67293813e+00 -8.50551840e-01]\n",
      " [-2.81715340e-01  1.51993142e+00 -9.59193973e-01]\n",
      " [ 7.25390609e-01  5.55428631e-01  8.29749855e-01]\n",
      " [ 1.46885817e+00 -3.82227922e-03  1.05748684e+00]\n",
      " [-9.83664955e-01  1.08536073e+00  3.65864949e-01]\n",
      " [-1.09298759e+00 -2.23647171e+00 -1.23488876e-01]\n",
      " [-1.78299000e-01  2.21642054e+00  2.25298146e+00]\n",
      " [-1.00637441e+00  1.00387258e+00 -1.24200751e-01]\n",
      " [-1.52468148e-01 -1.30110967e+00 -2.74245879e-01]\n",
      " [ 3.71210416e-01 -6.21145034e-01  6.68889360e-01]\n",
      " [ 1.21554691e-01  1.75451386e+00  7.96282330e-01]\n",
      " [ 4.70908032e-01  1.58530792e-01 -3.75213995e-01]\n",
      " [ 9.62947632e-01 -5.59353403e-01  7.54695181e-01]\n",
      " [-3.50024018e-02  1.69773273e-01  2.01707042e+00]\n",
      " [ 7.43194362e-01  7.74970577e-01 -3.89381815e-01]\n",
      " [ 2.90097538e-02  2.04417474e-01 -7.29299155e-01]\n",
      " [-9.43909541e-01  2.48252302e-01  1.29413230e+00]\n",
      " [-1.17155439e+00  1.41722360e-01 -6.88227964e-01]\n",
      " [ 4.81370281e-01  3.48110505e-01 -1.26629824e+00]]\n"
     ]
    }
   ],
   "source": [
    "EPOCHS = 250\n",
    "LEARNING_RATE = 0.0001\n",
    "costs = []\n",
    "params = []\n",
    "preds = []\n",
    "np.random.seed(9)\n",
    "params = np.random.normal(size=(X.shape[0],X.shape[1]))\n",
    "print(params)\n",
    "\n",
    "list_params_gd = []\n",
    "for _ in range(EPOCHS):\n",
    "    predictions = params[:, 0] * X[:, 0] + params[:, 1] * X[:, 1] + params[:, 2] * X[:, 2]\n",
    "    preds.append(predictions)\n",
    "\n",
    "    cost = np.sum((predictions - Y) ** 2) / len(predictions)\n",
    "    costs.append(cost)\n",
    "    \n",
    "    params[0] -= LEARNING_RATE * np.sum(predictions - Y) * (2/len(predictions))\n",
    "    params[1] -= LEARNING_RATE * np.sum((predictions - Y) * X[:, 1]) * (2/len(predictions))    \n",
    "    params[2] -= LEARNING_RATE * np.sum((predictions - Y) * X[:, 2]) * (2/len(predictions)) \n",
    "    \n",
    "    list_params_gd.append(params.copy())"
   ],
   "metadata": {
    "collapsed": false,
    "ExecuteTime": {
     "end_time": "2023-09-29T18:01:38.972674500Z",
     "start_time": "2023-09-29T18:01:38.955999700Z"
    }
   },
   "id": "e4514eddcf49e627"
  },
  {
   "cell_type": "code",
   "execution_count": 176,
   "outputs": [
    {
     "data": {
      "text/plain": "157.2298032643558"
     },
     "execution_count": 176,
     "metadata": {},
     "output_type": "execute_result"
    }
   ],
   "source": [
    "costs[-1]"
   ],
   "metadata": {
    "collapsed": false,
    "ExecuteTime": {
     "end_time": "2023-09-29T18:01:43.320698100Z",
     "start_time": "2023-09-29T18:01:43.301747300Z"
    }
   },
   "id": "5244df90174b4551"
  },
  {
   "cell_type": "code",
   "execution_count": 177,
   "outputs": [
    {
     "data": {
      "text/plain": "<Figure size 480x320 with 1 Axes>",
      "image/png": "[encoded data removed]"
     },
     "metadata": {},
     "output_type": "display_data"
    }
   ],
   "source": [
    "plt.figure(figsize=(6, 4))\n",
    "plt.plot(costs)\n",
    "plt.show()"
   ],
   "metadata": {
    "collapsed": false,
    "ExecuteTime": {
     "end_time": "2023-09-29T18:01:46.358997200Z",
     "start_time": "2023-09-29T18:01:46.273865700Z"
    }
   },
   "id": "4c9171f87418f2af"
  },
  {
   "cell_type": "code",
   "execution_count": null,
   "outputs": [],
   "source": [],
   "metadata": {
    "collapsed": false
   },
   "id": "b51cb202125b9c5d"
  },
  {
   "cell_type": "code",
   "execution_count": 216,
   "outputs": [
    {
     "data": {
      "text/plain": "<Figure size 800x640 with 1 Axes>",
      "image/png": "[encoded data removed]"
     },
     "metadata": {},
     "output_type": "display_data"
    }
   ],
   "source": [
    "plt.figure(figsize=(10, 8))\n",
    "plt.scatter(X[:, 1], Y, color='blue', label='Train')\n",
    "plt.scatter(X[:,1], preds[-1], color='red', label='Pred', alpha=0.5)\n",
    "plt.legend()\n",
    "plt.show()"
   ],
   "metadata": {
    "collapsed": false,
    "ExecuteTime": {
     "end_time": "2023-09-29T18:13:02.257713400Z",
     "start_time": "2023-09-29T18:13:02.106985900Z"
    }
   },
   "id": "b9e3a5b6c4667c7d"
  },
  {
   "cell_type": "code",
   "execution_count": 212,
   "outputs": [
    {
     "data": {
      "text/plain": "[1.179729482815537,\n 1.1808357467127129,\n 1.181941899007294,\n 1.183047939710531,\n 1.1841538688336728,\n 1.1852596863879679,\n 1.1863653923846629,\n 1.1874709868350042,\n 1.188576469750236,\n 1.189681841141602,\n 1.1907871010203448,\n 1.1918922493977058,\n 1.192997286284925,\n 1.1941022116932416,\n 1.1952070256338936,\n 1.1963117281181177,\n 1.1974163191571494,\n 1.1985207987622237,\n 1.1996251669445737,\n 1.2007294237154316,\n 1.2018335690860287,\n 1.2029376030675947,\n 1.204041525671359,\n 1.205145336908549,\n 1.2062490367903913,\n 1.2073526253281113,\n 1.208456102532934,\n 1.2095594684160815,\n 1.210662722988777,\n 1.2117658662622406,\n 1.2128688982476927,\n 1.2139718189563518,\n 1.2150746283994354,\n 1.2161773265881597,\n 1.2172799135337404,\n 1.2183823892473917,\n 1.2194847537403264,\n 1.2205870070237566,\n 1.2216891491088926,\n 1.2227911800069444,\n 1.2238930997291209,\n 1.224994908286629,\n 1.2260966056906748,\n 1.227198191952464,\n 1.2282996670832,\n 1.2294010310940862,\n 1.230502283996324,\n 1.2316034258011141,\n 1.232704456519656,\n 1.233805376163148,\n 1.2349061847427876,\n 1.2360068822697705,\n 1.2371074687552919,\n 1.2382079442105454,\n 1.239308308646724,\n 1.240408562075019,\n 1.241508704506621,\n 1.2426087359527196,\n 1.2437086564245026,\n 1.244808465933157,\n 1.2459081644898693,\n 1.2470077521058238,\n 1.2481072287922041,\n 1.2492065945601933,\n 1.2503058494209724,\n 1.251404993385722,\n 1.2525040264656209,\n 1.2536029486718474,\n 1.2547017600155785,\n 1.2558004605079898,\n 1.2568990501602562,\n 1.2579975289835508,\n 1.2590958969890462,\n 1.2601941541879143,\n 1.2612923005913244,\n 1.262390336210446,\n 1.2634882610564468,\n 1.2645860751404938,\n 1.2656837784737527,\n 1.2667813710673876,\n 1.2678788529325626,\n 1.2689762240804392,\n 1.270073484522179,\n 1.2711706342689424,\n 1.2722676733318878,\n 1.2733646017221727,\n 1.2744614194509543,\n 1.275558126529388,\n 1.2766547229686283,\n 1.2777512087798284,\n 1.27884758397414,\n 1.279943848562715,\n 1.2810400025567026,\n 1.2821360459672522,\n 1.283231978805511,\n 1.2843278010826256,\n 1.2854235128097415,\n 1.2865191139980032,\n 1.2876146046585535,\n 1.2887099848025343]"
     },
     "execution_count": 212,
     "metadata": {},
     "output_type": "execute_result"
    }
   ],
   "source": [
    "a = [np.mean(x) for x in preds]\n",
    "a[150:]"
   ],
   "metadata": {
    "collapsed": false,
    "ExecuteTime": {
     "end_time": "2023-09-29T18:12:13.949461300Z",
     "start_time": "2023-09-29T18:12:13.940137400Z"
    }
   },
   "id": "1d2ed4203fc5e7f9"
  }
 ],
 "metadata": {
  "kernelspec": {
   "display_name": "Python 3",
   "language": "python",
   "name": "python3"
  },
  "language_info": {
   "codemirror_mode": {
    "name": "ipython",
    "version": 2
   },
   "file_extension": ".py",
   "mimetype": "text/x-python",
   "name": "python",
   "nbconvert_exporter": "python",
   "pygments_lexer": "ipython2",
   "version": "2.7.6"
  }
 },
 "nbformat": 4,
 "nbformat_minor": 5
}
