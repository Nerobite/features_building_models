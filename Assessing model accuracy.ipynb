{
 "cells": [
  {
   "cell_type": "markdown",
   "source": [
    "\n",
    "Цель: закрепить знания о математическом смысле метрик TPR, FPR. Изучить построение ROC-кривой, графика Precision-Recall.\n",
    "Описание задания:\n",
    "Решить задачу классификации при помощи обучения модели логистической регрессии. Качество модели оценивается путем подсчета метрик TPR, FPR и построения графиков ROC-кривой, Precision-Recall. Данные для обучения модели хранятся в файле athletes.csv, который можно найти в материалах к занятию.\n",
    "Этапы работы:\n",
    "\n",
    "Преобразуйте данные:\n",
    "a. проверьте наличие пропущенных значений. Преобразуйте/удалите пропуски по необходимости;\n",
    "b. закодируйте категориальные переменные числовыми значениями по необходимости.\n",
    "Разделите выборку на обучающее (80% данных) и тестовое (20% данных) подмножества.\n",
    "Постройте ROC-кривую с помощью функции sklearn.metrics. roc_curve.\n",
    "Вычислите значение ROC-AUC метрики с помощью функции sklearn.metrics.roc_auc_score.\n",
    "Реализуйте подсчет метрик TPR, FPR «вручную», без использования готовых функций из библиотеки sklearn.\n",
    "Постройте ROC-кривую с помощью вычисленных в п. 5 метрик: объедините графики из п. 3 и п. 6 в один. Сравните, сделайте вывод.\n",
    "Постройте график Precision-Recall, используя метрики, посчитанные в п. 5.\n",
    "*Вычислите значение ROC-AUC метрики, используя метрики, посчитанные в п. 5.\n",
    "Сформулируйте выводы по проделанной работе:\n",
    "a. как по полученным графикам сделать вывод о качестве модели? Как вы оцениваете обученную модель исходя из подсчитанных метрик?\n",
    "b. *может ли ROC-кривая проходить ниже диагонали?\n",
    "Результат:\n",
    "проведена оценка качества модели классификации;\n",
    "реализован подсчет «вручную» основных метрик, проведено сравнение полученных результатов с готовыми функциями из библиотеки sklearn.\n"
   ],
   "metadata": {
    "collapsed": false
   },
   "id": "29c3d5cf10d5b63c"
  },
  {
   "cell_type": "code",
   "execution_count": 1044,
   "outputs": [],
   "source": [
    "import pandas as pd\n",
    "import numpy as np\n",
    "from datetime import datetime\n",
    "import plotly.graph_objs as go\n",
    "from sklearn.linear_model import LogisticRegression\n",
    "from sklearn.preprocessing import LabelEncoder\n",
    "from sklearn.pipeline import make_pipeline  \n",
    "from sklearn.preprocessing import StandardScaler\n",
    "from sklearn.model_selection import train_test_split\n",
    "from sklearn.metrics import roc_curve\n",
    "from sklearn.metrics import roc_auc_score\n",
    "from sklearn.metrics import precision_recall_curve\n",
    "import matplotlib.pyplot as plt\n",
    "import warnings\n",
    "warnings.filterwarnings('ignore')"
   ],
   "metadata": {
    "collapsed": false,
    "ExecuteTime": {
     "end_time": "2023-10-04T10:48:09.875541300Z",
     "start_time": "2023-10-04T10:48:09.551856100Z"
    }
   },
   "id": "d9feb0fee80b847d"
  },
  {
   "cell_type": "code",
   "execution_count": 1045,
   "outputs": [],
   "source": [
    "athletes_data = pd.read_csv('Data/athletes.csv')"
   ],
   "metadata": {
    "collapsed": false,
    "ExecuteTime": {
     "end_time": "2023-10-04T10:48:10.993699300Z",
     "start_time": "2023-10-04T10:48:09.558567600Z"
    }
   },
   "id": "173c3d8aef87aeca"
  },
  {
   "cell_type": "code",
   "execution_count": 1046,
   "outputs": [
    {
     "name": "stdout",
     "output_type": "stream",
     "text": [
      "<class 'pandas.core.frame.DataFrame'>\n",
      "RangeIndex: 11538 entries, 0 to 11537\n",
      "Data columns (total 11 columns):\n",
      " #   Column       Non-Null Count  Dtype  \n",
      "---  ------       --------------  -----  \n",
      " 0   id           11538 non-null  int64  \n",
      " 1   name         11538 non-null  object \n",
      " 2   nationality  11538 non-null  object \n",
      " 3   sex          11538 non-null  object \n",
      " 4   dob          11537 non-null  object \n",
      " 5   height       11208 non-null  float64\n",
      " 6   weight       10879 non-null  float64\n",
      " 7   sport        11538 non-null  object \n",
      " 8   gold         11538 non-null  int64  \n",
      " 9   silver       11538 non-null  int64  \n",
      " 10  bronze       11538 non-null  int64  \n",
      "dtypes: float64(2), int64(4), object(5)\n",
      "memory usage: 991.7+ KB\n"
     ]
    }
   ],
   "source": [
    "athletes_data.info()"
   ],
   "metadata": {
    "collapsed": false,
    "ExecuteTime": {
     "end_time": "2023-10-04T10:48:11.401315300Z",
     "start_time": "2023-10-04T10:48:09.583188900Z"
    }
   },
   "id": "9f057f372bbfc16f"
  },
  {
   "cell_type": "code",
   "execution_count": 1047,
   "outputs": [
    {
     "data": {
      "text/plain": "          id                 name nationality     sex       dob  height  \\\n0  736041664       A Jesus Garcia         ESP    male  10/17/69    1.72   \n1  532037425           A Lam Shin         KOR  female   9/23/86    1.68   \n2  435962603          Aaron Brown         CAN    male   5/27/92    1.98   \n3  521041435           Aaron Cook         MDA    male    1/2/91    1.83   \n4   33922579           Aaron Gate         NZL    male  11/26/90    1.81   \n5  173071782          Aaron Royle         AUS    male   1/26/90    1.80   \n6  266237702        Aaron Russell         USA    male    6/4/93    2.05   \n7  382571888        Aaron Younger         AUS    male   9/25/91    1.93   \n8   87689776  Aauri Lorena Bokesa         ESP  female  12/14/88    1.80   \n9  997877719      Ababel Yeshaneh         ETH  female   7/22/91    1.65   \n\n   weight       sport  gold  silver  bronze  \n0    64.0   athletics     0       0       0  \n1    56.0     fencing     0       0       0  \n2    79.0   athletics     0       0       1  \n3    80.0   taekwondo     0       0       0  \n4    71.0     cycling     0       0       0  \n5    67.0   triathlon     0       0       0  \n6    98.0  volleyball     0       0       1  \n7   100.0    aquatics     0       0       0  \n8    62.0   athletics     0       0       0  \n9    54.0   athletics     0       0       0  ",
      "text/html": "<div>\n<style scoped>\n    .dataframe tbody tr th:only-of-type {\n        vertical-align: middle;\n    }\n\n    .dataframe tbody tr th {\n        vertical-align: top;\n    }\n\n    .dataframe thead th {\n        text-align: right;\n    }\n</style>\n<table border=\"1\" class=\"dataframe\">\n  <thead>\n    <tr style=\"text-align: right;\">\n      <th></th>\n      <th>id</th>\n      <th>name</th>\n      <th>nationality</th>\n      <th>sex</th>\n      <th>dob</th>\n      <th>height</th>\n      <th>weight</th>\n      <th>sport</th>\n      <th>gold</th>\n      <th>silver</th>\n      <th>bronze</th>\n    </tr>\n  </thead>\n  <tbody>\n    <tr>\n      <th>0</th>\n      <td>736041664</td>\n      <td>A Jesus Garcia</td>\n      <td>ESP</td>\n      <td>male</td>\n      <td>10/17/69</td>\n      <td>1.72</td>\n      <td>64.0</td>\n      <td>athletics</td>\n      <td>0</td>\n      <td>0</td>\n      <td>0</td>\n    </tr>\n    <tr>\n      <th>1</th>\n      <td>532037425</td>\n      <td>A Lam Shin</td>\n      <td>KOR</td>\n      <td>female</td>\n      <td>9/23/86</td>\n      <td>1.68</td>\n      <td>56.0</td>\n      <td>fencing</td>\n      <td>0</td>\n      <td>0</td>\n      <td>0</td>\n    </tr>\n    <tr>\n      <th>2</th>\n      <td>435962603</td>\n      <td>Aaron Brown</td>\n      <td>CAN</td>\n      <td>male</td>\n      <td>5/27/92</td>\n      <td>1.98</td>\n      <td>79.0</td>\n      <td>athletics</td>\n      <td>0</td>\n      <td>0</td>\n      <td>1</td>\n    </tr>\n    <tr>\n      <th>3</th>\n      <td>521041435</td>\n      <td>Aaron Cook</td>\n      <td>MDA</td>\n      <td>male</td>\n      <td>1/2/91</td>\n      <td>1.83</td>\n      <td>80.0</td>\n      <td>taekwondo</td>\n      <td>0</td>\n      <td>0</td>\n      <td>0</td>\n    </tr>\n    <tr>\n      <th>4</th>\n      <td>33922579</td>\n      <td>Aaron Gate</td>\n      <td>NZL</td>\n      <td>male</td>\n      <td>11/26/90</td>\n      <td>1.81</td>\n      <td>71.0</td>\n      <td>cycling</td>\n      <td>0</td>\n      <td>0</td>\n      <td>0</td>\n    </tr>\n    <tr>\n      <th>5</th>\n      <td>173071782</td>\n      <td>Aaron Royle</td>\n      <td>AUS</td>\n      <td>male</td>\n      <td>1/26/90</td>\n      <td>1.80</td>\n      <td>67.0</td>\n      <td>triathlon</td>\n      <td>0</td>\n      <td>0</td>\n      <td>0</td>\n    </tr>\n    <tr>\n      <th>6</th>\n      <td>266237702</td>\n      <td>Aaron Russell</td>\n      <td>USA</td>\n      <td>male</td>\n      <td>6/4/93</td>\n      <td>2.05</td>\n      <td>98.0</td>\n      <td>volleyball</td>\n      <td>0</td>\n      <td>0</td>\n      <td>1</td>\n    </tr>\n    <tr>\n      <th>7</th>\n      <td>382571888</td>\n      <td>Aaron Younger</td>\n      <td>AUS</td>\n      <td>male</td>\n      <td>9/25/91</td>\n      <td>1.93</td>\n      <td>100.0</td>\n      <td>aquatics</td>\n      <td>0</td>\n      <td>0</td>\n      <td>0</td>\n    </tr>\n    <tr>\n      <th>8</th>\n      <td>87689776</td>\n      <td>Aauri Lorena Bokesa</td>\n      <td>ESP</td>\n      <td>female</td>\n      <td>12/14/88</td>\n      <td>1.80</td>\n      <td>62.0</td>\n      <td>athletics</td>\n      <td>0</td>\n      <td>0</td>\n      <td>0</td>\n    </tr>\n    <tr>\n      <th>9</th>\n      <td>997877719</td>\n      <td>Ababel Yeshaneh</td>\n      <td>ETH</td>\n      <td>female</td>\n      <td>7/22/91</td>\n      <td>1.65</td>\n      <td>54.0</td>\n      <td>athletics</td>\n      <td>0</td>\n      <td>0</td>\n      <td>0</td>\n    </tr>\n  </tbody>\n</table>\n</div>"
     },
     "execution_count": 1047,
     "metadata": {},
     "output_type": "execute_result"
    }
   ],
   "source": [
    "athletes_data.head(10)"
   ],
   "metadata": {
    "collapsed": false,
    "ExecuteTime": {
     "end_time": "2023-10-04T10:48:11.517208100Z",
     "start_time": "2023-10-04T10:48:09.593352200Z"
    }
   },
   "id": "b8afca7c3aa40d6d"
  },
  {
   "cell_type": "code",
   "execution_count": 1048,
   "outputs": [
    {
     "data": {
      "text/plain": "gold\n0    10919\n1      584\n2       27\n3        5\n4        2\n5        1\nName: count, dtype: int64"
     },
     "execution_count": 1048,
     "metadata": {},
     "output_type": "execute_result"
    }
   ],
   "source": [
    "athletes_data['gold'].value_counts()"
   ],
   "metadata": {
    "collapsed": false,
    "ExecuteTime": {
     "end_time": "2023-10-04T10:48:11.634113500Z",
     "start_time": "2023-10-04T10:48:09.609576800Z"
    }
   },
   "id": "b19a60d191c0085"
  },
  {
   "cell_type": "code",
   "execution_count": 1049,
   "outputs": [
    {
     "data": {
      "text/plain": "              id               name nationality     sex       dob  height  \\\n223    840071617         Aisen Chen         CHN    male  10/22/95    1.68   \n363    557501936     Alex Ranghieri         ITA    male   6/18/87    2.00   \n418     71010173  Alexandra Raisman         USA  female   5/25/94    1.58   \n542    629649792      Allyson Felix         USA  female  11/18/85    1.68   \n746    857846421    Andre de Grasse         CAN    male  11/10/94    1.76   \n...          ...                ...         ...     ...       ...     ...   \n11145  344496691           Yang Sun         CHN    male   12/1/91    2.00   \n11163  210648871     Yanyuhang Ding         CHN    male   8/20/93    2.00   \n11365  703800372        Yukiko Inui         JPN  female   12/4/90    1.70   \n11370   86099624      Yulia Efimova         RUS  female    4/3/92     NaN   \n11401  708404577         Yuri Kisil         CAN    male   9/18/95    2.00   \n\n       weight       sport  gold  silver  bronze  \n223      60.0    aquatics     2       0       0  \n363      94.0  volleyball     0       0       0  \n418      52.0  gymnastics     1       2       0  \n542      56.0   athletics     2       1       0  \n746      70.0   athletics     0       1       2  \n...       ...         ...   ...     ...     ...  \n11145    92.0    aquatics     1       1       0  \n11163    91.0  basketball     0       0       0  \n11365    56.0    aquatics     0       0       2  \n11370     NaN    aquatics     0       2       0  \n11401    84.0    aquatics     0       0       0  \n\n[123 rows x 11 columns]",
      "text/html": "<div>\n<style scoped>\n    .dataframe tbody tr th:only-of-type {\n        vertical-align: middle;\n    }\n\n    .dataframe tbody tr th {\n        vertical-align: top;\n    }\n\n    .dataframe thead th {\n        text-align: right;\n    }\n</style>\n<table border=\"1\" class=\"dataframe\">\n  <thead>\n    <tr style=\"text-align: right;\">\n      <th></th>\n      <th>id</th>\n      <th>name</th>\n      <th>nationality</th>\n      <th>sex</th>\n      <th>dob</th>\n      <th>height</th>\n      <th>weight</th>\n      <th>sport</th>\n      <th>gold</th>\n      <th>silver</th>\n      <th>bronze</th>\n    </tr>\n  </thead>\n  <tbody>\n    <tr>\n      <th>223</th>\n      <td>840071617</td>\n      <td>Aisen Chen</td>\n      <td>CHN</td>\n      <td>male</td>\n      <td>10/22/95</td>\n      <td>1.68</td>\n      <td>60.0</td>\n      <td>aquatics</td>\n      <td>2</td>\n      <td>0</td>\n      <td>0</td>\n    </tr>\n    <tr>\n      <th>363</th>\n      <td>557501936</td>\n      <td>Alex Ranghieri</td>\n      <td>ITA</td>\n      <td>male</td>\n      <td>6/18/87</td>\n      <td>2.00</td>\n      <td>94.0</td>\n      <td>volleyball</td>\n      <td>0</td>\n      <td>0</td>\n      <td>0</td>\n    </tr>\n    <tr>\n      <th>418</th>\n      <td>71010173</td>\n      <td>Alexandra Raisman</td>\n      <td>USA</td>\n      <td>female</td>\n      <td>5/25/94</td>\n      <td>1.58</td>\n      <td>52.0</td>\n      <td>gymnastics</td>\n      <td>1</td>\n      <td>2</td>\n      <td>0</td>\n    </tr>\n    <tr>\n      <th>542</th>\n      <td>629649792</td>\n      <td>Allyson Felix</td>\n      <td>USA</td>\n      <td>female</td>\n      <td>11/18/85</td>\n      <td>1.68</td>\n      <td>56.0</td>\n      <td>athletics</td>\n      <td>2</td>\n      <td>1</td>\n      <td>0</td>\n    </tr>\n    <tr>\n      <th>746</th>\n      <td>857846421</td>\n      <td>Andre de Grasse</td>\n      <td>CAN</td>\n      <td>male</td>\n      <td>11/10/94</td>\n      <td>1.76</td>\n      <td>70.0</td>\n      <td>athletics</td>\n      <td>0</td>\n      <td>1</td>\n      <td>2</td>\n    </tr>\n    <tr>\n      <th>...</th>\n      <td>...</td>\n      <td>...</td>\n      <td>...</td>\n      <td>...</td>\n      <td>...</td>\n      <td>...</td>\n      <td>...</td>\n      <td>...</td>\n      <td>...</td>\n      <td>...</td>\n      <td>...</td>\n    </tr>\n    <tr>\n      <th>11145</th>\n      <td>344496691</td>\n      <td>Yang Sun</td>\n      <td>CHN</td>\n      <td>male</td>\n      <td>12/1/91</td>\n      <td>2.00</td>\n      <td>92.0</td>\n      <td>aquatics</td>\n      <td>1</td>\n      <td>1</td>\n      <td>0</td>\n    </tr>\n    <tr>\n      <th>11163</th>\n      <td>210648871</td>\n      <td>Yanyuhang Ding</td>\n      <td>CHN</td>\n      <td>male</td>\n      <td>8/20/93</td>\n      <td>2.00</td>\n      <td>91.0</td>\n      <td>basketball</td>\n      <td>0</td>\n      <td>0</td>\n      <td>0</td>\n    </tr>\n    <tr>\n      <th>11365</th>\n      <td>703800372</td>\n      <td>Yukiko Inui</td>\n      <td>JPN</td>\n      <td>female</td>\n      <td>12/4/90</td>\n      <td>1.70</td>\n      <td>56.0</td>\n      <td>aquatics</td>\n      <td>0</td>\n      <td>0</td>\n      <td>2</td>\n    </tr>\n    <tr>\n      <th>11370</th>\n      <td>86099624</td>\n      <td>Yulia Efimova</td>\n      <td>RUS</td>\n      <td>female</td>\n      <td>4/3/92</td>\n      <td>NaN</td>\n      <td>NaN</td>\n      <td>aquatics</td>\n      <td>0</td>\n      <td>2</td>\n      <td>0</td>\n    </tr>\n    <tr>\n      <th>11401</th>\n      <td>708404577</td>\n      <td>Yuri Kisil</td>\n      <td>CAN</td>\n      <td>male</td>\n      <td>9/18/95</td>\n      <td>2.00</td>\n      <td>84.0</td>\n      <td>aquatics</td>\n      <td>0</td>\n      <td>0</td>\n      <td>0</td>\n    </tr>\n  </tbody>\n</table>\n<p>123 rows × 11 columns</p>\n</div>"
     },
     "execution_count": 1049,
     "metadata": {},
     "output_type": "execute_result"
    }
   ],
   "source": [
    "athletes_data[athletes_data.isin([2, 3, 4, 5]).any(axis=1)]"
   ],
   "metadata": {
    "collapsed": false,
    "ExecuteTime": {
     "end_time": "2023-10-04T10:48:11.958042200Z",
     "start_time": "2023-10-04T10:48:09.616200700Z"
    }
   },
   "id": "1f7252815f606253"
  },
  {
   "cell_type": "markdown",
   "source": [
    "Из датасета видно, что параметры роста и веса некоторых спортсменов не известны, а так же потерялся день рождения одного человека, поэтому удалим пропущенные значения, а от даты рождения, оставим только год, т.к. возраст спортсмена сильно влияет на его физическую форму. Так же замечаем, что медалей может быть больше одной, но для предсказания мы используем бинарный классификатор, поэтому надо это значения либо удалить, либо прировнять к 1, а т.к. медали у нас 3, будем предсказывать только золотую. "
   ],
   "metadata": {
    "collapsed": false
   },
   "id": "96cfd2cdb3ea0a2c"
  },
  {
   "cell_type": "code",
   "execution_count": 1050,
   "outputs": [],
   "source": [
    "athletes_data.dropna(inplace=True)"
   ],
   "metadata": {
    "collapsed": false,
    "ExecuteTime": {
     "end_time": "2023-10-04T10:48:11.959041400Z",
     "start_time": "2023-10-04T10:48:09.641083600Z"
    }
   },
   "id": "145a0cc213da62f"
  },
  {
   "cell_type": "code",
   "execution_count": 1051,
   "outputs": [
    {
     "name": "stdout",
     "output_type": "stream",
     "text": [
      "<class 'pandas.core.frame.DataFrame'>\n",
      "Index: 10858 entries, 0 to 11537\n",
      "Data columns (total 11 columns):\n",
      " #   Column       Non-Null Count  Dtype  \n",
      "---  ------       --------------  -----  \n",
      " 0   id           10858 non-null  int64  \n",
      " 1   name         10858 non-null  object \n",
      " 2   nationality  10858 non-null  object \n",
      " 3   sex          10858 non-null  object \n",
      " 4   dob          10858 non-null  object \n",
      " 5   height       10858 non-null  float64\n",
      " 6   weight       10858 non-null  float64\n",
      " 7   sport        10858 non-null  object \n",
      " 8   gold         10858 non-null  int64  \n",
      " 9   silver       10858 non-null  int64  \n",
      " 10  bronze       10858 non-null  int64  \n",
      "dtypes: float64(2), int64(4), object(5)\n",
      "memory usage: 1017.9+ KB\n"
     ]
    }
   ],
   "source": [
    "athletes_data.info()"
   ],
   "metadata": {
    "collapsed": false,
    "ExecuteTime": {
     "end_time": "2023-10-04T10:48:11.959532900Z",
     "start_time": "2023-10-04T10:48:09.652493300Z"
    }
   },
   "id": "f4f90f5a22f9dcb7"
  },
  {
   "cell_type": "code",
   "execution_count": 1052,
   "outputs": [
    {
     "data": {
      "text/plain": "0    1969\n1    1986\n2    1992\n3    1991\n4    1990\n5    1990\n6    1993\n7    1991\n8    1988\n9    1991\nName: dob, dtype: int32"
     },
     "execution_count": 1052,
     "metadata": {},
     "output_type": "execute_result"
    }
   ],
   "source": [
    "athletes_data['dob'] = pd.to_datetime(athletes_data['dob'], format=\"%m/%d/%y\")\n",
    "athletes_data['dob'] = athletes_data['dob'].dt.year\n",
    "athletes_data['dob'].head(10)"
   ],
   "metadata": {
    "collapsed": false,
    "ExecuteTime": {
     "end_time": "2023-10-04T10:48:11.960036800Z",
     "start_time": "2023-10-04T10:48:09.666604700Z"
    }
   },
   "id": "62ee20fb2047bda"
  },
  {
   "cell_type": "code",
   "execution_count": 1053,
   "outputs": [],
   "source": [
    "athletes_data['gold'] = athletes_data['gold'].replace([[2,3,4,5]], 1)"
   ],
   "metadata": {
    "collapsed": false,
    "ExecuteTime": {
     "end_time": "2023-10-04T10:48:11.960036800Z",
     "start_time": "2023-10-04T10:48:09.707033200Z"
    }
   },
   "id": "6abc292a1493f019"
  },
  {
   "cell_type": "code",
   "execution_count": 1054,
   "outputs": [
    {
     "data": {
      "text/plain": "gold\n0    10256\n1      602\nName: count, dtype: int64"
     },
     "execution_count": 1054,
     "metadata": {},
     "output_type": "execute_result"
    }
   ],
   "source": [
    "athletes_data['gold'].value_counts()"
   ],
   "metadata": {
    "collapsed": false,
    "ExecuteTime": {
     "end_time": "2023-10-04T10:48:11.960036800Z",
     "start_time": "2023-10-04T10:48:09.712710400Z"
    }
   },
   "id": "f8b75c033b7338d9"
  },
  {
   "cell_type": "code",
   "execution_count": 1055,
   "outputs": [],
   "source": [
    "X_frame = athletes_data[['nationality', 'sex', 'dob', 'height', 'weight','sport']] # "
   ],
   "metadata": {
    "collapsed": false,
    "ExecuteTime": {
     "end_time": "2023-10-04T10:48:11.960036800Z",
     "start_time": "2023-10-04T10:48:09.721770400Z"
    }
   },
   "id": "7d64ab00f2f6783a"
  },
  {
   "cell_type": "code",
   "execution_count": 1056,
   "outputs": [
    {
     "data": {
      "text/plain": "    dob  height  weight  nationality_AFG  nationality_ALB  nationality_ALG  \\\n0  1969    1.72    64.0                0                0                0   \n1  1986    1.68    56.0                0                0                0   \n2  1992    1.98    79.0                0                0                0   \n3  1991    1.83    80.0                0                0                0   \n4  1990    1.81    71.0                0                0                0   \n\n   nationality_AND  nationality_ANG  nationality_ANT  nationality_ARG  ...  \\\n0                0                0                0                0  ...   \n1                0                0                0                0  ...   \n2                0                0                0                0  ...   \n3                0                0                0                0  ...   \n4                0                0                0                0  ...   \n\n   sport_rugby sevens  sport_sailing  sport_shooting  sport_table tennis  \\\n0                   0              0               0                   0   \n1                   0              0               0                   0   \n2                   0              0               0                   0   \n3                   0              0               0                   0   \n4                   0              0               0                   0   \n\n   sport_taekwondo  sport_tennis  sport_triathlon  sport_volleyball  \\\n0                0             0                0                 0   \n1                0             0                0                 0   \n2                0             0                0                 0   \n3                1             0                0                 0   \n4                0             0                0                 0   \n\n   sport_weightlifting  sport_wrestling  \n0                    0                0  \n1                    0                0  \n2                    0                0  \n3                    0                0  \n4                    0                0  \n\n[5 rows x 232 columns]",
      "text/html": "<div>\n<style scoped>\n    .dataframe tbody tr th:only-of-type {\n        vertical-align: middle;\n    }\n\n    .dataframe tbody tr th {\n        vertical-align: top;\n    }\n\n    .dataframe thead th {\n        text-align: right;\n    }\n</style>\n<table border=\"1\" class=\"dataframe\">\n  <thead>\n    <tr style=\"text-align: right;\">\n      <th></th>\n      <th>dob</th>\n      <th>height</th>\n      <th>weight</th>\n      <th>nationality_AFG</th>\n      <th>nationality_ALB</th>\n      <th>nationality_ALG</th>\n      <th>nationality_AND</th>\n      <th>nationality_ANG</th>\n      <th>nationality_ANT</th>\n      <th>nationality_ARG</th>\n      <th>...</th>\n      <th>sport_rugby sevens</th>\n      <th>sport_sailing</th>\n      <th>sport_shooting</th>\n      <th>sport_table tennis</th>\n      <th>sport_taekwondo</th>\n      <th>sport_tennis</th>\n      <th>sport_triathlon</th>\n      <th>sport_volleyball</th>\n      <th>sport_weightlifting</th>\n      <th>sport_wrestling</th>\n    </tr>\n  </thead>\n  <tbody>\n    <tr>\n      <th>0</th>\n      <td>1969</td>\n      <td>1.72</td>\n      <td>64.0</td>\n      <td>0</td>\n      <td>0</td>\n      <td>0</td>\n      <td>0</td>\n      <td>0</td>\n      <td>0</td>\n      <td>0</td>\n      <td>...</td>\n      <td>0</td>\n      <td>0</td>\n      <td>0</td>\n      <td>0</td>\n      <td>0</td>\n      <td>0</td>\n      <td>0</td>\n      <td>0</td>\n      <td>0</td>\n      <td>0</td>\n    </tr>\n    <tr>\n      <th>1</th>\n      <td>1986</td>\n      <td>1.68</td>\n      <td>56.0</td>\n      <td>0</td>\n      <td>0</td>\n      <td>0</td>\n      <td>0</td>\n      <td>0</td>\n      <td>0</td>\n      <td>0</td>\n      <td>...</td>\n      <td>0</td>\n      <td>0</td>\n      <td>0</td>\n      <td>0</td>\n      <td>0</td>\n      <td>0</td>\n      <td>0</td>\n      <td>0</td>\n      <td>0</td>\n      <td>0</td>\n    </tr>\n    <tr>\n      <th>2</th>\n      <td>1992</td>\n      <td>1.98</td>\n      <td>79.0</td>\n      <td>0</td>\n      <td>0</td>\n      <td>0</td>\n      <td>0</td>\n      <td>0</td>\n      <td>0</td>\n      <td>0</td>\n      <td>...</td>\n      <td>0</td>\n      <td>0</td>\n      <td>0</td>\n      <td>0</td>\n      <td>0</td>\n      <td>0</td>\n      <td>0</td>\n      <td>0</td>\n      <td>0</td>\n      <td>0</td>\n    </tr>\n    <tr>\n      <th>3</th>\n      <td>1991</td>\n      <td>1.83</td>\n      <td>80.0</td>\n      <td>0</td>\n      <td>0</td>\n      <td>0</td>\n      <td>0</td>\n      <td>0</td>\n      <td>0</td>\n      <td>0</td>\n      <td>...</td>\n      <td>0</td>\n      <td>0</td>\n      <td>0</td>\n      <td>0</td>\n      <td>1</td>\n      <td>0</td>\n      <td>0</td>\n      <td>0</td>\n      <td>0</td>\n      <td>0</td>\n    </tr>\n    <tr>\n      <th>4</th>\n      <td>1990</td>\n      <td>1.81</td>\n      <td>71.0</td>\n      <td>0</td>\n      <td>0</td>\n      <td>0</td>\n      <td>0</td>\n      <td>0</td>\n      <td>0</td>\n      <td>0</td>\n      <td>...</td>\n      <td>0</td>\n      <td>0</td>\n      <td>0</td>\n      <td>0</td>\n      <td>0</td>\n      <td>0</td>\n      <td>0</td>\n      <td>0</td>\n      <td>0</td>\n      <td>0</td>\n    </tr>\n  </tbody>\n</table>\n<p>5 rows × 232 columns</p>\n</div>"
     },
     "execution_count": 1056,
     "metadata": {},
     "output_type": "execute_result"
    }
   ],
   "source": [
    "# категориальные переменные переведем в значения 0 и 1, добавив столбцы с соответствующими названиями\n",
    "X = pd.get_dummies(X_frame, columns=['nationality', 'sex', 'sport'], dtype=int) #\n",
    "X.head()"
   ],
   "metadata": {
    "collapsed": false,
    "ExecuteTime": {
     "end_time": "2023-10-04T10:48:11.960036800Z",
     "start_time": "2023-10-04T10:48:09.729574900Z"
    }
   },
   "id": "b498d635d40ac0a8"
  },
  {
   "cell_type": "code",
   "execution_count": 1057,
   "outputs": [],
   "source": [
    "Y_g = athletes_data['gold']\n",
    "# Y_s = athletes_data['silver']\n",
    "# Y_b = athletes_data['bronze']"
   ],
   "metadata": {
    "collapsed": false,
    "ExecuteTime": {
     "end_time": "2023-10-04T10:48:11.960036800Z",
     "start_time": "2023-10-04T10:48:09.766830400Z"
    }
   },
   "id": "4ae1c8762d932316"
  },
  {
   "cell_type": "code",
   "execution_count": 1058,
   "outputs": [],
   "source": [
    "model = LogisticRegression(max_iter=5000)#max_iter=3000"
   ],
   "metadata": {
    "collapsed": false,
    "ExecuteTime": {
     "end_time": "2023-10-04T10:48:11.961039600Z",
     "start_time": "2023-10-04T10:48:09.772490700Z"
    }
   },
   "id": "b358eb4c1749a30f"
  },
  {
   "cell_type": "code",
   "execution_count": 1059,
   "outputs": [],
   "source": [
    "X_train_g, X_test_g, Y_train_g, Y_test_g = train_test_split(X, Y_g, test_size = 0.2, random_state = 42)\n",
    "# X_train_s, X_test_s, Y_train_s, Y_test_s = train_test_split(X, Y_s, test_size = 0.2, random_state = 42)\n",
    "# X_train_b, X_test_b, Y_train_b, Y_test_b = train_test_split(X, Y_b, test_size = 0.2, random_state = 42)"
   ],
   "metadata": {
    "collapsed": false,
    "ExecuteTime": {
     "end_time": "2023-10-04T10:48:11.961039600Z",
     "start_time": "2023-10-04T10:48:09.777883600Z"
    }
   },
   "id": "f3018b3c25d4877f"
  },
  {
   "cell_type": "code",
   "execution_count": 1060,
   "outputs": [
    {
     "data": {
      "text/plain": "LogisticRegression(max_iter=5000)",
      "text/html": "<style>#sk-container-id-44 {color: black;}#sk-container-id-44 pre{padding: 0;}#sk-container-id-44 div.sk-toggleable {background-color: white;}#sk-container-id-44 label.sk-toggleable__label {cursor: pointer;display: block;width: 100%;margin-bottom: 0;padding: 0.3em;box-sizing: border-box;text-align: center;}#sk-container-id-44 label.sk-toggleable__label-arrow:before {content: \"▸\";float: left;margin-right: 0.25em;color: #696969;}#sk-container-id-44 label.sk-toggleable__label-arrow:hover:before {color: black;}#sk-container-id-44 div.sk-estimator:hover label.sk-toggleable__label-arrow:before {color: black;}#sk-container-id-44 div.sk-toggleable__content {max-height: 0;max-width: 0;overflow: hidden;text-align: left;background-color: #f0f8ff;}#sk-container-id-44 div.sk-toggleable__content pre {margin: 0.2em;color: black;border-radius: 0.25em;background-color: #f0f8ff;}#sk-container-id-44 input.sk-toggleable__control:checked~div.sk-toggleable__content {max-height: 200px;max-width: 100%;overflow: auto;}#sk-container-id-44 input.sk-toggleable__control:checked~label.sk-toggleable__label-arrow:before {content: \"▾\";}#sk-container-id-44 div.sk-estimator input.sk-toggleable__control:checked~label.sk-toggleable__label {background-color: #d4ebff;}#sk-container-id-44 div.sk-label input.sk-toggleable__control:checked~label.sk-toggleable__label {background-color: #d4ebff;}#sk-container-id-44 input.sk-hidden--visually {border: 0;clip: rect(1px 1px 1px 1px);clip: rect(1px, 1px, 1px, 1px);height: 1px;margin: -1px;overflow: hidden;padding: 0;position: absolute;width: 1px;}#sk-container-id-44 div.sk-estimator {font-family: monospace;background-color: #f0f8ff;border: 1px dotted black;border-radius: 0.25em;box-sizing: border-box;margin-bottom: 0.5em;}#sk-container-id-44 div.sk-estimator:hover {background-color: #d4ebff;}#sk-container-id-44 div.sk-parallel-item::after {content: \"\";width: 100%;border-bottom: 1px solid gray;flex-grow: 1;}#sk-container-id-44 div.sk-label:hover label.sk-toggleable__label {background-color: #d4ebff;}#sk-container-id-44 div.sk-serial::before {content: \"\";position: absolute;border-left: 1px solid gray;box-sizing: border-box;top: 0;bottom: 0;left: 50%;z-index: 0;}#sk-container-id-44 div.sk-serial {display: flex;flex-direction: column;align-items: center;background-color: white;padding-right: 0.2em;padding-left: 0.2em;position: relative;}#sk-container-id-44 div.sk-item {position: relative;z-index: 1;}#sk-container-id-44 div.sk-parallel {display: flex;align-items: stretch;justify-content: center;background-color: white;position: relative;}#sk-container-id-44 div.sk-item::before, #sk-container-id-44 div.sk-parallel-item::before {content: \"\";position: absolute;border-left: 1px solid gray;box-sizing: border-box;top: 0;bottom: 0;left: 50%;z-index: -1;}#sk-container-id-44 div.sk-parallel-item {display: flex;flex-direction: column;z-index: 1;position: relative;background-color: white;}#sk-container-id-44 div.sk-parallel-item:first-child::after {align-self: flex-end;width: 50%;}#sk-container-id-44 div.sk-parallel-item:last-child::after {align-self: flex-start;width: 50%;}#sk-container-id-44 div.sk-parallel-item:only-child::after {width: 0;}#sk-container-id-44 div.sk-dashed-wrapped {border: 1px dashed gray;margin: 0 0.4em 0.5em 0.4em;box-sizing: border-box;padding-bottom: 0.4em;background-color: white;}#sk-container-id-44 div.sk-label label {font-family: monospace;font-weight: bold;display: inline-block;line-height: 1.2em;}#sk-container-id-44 div.sk-label-container {text-align: center;}#sk-container-id-44 div.sk-container {/* jupyter's `normalize.less` sets `[hidden] { display: none; }` but bootstrap.min.css set `[hidden] { display: none !important; }` so we also need the `!important` here to be able to override the default hidden behavior on the sphinx rendered scikit-learn.org. See: https://github.com/scikit-learn/scikit-learn/issues/21755 */display: inline-block !important;position: relative;}#sk-container-id-44 div.sk-text-repr-fallback {display: none;}</style><div id=\"sk-container-id-44\" class=\"sk-top-container\"><div class=\"sk-text-repr-fallback\"><pre>LogisticRegression(max_iter=5000)</pre><b>In a Jupyter environment, please rerun this cell to show the HTML representation or trust the notebook. <br />On GitHub, the HTML representation is unable to render, please try loading this page with nbviewer.org.</b></div><div class=\"sk-container\" hidden><div class=\"sk-item\"><div class=\"sk-estimator sk-toggleable\"><input class=\"sk-toggleable__control sk-hidden--visually\" id=\"sk-estimator-id-44\" type=\"checkbox\" checked><label for=\"sk-estimator-id-44\" class=\"sk-toggleable__label sk-toggleable__label-arrow\">LogisticRegression</label><div class=\"sk-toggleable__content\"><pre>LogisticRegression(max_iter=5000)</pre></div></div></div></div></div>"
     },
     "execution_count": 1060,
     "metadata": {},
     "output_type": "execute_result"
    }
   ],
   "source": [
    "model.fit(X_train_g, Y_train_g)"
   ],
   "metadata": {
    "collapsed": false,
    "ExecuteTime": {
     "end_time": "2023-10-04T10:48:12.101684200Z",
     "start_time": "2023-10-04T10:48:09.802464Z"
    }
   },
   "id": "fad166701541451a"
  },
  {
   "cell_type": "markdown",
   "source": [
    "Получаем прогнозные значения модели (переменная predictions)"
   ],
   "metadata": {
    "collapsed": false
   },
   "id": "1bce29d5fdc12531"
  },
  {
   "cell_type": "code",
   "execution_count": 1061,
   "outputs": [],
   "source": [
    "predictions = model.predict_proba(X_test_g)"
   ],
   "metadata": {
    "collapsed": false,
    "ExecuteTime": {
     "end_time": "2023-10-04T10:48:12.171625300Z",
     "start_time": "2023-10-04T10:48:11.949910700Z"
    }
   },
   "id": "37929e32de4a6c5d"
  },
  {
   "cell_type": "code",
   "execution_count": 1062,
   "outputs": [
    {
     "data": {
      "text/plain": "array([[0.99180186, 0.00819814],\n       [0.96911385, 0.03088615]])"
     },
     "execution_count": 1062,
     "metadata": {},
     "output_type": "execute_result"
    }
   ],
   "source": [
    "predictions[:2]"
   ],
   "metadata": {
    "collapsed": false,
    "ExecuteTime": {
     "end_time": "2023-10-04T10:48:12.172625600Z",
     "start_time": "2023-10-04T10:48:11.963040200Z"
    }
   },
   "id": "3ccece3b78a8b81a"
  },
  {
   "cell_type": "code",
   "execution_count": 1063,
   "outputs": [
    {
     "data": {
      "text/plain": "0.9437025097858623"
     },
     "execution_count": 1063,
     "metadata": {},
     "output_type": "execute_result"
    }
   ],
   "source": [
    "model.score(X_train_g, Y_train_g)"
   ],
   "metadata": {
    "collapsed": false,
    "ExecuteTime": {
     "end_time": "2023-10-04T10:48:12.174633500Z",
     "start_time": "2023-10-04T10:48:11.970048400Z"
    }
   },
   "id": "5d5a7da712e523e4"
  },
  {
   "cell_type": "code",
   "execution_count": 1064,
   "outputs": [
    {
     "data": {
      "text/plain": "0.9479742173112339"
     },
     "execution_count": 1064,
     "metadata": {},
     "output_type": "execute_result"
    }
   ],
   "source": [
    "model.score(X_test_g, Y_test_g)"
   ],
   "metadata": {
    "collapsed": false,
    "ExecuteTime": {
     "end_time": "2023-10-04T10:48:12.191023500Z",
     "start_time": "2023-10-04T10:48:11.995735700Z"
    }
   },
   "id": "bf2f2214250248e2"
  },
  {
   "cell_type": "code",
   "execution_count": 1065,
   "outputs": [],
   "source": [
    "precision_g, recall_g, thresholds_g = precision_recall_curve(Y_test_g, predictions[:, 1])"
   ],
   "metadata": {
    "collapsed": false,
    "ExecuteTime": {
     "end_time": "2023-10-04T10:48:12.230187800Z",
     "start_time": "2023-10-04T10:48:12.011931Z"
    }
   },
   "id": "e1f0dcd938edf775"
  },
  {
   "cell_type": "code",
   "execution_count": 1066,
   "outputs": [
    {
     "data": {
      "text/plain": "array([0.05202578, 0.05204975, 0.05207373, ..., 0.        , 0.        ,\n       1.        ])"
     },
     "execution_count": 1066,
     "metadata": {},
     "output_type": "execute_result"
    }
   ],
   "source": [
    "precision_g"
   ],
   "metadata": {
    "collapsed": false,
    "ExecuteTime": {
     "end_time": "2023-10-04T10:48:12.261058500Z",
     "start_time": "2023-10-04T10:48:12.019974100Z"
    }
   },
   "id": "baf55153d1b3e2b8"
  },
  {
   "cell_type": "code",
   "execution_count": 1067,
   "outputs": [
    {
     "data": {
      "text/plain": "array([1., 1., 1., ..., 0., 0., 0.])"
     },
     "execution_count": 1067,
     "metadata": {},
     "output_type": "execute_result"
    }
   ],
   "source": [
    "recall_g"
   ],
   "metadata": {
    "collapsed": false,
    "ExecuteTime": {
     "end_time": "2023-10-04T10:48:12.262058700Z",
     "start_time": "2023-10-04T10:48:12.025390900Z"
    }
   },
   "id": "7e1dc9f3c41af665"
  },
  {
   "cell_type": "markdown",
   "source": [
    "Посчитаем ROC-кривую (Receiver Operating Characteristic)"
   ],
   "metadata": {
    "collapsed": false
   },
   "id": "1ca8264299811194"
  },
  {
   "cell_type": "code",
   "execution_count": 1068,
   "outputs": [],
   "source": [
    "# получаем значения false и true positive rate для различных значений порога\n",
    "fpr1, tpr1, thres1 = roc_curve(Y_test_g, predictions[:, 1], pos_label=1)"
   ],
   "metadata": {
    "collapsed": false,
    "ExecuteTime": {
     "end_time": "2023-10-04T10:48:12.262058700Z",
     "start_time": "2023-10-04T10:48:12.030157500Z"
    }
   },
   "id": "590aedca58767c85"
  },
  {
   "cell_type": "code",
   "execution_count": 1069,
   "outputs": [
    {
     "name": "stdout",
     "output_type": "stream",
     "text": [
      "(0.0, 0.0, inf)\n",
      "(0.00048567265662943174, 0.0, 0.34154795578032054)\n",
      "(0.005342399222923749, 0.0, 0.3068200223340587)\n",
      "(0.005342399222923749, 0.008849557522123894, 0.30008017311601115)\n",
      "(0.005828071879553181, 0.008849557522123894, 0.2993535580962733)\n",
      "(0.005828071879553181, 0.017699115044247787, 0.2981701414392314)\n",
      "(0.006313744536182613, 0.017699115044247787, 0.2973017905722047)\n",
      "(0.006313744536182613, 0.035398230088495575, 0.29403642363898064)\n",
      "(0.007285089849441476, 0.035398230088495575, 0.2795177564491098)\n",
      "(0.007285089849441476, 0.04424778761061947, 0.2789411292254433)\n"
     ]
    }
   ],
   "source": [
    "for line in zip(fpr1[:10], tpr1[:10], thres1[:10]):\n",
    "    print(line)"
   ],
   "metadata": {
    "collapsed": false,
    "ExecuteTime": {
     "end_time": "2023-10-04T10:48:12.262058700Z",
     "start_time": "2023-10-04T10:48:12.037609900Z"
    }
   },
   "id": "a0e6c8c8587ac86b"
  },
  {
   "cell_type": "code",
   "execution_count": 1070,
   "outputs": [
    {
     "data": {
      "text/plain": "<Figure size 640x480 with 1 Axes>",
      "image/png": "[encoded data removed]"
     },
     "metadata": {},
     "output_type": "display_data"
    }
   ],
   "source": [
    "plt.plot(fpr1, tpr1)\n",
    "plt.grid()"
   ],
   "metadata": {
    "collapsed": false,
    "ExecuteTime": {
     "end_time": "2023-10-04T10:48:12.763473100Z",
     "start_time": "2023-10-04T10:48:12.044780600Z"
    }
   },
   "id": "14a6e3a877a9f3c4"
  },
  {
   "cell_type": "markdown",
   "source": [
    "Построим еще одну модель и сравним их между собой, но используем меньше параметров"
   ],
   "metadata": {
    "collapsed": false
   },
   "id": "850bcb2424c7b0e8"
  },
  {
   "cell_type": "code",
   "execution_count": 1071,
   "outputs": [
    {
     "data": {
      "text/plain": "    dob  nationality_AFG  nationality_ALB  nationality_ALG  nationality_AND  \\\n0  1969                0                0                0                0   \n1  1986                0                0                0                0   \n2  1992                0                0                0                0   \n3  1991                0                0                0                0   \n4  1990                0                0                0                0   \n\n   nationality_ANG  nationality_ANT  nationality_ARG  nationality_ARM  \\\n0                0                0                0                0   \n1                0                0                0                0   \n2                0                0                0                0   \n3                0                0                0                0   \n4                0                0                0                0   \n\n   nationality_ARU  ...  nationality_UZB  nationality_VAN  nationality_VEN  \\\n0                0  ...                0                0                0   \n1                0  ...                0                0                0   \n2                0  ...                0                0                0   \n3                0  ...                0                0                0   \n4                0  ...                0                0                0   \n\n   nationality_VIE  nationality_VIN  nationality_YEM  nationality_ZAM  \\\n0                0                0                0                0   \n1                0                0                0                0   \n2                0                0                0                0   \n3                0                0                0                0   \n4                0                0                0                0   \n\n   nationality_ZIM  sex_female  sex_male  \n0                0           0         1  \n1                0           1         0  \n2                0           0         1  \n3                0           0         1  \n4                0           0         1  \n\n[5 rows x 203 columns]",
      "text/html": "<div>\n<style scoped>\n    .dataframe tbody tr th:only-of-type {\n        vertical-align: middle;\n    }\n\n    .dataframe tbody tr th {\n        vertical-align: top;\n    }\n\n    .dataframe thead th {\n        text-align: right;\n    }\n</style>\n<table border=\"1\" class=\"dataframe\">\n  <thead>\n    <tr style=\"text-align: right;\">\n      <th></th>\n      <th>dob</th>\n      <th>nationality_AFG</th>\n      <th>nationality_ALB</th>\n      <th>nationality_ALG</th>\n      <th>nationality_AND</th>\n      <th>nationality_ANG</th>\n      <th>nationality_ANT</th>\n      <th>nationality_ARG</th>\n      <th>nationality_ARM</th>\n      <th>nationality_ARU</th>\n      <th>...</th>\n      <th>nationality_UZB</th>\n      <th>nationality_VAN</th>\n      <th>nationality_VEN</th>\n      <th>nationality_VIE</th>\n      <th>nationality_VIN</th>\n      <th>nationality_YEM</th>\n      <th>nationality_ZAM</th>\n      <th>nationality_ZIM</th>\n      <th>sex_female</th>\n      <th>sex_male</th>\n    </tr>\n  </thead>\n  <tbody>\n    <tr>\n      <th>0</th>\n      <td>1969</td>\n      <td>0</td>\n      <td>0</td>\n      <td>0</td>\n      <td>0</td>\n      <td>0</td>\n      <td>0</td>\n      <td>0</td>\n      <td>0</td>\n      <td>0</td>\n      <td>...</td>\n      <td>0</td>\n      <td>0</td>\n      <td>0</td>\n      <td>0</td>\n      <td>0</td>\n      <td>0</td>\n      <td>0</td>\n      <td>0</td>\n      <td>0</td>\n      <td>1</td>\n    </tr>\n    <tr>\n      <th>1</th>\n      <td>1986</td>\n      <td>0</td>\n      <td>0</td>\n      <td>0</td>\n      <td>0</td>\n      <td>0</td>\n      <td>0</td>\n      <td>0</td>\n      <td>0</td>\n      <td>0</td>\n      <td>...</td>\n      <td>0</td>\n      <td>0</td>\n      <td>0</td>\n      <td>0</td>\n      <td>0</td>\n      <td>0</td>\n      <td>0</td>\n      <td>0</td>\n      <td>1</td>\n      <td>0</td>\n    </tr>\n    <tr>\n      <th>2</th>\n      <td>1992</td>\n      <td>0</td>\n      <td>0</td>\n      <td>0</td>\n      <td>0</td>\n      <td>0</td>\n      <td>0</td>\n      <td>0</td>\n      <td>0</td>\n      <td>0</td>\n      <td>...</td>\n      <td>0</td>\n      <td>0</td>\n      <td>0</td>\n      <td>0</td>\n      <td>0</td>\n      <td>0</td>\n      <td>0</td>\n      <td>0</td>\n      <td>0</td>\n      <td>1</td>\n    </tr>\n    <tr>\n      <th>3</th>\n      <td>1991</td>\n      <td>0</td>\n      <td>0</td>\n      <td>0</td>\n      <td>0</td>\n      <td>0</td>\n      <td>0</td>\n      <td>0</td>\n      <td>0</td>\n      <td>0</td>\n      <td>...</td>\n      <td>0</td>\n      <td>0</td>\n      <td>0</td>\n      <td>0</td>\n      <td>0</td>\n      <td>0</td>\n      <td>0</td>\n      <td>0</td>\n      <td>0</td>\n      <td>1</td>\n    </tr>\n    <tr>\n      <th>4</th>\n      <td>1990</td>\n      <td>0</td>\n      <td>0</td>\n      <td>0</td>\n      <td>0</td>\n      <td>0</td>\n      <td>0</td>\n      <td>0</td>\n      <td>0</td>\n      <td>0</td>\n      <td>...</td>\n      <td>0</td>\n      <td>0</td>\n      <td>0</td>\n      <td>0</td>\n      <td>0</td>\n      <td>0</td>\n      <td>0</td>\n      <td>0</td>\n      <td>0</td>\n      <td>1</td>\n    </tr>\n  </tbody>\n</table>\n<p>5 rows × 203 columns</p>\n</div>"
     },
     "execution_count": 1071,
     "metadata": {},
     "output_type": "execute_result"
    }
   ],
   "source": [
    "Xshort = X_frame.loc[ :, ['dob', 'nationality', 'sex']]\n",
    "Xshort = pd.get_dummies(Xshort, columns=['nationality', 'sex'], dtype=int)\n",
    "Xshort.head()"
   ],
   "metadata": {
    "collapsed": false,
    "ExecuteTime": {
     "end_time": "2023-10-04T10:48:13.010019500Z",
     "start_time": "2023-10-04T10:48:12.164487Z"
    }
   },
   "id": "cbab2662fc0678d5"
  },
  {
   "cell_type": "code",
   "execution_count": 1072,
   "outputs": [],
   "source": [
    "model2 = LogisticRegression(max_iter=5000)"
   ],
   "metadata": {
    "collapsed": false,
    "ExecuteTime": {
     "end_time": "2023-10-04T10:48:13.010019500Z",
     "start_time": "2023-10-04T10:48:12.218756600Z"
    }
   },
   "id": "a86532f1e9054973"
  },
  {
   "cell_type": "code",
   "execution_count": 1073,
   "outputs": [],
   "source": [
    "X_train_short_g, X_test_short_g, Y_train_shot_g, Y_test_short_g = train_test_split(Xshort, Y_g, test_size=0.2, random_state=42)"
   ],
   "metadata": {
    "collapsed": false,
    "ExecuteTime": {
     "end_time": "2023-10-04T10:48:13.016463200Z",
     "start_time": "2023-10-04T10:48:12.223186800Z"
    }
   },
   "id": "a53cf5a74b0769b2"
  },
  {
   "cell_type": "code",
   "execution_count": 1074,
   "outputs": [
    {
     "data": {
      "text/plain": "LogisticRegression(max_iter=5000)",
      "text/html": "<style>#sk-container-id-45 {color: black;}#sk-container-id-45 pre{padding: 0;}#sk-container-id-45 div.sk-toggleable {background-color: white;}#sk-container-id-45 label.sk-toggleable__label {cursor: pointer;display: block;width: 100%;margin-bottom: 0;padding: 0.3em;box-sizing: border-box;text-align: center;}#sk-container-id-45 label.sk-toggleable__label-arrow:before {content: \"▸\";float: left;margin-right: 0.25em;color: #696969;}#sk-container-id-45 label.sk-toggleable__label-arrow:hover:before {color: black;}#sk-container-id-45 div.sk-estimator:hover label.sk-toggleable__label-arrow:before {color: black;}#sk-container-id-45 div.sk-toggleable__content {max-height: 0;max-width: 0;overflow: hidden;text-align: left;background-color: #f0f8ff;}#sk-container-id-45 div.sk-toggleable__content pre {margin: 0.2em;color: black;border-radius: 0.25em;background-color: #f0f8ff;}#sk-container-id-45 input.sk-toggleable__control:checked~div.sk-toggleable__content {max-height: 200px;max-width: 100%;overflow: auto;}#sk-container-id-45 input.sk-toggleable__control:checked~label.sk-toggleable__label-arrow:before {content: \"▾\";}#sk-container-id-45 div.sk-estimator input.sk-toggleable__control:checked~label.sk-toggleable__label {background-color: #d4ebff;}#sk-container-id-45 div.sk-label input.sk-toggleable__control:checked~label.sk-toggleable__label {background-color: #d4ebff;}#sk-container-id-45 input.sk-hidden--visually {border: 0;clip: rect(1px 1px 1px 1px);clip: rect(1px, 1px, 1px, 1px);height: 1px;margin: -1px;overflow: hidden;padding: 0;position: absolute;width: 1px;}#sk-container-id-45 div.sk-estimator {font-family: monospace;background-color: #f0f8ff;border: 1px dotted black;border-radius: 0.25em;box-sizing: border-box;margin-bottom: 0.5em;}#sk-container-id-45 div.sk-estimator:hover {background-color: #d4ebff;}#sk-container-id-45 div.sk-parallel-item::after {content: \"\";width: 100%;border-bottom: 1px solid gray;flex-grow: 1;}#sk-container-id-45 div.sk-label:hover label.sk-toggleable__label {background-color: #d4ebff;}#sk-container-id-45 div.sk-serial::before {content: \"\";position: absolute;border-left: 1px solid gray;box-sizing: border-box;top: 0;bottom: 0;left: 50%;z-index: 0;}#sk-container-id-45 div.sk-serial {display: flex;flex-direction: column;align-items: center;background-color: white;padding-right: 0.2em;padding-left: 0.2em;position: relative;}#sk-container-id-45 div.sk-item {position: relative;z-index: 1;}#sk-container-id-45 div.sk-parallel {display: flex;align-items: stretch;justify-content: center;background-color: white;position: relative;}#sk-container-id-45 div.sk-item::before, #sk-container-id-45 div.sk-parallel-item::before {content: \"\";position: absolute;border-left: 1px solid gray;box-sizing: border-box;top: 0;bottom: 0;left: 50%;z-index: -1;}#sk-container-id-45 div.sk-parallel-item {display: flex;flex-direction: column;z-index: 1;position: relative;background-color: white;}#sk-container-id-45 div.sk-parallel-item:first-child::after {align-self: flex-end;width: 50%;}#sk-container-id-45 div.sk-parallel-item:last-child::after {align-self: flex-start;width: 50%;}#sk-container-id-45 div.sk-parallel-item:only-child::after {width: 0;}#sk-container-id-45 div.sk-dashed-wrapped {border: 1px dashed gray;margin: 0 0.4em 0.5em 0.4em;box-sizing: border-box;padding-bottom: 0.4em;background-color: white;}#sk-container-id-45 div.sk-label label {font-family: monospace;font-weight: bold;display: inline-block;line-height: 1.2em;}#sk-container-id-45 div.sk-label-container {text-align: center;}#sk-container-id-45 div.sk-container {/* jupyter's `normalize.less` sets `[hidden] { display: none; }` but bootstrap.min.css set `[hidden] { display: none !important; }` so we also need the `!important` here to be able to override the default hidden behavior on the sphinx rendered scikit-learn.org. See: https://github.com/scikit-learn/scikit-learn/issues/21755 */display: inline-block !important;position: relative;}#sk-container-id-45 div.sk-text-repr-fallback {display: none;}</style><div id=\"sk-container-id-45\" class=\"sk-top-container\"><div class=\"sk-text-repr-fallback\"><pre>LogisticRegression(max_iter=5000)</pre><b>In a Jupyter environment, please rerun this cell to show the HTML representation or trust the notebook. <br />On GitHub, the HTML representation is unable to render, please try loading this page with nbviewer.org.</b></div><div class=\"sk-container\" hidden><div class=\"sk-item\"><div class=\"sk-estimator sk-toggleable\"><input class=\"sk-toggleable__control sk-hidden--visually\" id=\"sk-estimator-id-45\" type=\"checkbox\" checked><label for=\"sk-estimator-id-45\" class=\"sk-toggleable__label sk-toggleable__label-arrow\">LogisticRegression</label><div class=\"sk-toggleable__content\"><pre>LogisticRegression(max_iter=5000)</pre></div></div></div></div></div>"
     },
     "execution_count": 1074,
     "metadata": {},
     "output_type": "execute_result"
    }
   ],
   "source": [
    "model2.fit(X_train_short_g, Y_train_shot_g)"
   ],
   "metadata": {
    "collapsed": false,
    "ExecuteTime": {
     "end_time": "2023-10-04T10:48:13.236453700Z",
     "start_time": "2023-10-04T10:48:12.246673500Z"
    }
   },
   "id": "30657ff05afee59c"
  },
  {
   "cell_type": "code",
   "execution_count": 1075,
   "outputs": [
    {
     "data": {
      "text/plain": "array([[0.97886849, 0.02113151],\n       [0.97935456, 0.02064544]])"
     },
     "execution_count": 1075,
     "metadata": {},
     "output_type": "execute_result"
    }
   ],
   "source": [
    "predictions2 = model2.predict_proba(X_test_short_g)\n",
    "predictions2[:2]"
   ],
   "metadata": {
    "collapsed": false,
    "ExecuteTime": {
     "end_time": "2023-10-04T10:48:13.237453600Z",
     "start_time": "2023-10-04T10:48:12.991176400Z"
    }
   },
   "id": "f4e2f0b98d1a440c"
  },
  {
   "cell_type": "code",
   "execution_count": 1076,
   "outputs": [],
   "source": [
    "fpr2, tpr2, thres2 = roc_curve(Y_test_short_g, predictions2[:, 1], pos_label=1)"
   ],
   "metadata": {
    "collapsed": false,
    "ExecuteTime": {
     "end_time": "2023-10-04T10:48:13.259721500Z",
     "start_time": "2023-10-04T10:48:13.006018700Z"
    }
   },
   "id": "2aa0214b5cd39063"
  },
  {
   "cell_type": "code",
   "execution_count": 1077,
   "outputs": [
    {
     "data": {
      "text/plain": "<Figure size 640x480 with 1 Axes>",
      "image/png": "[encoded data removed]"
     },
     "metadata": {},
     "output_type": "display_data"
    }
   ],
   "source": [
    "plt.plot(fpr1, tpr1, label='All columns' )\n",
    "plt.plot(fpr2, tpr2, label='dob, nationality, sex')\n",
    "\n",
    "plt.xlabel('False Positive Rate')\n",
    "plt.ylabel('True Positive Rate')\n",
    "\n",
    "plt.legend(loc=0)\n",
    "plt.grid()\n",
    "plt.show()"
   ],
   "metadata": {
    "collapsed": false,
    "ExecuteTime": {
     "end_time": "2023-10-04T10:48:13.279155200Z",
     "start_time": "2023-10-04T10:48:13.015456900Z"
    }
   },
   "id": "bf9aeec8f48fdd76"
  },
  {
   "cell_type": "markdown",
   "source": [
    "Посчитаем площадь под кривой"
   ],
   "metadata": {
    "collapsed": false
   },
   "id": "e5e85a34b0610972"
  },
  {
   "cell_type": "code",
   "execution_count": 1078,
   "outputs": [
    {
     "data": {
      "text/plain": "0.7542625297098429"
     },
     "execution_count": 1078,
     "metadata": {},
     "output_type": "execute_result"
    }
   ],
   "source": [
    "roc_auc_score(Y_test_g, predictions[:, 1]) # для первой модели"
   ],
   "metadata": {
    "collapsed": false,
    "ExecuteTime": {
     "end_time": "2023-10-04T10:48:13.325740600Z",
     "start_time": "2023-10-04T10:48:13.147058900Z"
    }
   },
   "id": "1fd80e68735ffa75"
  },
  {
   "cell_type": "code",
   "execution_count": 1079,
   "outputs": [
    {
     "data": {
      "text/plain": "0.749745344204378"
     },
     "execution_count": 1079,
     "metadata": {},
     "output_type": "execute_result"
    }
   ],
   "source": [
    "roc_auc_score(Y_test_g, predictions2[:, 1])"
   ],
   "metadata": {
    "collapsed": false,
    "ExecuteTime": {
     "end_time": "2023-10-04T10:48:13.326740300Z",
     "start_time": "2023-10-04T10:48:13.157992500Z"
    }
   },
   "id": "31132f5bf0977904"
  },
  {
   "cell_type": "markdown",
   "source": [
    "Качество второй модели немного лучше первой, на 1%"
   ],
   "metadata": {
    "collapsed": false
   },
   "id": "b1198436fb5fe566"
  },
  {
   "cell_type": "markdown",
   "source": [
    "Реализуем подсчет метрик TPR, FPR «вручную», без использования готовых функций из библиотеки sklearn"
   ],
   "metadata": {
    "collapsed": false
   },
   "id": "71ff5126f470078"
  },
  {
   "cell_type": "markdown",
   "source": [],
   "metadata": {
    "collapsed": false
   },
   "id": "1ac9f27d025e0c08"
  },
  {
   "cell_type": "code",
   "execution_count": 1080,
   "outputs": [],
   "source": [
    "thresholds = np.linspace(0,1,200)\n",
    "tpr3 = []\n",
    "fpr3 = []\n",
    "precisions = []\n",
    "recalls = []\n",
    "for th in thresholds:\n",
    "    tp = 0 # True positive\n",
    "    fp = 0 # False positive\n",
    "    fn = 0 # False negative\n",
    "    tn = 0 # True negative\n",
    "    predictions = model.predict_proba(X_test_g)\n",
    "    for predicted_prob, actual in zip(predictions[:, 1], Y_test_g):\n",
    "        if predicted_prob >= th:\n",
    "            predicted = 1\n",
    "        else:\n",
    "            predicted = 0\n",
    "    \n",
    "        if predicted == 1:\n",
    "            if actual == 1:\n",
    "                tp += 1\n",
    "            else:\n",
    "                fp += 1\n",
    "    \n",
    "        else:\n",
    "            if actual == 1:\n",
    "                fn += 1\n",
    "            else:\n",
    "                tn += 1\n",
    "    FPR = fp/(fp + tn)\n",
    "    TPR = tp/(tp + fn)\n",
    "    precision = tp/(tp + fp + 1e-50)\n",
    "    recall = tp/(tp + fn)\n",
    "    fpr3.append(FPR)\n",
    "    tpr3.append(TPR)\n",
    "    recalls.append(recall)\n",
    "    precisions.append(precision)\n",
    "    \n"
   ],
   "metadata": {
    "collapsed": false,
    "ExecuteTime": {
     "end_time": "2023-10-04T10:48:15.082548600Z",
     "start_time": "2023-10-04T10:48:13.172108700Z"
    }
   },
   "id": "3b606fe4784198c7"
  },
  {
   "cell_type": "code",
   "execution_count": 1081,
   "outputs": [
    {
     "data": {
      "text/plain": "<Figure size 640x480 with 1 Axes>",
      "image/png": "[encoded data removed]"
     },
     "metadata": {},
     "output_type": "display_data"
    }
   ],
   "source": [
    "plt.plot(fpr1, tpr1, label='All columns' )\n",
    "plt.plot(fpr2, tpr2, label='dob, nationality, sex')\n",
    "plt.plot(fpr3, tpr3, label=\"ROC Curve\",color=\"blue\")\n",
    "plt.plot([0, 1], [0, 1], linestyle='--', lw=2, color='r',label='Random', alpha=.8)\n",
    "\n",
    "plt.xlabel('False Positive Rate')\n",
    "plt.ylabel('True Positive Rate')\n",
    "\n",
    "plt.legend(loc=0)\n",
    "plt.grid()\n",
    "plt.show()"
   ],
   "metadata": {
    "collapsed": false,
    "ExecuteTime": {
     "end_time": "2023-10-04T10:48:15.220053900Z",
     "start_time": "2023-10-04T10:48:15.083557300Z"
    }
   },
   "id": "aae33ea7788df55e"
  },
  {
   "cell_type": "markdown",
   "source": [
    "Графики построеные с помощью Sklearn и \"вручную\" практически одинаковы"
   ],
   "metadata": {
    "collapsed": false
   },
   "id": "c08d1fcb4fdf4aab"
  },
  {
   "cell_type": "code",
   "execution_count": 1082,
   "outputs": [],
   "source": [
    "#Построим график Precision-Recall"
   ],
   "metadata": {
    "collapsed": false,
    "ExecuteTime": {
     "end_time": "2023-10-04T10:48:15.223748600Z",
     "start_time": "2023-10-04T10:48:15.218077200Z"
    }
   },
   "id": "f90b10cda88fab08"
  },
  {
   "cell_type": "code",
   "execution_count": 1083,
   "outputs": [
    {
     "data": {
      "text/plain": "<Figure size 640x480 with 1 Axes>",
      "image/png": "[encoded data removed]"
     },
     "metadata": {},
     "output_type": "display_data"
    }
   ],
   "source": [
    "plt.plot(recalls, precisions, label='Precision-Recall' )\n",
    "plt.plot(recall_g, precision_g, label='Precision-Recall_sklearn' , alpha=0.4)\n",
    "plt.xlabel('Recall')\n",
    "plt.ylabel('Precision')\n",
    "\n",
    "plt.legend(loc=0)\n",
    "plt.grid()\n",
    "plt.show()"
   ],
   "metadata": {
    "collapsed": false,
    "ExecuteTime": {
     "end_time": "2023-10-04T10:48:15.341172200Z",
     "start_time": "2023-10-04T10:48:15.225748900Z"
    }
   },
   "id": "9f1adce2743e9771"
  },
  {
   "cell_type": "markdown",
   "source": [
    "Посчитаем метрики"
   ],
   "metadata": {
    "collapsed": false
   },
   "id": "60dd2887808241f5"
  },
  {
   "cell_type": "code",
   "execution_count": 1084,
   "outputs": [
    {
     "data": {
      "text/plain": "(0, 0, 113, 2059)"
     },
     "execution_count": 1084,
     "metadata": {},
     "output_type": "execute_result"
    }
   ],
   "source": [
    "tp, fp, fn, tn"
   ],
   "metadata": {
    "collapsed": false,
    "ExecuteTime": {
     "end_time": "2023-10-04T10:48:15.352340600Z",
     "start_time": "2023-10-04T10:48:15.347166800Z"
    }
   },
   "id": "54e7f1ef0c729ea"
  },
  {
   "cell_type": "code",
   "execution_count": 1085,
   "outputs": [
    {
     "data": {
      "text/plain": "0.9479742173112339"
     },
     "execution_count": 1085,
     "metadata": {},
     "output_type": "execute_result"
    }
   ],
   "source": [
    "# какая точность получилась?\n",
    "(tp + tn) / (tp + fp + fn + tn) #"
   ],
   "metadata": {
    "collapsed": false,
    "ExecuteTime": {
     "end_time": "2023-10-04T10:48:15.361343600Z",
     "start_time": "2023-10-04T10:48:15.353351800Z"
    }
   },
   "id": "1f97e01d4ce6f801"
  },
  {
   "cell_type": "code",
   "execution_count": 1086,
   "outputs": [
    {
     "data": {
      "text/plain": "0.0"
     },
     "execution_count": 1086,
     "metadata": {},
     "output_type": "execute_result"
    }
   ],
   "source": [
    "FPR = fp/(fp + tn)\n",
    "FPR"
   ],
   "metadata": {
    "collapsed": false,
    "ExecuteTime": {
     "end_time": "2023-10-04T10:48:15.450379700Z",
     "start_time": "2023-10-04T10:48:15.359135300Z"
    }
   },
   "id": "7b2528d090e7a04a"
  },
  {
   "cell_type": "code",
   "execution_count": 1087,
   "outputs": [
    {
     "data": {
      "text/plain": "0.0"
     },
     "execution_count": 1087,
     "metadata": {},
     "output_type": "execute_result"
    }
   ],
   "source": [
    "TPR = tp/(tp + fn)\n",
    "TPR"
   ],
   "metadata": {
    "collapsed": false,
    "ExecuteTime": {
     "end_time": "2023-10-04T10:48:15.450379700Z",
     "start_time": "2023-10-04T10:48:15.366543300Z"
    }
   },
   "id": "f9c292803b9e3ddf"
  },
  {
   "cell_type": "code",
   "execution_count": 1088,
   "outputs": [
    {
     "data": {
      "text/plain": "0.0"
     },
     "execution_count": 1088,
     "metadata": {},
     "output_type": "execute_result"
    }
   ],
   "source": [
    "precision = tp/(tp + fp + 1e-50)\n",
    "precision"
   ],
   "metadata": {
    "collapsed": false,
    "ExecuteTime": {
     "end_time": "2023-10-04T10:48:15.471123Z",
     "start_time": "2023-10-04T10:48:15.375039800Z"
    }
   },
   "id": "c60eb9abe191a77c"
  },
  {
   "cell_type": "code",
   "execution_count": 1089,
   "outputs": [
    {
     "data": {
      "text/plain": "0.0"
     },
     "execution_count": 1089,
     "metadata": {},
     "output_type": "execute_result"
    }
   ],
   "source": [
    "recall = tp/(tp + fn)\n",
    "recall"
   ],
   "metadata": {
    "collapsed": false,
    "ExecuteTime": {
     "end_time": "2023-10-04T10:48:15.488467100Z",
     "start_time": "2023-10-04T10:48:15.380145700Z"
    }
   },
   "id": "84a726d148b2f032"
  },
  {
   "cell_type": "markdown",
   "source": [
    "Вывод: по графикам видно, что модель не сильно зависит от параметров и бинарная классификация для данного датасета не очень подходит, хотя показатели модели неплохие. Возможно стоило бы улучшить входные данные, возможно использовать другую модель, чтобы сразу три параметра(медали) учитывались с изначальной модели. ROC-кривая не может проходить ниже диагонали, т.к. это означает, что наша модель не работает и количество неправильных ответов, больше чем правильных. "
   ],
   "metadata": {
    "collapsed": false
   },
   "id": "76a325806cb81312"
  }
 ],
 "metadata": {
  "kernelspec": {
   "display_name": "Python 3",
   "language": "python",
   "name": "python3"
  },
  "language_info": {
   "codemirror_mode": {
    "name": "ipython",
    "version": 2
   },
   "file_extension": ".py",
   "mimetype": "text/x-python",
   "name": "python",
   "nbconvert_exporter": "python",
   "pygments_lexer": "ipython2",
   "version": "2.7.6"
  }
 },
 "nbformat": 4,
 "nbformat_minor": 5
}
