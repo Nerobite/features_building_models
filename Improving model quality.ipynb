{
 "cells": [
  {
   "cell_type": "markdown",
   "source": [
    "Задание\n",
    "Цель:\n",
    "Применить на практике алгоритмы по автоматической оптимизации параметров моделей машинного обучения.\n",
    "Описание задания:\n",
    "В домашнем задании нужно решить задачу классификации наличия болезни сердца у пациентов наиболее эффективно. Данные для обучения моделей необходимо загрузить самостоятельно с сайта. Целевая переменная, наличие болезни сердца (HeartDisease). Она принимает значения 0 или 1 в зависимости от отсутствия или наличия болезни соответственно. Подробное описание признаков можно прочесть в описании датасета на сайте. Для выполнения работы не обязательно вникать в медицинские показатели.\n",
    "Этапы работы:\n",
    "\n",
    "1. Получите данные и загрузите их в рабочую среду.\n",
    "2. Подготовьте датасет к обучению моделей:\n",
    "a) Категориальные переменные переведите в цифровые значения. Можно использовать pd.get_dummies, preprocessing.LabelEncoder. Старайтесь не использовать для этой задачи циклы.\n",
    "3. Разделите выборку на обучающее и тестовое подмножество. 80% данных оставить на обучающее множество, 20% на тестовое.\n",
    "4. Обучите модель логистической регрессии с параметрами по умолчанию.\n",
    "5. Подсчитайте основные метрики модели. Используйте следующие метрики и функцию:\n",
    "cross_validate(…, cv=10, scoring=[‘accuracy’,‘recall’,‘precision’,‘f1’])\n",
    "6. Оптимизируйте 3-4 параметра модели:\n",
    "a) Используйте GridSearchCV.\n",
    "b) Используйте RandomizedSearchCV.\n",
    "c) *Добавьте в п. 6b 2-5 моделей классификации и вариации их параметров.\n",
    "d) Повторите п. 5 после каждого итогового изменения параметров.\n",
    "7. Сформулируйте выводы по проделанной работе:\n",
    "a) Сравните метрики построенных моделей.\n",
    "b) *Сравните с полученными результатами в домашнем задании по теме «Ансамблирование».\n",
    "Для получения зачета по этому домашнему заданию минимально необходимо:\n",
    "обучить одну модель классификации;\n",
    "оптимизировать параметры, используя метод из п. 6a;\n",
    "вывести значения метрик.\n",
    "Результат:\n",
    "Получены знания по оптимизации параметров."
   ],
   "metadata": {
    "collapsed": false
   },
   "id": "4fe71a0a1d59e7c7"
  },
  {
   "cell_type": "code",
   "execution_count": 1,
   "outputs": [],
   "source": [
    "import pandas as pd\n",
    "from sklearn.model_selection import train_test_split\n",
    "from sklearn.linear_model import LogisticRegression\n",
    "from sklearn.metrics import classification_report\n",
    "from sklearn.model_selection import cross_validate\n",
    "from sklearn.model_selection import GridSearchCV\n",
    "from sklearn.model_selection import RandomizedSearchCV\n",
    "from sklearn.linear_model import Ridge\n",
    "from sklearn.svm import SVC\n",
    "from sklearn.naive_bayes import BernoulliNB\n",
    "from sklearn.ensemble import RandomForestClassifier\n",
    "from sklearn.tree import DecisionTreeClassifier\n",
    "from sklearn.neighbors import KNeighborsClassifier\n",
    "from scipy.stats import uniform \n",
    "import warnings\n",
    "warnings.filterwarnings('ignore')"
   ],
   "metadata": {
    "collapsed": false,
    "ExecuteTime": {
     "end_time": "2023-11-09T18:11:29.922400500Z",
     "start_time": "2023-11-09T18:11:29.371620600Z"
    }
   },
   "id": "43224e720a72e621"
  },
  {
   "cell_type": "code",
   "execution_count": 2,
   "outputs": [],
   "source": [
    "df = pd.read_csv('Data/heart.csv')"
   ],
   "metadata": {
    "collapsed": false,
    "ExecuteTime": {
     "end_time": "2023-11-09T18:11:29.951210300Z",
     "start_time": "2023-11-09T18:11:29.922400500Z"
    }
   },
   "id": "2c0546212e3e0281"
  },
  {
   "cell_type": "code",
   "execution_count": 3,
   "outputs": [
    {
     "data": {
      "text/plain": "   Age Sex ChestPainType  RestingBP  Cholesterol  FastingBS RestingECG  MaxHR  \\\n0   40   M           ATA        140          289          0     Normal    172   \n1   49   F           NAP        160          180          0     Normal    156   \n2   37   M           ATA        130          283          0         ST     98   \n3   48   F           ASY        138          214          0     Normal    108   \n4   54   M           NAP        150          195          0     Normal    122   \n\n  ExerciseAngina  Oldpeak ST_Slope  HeartDisease  \n0              N      0.0       Up             0  \n1              N      1.0     Flat             1  \n2              N      0.0       Up             0  \n3              Y      1.5     Flat             1  \n4              N      0.0       Up             0  ",
      "text/html": "<div>\n<style scoped>\n    .dataframe tbody tr th:only-of-type {\n        vertical-align: middle;\n    }\n\n    .dataframe tbody tr th {\n        vertical-align: top;\n    }\n\n    .dataframe thead th {\n        text-align: right;\n    }\n</style>\n<table border=\"1\" class=\"dataframe\">\n  <thead>\n    <tr style=\"text-align: right;\">\n      <th></th>\n      <th>Age</th>\n      <th>Sex</th>\n      <th>ChestPainType</th>\n      <th>RestingBP</th>\n      <th>Cholesterol</th>\n      <th>FastingBS</th>\n      <th>RestingECG</th>\n      <th>MaxHR</th>\n      <th>ExerciseAngina</th>\n      <th>Oldpeak</th>\n      <th>ST_Slope</th>\n      <th>HeartDisease</th>\n    </tr>\n  </thead>\n  <tbody>\n    <tr>\n      <th>0</th>\n      <td>40</td>\n      <td>M</td>\n      <td>ATA</td>\n      <td>140</td>\n      <td>289</td>\n      <td>0</td>\n      <td>Normal</td>\n      <td>172</td>\n      <td>N</td>\n      <td>0.0</td>\n      <td>Up</td>\n      <td>0</td>\n    </tr>\n    <tr>\n      <th>1</th>\n      <td>49</td>\n      <td>F</td>\n      <td>NAP</td>\n      <td>160</td>\n      <td>180</td>\n      <td>0</td>\n      <td>Normal</td>\n      <td>156</td>\n      <td>N</td>\n      <td>1.0</td>\n      <td>Flat</td>\n      <td>1</td>\n    </tr>\n    <tr>\n      <th>2</th>\n      <td>37</td>\n      <td>M</td>\n      <td>ATA</td>\n      <td>130</td>\n      <td>283</td>\n      <td>0</td>\n      <td>ST</td>\n      <td>98</td>\n      <td>N</td>\n      <td>0.0</td>\n      <td>Up</td>\n      <td>0</td>\n    </tr>\n    <tr>\n      <th>3</th>\n      <td>48</td>\n      <td>F</td>\n      <td>ASY</td>\n      <td>138</td>\n      <td>214</td>\n      <td>0</td>\n      <td>Normal</td>\n      <td>108</td>\n      <td>Y</td>\n      <td>1.5</td>\n      <td>Flat</td>\n      <td>1</td>\n    </tr>\n    <tr>\n      <th>4</th>\n      <td>54</td>\n      <td>M</td>\n      <td>NAP</td>\n      <td>150</td>\n      <td>195</td>\n      <td>0</td>\n      <td>Normal</td>\n      <td>122</td>\n      <td>N</td>\n      <td>0.0</td>\n      <td>Up</td>\n      <td>0</td>\n    </tr>\n  </tbody>\n</table>\n</div>"
     },
     "execution_count": 3,
     "metadata": {},
     "output_type": "execute_result"
    }
   ],
   "source": [
    "df.head()"
   ],
   "metadata": {
    "collapsed": false,
    "ExecuteTime": {
     "end_time": "2023-11-09T18:11:30.016214600Z",
     "start_time": "2023-11-09T18:11:29.942595800Z"
    }
   },
   "id": "5699184d5846e986"
  },
  {
   "cell_type": "code",
   "execution_count": 4,
   "outputs": [
    {
     "data": {
      "text/plain": "   Age  RestingBP  Cholesterol  FastingBS  MaxHR  Sex_F  Sex_M  \\\n0   40        140          289          0    172      0      1   \n1   49        160          180          0    156      1      0   \n2   37        130          283          0     98      0      1   \n3   48        138          214          0    108      1      0   \n4   54        150          195          0    122      0      1   \n\n   ChestPainType_ASY  ChestPainType_ATA  ChestPainType_NAP  ...  Oldpeak_5.6  \\\n0                  0                  1                  0  ...            0   \n1                  0                  0                  1  ...            0   \n2                  0                  1                  0  ...            0   \n3                  1                  0                  0  ...            0   \n4                  0                  0                  1  ...            0   \n\n   Oldpeak_6.2  RestingECG_LVH  RestingECG_Normal  RestingECG_ST  \\\n0            0               0                  1              0   \n1            0               0                  1              0   \n2            0               0                  0              1   \n3            0               0                  1              0   \n4            0               0                  1              0   \n\n   ExerciseAngina_N  ExerciseAngina_Y  ST_Slope_Down  ST_Slope_Flat  \\\n0                 1                 0              0              0   \n1                 1                 0              0              1   \n2                 1                 0              0              0   \n3                 0                 1              0              1   \n4                 1                 0              0              0   \n\n   ST_Slope_Up  \n0            1  \n1            0  \n2            1  \n3            0  \n4            1  \n\n[5 rows x 72 columns]",
      "text/html": "<div>\n<style scoped>\n    .dataframe tbody tr th:only-of-type {\n        vertical-align: middle;\n    }\n\n    .dataframe tbody tr th {\n        vertical-align: top;\n    }\n\n    .dataframe thead th {\n        text-align: right;\n    }\n</style>\n<table border=\"1\" class=\"dataframe\">\n  <thead>\n    <tr style=\"text-align: right;\">\n      <th></th>\n      <th>Age</th>\n      <th>RestingBP</th>\n      <th>Cholesterol</th>\n      <th>FastingBS</th>\n      <th>MaxHR</th>\n      <th>Sex_F</th>\n      <th>Sex_M</th>\n      <th>ChestPainType_ASY</th>\n      <th>ChestPainType_ATA</th>\n      <th>ChestPainType_NAP</th>\n      <th>...</th>\n      <th>Oldpeak_5.6</th>\n      <th>Oldpeak_6.2</th>\n      <th>RestingECG_LVH</th>\n      <th>RestingECG_Normal</th>\n      <th>RestingECG_ST</th>\n      <th>ExerciseAngina_N</th>\n      <th>ExerciseAngina_Y</th>\n      <th>ST_Slope_Down</th>\n      <th>ST_Slope_Flat</th>\n      <th>ST_Slope_Up</th>\n    </tr>\n  </thead>\n  <tbody>\n    <tr>\n      <th>0</th>\n      <td>40</td>\n      <td>140</td>\n      <td>289</td>\n      <td>0</td>\n      <td>172</td>\n      <td>0</td>\n      <td>1</td>\n      <td>0</td>\n      <td>1</td>\n      <td>0</td>\n      <td>...</td>\n      <td>0</td>\n      <td>0</td>\n      <td>0</td>\n      <td>1</td>\n      <td>0</td>\n      <td>1</td>\n      <td>0</td>\n      <td>0</td>\n      <td>0</td>\n      <td>1</td>\n    </tr>\n    <tr>\n      <th>1</th>\n      <td>49</td>\n      <td>160</td>\n      <td>180</td>\n      <td>0</td>\n      <td>156</td>\n      <td>1</td>\n      <td>0</td>\n      <td>0</td>\n      <td>0</td>\n      <td>1</td>\n      <td>...</td>\n      <td>0</td>\n      <td>0</td>\n      <td>0</td>\n      <td>1</td>\n      <td>0</td>\n      <td>1</td>\n      <td>0</td>\n      <td>0</td>\n      <td>1</td>\n      <td>0</td>\n    </tr>\n    <tr>\n      <th>2</th>\n      <td>37</td>\n      <td>130</td>\n      <td>283</td>\n      <td>0</td>\n      <td>98</td>\n      <td>0</td>\n      <td>1</td>\n      <td>0</td>\n      <td>1</td>\n      <td>0</td>\n      <td>...</td>\n      <td>0</td>\n      <td>0</td>\n      <td>0</td>\n      <td>0</td>\n      <td>1</td>\n      <td>1</td>\n      <td>0</td>\n      <td>0</td>\n      <td>0</td>\n      <td>1</td>\n    </tr>\n    <tr>\n      <th>3</th>\n      <td>48</td>\n      <td>138</td>\n      <td>214</td>\n      <td>0</td>\n      <td>108</td>\n      <td>1</td>\n      <td>0</td>\n      <td>1</td>\n      <td>0</td>\n      <td>0</td>\n      <td>...</td>\n      <td>0</td>\n      <td>0</td>\n      <td>0</td>\n      <td>1</td>\n      <td>0</td>\n      <td>0</td>\n      <td>1</td>\n      <td>0</td>\n      <td>1</td>\n      <td>0</td>\n    </tr>\n    <tr>\n      <th>4</th>\n      <td>54</td>\n      <td>150</td>\n      <td>195</td>\n      <td>0</td>\n      <td>122</td>\n      <td>0</td>\n      <td>1</td>\n      <td>0</td>\n      <td>0</td>\n      <td>1</td>\n      <td>...</td>\n      <td>0</td>\n      <td>0</td>\n      <td>0</td>\n      <td>1</td>\n      <td>0</td>\n      <td>1</td>\n      <td>0</td>\n      <td>0</td>\n      <td>0</td>\n      <td>1</td>\n    </tr>\n  </tbody>\n</table>\n<p>5 rows × 72 columns</p>\n</div>"
     },
     "execution_count": 4,
     "metadata": {},
     "output_type": "execute_result"
    }
   ],
   "source": [
    "# категориальные переменные переведем в числовые\n",
    "X = pd.get_dummies(df, columns=['Sex', 'ChestPainType', 'Oldpeak', 'RestingECG', 'ExerciseAngina', 'ST_Slope'], dtype=int)\n",
    "# столбец HeartDisease является целевой переменной, удаляем его из Х\n",
    "del X['HeartDisease']\n",
    "X.head()"
   ],
   "metadata": {
    "collapsed": false,
    "ExecuteTime": {
     "end_time": "2023-11-09T18:11:30.022502Z",
     "start_time": "2023-11-09T18:11:29.962501300Z"
    }
   },
   "id": "46ab3bf458753727"
  },
  {
   "cell_type": "code",
   "execution_count": 5,
   "outputs": [],
   "source": [
    "y = df['HeartDisease']"
   ],
   "metadata": {
    "collapsed": false,
    "ExecuteTime": {
     "end_time": "2023-11-09T18:11:30.022502Z",
     "start_time": "2023-11-09T18:11:30.003709500Z"
    }
   },
   "id": "c38c3610b975ae5e"
  },
  {
   "cell_type": "code",
   "execution_count": 6,
   "outputs": [],
   "source": [
    "X_train, X_test, y_train, y_test = train_test_split(X, y, test_size=0.2, random_state=42)"
   ],
   "metadata": {
    "collapsed": false,
    "ExecuteTime": {
     "end_time": "2023-11-09T18:11:30.075953800Z",
     "start_time": "2023-11-09T18:11:30.011307700Z"
    }
   },
   "id": "175e6dccdbbb43c2"
  },
  {
   "cell_type": "code",
   "execution_count": 7,
   "outputs": [],
   "source": [
    "model = LogisticRegression(random_state=42)"
   ],
   "metadata": {
    "collapsed": false,
    "ExecuteTime": {
     "end_time": "2023-11-09T18:11:30.102916400Z",
     "start_time": "2023-11-09T18:11:30.022502Z"
    }
   },
   "id": "94b62b5dfeb4b8b9"
  },
  {
   "cell_type": "code",
   "execution_count": 8,
   "outputs": [
    {
     "data": {
      "text/plain": "LogisticRegression(random_state=42)",
      "text/html": "<style>#sk-container-id-1 {color: black;}#sk-container-id-1 pre{padding: 0;}#sk-container-id-1 div.sk-toggleable {background-color: white;}#sk-container-id-1 label.sk-toggleable__label {cursor: pointer;display: block;width: 100%;margin-bottom: 0;padding: 0.3em;box-sizing: border-box;text-align: center;}#sk-container-id-1 label.sk-toggleable__label-arrow:before {content: \"▸\";float: left;margin-right: 0.25em;color: #696969;}#sk-container-id-1 label.sk-toggleable__label-arrow:hover:before {color: black;}#sk-container-id-1 div.sk-estimator:hover label.sk-toggleable__label-arrow:before {color: black;}#sk-container-id-1 div.sk-toggleable__content {max-height: 0;max-width: 0;overflow: hidden;text-align: left;background-color: #f0f8ff;}#sk-container-id-1 div.sk-toggleable__content pre {margin: 0.2em;color: black;border-radius: 0.25em;background-color: #f0f8ff;}#sk-container-id-1 input.sk-toggleable__control:checked~div.sk-toggleable__content {max-height: 200px;max-width: 100%;overflow: auto;}#sk-container-id-1 input.sk-toggleable__control:checked~label.sk-toggleable__label-arrow:before {content: \"▾\";}#sk-container-id-1 div.sk-estimator input.sk-toggleable__control:checked~label.sk-toggleable__label {background-color: #d4ebff;}#sk-container-id-1 div.sk-label input.sk-toggleable__control:checked~label.sk-toggleable__label {background-color: #d4ebff;}#sk-container-id-1 input.sk-hidden--visually {border: 0;clip: rect(1px 1px 1px 1px);clip: rect(1px, 1px, 1px, 1px);height: 1px;margin: -1px;overflow: hidden;padding: 0;position: absolute;width: 1px;}#sk-container-id-1 div.sk-estimator {font-family: monospace;background-color: #f0f8ff;border: 1px dotted black;border-radius: 0.25em;box-sizing: border-box;margin-bottom: 0.5em;}#sk-container-id-1 div.sk-estimator:hover {background-color: #d4ebff;}#sk-container-id-1 div.sk-parallel-item::after {content: \"\";width: 100%;border-bottom: 1px solid gray;flex-grow: 1;}#sk-container-id-1 div.sk-label:hover label.sk-toggleable__label {background-color: #d4ebff;}#sk-container-id-1 div.sk-serial::before {content: \"\";position: absolute;border-left: 1px solid gray;box-sizing: border-box;top: 0;bottom: 0;left: 50%;z-index: 0;}#sk-container-id-1 div.sk-serial {display: flex;flex-direction: column;align-items: center;background-color: white;padding-right: 0.2em;padding-left: 0.2em;position: relative;}#sk-container-id-1 div.sk-item {position: relative;z-index: 1;}#sk-container-id-1 div.sk-parallel {display: flex;align-items: stretch;justify-content: center;background-color: white;position: relative;}#sk-container-id-1 div.sk-item::before, #sk-container-id-1 div.sk-parallel-item::before {content: \"\";position: absolute;border-left: 1px solid gray;box-sizing: border-box;top: 0;bottom: 0;left: 50%;z-index: -1;}#sk-container-id-1 div.sk-parallel-item {display: flex;flex-direction: column;z-index: 1;position: relative;background-color: white;}#sk-container-id-1 div.sk-parallel-item:first-child::after {align-self: flex-end;width: 50%;}#sk-container-id-1 div.sk-parallel-item:last-child::after {align-self: flex-start;width: 50%;}#sk-container-id-1 div.sk-parallel-item:only-child::after {width: 0;}#sk-container-id-1 div.sk-dashed-wrapped {border: 1px dashed gray;margin: 0 0.4em 0.5em 0.4em;box-sizing: border-box;padding-bottom: 0.4em;background-color: white;}#sk-container-id-1 div.sk-label label {font-family: monospace;font-weight: bold;display: inline-block;line-height: 1.2em;}#sk-container-id-1 div.sk-label-container {text-align: center;}#sk-container-id-1 div.sk-container {/* jupyter's `normalize.less` sets `[hidden] { display: none; }` but bootstrap.min.css set `[hidden] { display: none !important; }` so we also need the `!important` here to be able to override the default hidden behavior on the sphinx rendered scikit-learn.org. See: https://github.com/scikit-learn/scikit-learn/issues/21755 */display: inline-block !important;position: relative;}#sk-container-id-1 div.sk-text-repr-fallback {display: none;}</style><div id=\"sk-container-id-1\" class=\"sk-top-container\"><div class=\"sk-text-repr-fallback\"><pre>LogisticRegression(random_state=42)</pre><b>In a Jupyter environment, please rerun this cell to show the HTML representation or trust the notebook. <br />On GitHub, the HTML representation is unable to render, please try loading this page with nbviewer.org.</b></div><div class=\"sk-container\" hidden><div class=\"sk-item\"><div class=\"sk-estimator sk-toggleable\"><input class=\"sk-toggleable__control sk-hidden--visually\" id=\"sk-estimator-id-1\" type=\"checkbox\" checked><label for=\"sk-estimator-id-1\" class=\"sk-toggleable__label sk-toggleable__label-arrow\">LogisticRegression</label><div class=\"sk-toggleable__content\"><pre>LogisticRegression(random_state=42)</pre></div></div></div></div></div>"
     },
     "execution_count": 8,
     "metadata": {},
     "output_type": "execute_result"
    }
   ],
   "source": [
    "model.fit(X_train, y_train)"
   ],
   "metadata": {
    "collapsed": false,
    "ExecuteTime": {
     "end_time": "2023-11-09T18:11:30.292939300Z",
     "start_time": "2023-11-09T18:11:30.022502Z"
    }
   },
   "id": "ee0eab7a7c7db49a"
  },
  {
   "cell_type": "code",
   "execution_count": 44,
   "outputs": [
    {
     "data": {
      "text/plain": "0.8478260869565217"
     },
     "execution_count": 44,
     "metadata": {},
     "output_type": "execute_result"
    }
   ],
   "source": [
    "score_clean_model = model.score(X_test, y_test)\n",
    "score_clean_model"
   ],
   "metadata": {
    "collapsed": false,
    "ExecuteTime": {
     "end_time": "2023-11-10T04:37:39.237485700Z",
     "start_time": "2023-11-10T04:37:39.168392200Z"
    }
   },
   "id": "ccf75ac77a689345"
  },
  {
   "cell_type": "code",
   "execution_count": 10,
   "outputs": [
    {
     "name": "stdout",
     "output_type": "stream",
     "text": [
      "              precision    recall  f1-score   support\n",
      "\n",
      " Non-churned       0.79      0.87      0.83        77\n",
      "     Churned       0.90      0.83      0.86       107\n",
      "\n",
      "    accuracy                           0.85       184\n",
      "   macro avg       0.84      0.85      0.85       184\n",
      "weighted avg       0.85      0.85      0.85       184\n"
     ]
    }
   ],
   "source": [
    "report = classification_report(y_test, model.predict(X_test), target_names=['Non-churned', 'Churned'])\n",
    "print(report)"
   ],
   "metadata": {
    "collapsed": false,
    "ExecuteTime": {
     "end_time": "2023-11-09T18:11:30.359249100Z",
     "start_time": "2023-11-09T18:11:30.097268800Z"
    }
   },
   "id": "5b9cc2ed8655022e"
  },
  {
   "cell_type": "code",
   "execution_count": 11,
   "outputs": [
    {
     "data": {
      "text/plain": "{'fit_time': array([0.04058266, 0.03978324, 0.0405519 , 0.04142737, 0.05238962,\n        0.04945111, 0.03780532, 0.03843331, 0.04882741, 0.05141544]),\n 'score_time': array([0.0085721 , 0.01116085, 0.00833178, 0.00854588, 0.01252103,\n        0.00676465, 0.01111698, 0.00163388, 0.        , 0.00861073]),\n 'test_accuracy': array([0.89473684, 0.78947368, 0.84210526, 0.94736842, 0.77777778,\n        1.        , 0.83333333, 0.72222222, 0.83333333, 0.88888889]),\n 'test_recall': array([1.        , 0.90909091, 0.81818182, 1.        , 0.8       ,\n        1.        , 0.8       , 0.81818182, 0.81818182, 0.90909091]),\n 'test_precision': array([0.84615385, 0.76923077, 0.9       , 0.91666667, 0.8       ,\n        1.        , 0.88888889, 0.75      , 0.9       , 0.90909091]),\n 'test_f1': array([0.91666667, 0.83333333, 0.85714286, 0.95652174, 0.8       ,\n        1.        , 0.84210526, 0.7826087 , 0.85714286, 0.90909091])}"
     },
     "execution_count": 11,
     "metadata": {},
     "output_type": "execute_result"
    }
   ],
   "source": [
    "cross_validate(model, X_test, y_test, cv=10, scoring=['accuracy', 'recall', 'precision', 'f1'])\n",
    "#так себе наглядность параметров..."
   ],
   "metadata": {
    "collapsed": false,
    "ExecuteTime": {
     "end_time": "2023-11-09T18:11:30.812873500Z",
     "start_time": "2023-11-09T18:11:30.122511800Z"
    }
   },
   "id": "e2143269d34cbf7c"
  },
  {
   "cell_type": "code",
   "execution_count": 12,
   "outputs": [],
   "source": [
    "grid = GridSearchCV(model, param_grid = {'penalty': ('l1', 'l2', 'elasticnet', None),'C': [1, 10], 'solver': ('lbfgs', 'liblinear', 'newton-cg', 'newton-cholesky', 'sag', 'saga')}, cv=10, scoring='accuracy', n_jobs=-1)"
   ],
   "metadata": {
    "collapsed": false,
    "ExecuteTime": {
     "end_time": "2023-11-09T18:11:30.812873500Z",
     "start_time": "2023-11-09T18:11:30.656115400Z"
    }
   },
   "id": "6abe96d9be8e8ce8"
  },
  {
   "cell_type": "code",
   "execution_count": 13,
   "outputs": [
    {
     "data": {
      "text/plain": "GridSearchCV(cv=10, estimator=LogisticRegression(random_state=42), n_jobs=-1,\n             param_grid={'C': [1, 10],\n                         'penalty': ('l1', 'l2', 'elasticnet', None),\n                         'solver': ('lbfgs', 'liblinear', 'newton-cg',\n                                    'newton-cholesky', 'sag', 'saga')},\n             scoring='accuracy')",
      "text/html": "<style>#sk-container-id-2 {color: black;}#sk-container-id-2 pre{padding: 0;}#sk-container-id-2 div.sk-toggleable {background-color: white;}#sk-container-id-2 label.sk-toggleable__label {cursor: pointer;display: block;width: 100%;margin-bottom: 0;padding: 0.3em;box-sizing: border-box;text-align: center;}#sk-container-id-2 label.sk-toggleable__label-arrow:before {content: \"▸\";float: left;margin-right: 0.25em;color: #696969;}#sk-container-id-2 label.sk-toggleable__label-arrow:hover:before {color: black;}#sk-container-id-2 div.sk-estimator:hover label.sk-toggleable__label-arrow:before {color: black;}#sk-container-id-2 div.sk-toggleable__content {max-height: 0;max-width: 0;overflow: hidden;text-align: left;background-color: #f0f8ff;}#sk-container-id-2 div.sk-toggleable__content pre {margin: 0.2em;color: black;border-radius: 0.25em;background-color: #f0f8ff;}#sk-container-id-2 input.sk-toggleable__control:checked~div.sk-toggleable__content {max-height: 200px;max-width: 100%;overflow: auto;}#sk-container-id-2 input.sk-toggleable__control:checked~label.sk-toggleable__label-arrow:before {content: \"▾\";}#sk-container-id-2 div.sk-estimator input.sk-toggleable__control:checked~label.sk-toggleable__label {background-color: #d4ebff;}#sk-container-id-2 div.sk-label input.sk-toggleable__control:checked~label.sk-toggleable__label {background-color: #d4ebff;}#sk-container-id-2 input.sk-hidden--visually {border: 0;clip: rect(1px 1px 1px 1px);clip: rect(1px, 1px, 1px, 1px);height: 1px;margin: -1px;overflow: hidden;padding: 0;position: absolute;width: 1px;}#sk-container-id-2 div.sk-estimator {font-family: monospace;background-color: #f0f8ff;border: 1px dotted black;border-radius: 0.25em;box-sizing: border-box;margin-bottom: 0.5em;}#sk-container-id-2 div.sk-estimator:hover {background-color: #d4ebff;}#sk-container-id-2 div.sk-parallel-item::after {content: \"\";width: 100%;border-bottom: 1px solid gray;flex-grow: 1;}#sk-container-id-2 div.sk-label:hover label.sk-toggleable__label {background-color: #d4ebff;}#sk-container-id-2 div.sk-serial::before {content: \"\";position: absolute;border-left: 1px solid gray;box-sizing: border-box;top: 0;bottom: 0;left: 50%;z-index: 0;}#sk-container-id-2 div.sk-serial {display: flex;flex-direction: column;align-items: center;background-color: white;padding-right: 0.2em;padding-left: 0.2em;position: relative;}#sk-container-id-2 div.sk-item {position: relative;z-index: 1;}#sk-container-id-2 div.sk-parallel {display: flex;align-items: stretch;justify-content: center;background-color: white;position: relative;}#sk-container-id-2 div.sk-item::before, #sk-container-id-2 div.sk-parallel-item::before {content: \"\";position: absolute;border-left: 1px solid gray;box-sizing: border-box;top: 0;bottom: 0;left: 50%;z-index: -1;}#sk-container-id-2 div.sk-parallel-item {display: flex;flex-direction: column;z-index: 1;position: relative;background-color: white;}#sk-container-id-2 div.sk-parallel-item:first-child::after {align-self: flex-end;width: 50%;}#sk-container-id-2 div.sk-parallel-item:last-child::after {align-self: flex-start;width: 50%;}#sk-container-id-2 div.sk-parallel-item:only-child::after {width: 0;}#sk-container-id-2 div.sk-dashed-wrapped {border: 1px dashed gray;margin: 0 0.4em 0.5em 0.4em;box-sizing: border-box;padding-bottom: 0.4em;background-color: white;}#sk-container-id-2 div.sk-label label {font-family: monospace;font-weight: bold;display: inline-block;line-height: 1.2em;}#sk-container-id-2 div.sk-label-container {text-align: center;}#sk-container-id-2 div.sk-container {/* jupyter's `normalize.less` sets `[hidden] { display: none; }` but bootstrap.min.css set `[hidden] { display: none !important; }` so we also need the `!important` here to be able to override the default hidden behavior on the sphinx rendered scikit-learn.org. See: https://github.com/scikit-learn/scikit-learn/issues/21755 */display: inline-block !important;position: relative;}#sk-container-id-2 div.sk-text-repr-fallback {display: none;}</style><div id=\"sk-container-id-2\" class=\"sk-top-container\"><div class=\"sk-text-repr-fallback\"><pre>GridSearchCV(cv=10, estimator=LogisticRegression(random_state=42), n_jobs=-1,\n             param_grid={&#x27;C&#x27;: [1, 10],\n                         &#x27;penalty&#x27;: (&#x27;l1&#x27;, &#x27;l2&#x27;, &#x27;elasticnet&#x27;, None),\n                         &#x27;solver&#x27;: (&#x27;lbfgs&#x27;, &#x27;liblinear&#x27;, &#x27;newton-cg&#x27;,\n                                    &#x27;newton-cholesky&#x27;, &#x27;sag&#x27;, &#x27;saga&#x27;)},\n             scoring=&#x27;accuracy&#x27;)</pre><b>In a Jupyter environment, please rerun this cell to show the HTML representation or trust the notebook. <br />On GitHub, the HTML representation is unable to render, please try loading this page with nbviewer.org.</b></div><div class=\"sk-container\" hidden><div class=\"sk-item sk-dashed-wrapped\"><div class=\"sk-label-container\"><div class=\"sk-label sk-toggleable\"><input class=\"sk-toggleable__control sk-hidden--visually\" id=\"sk-estimator-id-2\" type=\"checkbox\" ><label for=\"sk-estimator-id-2\" class=\"sk-toggleable__label sk-toggleable__label-arrow\">GridSearchCV</label><div class=\"sk-toggleable__content\"><pre>GridSearchCV(cv=10, estimator=LogisticRegression(random_state=42), n_jobs=-1,\n             param_grid={&#x27;C&#x27;: [1, 10],\n                         &#x27;penalty&#x27;: (&#x27;l1&#x27;, &#x27;l2&#x27;, &#x27;elasticnet&#x27;, None),\n                         &#x27;solver&#x27;: (&#x27;lbfgs&#x27;, &#x27;liblinear&#x27;, &#x27;newton-cg&#x27;,\n                                    &#x27;newton-cholesky&#x27;, &#x27;sag&#x27;, &#x27;saga&#x27;)},\n             scoring=&#x27;accuracy&#x27;)</pre></div></div></div><div class=\"sk-parallel\"><div class=\"sk-parallel-item\"><div class=\"sk-item\"><div class=\"sk-label-container\"><div class=\"sk-label sk-toggleable\"><input class=\"sk-toggleable__control sk-hidden--visually\" id=\"sk-estimator-id-3\" type=\"checkbox\" ><label for=\"sk-estimator-id-3\" class=\"sk-toggleable__label sk-toggleable__label-arrow\">estimator: LogisticRegression</label><div class=\"sk-toggleable__content\"><pre>LogisticRegression(random_state=42)</pre></div></div></div><div class=\"sk-serial\"><div class=\"sk-item\"><div class=\"sk-estimator sk-toggleable\"><input class=\"sk-toggleable__control sk-hidden--visually\" id=\"sk-estimator-id-4\" type=\"checkbox\" ><label for=\"sk-estimator-id-4\" class=\"sk-toggleable__label sk-toggleable__label-arrow\">LogisticRegression</label><div class=\"sk-toggleable__content\"><pre>LogisticRegression(random_state=42)</pre></div></div></div></div></div></div></div></div></div></div>"
     },
     "execution_count": 13,
     "metadata": {},
     "output_type": "execute_result"
    }
   ],
   "source": [
    "grid.fit(X_train, y_train)"
   ],
   "metadata": {
    "collapsed": false,
    "ExecuteTime": {
     "end_time": "2023-11-09T18:11:38.731385500Z",
     "start_time": "2023-11-09T18:11:30.661685300Z"
    }
   },
   "id": "5d11865e4c85790"
  },
  {
   "cell_type": "code",
   "execution_count": 14,
   "outputs": [
    {
     "name": "stdout",
     "output_type": "stream",
     "text": [
      "0.85816364309515\n",
      "LogisticRegression(C=10, penalty='l1', random_state=42, solver='liblinear')\n"
     ]
    }
   ],
   "source": [
    "print(grid.best_score_)\n",
    "print(grid.best_estimator_)"
   ],
   "metadata": {
    "collapsed": false,
    "ExecuteTime": {
     "end_time": "2023-11-09T18:11:38.772251Z",
     "start_time": "2023-11-09T18:11:38.722340Z"
    }
   },
   "id": "e94f61506b47605d"
  },
  {
   "cell_type": "code",
   "execution_count": 35,
   "outputs": [
    {
     "data": {
      "text/plain": "0.8315217391304348"
     },
     "execution_count": 35,
     "metadata": {},
     "output_type": "execute_result"
    }
   ],
   "source": [
    "score_grid = grid.score(X_test, y_test)\n",
    "score_grid"
   ],
   "metadata": {
    "collapsed": false,
    "ExecuteTime": {
     "end_time": "2023-11-10T04:27:31.682059800Z",
     "start_time": "2023-11-10T04:27:31.632036600Z"
    }
   },
   "id": "8a27725601e77c4d"
  },
  {
   "cell_type": "code",
   "execution_count": 16,
   "outputs": [
    {
     "name": "stdout",
     "output_type": "stream",
     "text": [
      "              precision    recall  f1-score   support\n",
      "\n",
      " Non-churned       0.76      0.88      0.81        77\n",
      "     Churned       0.90      0.79      0.85       107\n",
      "\n",
      "    accuracy                           0.83       184\n",
      "   macro avg       0.83      0.84      0.83       184\n",
      "weighted avg       0.84      0.83      0.83       184\n"
     ]
    }
   ],
   "source": [
    "report = classification_report(y_test, grid.predict(X_test), target_names=['Non-churned', 'Churned'])\n",
    "print(report)"
   ],
   "metadata": {
    "collapsed": false,
    "ExecuteTime": {
     "end_time": "2023-11-09T18:11:38.873700Z",
     "start_time": "2023-11-09T18:11:38.751471900Z"
    }
   },
   "id": "e9e2bf1193c4f316"
  },
  {
   "cell_type": "code",
   "execution_count": 17,
   "outputs": [
    {
     "data": {
      "text/plain": "RandomizedSearchCV(cv=10, estimator=LogisticRegression(random_state=42),\n                   param_distributions={'C': [1, 10],\n                                        'penalty': ('l1', 'l2', 'elasticnet',\n                                                    None),\n                                        'solver': ('lbfgs', 'liblinear',\n                                                   'newton-cg',\n                                                   'newton-cholesky', 'sag',\n                                                   'saga')},\n                   scoring='accuracy')",
      "text/html": "<style>#sk-container-id-3 {color: black;}#sk-container-id-3 pre{padding: 0;}#sk-container-id-3 div.sk-toggleable {background-color: white;}#sk-container-id-3 label.sk-toggleable__label {cursor: pointer;display: block;width: 100%;margin-bottom: 0;padding: 0.3em;box-sizing: border-box;text-align: center;}#sk-container-id-3 label.sk-toggleable__label-arrow:before {content: \"▸\";float: left;margin-right: 0.25em;color: #696969;}#sk-container-id-3 label.sk-toggleable__label-arrow:hover:before {color: black;}#sk-container-id-3 div.sk-estimator:hover label.sk-toggleable__label-arrow:before {color: black;}#sk-container-id-3 div.sk-toggleable__content {max-height: 0;max-width: 0;overflow: hidden;text-align: left;background-color: #f0f8ff;}#sk-container-id-3 div.sk-toggleable__content pre {margin: 0.2em;color: black;border-radius: 0.25em;background-color: #f0f8ff;}#sk-container-id-3 input.sk-toggleable__control:checked~div.sk-toggleable__content {max-height: 200px;max-width: 100%;overflow: auto;}#sk-container-id-3 input.sk-toggleable__control:checked~label.sk-toggleable__label-arrow:before {content: \"▾\";}#sk-container-id-3 div.sk-estimator input.sk-toggleable__control:checked~label.sk-toggleable__label {background-color: #d4ebff;}#sk-container-id-3 div.sk-label input.sk-toggleable__control:checked~label.sk-toggleable__label {background-color: #d4ebff;}#sk-container-id-3 input.sk-hidden--visually {border: 0;clip: rect(1px 1px 1px 1px);clip: rect(1px, 1px, 1px, 1px);height: 1px;margin: -1px;overflow: hidden;padding: 0;position: absolute;width: 1px;}#sk-container-id-3 div.sk-estimator {font-family: monospace;background-color: #f0f8ff;border: 1px dotted black;border-radius: 0.25em;box-sizing: border-box;margin-bottom: 0.5em;}#sk-container-id-3 div.sk-estimator:hover {background-color: #d4ebff;}#sk-container-id-3 div.sk-parallel-item::after {content: \"\";width: 100%;border-bottom: 1px solid gray;flex-grow: 1;}#sk-container-id-3 div.sk-label:hover label.sk-toggleable__label {background-color: #d4ebff;}#sk-container-id-3 div.sk-serial::before {content: \"\";position: absolute;border-left: 1px solid gray;box-sizing: border-box;top: 0;bottom: 0;left: 50%;z-index: 0;}#sk-container-id-3 div.sk-serial {display: flex;flex-direction: column;align-items: center;background-color: white;padding-right: 0.2em;padding-left: 0.2em;position: relative;}#sk-container-id-3 div.sk-item {position: relative;z-index: 1;}#sk-container-id-3 div.sk-parallel {display: flex;align-items: stretch;justify-content: center;background-color: white;position: relative;}#sk-container-id-3 div.sk-item::before, #sk-container-id-3 div.sk-parallel-item::before {content: \"\";position: absolute;border-left: 1px solid gray;box-sizing: border-box;top: 0;bottom: 0;left: 50%;z-index: -1;}#sk-container-id-3 div.sk-parallel-item {display: flex;flex-direction: column;z-index: 1;position: relative;background-color: white;}#sk-container-id-3 div.sk-parallel-item:first-child::after {align-self: flex-end;width: 50%;}#sk-container-id-3 div.sk-parallel-item:last-child::after {align-self: flex-start;width: 50%;}#sk-container-id-3 div.sk-parallel-item:only-child::after {width: 0;}#sk-container-id-3 div.sk-dashed-wrapped {border: 1px dashed gray;margin: 0 0.4em 0.5em 0.4em;box-sizing: border-box;padding-bottom: 0.4em;background-color: white;}#sk-container-id-3 div.sk-label label {font-family: monospace;font-weight: bold;display: inline-block;line-height: 1.2em;}#sk-container-id-3 div.sk-label-container {text-align: center;}#sk-container-id-3 div.sk-container {/* jupyter's `normalize.less` sets `[hidden] { display: none; }` but bootstrap.min.css set `[hidden] { display: none !important; }` so we also need the `!important` here to be able to override the default hidden behavior on the sphinx rendered scikit-learn.org. See: https://github.com/scikit-learn/scikit-learn/issues/21755 */display: inline-block !important;position: relative;}#sk-container-id-3 div.sk-text-repr-fallback {display: none;}</style><div id=\"sk-container-id-3\" class=\"sk-top-container\"><div class=\"sk-text-repr-fallback\"><pre>RandomizedSearchCV(cv=10, estimator=LogisticRegression(random_state=42),\n                   param_distributions={&#x27;C&#x27;: [1, 10],\n                                        &#x27;penalty&#x27;: (&#x27;l1&#x27;, &#x27;l2&#x27;, &#x27;elasticnet&#x27;,\n                                                    None),\n                                        &#x27;solver&#x27;: (&#x27;lbfgs&#x27;, &#x27;liblinear&#x27;,\n                                                   &#x27;newton-cg&#x27;,\n                                                   &#x27;newton-cholesky&#x27;, &#x27;sag&#x27;,\n                                                   &#x27;saga&#x27;)},\n                   scoring=&#x27;accuracy&#x27;)</pre><b>In a Jupyter environment, please rerun this cell to show the HTML representation or trust the notebook. <br />On GitHub, the HTML representation is unable to render, please try loading this page with nbviewer.org.</b></div><div class=\"sk-container\" hidden><div class=\"sk-item sk-dashed-wrapped\"><div class=\"sk-label-container\"><div class=\"sk-label sk-toggleable\"><input class=\"sk-toggleable__control sk-hidden--visually\" id=\"sk-estimator-id-5\" type=\"checkbox\" ><label for=\"sk-estimator-id-5\" class=\"sk-toggleable__label sk-toggleable__label-arrow\">RandomizedSearchCV</label><div class=\"sk-toggleable__content\"><pre>RandomizedSearchCV(cv=10, estimator=LogisticRegression(random_state=42),\n                   param_distributions={&#x27;C&#x27;: [1, 10],\n                                        &#x27;penalty&#x27;: (&#x27;l1&#x27;, &#x27;l2&#x27;, &#x27;elasticnet&#x27;,\n                                                    None),\n                                        &#x27;solver&#x27;: (&#x27;lbfgs&#x27;, &#x27;liblinear&#x27;,\n                                                   &#x27;newton-cg&#x27;,\n                                                   &#x27;newton-cholesky&#x27;, &#x27;sag&#x27;,\n                                                   &#x27;saga&#x27;)},\n                   scoring=&#x27;accuracy&#x27;)</pre></div></div></div><div class=\"sk-parallel\"><div class=\"sk-parallel-item\"><div class=\"sk-item\"><div class=\"sk-label-container\"><div class=\"sk-label sk-toggleable\"><input class=\"sk-toggleable__control sk-hidden--visually\" id=\"sk-estimator-id-6\" type=\"checkbox\" ><label for=\"sk-estimator-id-6\" class=\"sk-toggleable__label sk-toggleable__label-arrow\">estimator: LogisticRegression</label><div class=\"sk-toggleable__content\"><pre>LogisticRegression(random_state=42)</pre></div></div></div><div class=\"sk-serial\"><div class=\"sk-item\"><div class=\"sk-estimator sk-toggleable\"><input class=\"sk-toggleable__control sk-hidden--visually\" id=\"sk-estimator-id-7\" type=\"checkbox\" ><label for=\"sk-estimator-id-7\" class=\"sk-toggleable__label sk-toggleable__label-arrow\">LogisticRegression</label><div class=\"sk-toggleable__content\"><pre>LogisticRegression(random_state=42)</pre></div></div></div></div></div></div></div></div></div></div>"
     },
     "execution_count": 17,
     "metadata": {},
     "output_type": "execute_result"
    }
   ],
   "source": [
    "param_grid = {'penalty': ('l1', 'l2', 'elasticnet', None),'C': [1, 10], 'solver': ('lbfgs', 'liblinear', 'newton-cg', 'newton-cholesky', 'sag', 'saga')}\n",
    "grid_random = RandomizedSearchCV(model, param_grid, cv=10, scoring='accuracy')\n",
    "\n",
    "grid_random.fit(X_train,y_train)"
   ],
   "metadata": {
    "collapsed": false,
    "ExecuteTime": {
     "end_time": "2023-11-09T18:11:49.220665200Z",
     "start_time": "2023-11-09T18:11:38.772765500Z"
    }
   },
   "id": "971fe0e060cfdeb4"
  },
  {
   "cell_type": "code",
   "execution_count": 18,
   "outputs": [
    {
     "name": "stdout",
     "output_type": "stream",
     "text": [
      "0.8567937800814512\n",
      "LogisticRegression(C=10, random_state=42, solver='newton-cholesky')\n"
     ]
    }
   ],
   "source": [
    "print(grid_random.best_score_)\n",
    "print(grid_random.best_estimator_)"
   ],
   "metadata": {
    "collapsed": false,
    "ExecuteTime": {
     "end_time": "2023-11-09T18:11:49.222498800Z",
     "start_time": "2023-11-09T18:11:49.212142600Z"
    }
   },
   "id": "60146207e822f71e"
  },
  {
   "cell_type": "code",
   "execution_count": 36,
   "outputs": [
    {
     "data": {
      "text/plain": "0.8315217391304348"
     },
     "execution_count": 36,
     "metadata": {},
     "output_type": "execute_result"
    }
   ],
   "source": [
    "score_grid_random = grid_random.score(X_test, y_test)\n",
    "score_grid_random"
   ],
   "metadata": {
    "collapsed": false,
    "ExecuteTime": {
     "end_time": "2023-11-10T04:27:57.323777400Z",
     "start_time": "2023-11-10T04:27:57.271740600Z"
    }
   },
   "id": "81bf292dac9e807e"
  },
  {
   "cell_type": "code",
   "execution_count": 20,
   "outputs": [
    {
     "name": "stdout",
     "output_type": "stream",
     "text": [
      "              precision    recall  f1-score   support\n",
      "\n",
      " Non-churned       0.76      0.88      0.81        77\n",
      "     Churned       0.90      0.79      0.85       107\n",
      "\n",
      "    accuracy                           0.83       184\n",
      "   macro avg       0.83      0.84      0.83       184\n",
      "weighted avg       0.84      0.83      0.83       184\n"
     ]
    }
   ],
   "source": [
    "report = classification_report(y_test, grid_random.predict(X_test), target_names=['Non-churned', 'Churned'])\n",
    "print(report)"
   ],
   "metadata": {
    "collapsed": false,
    "ExecuteTime": {
     "end_time": "2023-11-09T18:11:49.435732Z",
     "start_time": "2023-11-09T18:11:49.233606900Z"
    }
   },
   "id": "edad9c1bc79ff0b9"
  },
  {
   "cell_type": "code",
   "execution_count": 21,
   "outputs": [],
   "source": [
    "models=[\n",
    "      {'name':'NB',\"model\":BernoulliNB(), 'params':{'alpha': uniform(loc=0, scale=4)}},  \n",
    "      {'name':'Lr',\"model\": LogisticRegression()  , 'params':{'C':[0.1,0.2,0.3,0.5,0.7,1], 'penalty':['l1', 'l2']}},\n",
    "      {'name':'SVC',\"model\": SVC(), 'params':{'kernel':['linear', 'poly', 'rbf', 'sigmoid'], 'gamma':['scale', 'auto']}},\n",
    "      {'name':'RF',\"model\": RandomForestClassifier(), 'params':{'n_estimators':[10,25,50,100,150,200], 'criterion':['gini', 'entropy'], 'max_depth':[3,5,7,9,11]}},\n",
    "      {'name':'DT',\"model\": DecisionTreeClassifier(), 'params':{'criterion':['gini', 'entropy'], 'max_depth':[3,5,7,9,11]}}]"
   ],
   "metadata": {
    "collapsed": false,
    "ExecuteTime": {
     "end_time": "2023-11-09T18:11:49.566564200Z",
     "start_time": "2023-11-09T18:11:49.255135400Z"
    }
   },
   "id": "849104b8c4e7f246"
  },
  {
   "cell_type": "code",
   "execution_count": 22,
   "outputs": [],
   "source": [
    "res=[]\n",
    "for v in  models:\n",
    "    res.append((v['name'], RandomizedSearchCV(v['model'], v['params'], cv=10, n_jobs=-1).fit(X_train, y_train)))"
   ],
   "metadata": {
    "collapsed": false,
    "ExecuteTime": {
     "end_time": "2023-11-09T19:12:59.422925800Z",
     "start_time": "2023-11-09T18:11:49.271609500Z"
    }
   },
   "id": "604d2d238c498fa7"
  },
  {
   "cell_type": "code",
   "execution_count": 23,
   "outputs": [
    {
     "name": "stdout",
     "output_type": "stream",
     "text": [
      "NB 0.8569233617178822 {'alpha': 3.132510237936054}\n",
      "Lr 0.8595335061088486 {'penalty': 'l2', 'C': 0.2}\n",
      "SVC 0.8609033691225472 {'kernel': 'linear', 'gamma': 'scale'}\n",
      "RF 0.8745464642724915 {'n_estimators': 200, 'max_depth': 9, 'criterion': 'entropy'}\n",
      "DT 0.858293224731581 {'max_depth': 5, 'criterion': 'gini'}\n"
     ]
    }
   ],
   "source": [
    "for r in res:\n",
    "    print(r[0], r[1].best_score_, r[1].best_params_)"
   ],
   "metadata": {
    "collapsed": false,
    "ExecuteTime": {
     "end_time": "2023-11-09T19:12:59.447799700Z",
     "start_time": "2023-11-09T19:12:59.432174200Z"
    }
   },
   "id": "bf9a6a523582f5ef"
  },
  {
   "cell_type": "code",
   "execution_count": 38,
   "outputs": [],
   "source": [
    "result_score = []\n",
    "for r in res:\n",
    "    a = r[0], r[1].best_score_\n",
    "    result_score.append(a)"
   ],
   "metadata": {
    "collapsed": false,
    "ExecuteTime": {
     "end_time": "2023-11-10T04:34:30.209880500Z",
     "start_time": "2023-11-10T04:34:30.136760400Z"
    }
   },
   "id": "4f34671a76b0c326"
  },
  {
   "cell_type": "code",
   "execution_count": 55,
   "outputs": [
    {
     "data": {
      "text/plain": "0.8595335061088486"
     },
     "execution_count": 55,
     "metadata": {},
     "output_type": "execute_result"
    }
   ],
   "source": [
    "result_score[1][1]"
   ],
   "metadata": {
    "collapsed": false,
    "ExecuteTime": {
     "end_time": "2023-11-10T04:40:16.260643900Z",
     "start_time": "2023-11-10T04:40:16.223967Z"
    }
   },
   "id": "ac45b55199727f0b"
  },
  {
   "cell_type": "code",
   "execution_count": 56,
   "outputs": [
    {
     "data": {
      "text/plain": "                      Model     Score\n0  LogisticRegression_clean  0.847826\n1              GridSearchCV  0.831522\n2        RandomizedSearchCV  0.831522\n3               BernoulliNB  0.856923\n4        LogisticRegression  0.859534\n5                       SVC  0.860903\n6    RandomForestClassifier  0.874546\n7    DecisionTreeClassifier  0.858293",
      "text/html": "<div>\n<style scoped>\n    .dataframe tbody tr th:only-of-type {\n        vertical-align: middle;\n    }\n\n    .dataframe tbody tr th {\n        vertical-align: top;\n    }\n\n    .dataframe thead th {\n        text-align: right;\n    }\n</style>\n<table border=\"1\" class=\"dataframe\">\n  <thead>\n    <tr style=\"text-align: right;\">\n      <th></th>\n      <th>Model</th>\n      <th>Score</th>\n    </tr>\n  </thead>\n  <tbody>\n    <tr>\n      <th>0</th>\n      <td>LogisticRegression_clean</td>\n      <td>0.847826</td>\n    </tr>\n    <tr>\n      <th>1</th>\n      <td>GridSearchCV</td>\n      <td>0.831522</td>\n    </tr>\n    <tr>\n      <th>2</th>\n      <td>RandomizedSearchCV</td>\n      <td>0.831522</td>\n    </tr>\n    <tr>\n      <th>3</th>\n      <td>BernoulliNB</td>\n      <td>0.856923</td>\n    </tr>\n    <tr>\n      <th>4</th>\n      <td>LogisticRegression</td>\n      <td>0.859534</td>\n    </tr>\n    <tr>\n      <th>5</th>\n      <td>SVC</td>\n      <td>0.860903</td>\n    </tr>\n    <tr>\n      <th>6</th>\n      <td>RandomForestClassifier</td>\n      <td>0.874546</td>\n    </tr>\n    <tr>\n      <th>7</th>\n      <td>DecisionTreeClassifier</td>\n      <td>0.858293</td>\n    </tr>\n  </tbody>\n</table>\n</div>"
     },
     "execution_count": 56,
     "metadata": {},
     "output_type": "execute_result"
    }
   ],
   "source": [
    "result = pd.DataFrame()\n",
    "result['Model'] = ['LogisticRegression_clean', 'GridSearchCV', 'RandomizedSearchCV', 'BernoulliNB', 'LogisticRegression', 'SVC', 'RandomForestClassifier', 'DecisionTreeClassifier']\n",
    "result['Score'] = [score_clean_model, score_grid, score_grid_random, result_score[0][1], result_score[1][1], result_score[2][1], result_score[3][1], result_score[4][1]]\n",
    "result"
   ],
   "metadata": {
    "collapsed": false,
    "ExecuteTime": {
     "end_time": "2023-11-10T04:40:33.057745Z",
     "start_time": "2023-11-10T04:40:32.960334100Z"
    }
   },
   "id": "61bd1ea9c2a7ddcc"
  },
  {
   "cell_type": "markdown",
   "source": [
    "Подбор параметров позволяет улучшить качество модели, но иногда занимает много времени и ресурсов, так подбор для 5 моделей занимал несколько часов, но подбор параметров позволил улучшить качество модели, так, например, в дз \"Ансамблирование\" RandomForestClassifier имел score = 0.864130, сейчас же, после подбора параметров метрика улучшилась до 0.874546."
   ],
   "metadata": {
    "collapsed": false
   },
   "id": "4e9789d03ad73b32"
  }
 ],
 "metadata": {
  "kernelspec": {
   "display_name": "Python 3",
   "language": "python",
   "name": "python3"
  },
  "language_info": {
   "codemirror_mode": {
    "name": "ipython",
    "version": 2
   },
   "file_extension": ".py",
   "mimetype": "text/x-python",
   "name": "python",
   "nbconvert_exporter": "python",
   "pygments_lexer": "ipython2",
   "version": "2.7.6"
  }
 },
 "nbformat": 4,
 "nbformat_minor": 5
}
